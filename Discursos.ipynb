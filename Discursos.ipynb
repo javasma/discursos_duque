{
 "cells": [
  {
   "cell_type": "code",
   "execution_count": 34,
   "metadata": {},
   "outputs": [
    {
     "name": "stderr",
     "output_type": "stream",
     "text": [
      "\n",
      "\n",
      "====== WebDriver manager ======\n",
      "Current google-chrome version is 90.0.4430\n",
      "Driver [C:\\Users\\USER\\.wdm\\drivers\\chromedriver\\win32\\2.38\\chromedriver.exe] found in cache\n"
     ]
    }
   ],
   "source": [
    "#!pip install selenium\n",
    "import re\n",
    "import pandas as pd\n",
    "from selenium import webdriver\n",
    "import selenium.webdriver.chrome.service as service\n",
    "from webdriver_manager.chrome import ChromeDriverManager\n",
    "from selenium.webdriver.common.by import By\n",
    "\n",
    "from datetime import datetime\n",
    "import time\n",
    "\n",
    "from tqdm.notebook import tqdm\n",
    "import numpy as np\n",
    "\n",
    "import plotly.express as px\n",
    "import plotly.graph_objects as go\n",
    "import ipywidgets as widgets\n",
    "from ipywidgets.widgets import *\n",
    "\n",
    "\n",
    "#nltk para análisis del texto\n",
    "import nltk\n",
    "from nltk.tokenize import word_tokenize\n",
    "from nltk.corpus import stopwords\n",
    "from nltk.probability import FreqDist\n",
    "from nltk.stem import PorterStemmer\n",
    "\n",
    "#para la red neuronal que obtiene palabras\n",
    "from sklearn.feature_extraction.text import CountVectorizer\n",
    "from sklearn.feature_extraction.text import TfidfTransformer\n",
    "\n",
    "driver = webdriver.Chrome(ChromeDriverManager(\"2.38\").install())\n",
    "urls = ['https://idm.presidencia.gov.co/prensa/discursos#k=']+['https://idm.presidencia.gov.co/prensa/discursos#k=#s='+ str(20*k+1) for k in range(1,27)]"
   ]
  },
  {
   "cell_type": "code",
   "execution_count": 35,
   "metadata": {
    "scrolled": true
   },
   "outputs": [],
   "source": [
    "def procesar(text):\n",
    "    text=text.lower()\n",
    "    text=re.sub(\"</?.*?>\",\" <> \",text)\n",
    "    text=re.sub(\"(\\\\d|\\\\W)+\",\" \",text)\n",
    "    return text\n",
    "\n",
    "def direcciones_web(urls:list): #Extrae las direcciones web de los vínculos de los discursos\n",
    "    direcciones = dict()\n",
    "    print('Obteniendo los links de los discursos...')\n",
    "    for direccion in tqdm(urls):\n",
    "        driver.get(direccion)\n",
    "        elementos = driver.find_elements(By.XPATH, '//div[@class=\"item link-item\"]')\n",
    "        time.sleep(3)\n",
    "        elem_a =  elementos[0].find_elements_by_xpath(\"//a\")\n",
    "        for i in elem_a:\n",
    "            try:\n",
    "                if len(i.text)>0:\n",
    "                    direcciones[i.text]=i.get_attribute(\"href\")\n",
    "            except:\n",
    "                print('error en', direccion)\n",
    "    return direcciones\n",
    "\n",
    "def tabla_discursos(urls, direcciones):\n",
    "    print('Creando tabla...')\n",
    "    df = pd.DataFrame(columns = ['Clase','Fecha','Ubicacion','Titulo','Texto','Link'])\n",
    "    for url in tqdm(urls):\n",
    "        driver.get(url)\n",
    "        ms = driver.find_elements(By.XPATH, '//div[@class=\"ms-webpart-zone ms-fullWidth\"]')\n",
    "        texto_pag = ms[0].text.split('\\n')\n",
    "        for i in range(0,len(texto_pag),3):\n",
    "            try:\n",
    "                clase, titulo, lugar =  texto_pag[i:i+3]\n",
    "                fecha = datetime.strptime(lugar.replace(' ','').split(',')[-1],'%d/%m/%Y')\n",
    "                ubicacion = lugar.replace(' ','').split(',')[0]\n",
    "                dic= {'Clase':clase, 'Titulo': titulo, 'Fecha': fecha,\n",
    "                      'Ubicacion' : ubicacion, 'Link':direcciones[titulo]}\n",
    "                df = df.append(dic, ignore_index=True)\n",
    "            except:\n",
    "                pass\n",
    "        time.sleep(1)\n",
    "    return df\n",
    "\n",
    "\n",
    "def discursos(df):\n",
    "    print('Obteniendo los discursos...')\n",
    "    for i in tqdm(df.index):\n",
    "        url = df['Link'][i]\n",
    "        driver.get(url)\n",
    "        disc = driver.find_elements(By.XPATH, '//div[@class=\"col s12 infoPaginas\"]')\n",
    "        time.sleep(1.5)\n",
    "        df['Texto'][i] = procesar(disc[0].text.replace('\\n',' '))\n",
    "        \n",
    "def descargar(urls):\n",
    "    direcciones = direcciones_web(urls)\n",
    "    tabla = tabla_discursos(urls,direcciones)\n",
    "    discursos(tabla)\n",
    "    tabla.sort_values('Fecha').reset_index()\n",
    "    return tabla\n",
    "\n",
    "def cargar_tabla(ruta):\n",
    "    df = pd.read_csv(ruta)\n",
    "    return df\n"
   ]
  },
  {
   "cell_type": "code",
   "execution_count": 36,
   "metadata": {
    "scrolled": false
   },
   "outputs": [
    {
     "name": "stdout",
     "output_type": "stream",
     "text": [
      "Si desea descargar los discursos, presione 1.\n",
      "Si desea cargar los datos ya descargados, presione 2.\n",
      "2\n"
     ]
    }
   ],
   "source": [
    "opcion = 0\n",
    "while opcion!= '1' and opcion!='2':\n",
    "    opcion = input('Si desea descargar los discursos, presione 1.\\nSi desea cargar los datos ya descargados, presione 2.\\n')\n",
    "if opcion == '1':\n",
    "    print('Eligió descargar los datos:\\n')\n",
    "    tabla = descargar(urls)\n",
    "    tabla.to_csv('Discursos.csv')\n",
    "elif opcion == '2':\n",
    "    tabla = cargar_tabla('Discursos.csv')\n",
    "    try:\n",
    "        tabla = tabla.drop('Unnamed: 0', axis=1)  \n",
    "    except:\n",
    "        pass"
   ]
  },
  {
   "cell_type": "markdown",
   "metadata": {},
   "source": [
    "# Red neuronal de tf-idf\n",
    "https://www.freecodecamp.org/news/how-to-extract-keywords-from-text-with-tf-idf-and-pythons-scikit-learn-b2a0f3d7e667/"
   ]
  },
  {
   "cell_type": "code",
   "execution_count": 37,
   "metadata": {},
   "outputs": [],
   "source": [
    "stop=set(nltk.corpus.stopwords.words(\"spanish\"))\n",
    "cv=CountVectorizer(max_df=0.85,stop_words=stop)\n",
    "\n",
    "\n",
    "def vectorizar(tabla):\n",
    "    docs= tabla['Texto'].tolist()\n",
    "    #create a vocabulary of words, \n",
    "    #ignore words that appear in 85% of documents, \n",
    "    #eliminate stop words\n",
    "    return cv.fit_transform(docs)\n",
    "\n",
    "def sort_coo(coo_matrix):\n",
    "    tuples = zip(coo_matrix.col, coo_matrix.data)\n",
    "    return sorted(tuples, key=lambda x: (x[1], x[0]), reverse=True)\n",
    "\n",
    "def extract_topn_from_vector(feature_names, sorted_items, topn=10):   \n",
    "    sorted_items = sorted_items[:topn]\n",
    "    score_vals = []\n",
    "    feature_vals = []\n",
    "    for idx, score in sorted_items:\n",
    "        fname = feature_names[idx]\n",
    "        score_vals.append(round(score, 3))\n",
    "        feature_vals.append(feature_names[idx])\n",
    "\n",
    "    #create a tuples of feature,score\n",
    "    #results = zip(feature_vals,score_vals)\n",
    "    results= {}\n",
    "    for idx in range(len(feature_vals)):\n",
    "        results[feature_vals[idx]]=score_vals[idx]\n",
    "    \n",
    "    return results\n",
    "\n",
    "def palabras_clave(tabla,n):\n",
    "    word_count_vector = vectorizar(tabla)\n",
    "    tfidf_transformer=TfidfTransformer(smooth_idf=True,use_idf=True)\n",
    "    tfidf_transformer.fit(word_count_vector)\n",
    "    docs_test=tabla['Texto'].tolist()\n",
    "    feature_names=cv.get_feature_names()\n",
    "    keys = []\n",
    "    for i in tabla.index:\n",
    "        doc=docs_test[i]\n",
    "        tf_idf_vector=tfidf_transformer.transform(cv.transform([doc]))\n",
    "        sorted_items=sort_coo(tf_idf_vector.tocoo())\n",
    "        keywords=extract_topn_from_vector(feature_names,sorted_items,n)\n",
    "        keys.append(keywords)\n",
    "    return keys\n",
    "\n",
    "def agrupar_dias(table):\n",
    "    fechas = list(set(list(table['Fecha'])))\n",
    "    fechas.sort()\n",
    "    df = pd.DataFrame(columns= ['Fecha','Texto'])\n",
    "    lista= []\n",
    "    for i in fechas:\n",
    "        data = table.loc[table['Fecha']==i]\n",
    "        string = ' '\n",
    "        for k in data.index:\n",
    "            string= string + data['Texto'][k]\n",
    "        lista.append(string)\n",
    "    df['Fecha'] = fechas\n",
    "    df['Texto'] = lista\n",
    "    return df\n",
    "\n",
    "def contar_cumm(n):\n",
    "    cols = list(tabla_dias['Palabras clave'][n].keys())\n",
    "    tabla_evolucion = pd.DataFrame(index = tabla_dias['Fecha'], columns = cols)\n",
    "    for i in tabla_evolucion.index:\n",
    "        data = tabla_dias.loc[tabla_dias['Fecha']== i]\n",
    "        for l in tabla_evolucion.columns:\n",
    "            k = list(data['Texto'])[0].count(l)\n",
    "            tabla_evolucion[l][i] = k\n",
    "    return tabla_evolucion\n",
    "\n",
    "def contar_palabra(tabla_dias, palabra):\n",
    "    tabla_evolucion = pd.DataFrame(index = tabla_dias['Fecha'], columns = [palabra])\n",
    "    for i in tabla_evolucion.index:\n",
    "        data = tabla_dias.loc[tabla_dias['Fecha']== i]\n",
    "        tabla_evolucion[palabra][i] = list(data['Texto'])[0].count(palabra)\n",
    "    return tabla_evolucion\n",
    "\n",
    "tabla['Palabras clave'] = palabras_clave(tabla,5)"
   ]
  },
  {
   "cell_type": "code",
   "execution_count": 38,
   "metadata": {},
   "outputs": [
    {
     "data": {
      "text/plain": [
       "{'corrupción': 0.412,\n",
       " 'transparencia': 0.289,\n",
       " 'compliance': 0.193,\n",
       " 'gurría': 0.166,\n",
       " 'world': 0.161}"
      ]
     },
     "execution_count": 38,
     "metadata": {},
     "output_type": "execute_result"
    }
   ],
   "source": [
    "tabla['Palabras clave'][0]"
   ]
  },
  {
   "cell_type": "code",
   "execution_count": 39,
   "metadata": {},
   "outputs": [
    {
     "data": {
      "text/html": [
       "<div>\n",
       "<style scoped>\n",
       "    .dataframe tbody tr th:only-of-type {\n",
       "        vertical-align: middle;\n",
       "    }\n",
       "\n",
       "    .dataframe tbody tr th {\n",
       "        vertical-align: top;\n",
       "    }\n",
       "\n",
       "    .dataframe thead th {\n",
       "        text-align: right;\n",
       "    }\n",
       "</style>\n",
       "<table border=\"1\" class=\"dataframe\">\n",
       "  <thead>\n",
       "    <tr style=\"text-align: right;\">\n",
       "      <th></th>\n",
       "      <th>Fecha</th>\n",
       "      <th>Texto</th>\n",
       "      <th>Palabras clave</th>\n",
       "    </tr>\n",
       "  </thead>\n",
       "  <tbody>\n",
       "    <tr>\n",
       "      <th>0</th>\n",
       "      <td>2020-08-14</td>\n",
       "      <td>bogotá de agosto de colombianos muy buenas ta...</td>\n",
       "      <td>{'sospecha': 0.387, 'minas': 0.287, 'antiperso...</td>\n",
       "    </tr>\n",
       "    <tr>\n",
       "      <th>1</th>\n",
       "      <td>2020-08-17</td>\n",
       "      <td>bogotá de agosto de muchísimas gracias doctor...</td>\n",
       "      <td>{'brien': 0.238, 'dictadura': 0.187, 'capítulo...</td>\n",
       "    </tr>\n",
       "    <tr>\n",
       "      <th>2</th>\n",
       "      <td>2020-08-18</td>\n",
       "      <td>bogotá de agosto de colombianos muy buenas t...</td>\n",
       "      <td>{'personas': 0.201, 'cómo': 0.194, 'rutas': 0....</td>\n",
       "    </tr>\n",
       "    <tr>\n",
       "      <th>3</th>\n",
       "      <td>2020-08-19</td>\n",
       "      <td>bogotá de agosto de colombianos muy buenas ta...</td>\n",
       "      <td>{'habilidades': 0.273, 'tic': 0.236, 'programa...</td>\n",
       "    </tr>\n",
       "    <tr>\n",
       "      <th>4</th>\n",
       "      <td>2020-08-20</td>\n",
       "      <td>bogotá de agosto de colombianos muy buenas t...</td>\n",
       "      <td>{'álvaro': 0.18, 'salud': 0.138, 'compromiso':...</td>\n",
       "    </tr>\n",
       "    <tr>\n",
       "      <th>...</th>\n",
       "      <td>...</td>\n",
       "      <td>...</td>\n",
       "      <td>...</td>\n",
       "    </tr>\n",
       "    <tr>\n",
       "      <th>194</th>\n",
       "      <td>2021-06-01</td>\n",
       "      <td>quibdó de junio de estamos reunidos acá en l...</td>\n",
       "      <td>{'quibdó': 0.467, 'chocó': 0.297, 'jóvenes': 0...</td>\n",
       "    </tr>\n",
       "    <tr>\n",
       "      <th>195</th>\n",
       "      <td>2021-06-03</td>\n",
       "      <td>neiva de junio de quiero expresarles que hem...</td>\n",
       "      <td>{'bloqueos': 0.317, 'jóvenes': 0.168, 'huila':...</td>\n",
       "    </tr>\n",
       "    <tr>\n",
       "      <th>196</th>\n",
       "      <td>2021-06-04</td>\n",
       "      <td>bogotá de junio de señoras ministras es un h...</td>\n",
       "      <td>{'comunal': 0.589, 'acción': 0.234, 'ceferino'...</td>\n",
       "    </tr>\n",
       "    <tr>\n",
       "      <th>197</th>\n",
       "      <td>2021-06-05</td>\n",
       "      <td>parque isla de salamanca de junio de buenas ...</td>\n",
       "      <td>{'ambiente': 0.247, 'árboles': 0.195, 'salaman...</td>\n",
       "    </tr>\n",
       "    <tr>\n",
       "      <th>198</th>\n",
       "      <td>2021-06-06</td>\n",
       "      <td>cartagena de junio de una vez más nos encont...</td>\n",
       "      <td>{'policía': 0.298, 'derechos': 0.255, 'deberes...</td>\n",
       "    </tr>\n",
       "  </tbody>\n",
       "</table>\n",
       "<p>199 rows × 3 columns</p>\n",
       "</div>"
      ],
      "text/plain": [
       "          Fecha                                              Texto  \\\n",
       "0    2020-08-14   bogotá de agosto de colombianos muy buenas ta...   \n",
       "1    2020-08-17   bogotá de agosto de muchísimas gracias doctor...   \n",
       "2    2020-08-18    bogotá de agosto de colombianos muy buenas t...   \n",
       "3    2020-08-19   bogotá de agosto de colombianos muy buenas ta...   \n",
       "4    2020-08-20    bogotá de agosto de colombianos muy buenas t...   \n",
       "..          ...                                                ...   \n",
       "194  2021-06-01    quibdó de junio de estamos reunidos acá en l...   \n",
       "195  2021-06-03    neiva de junio de quiero expresarles que hem...   \n",
       "196  2021-06-04    bogotá de junio de señoras ministras es un h...   \n",
       "197  2021-06-05    parque isla de salamanca de junio de buenas ...   \n",
       "198  2021-06-06    cartagena de junio de una vez más nos encont...   \n",
       "\n",
       "                                        Palabras clave  \n",
       "0    {'sospecha': 0.387, 'minas': 0.287, 'antiperso...  \n",
       "1    {'brien': 0.238, 'dictadura': 0.187, 'capítulo...  \n",
       "2    {'personas': 0.201, 'cómo': 0.194, 'rutas': 0....  \n",
       "3    {'habilidades': 0.273, 'tic': 0.236, 'programa...  \n",
       "4    {'álvaro': 0.18, 'salud': 0.138, 'compromiso':...  \n",
       "..                                                 ...  \n",
       "194  {'quibdó': 0.467, 'chocó': 0.297, 'jóvenes': 0...  \n",
       "195  {'bloqueos': 0.317, 'jóvenes': 0.168, 'huila':...  \n",
       "196  {'comunal': 0.589, 'acción': 0.234, 'ceferino'...  \n",
       "197  {'ambiente': 0.247, 'árboles': 0.195, 'salaman...  \n",
       "198  {'policía': 0.298, 'derechos': 0.255, 'deberes...  \n",
       "\n",
       "[199 rows x 3 columns]"
      ]
     },
     "execution_count": 39,
     "metadata": {},
     "output_type": "execute_result"
    }
   ],
   "source": [
    "tabla_dias = agrupar_dias(tabla)\n",
    "tabla_dias['Palabras clave'] = palabras_clave(tabla_dias,5)\n",
    "tabla_dias"
   ]
  },
  {
   "cell_type": "code",
   "execution_count": 40,
   "metadata": {},
   "outputs": [
    {
     "data": {
      "application/vnd.jupyter.widget-view+json": {
       "model_id": "7379a791cf31472d9225715fe0e4bc32",
       "version_major": 2,
       "version_minor": 0
      },
      "text/plain": [
       "interactive(children=(FloatSlider(value=0.0, description='Palabras: ', max=198.0, step=1.0), Output()), _dom_c…"
      ]
     },
     "metadata": {},
     "output_type": "display_data"
    }
   ],
   "source": [
    "def update_plot(palabra_clave): #Crear un plot interactivo con la ecuación diferencial, igual  que en la celda anterior\n",
    "    d = contar_cumm(palabra_clave)\n",
    "    fig= px.line()\n",
    "    for i in d.columns:\n",
    "        fig.add_scatter(x=d.index, y=np.cumsum(d[i]), mode='lines', name = i)\n",
    "    fig.update_layout(\n",
    "                title={\n",
    "                'text' : \"Las palabras claves de la fecha <b> \"+ str(tabla_dias['Fecha'][palabra_clave]) +\"</b> son: \" + str(', '.join(list(tabla_dias['Palabras clave'][palabra_clave].keys()))),\n",
    "                'x':0.5,\n",
    "                'xanchor': 'center',\n",
    "                'font':{'size':15}\n",
    "            },width  = 800,height =500) #Actualiza el entorno de la gráfica para modificar el título, la ubicación y su tamaño\n",
    "    fig.show()\n",
    "palabra_clave= widgets.FloatSlider(value=0, min=0,max=len(tabla_dias)-1,step=1, description= 'Palabras: ') #crear el slider de\n",
    "widgets.interactive(update_plot,palabra_clave=palabra_clave) #Comando para actualizar la gráfica a medida que se mueve el slider"
   ]
  },
  {
   "cell_type": "code",
   "execution_count": 41,
   "metadata": {},
   "outputs": [],
   "source": [
    "lista = []\n",
    "for i in tabla['Palabras clave']:\n",
    "    for j in i.keys():\n",
    "        if j not in lista:\n",
    "            lista.append(j)\n",
    "lista.sort()\n",
    "tags = nltk.pos_tag(lista)\n",
    "dict_tags = {'CC': 'Conjunción de coordinación', 'CD' : 'número cardinal', 'DT' : 'Determinador', 'EX' : 'Existencial (allí)',\n",
    "          'FW' : 'Palabra extranjera', 'EN' : 'Preposición o conjunción subordinada', 'JJ' : 'Adjetivo', 'VP' : 'Frase verbal',\n",
    "          'JJR' : 'Adjetivo, comparativo', 'JJS' : 'Adjetivo, superlativo', 'LS' : 'Marcador de elemento de lista',\n",
    "          'MD' : 'modal', 'NN' : 'Sustantivo, singular o masivo', 'NNS' : 'Sustantivo, plural', 'PP' : 'Frase de preposición',\n",
    "          'NNP' : 'nombre propio, frase singular', 'NNPS' : 'nombre propio, plural', 'PDT' : 'Predeterminante',\n",
    "          'POS' : 'final posesivo', 'PRP' : 'Frase de pronombre personal', 'PRP' : 'Frase de pronombre posesivo',\n",
    "          'RB' : 'Adverbio', 'RBR' : 'Adverbio, comparativo', 'RBS' : 'Adverbio, superlativo', 'RP' : 'Partícula',\n",
    "          'S' : 'Cláusula declarativa simple', 'SBAR' : 'Cláusula introducida por una conjunción subordinada (posiblemente vacía)',\n",
    "          'SBARQ' : 'Pregunta directa introducida por una wh-Word o una frase wh.', \n",
    "          'SINV' : 'oración declarativa invertida, es decir, una en la que el sujeto sigue el verbo tenso o modal.',\n",
    "          'SQ' : 'Pregunta sí/no invertida, o cláusula principal de una pregunta wh, siguiendo la frase wh en SBARQ.',\n",
    "          'SYM' : 'Símbolo', 'VBD' : 'Verbo, tiempo pasado', 'VBG' : 'Verbo, gerundio o participio presente',\n",
    "          'VBN' : 'Verbo, participio pasado', 'VBP' : 'Verbo, presente no singular de tercera persona',\n",
    "          'VBZ' : 'Verbo, tercera persona singular presente', 'WDT' : 'determinante Wh', 'WP' : 'Wh-pronombre',\n",
    "          'WP' : 'pronombre wh posesivo', 'WRB' : 'Adverbio Wh'}"
   ]
  },
  {
   "cell_type": "code",
   "execution_count": 42,
   "metadata": {
    "scrolled": false
   },
   "outputs": [
    {
     "data": {
      "application/vnd.jupyter.widget-view+json": {
       "model_id": "08d427c84fb94c418e5636cd4f474ebe",
       "version_major": 2,
       "version_minor": 0
      },
      "text/plain": [
       "VBox(children=(HBox(children=(Dropdown(description='Evolución de la palabra clave:', options=('abiertos', 'abo…"
      ]
     },
     "metadata": {},
     "output_type": "display_data"
    }
   ],
   "source": [
    "histo = widgets.Dropdown(\n",
    "    options=[elem[0] for elem in tags if(elem[1] not in ['TO','NN','IN','FN','FW','CC','DT','NNP','VB','VBD','VBG','VBN'])],\n",
    "    value= lista[0],\n",
    "    description='Evolución de la palabra clave:',\n",
    ")\n",
    "def buscar_tag(pareja):\n",
    "    tag = [elem[1] for elem in tags if elem[0]==pareja]\n",
    "    return tag[0]\n",
    "tipo_tag = widgets.HTML(\n",
    "    value=\"El tag de la palabra es <b> \"+ str(buscar_tag(lista[0])) +\"</b>: \" + dict_tags[buscar_tag(lista[0])] ,\n",
    "    placeholder='',\n",
    "    description='',\n",
    ")\n",
    "\n",
    "valores = contar_palabra(tabla_dias, lista[0])\n",
    "trace = px.line(x=valores.index,y =valores[lista[0]], line_shape='spline')\n",
    "g = go.FigureWidget(data=trace)\n",
    "def response(change):\n",
    "    if histo.value in histo.options:\n",
    "        df_temp = contar_palabra(tabla_dias, histo.value)\n",
    "        tipo_tag.value = \"El tag de la palabra es <b> \"+ str(buscar_tag(histo.value)) +\"</b>: \" + dict_tags[buscar_tag(histo.value)]\n",
    "        with g.batch_update():\n",
    "            g.data[0].x = df_temp.index\n",
    "            g.data[0].y = df_temp[histo.value]\n",
    "            g.data[0].name = histo.value\n",
    "\n",
    "                \n",
    "\n",
    "histo.observe(response, names=\"value\")\n",
    "\n",
    "container = widgets.HBox([histo,tipo_tag])\n",
    "widgets.VBox([container, g])"
   ]
  },
  {
   "cell_type": "code",
   "execution_count": null,
   "metadata": {},
   "outputs": [],
   "source": []
  }
 ],
 "metadata": {
  "kernelspec": {
   "display_name": "Python 3",
   "language": "python",
   "name": "python3"
  },
  "language_info": {
   "codemirror_mode": {
    "name": "ipython",
    "version": 3
   },
   "file_extension": ".py",
   "mimetype": "text/x-python",
   "name": "python",
   "nbconvert_exporter": "python",
   "pygments_lexer": "ipython3",
   "version": "3.8.5"
  },
  "widgets": {
   "application/vnd.jupyter.widget-state+json": {
    "state": {
     "05ddb397cf1549a498aaab54ab72730c": {
      "model_module": "@jupyter-widgets/controls",
      "model_module_version": "1.5.0",
      "model_name": "VBoxModel",
      "state": {
       "children": [
        "IPY_MODEL_233b09bb02354ff3b8ab099d67dc4547",
        "IPY_MODEL_9286d5674a814e729216f33c67bc46bd"
       ],
       "layout": "IPY_MODEL_b570d4a744834b6c866472ee75fabd63"
      }
     },
     "0722eee79ef14944a60f9ed2ad6cd0a8": {
      "model_module": "@jupyter-widgets/base",
      "model_module_version": "1.2.0",
      "model_name": "LayoutModel",
      "state": {}
     },
     "08d427c84fb94c418e5636cd4f474ebe": {
      "model_module": "@jupyter-widgets/controls",
      "model_module_version": "1.5.0",
      "model_name": "VBoxModel",
      "state": {
       "children": [
        "IPY_MODEL_e6aa2db28c5949d58001b36dae244576",
        "IPY_MODEL_1f2e41e0589a47bbbdea2e7bb4260faa"
       ],
       "layout": "IPY_MODEL_8f43e13ad2f84e7f916977a24d60ce4f"
      }
     },
     "0acf730f1b364b4b8a8ddee3bc472425": {
      "model_module": "@jupyter-widgets/base",
      "model_module_version": "1.2.0",
      "model_name": "LayoutModel",
      "state": {}
     },
     "0f974af1952841a2a9e7f0ad3e738a07": {
      "model_module": "@jupyter-widgets/controls",
      "model_module_version": "1.5.0",
      "model_name": "DescriptionStyleModel",
      "state": {
       "description_width": ""
      }
     },
     "119ed958d4464a6282bfb85c7c06bf67": {
      "model_module": "@jupyter-widgets/base",
      "model_module_version": "1.2.0",
      "model_name": "LayoutModel",
      "state": {}
     },
     "11a60dc589e4453bae9213997dec17d1": {
      "model_module": "@jupyter-widgets/controls",
      "model_module_version": "1.5.0",
      "model_name": "DropdownModel",
      "state": {
       "_options_labels": [
        "abiertos",
        "abordemos",
        "acumulada",
        "adolescentes",
        "adopción",
        "adriana",
        "advertencia",
        "aeronave",
        "aeropuerto",
        "afrocolombianas",
        "afuera",
        "agenda",
        "agroindustriales",
        "agrosavia",
        "agua",
        "aguilar",
        "alcaldes",
        "alegría",
        "algún",
        "alias",
        "alirio",
        "alivios",
        "almacenamiento",
        "almagro",
        "ambiental",
        "andicom",
        "andinos",
        "andrés",
        "anillo",
        "aníbal",
        "aquiles",
        "aquí",
        "arauca",
        "arterias",
        "artificial",
        "asocapitales",
        "asociativo",
        "asume",
        "ataques",
        "atehortúa",
        "atendido",
        "aulas",
        "autogeneración",
        "autoridad",
        "aves",
        "ayuda",
        "aérea",
        "aéreas",
        "año",
        "años",
        "banquete",
        "billones",
        "binacional",
        "bloqueos",
        "campesinos",
        "capaces",
        "capacidad",
        "capitales",
        "captura",
        "capítulo",
        "carmen",
        "carrera",
        "carteles",
        "cartera",
        "chicles",
        "chile",
        "china",
        "ciudades",
        "clan",
        "clase",
        "colegiales",
        "colegios",
        "coletazo",
        "compromiso",
        "comunal",
        "comunales",
        "comunidad",
        "comunidades",
        "conat",
        "concejal",
        "conductas",
        "conectividad",
        "conectándonos",
        "conservador",
        "constitucional",
        "convencionales",
        "conversación",
        "conversar",
        "corazones",
        "corea",
        "corinto",
        "cortes",
        "cosas",
        "costa",
        "crimen",
        "criminal",
        "crímenes",
        "cuales",
        "cuenca",
        "cuerpo",
        "cultural",
        "deberes",
        "defensoría",
        "deportistas",
        "deportiva",
        "depuración",
        "desigualdades",
        "despliegue",
        "dian",
        "diferencias",
        "digital",
        "doctora",
        "domiciliarios",
        "dos",
        "día",
        "elecciones",
        "electoral",
        "electrónico",
        "elsa",
        "emisiones",
        "emisión",
        "empleado",
        "empresa",
        "empresarial",
        "energía",
        "energías",
        "equipares",
        "equipo",
        "equivalen",
        "escolar",
        "escombros",
        "escucharnos",
        "esencialmente",
        "eventual",
        "evitemos",
        "exportaciones",
        "exportación",
        "exterior",
        "fallecidas",
        "familia",
        "familiares",
        "familias",
        "farc",
        "federaciones",
        "fedesarrollo",
        "fenalco",
        "festival",
        "finanzas",
        "fintec",
        "firmamos",
        "fiscal",
        "fuerzas",
        "funcional",
        "funciones",
        "fundación",
        "furia",
        "fábrica",
        "félix",
        "férreas",
        "galindo",
        "ganaderos",
        "garantizar",
        "gases",
        "general",
        "gobernadores",
        "gobierno",
        "golfo",
        "guardaparques",
        "guaviare",
        "guillermo",
        "habilidades",
        "habilitar",
        "habitantes",
        "hablando",
        "habló",
        "herramientas",
        "herreros",
        "homicidios",
        "honorables",
        "hu",
        "humanos",
        "humboldt",
        "huracán",
        "indicadores",
        "indignación",
        "industria",
        "industrias",
        "infinita",
        "iniciar",
        "inspiratic",
        "instituciones",
        "institución",
        "integración",
        "integral",
        "interior",
        "invernadero",
        "invernal",
        "inversionistas",
        "inversión",
        "invitados",
        "islas",
        "iva",
        "jaime",
        "jóvenes",
        "karen",
        "kilómetros",
        "laboral",
        "labores",
        "lan",
        "lavador",
        "leary",
        "leve",
        "limpia",
        "local",
        "mangles",
        "mantenerse",
        "mayores",
        "maíz",
        "medellín",
        "medios",
        "megas",
        "mejora",
        "mendoza",
        "mensaje",
        "mes",
        "mesa",
        "meta",
        "migrantes",
        "migratoria",
        "mil",
        "militares",
        "millones",
        "millón",
        "minas",
        "minerales",
        "minero",
        "mineros",
        "minería",
        "ministra",
        "miércoles",
        "moda",
        "muestras",
        "mujer",
        "mujeres",
        "multilateral",
        "multilateralismo",
        "multinacional",
        "municipios",
        "nacional",
        "nacionales",
        "naciones",
        "naranja",
        "narcotalia",
        "narcoterrorismo",
        "naturaleza",
        "navidad",
        "negociaciones",
        "negras",
        "nemesio",
        "ningún",
        "niños",
        "nocturnas",
        "normas",
        "normativa",
        "notariado",
        "nubank",
        "nuevo",
        "nunca",
        "obligatoriedad",
        "obras",
        "ocaña",
        "ocde",
        "oferta",
        "oficiales",
        "oleonorte",
        "ollas",
        "omega",
        "operacional",
        "orden",
        "orión",
        "palenqueras",
        "palma",
        "palmicultores",
        "pamplona",
        "parques",
        "participación",
        "partido",
        "países",
        "pdet",
        "penales",
        "pensamiento",
        "pensamos",
        "planeta",
        "plantean",
        "policial",
        "posterior",
        "precipitaciones",
        "presentado",
        "presidente",
        "presidentes",
        "presupuesto",
        "privado",
        "productores",
        "profesores",
        "programa",
        "programadores",
        "programas",
        "provocaciones",
        "proyecto",
        "proyectos",
        "prudencia",
        "pruebas",
        "pueden",
        "raizales",
        "rama",
        "regiones",
        "registra",
        "registrada",
        "renovables",
        "reparación",
        "reporte",
        "rescatistas",
        "resiliencia",
        "responsable",
        "responsables",
        "respuesta",
        "restablece",
        "retos",
        "revisando",
        "revolucionarios",
        "revolución",
        "ricardo",
        "rural",
        "rutas",
        "rápida",
        "régimen",
        "río",
        "sabemos",
        "sabios",
        "sacamos",
        "sagasti",
        "salarial",
        "san",
        "sanciones",
        "sandra",
        "saneamiento",
        "santandereanos",
        "santiago",
        "seguirá",
        "seguros",
        "selección",
        "sello",
        "semanas",
        "semestre",
        "sena",
        "señores",
        "si",
        "sillas",
        "sinchi",
        "sindicado",
        "sobrevuelo",
        "social",
        "soluciones",
        "sospecha",
        "sostenible",
        "subsidios",
        "subteniente",
        "sucre",
        "temas",
        "temporal",
        "tensión",
        "terminal",
        "tic",
        "tolima",
        "toneladas",
        "tono",
        "total",
        "trabajadores",
        "trabajaremos",
        "trabajo",
        "transformación",
        "transicional",
        "transnacionales",
        "transparencia",
        "tratemos",
        "ubicamos",
        "unida",
        "unidos",
        "unificado",
        "uniforme",
        "urabá",
        "urbanos",
        "usted",
        "ustedes",
        "vacuna",
        "vacunas",
        "valle",
        "valledupar",
        "veteranos",
        "vial",
        "viernes",
        "vigilancia",
        "violencia",
        "vive",
        "viviendas",
        "viéramos",
        "votante",
        "vulnerables",
        "vías",
        "víctimas",
        "wilson",
        "yopal"
       ],
       "description": "Evolución de la palabra clave:",
       "index": 0,
       "layout": "IPY_MODEL_62cbbf9f03f04e49b0dc5db6fb03e282",
       "style": "IPY_MODEL_d7b0dd1b5b024f2f83b4694356d905de"
      }
     },
     "130c66c758484461afa0bb3f9bd93ec1": {
      "model_module": "@jupyter-widgets/controls",
      "model_module_version": "1.5.0",
      "model_name": "VBoxModel",
      "state": {
       "children": [
        "IPY_MODEL_8945ba9452684a74a365066935f22753",
        "IPY_MODEL_c6c1fee2c3e140129cc201d6fe963614"
       ],
       "layout": "IPY_MODEL_b58dd02e8c134427a057cc5e459cdc44"
      }
     },
     "133a78deea8640ff8eaa423714f3f564": {
      "model_module": "@jupyter-widgets/base",
      "model_module_version": "1.2.0",
      "model_name": "LayoutModel",
      "state": {}
     },
     "13cf9e8f3eab44bfa5bb5b4ac8f20101": {
      "model_module": "@jupyter-widgets/controls",
      "model_module_version": "1.5.0",
      "model_name": "HTMLModel",
      "state": {
       "layout": "IPY_MODEL_1fc83873ebf9417eb58bca48c3cf4d36",
       "style": "IPY_MODEL_35be34a6486d4aababc57f620058680b",
       "value": " 37%"
      }
     },
     "14f161dbe40b4725a6d51d6368ca31a9": {
      "model_module": "@jupyter-widgets/controls",
      "model_module_version": "1.5.0",
      "model_name": "DescriptionStyleModel",
      "state": {
       "description_width": ""
      }
     },
     "15bc2cb20d514353bd6fa9967801a2a0": {
      "model_module": "@jupyter-widgets/base",
      "model_module_version": "1.2.0",
      "model_name": "LayoutModel",
      "state": {}
     },
     "15cca8c412384084b15a6ccad50d4175": {
      "model_module": "@jupyter-widgets/controls",
      "model_module_version": "1.5.0",
      "model_name": "DescriptionStyleModel",
      "state": {
       "description_width": ""
      }
     },
     "16791a854a2d4b6b978ce85c343f4191": {
      "model_module": "@jupyter-widgets/controls",
      "model_module_version": "1.5.0",
      "model_name": "HTMLModel",
      "state": {
       "layout": "IPY_MODEL_0722eee79ef14944a60f9ed2ad6cd0a8",
       "placeholder": "",
       "style": "IPY_MODEL_f2e407f263bd45cca0b7e948e6a9124e",
       "value": "El tag de la palabra es <b> NNS</b>: Sustantivo, plural"
      }
     },
     "16a3ba0cea6b4b639e49e8b96e03c770": {
      "model_module": "@jupyter-widgets/controls",
      "model_module_version": "1.5.0",
      "model_name": "DropdownModel",
      "state": {
       "_options_labels": [
        "abiertos",
        "abordemos",
        "acumulada",
        "adolescentes",
        "adopción",
        "adriana",
        "advertencia",
        "aeronave",
        "aeropuerto",
        "afrocolombianas",
        "afuera",
        "agenda",
        "agroindustriales",
        "agrosavia",
        "agua",
        "aguilar",
        "alcaldes",
        "alegría",
        "algún",
        "alias",
        "alirio",
        "alivios",
        "almacenamiento",
        "almagro",
        "ambiental",
        "andicom",
        "andinos",
        "andrés",
        "anillo",
        "aníbal",
        "aquiles",
        "aquí",
        "arauca",
        "arterias",
        "artificial",
        "asocapitales",
        "asociativo",
        "asume",
        "ataques",
        "atehortúa",
        "atendido",
        "aulas",
        "autogeneración",
        "autoridad",
        "aves",
        "ayuda",
        "aérea",
        "aéreas",
        "año",
        "años",
        "banquete",
        "billones",
        "binacional",
        "bloqueos",
        "campesinos",
        "capaces",
        "capacidad",
        "capitales",
        "captura",
        "capítulo",
        "carmen",
        "carrera",
        "carteles",
        "cartera",
        "chicles",
        "chile",
        "china",
        "ciudades",
        "clan",
        "clase",
        "colegiales",
        "colegios",
        "coletazo",
        "compromiso",
        "comunal",
        "comunales",
        "comunidad",
        "comunidades",
        "conat",
        "concejal",
        "conductas",
        "conectividad",
        "conectándonos",
        "conservador",
        "constitucional",
        "convencionales",
        "conversación",
        "conversar",
        "corazones",
        "corea",
        "corinto",
        "cortes",
        "cosas",
        "costa",
        "crimen",
        "criminal",
        "crímenes",
        "cuales",
        "cuenca",
        "cuerpo",
        "cultural",
        "deberes",
        "defensoría",
        "deportistas",
        "deportiva",
        "depuración",
        "desigualdades",
        "despliegue",
        "dian",
        "diferencias",
        "digital",
        "doctora",
        "domiciliarios",
        "dos",
        "día",
        "elecciones",
        "electoral",
        "electrónico",
        "elsa",
        "emisiones",
        "emisión",
        "empleado",
        "empresa",
        "empresarial",
        "energía",
        "energías",
        "equipares",
        "equipo",
        "equivalen",
        "escolar",
        "escombros",
        "escucharnos",
        "esencialmente",
        "eventual",
        "evitemos",
        "exportaciones",
        "exportación",
        "exterior",
        "fallecidas",
        "familia",
        "familiares",
        "familias",
        "farc",
        "federaciones",
        "fedesarrollo",
        "fenalco",
        "festival",
        "finanzas",
        "fintec",
        "firmamos",
        "fiscal",
        "fuerzas",
        "funcional",
        "funciones",
        "fundación",
        "furia",
        "fábrica",
        "félix",
        "férreas",
        "galindo",
        "ganaderos",
        "garantizar",
        "gases",
        "general",
        "gobernadores",
        "gobierno",
        "golfo",
        "guardaparques",
        "guaviare",
        "guillermo",
        "habilidades",
        "habilitar",
        "habitantes",
        "hablando",
        "habló",
        "herramientas",
        "herreros",
        "homicidios",
        "honorables",
        "hu",
        "humanos",
        "humboldt",
        "huracán",
        "indicadores",
        "indignación",
        "industria",
        "industrias",
        "infinita",
        "iniciar",
        "inspiratic",
        "instituciones",
        "institución",
        "integración",
        "integral",
        "interior",
        "invernadero",
        "invernal",
        "inversionistas",
        "inversión",
        "invitados",
        "islas",
        "iva",
        "jaime",
        "jóvenes",
        "karen",
        "kilómetros",
        "laboral",
        "labores",
        "lan",
        "lavador",
        "leary",
        "leve",
        "limpia",
        "local",
        "mangles",
        "mantenerse",
        "mayores",
        "maíz",
        "medellín",
        "medios",
        "megas",
        "mejora",
        "mendoza",
        "mensaje",
        "mes",
        "mesa",
        "meta",
        "migrantes",
        "migratoria",
        "mil",
        "militares",
        "millones",
        "millón",
        "minas",
        "minerales",
        "minero",
        "mineros",
        "minería",
        "ministra",
        "miércoles",
        "moda",
        "muestras",
        "mujer",
        "mujeres",
        "multilateral",
        "multilateralismo",
        "multinacional",
        "municipios",
        "nacional",
        "nacionales",
        "naciones",
        "naranja",
        "narcotalia",
        "narcoterrorismo",
        "naturaleza",
        "navidad",
        "negociaciones",
        "negras",
        "nemesio",
        "ningún",
        "niños",
        "nocturnas",
        "normas",
        "normativa",
        "notariado",
        "nubank",
        "nuevo",
        "nunca",
        "obligatoriedad",
        "obras",
        "ocaña",
        "ocde",
        "oferta",
        "oficiales",
        "oleonorte",
        "ollas",
        "omega",
        "operacional",
        "orden",
        "orión",
        "palenqueras",
        "palma",
        "palmicultores",
        "pamplona",
        "parques",
        "participación",
        "partido",
        "países",
        "pdet",
        "penales",
        "pensamiento",
        "pensamos",
        "planeta",
        "plantean",
        "policial",
        "posterior",
        "precipitaciones",
        "presentado",
        "presidente",
        "presidentes",
        "presupuesto",
        "privado",
        "productores",
        "profesores",
        "programa",
        "programadores",
        "programas",
        "provocaciones",
        "proyecto",
        "proyectos",
        "prudencia",
        "pruebas",
        "pueden",
        "raizales",
        "rama",
        "regiones",
        "registra",
        "registrada",
        "renovables",
        "reparación",
        "reporte",
        "rescatistas",
        "resiliencia",
        "responsable",
        "responsables",
        "respuesta",
        "restablece",
        "retos",
        "revisando",
        "revolucionarios",
        "revolución",
        "ricardo",
        "rural",
        "rutas",
        "rápida",
        "régimen",
        "río",
        "sabemos",
        "sabios",
        "sacamos",
        "sagasti",
        "salarial",
        "san",
        "sanciones",
        "sandra",
        "saneamiento",
        "santandereanos",
        "santiago",
        "seguirá",
        "seguros",
        "selección",
        "sello",
        "semanas",
        "semestre",
        "sena",
        "señores",
        "si",
        "sillas",
        "sinchi",
        "sindicado",
        "sobrevuelo",
        "social",
        "soluciones",
        "sospecha",
        "sostenible",
        "subsidios",
        "subteniente",
        "sucre",
        "temas",
        "temporal",
        "tensión",
        "terminal",
        "tic",
        "tolima",
        "toneladas",
        "tono",
        "total",
        "trabajadores",
        "trabajaremos",
        "trabajo",
        "transformación",
        "transicional",
        "transnacionales",
        "transparencia",
        "tratemos",
        "ubicamos",
        "unida",
        "unidos",
        "unificado",
        "uniforme",
        "urabá",
        "urbanos",
        "usted",
        "ustedes",
        "vacuna",
        "vacunas",
        "valle",
        "valledupar",
        "veteranos",
        "vial",
        "viernes",
        "vigilancia",
        "violencia",
        "vive",
        "viviendas",
        "viéramos",
        "votante",
        "vulnerables",
        "vías",
        "víctimas",
        "wilson",
        "yopal"
       ],
       "description": "Evolución de la palabra clave:",
       "index": 243,
       "layout": "IPY_MODEL_4e66c80922f44bc18b26c8cb92093bc8",
       "style": "IPY_MODEL_0f974af1952841a2a9e7f0ad3e738a07"
      }
     },
     "16a9558e5a3a446dbb2dccb307ee1e5e": {
      "model_module": "@jupyter-widgets/base",
      "model_module_version": "1.2.0",
      "model_name": "LayoutModel",
      "state": {}
     },
     "1f2e41e0589a47bbbdea2e7bb4260faa": {
      "model_module": "plotlywidget",
      "model_module_version": "^4.14.3",
      "model_name": "FigureModel",
      "state": {
       "_config": {
        "plotlyServerURL": "https://plot.ly"
       },
       "_data": [
        {
         "hovertemplate": "x=%{x}<br>y=%{y}<extra></extra>",
         "legendgroup": "",
         "line": {
          "color": "#636efa",
          "dash": "solid",
          "shape": "spline"
         },
         "mode": "lines",
         "name": "",
         "orientation": "v",
         "showlegend": false,
         "type": "scatter",
         "uid": "21f41179-c6b1-45fa-9ce3-6395aca38254",
         "x": [
          "2020-08-14",
          "2020-08-17",
          "2020-08-18",
          "2020-08-19",
          "2020-08-20",
          "2020-08-21",
          "2020-08-22",
          "2020-08-23",
          "2020-08-24",
          "2020-08-25",
          "2020-08-26",
          "2020-08-27",
          "2020-08-28",
          "2020-08-29",
          "2020-08-30",
          "2020-08-31",
          "2020-09-01",
          "2020-09-02",
          "2020-09-03",
          "2020-09-04",
          "2020-09-07",
          "2020-09-08",
          "2020-09-09",
          "2020-09-10",
          "2020-09-11",
          "2020-09-12",
          "2020-09-15",
          "2020-09-16",
          "2020-09-17",
          "2020-09-18",
          "2020-09-19",
          "2020-09-21",
          "2020-09-22",
          "2020-09-23",
          "2020-09-24",
          "2020-09-25",
          "2020-09-26",
          "2020-09-27",
          "2020-09-28",
          "2020-09-29",
          "2020-09-30",
          "2020-10-01",
          "2020-10-02",
          "2020-10-03",
          "2020-10-05",
          "2020-10-06",
          "2020-10-07",
          "2020-10-08",
          "2020-10-09",
          "2020-10-10",
          "2020-10-13",
          "2020-10-14",
          "2020-10-15",
          "2020-10-16",
          "2020-10-17",
          "2020-10-19",
          "2020-10-20",
          "2020-10-21",
          "2020-10-22",
          "2020-10-23",
          "2020-10-24",
          "2020-10-25",
          "2020-10-26",
          "2020-10-27",
          "2020-10-28",
          "2020-11-06",
          "2020-11-07",
          "2020-11-08",
          "2020-11-09",
          "2020-11-10",
          "2020-11-11",
          "2020-11-12",
          "2020-11-13",
          "2020-11-14",
          "2020-11-15",
          "2020-11-16",
          "2020-11-17",
          "2020-11-18",
          "2020-11-19",
          "2020-11-20",
          "2020-11-21",
          "2020-11-23",
          "2020-11-24",
          "2020-11-25",
          "2020-11-26",
          "2020-11-27",
          "2020-11-28",
          "2020-11-29",
          "2020-11-30",
          "2020-12-01",
          "2020-12-02",
          "2020-12-03",
          "2020-12-04",
          "2020-12-05",
          "2020-12-07",
          "2020-12-09",
          "2020-12-10",
          "2020-12-11",
          "2020-12-12",
          "2020-12-13",
          "2020-12-17",
          "2020-12-18",
          "2020-12-19",
          "2020-12-24",
          "2020-12-28",
          "2020-12-29",
          "2020-12-30",
          "2020-12-31",
          "2021-01-04",
          "2021-01-05",
          "2021-01-06",
          "2021-01-07",
          "2021-01-08",
          "2021-01-10",
          "2021-01-12",
          "2021-01-13",
          "2021-01-14",
          "2021-01-15",
          "2021-01-17",
          "2021-01-18",
          "2021-01-20",
          "2021-01-21",
          "2021-01-22",
          "2021-02-05",
          "2021-02-06",
          "2021-02-09",
          "2021-02-10",
          "2021-02-11",
          "2021-02-12",
          "2021-02-14",
          "2021-02-15",
          "2021-02-16",
          "2021-02-17",
          "2021-02-18",
          "2021-02-19",
          "2021-02-20",
          "2021-02-22",
          "2021-02-23",
          "2021-02-24",
          "2021-02-25",
          "2021-02-26",
          "2021-02-27",
          "2021-03-01",
          "2021-03-02",
          "2021-03-03",
          "2021-03-04",
          "2021-03-05",
          "2021-03-08",
          "2021-03-09",
          "2021-03-11",
          "2021-03-15",
          "2021-03-16",
          "2021-03-17",
          "2021-03-25",
          "2021-03-26",
          "2021-03-27",
          "2021-03-29",
          "2021-04-04",
          "2021-04-05",
          "2021-04-06",
          "2021-04-07",
          "2021-04-08",
          "2021-04-09",
          "2021-04-10",
          "2021-04-12",
          "2021-04-21",
          "2021-04-22",
          "2021-04-23",
          "2021-04-26",
          "2021-04-27",
          "2021-04-28",
          "2021-04-30",
          "2021-05-01",
          "2021-05-02",
          "2021-05-03",
          "2021-05-04",
          "2021-05-05",
          "2021-05-07",
          "2021-05-08",
          "2021-05-09",
          "2021-05-10",
          "2021-05-11",
          "2021-05-12",
          "2021-05-13",
          "2021-05-14",
          "2021-05-17",
          "2021-05-18",
          "2021-05-19",
          "2021-05-21",
          "2021-05-25",
          "2021-05-26",
          "2021-05-27",
          "2021-05-28",
          "2021-05-31",
          "2021-06-01",
          "2021-06-03",
          "2021-06-04",
          "2021-06-05",
          "2021-06-06"
         ],
         "xaxis": "x",
         "y": [
          0,
          0,
          0,
          0,
          0,
          0,
          0,
          0,
          0,
          0,
          0,
          0,
          0,
          0,
          0,
          0,
          1,
          0,
          0,
          0,
          0,
          0,
          0,
          0,
          0,
          0,
          0,
          0,
          0,
          0,
          0,
          0,
          0,
          0,
          0,
          0,
          0,
          0,
          0,
          1,
          0,
          0,
          0,
          0,
          0,
          0,
          0,
          0,
          0,
          0,
          0,
          0,
          0,
          0,
          0,
          0,
          1,
          0,
          0,
          0,
          0,
          0,
          0,
          0,
          0,
          0,
          0,
          0,
          0,
          0,
          0,
          0,
          0,
          0,
          0,
          0,
          0,
          0,
          0,
          0,
          0,
          0,
          0,
          0,
          0,
          0,
          0,
          0,
          0,
          0,
          0,
          0,
          0,
          0,
          0,
          0,
          0,
          0,
          0,
          0,
          0,
          0,
          0,
          0,
          0,
          0,
          0,
          0,
          0,
          0,
          0,
          0,
          0,
          0,
          0,
          0,
          0,
          0,
          0,
          0,
          0,
          0,
          0,
          0,
          0,
          0,
          0,
          0,
          0,
          0,
          0,
          0,
          0,
          0,
          0,
          0,
          0,
          0,
          0,
          0,
          0,
          0,
          1,
          0,
          0,
          0,
          0,
          0,
          0,
          0,
          0,
          0,
          0,
          2,
          0,
          0,
          0,
          0,
          0,
          0,
          0,
          0,
          0,
          0,
          0,
          0,
          0,
          0,
          0,
          0,
          0,
          0,
          0,
          0,
          0,
          0,
          0,
          6,
          0,
          0,
          0,
          0,
          0,
          0,
          0,
          0,
          0,
          0,
          0,
          0,
          0,
          0,
          0,
          0,
          0,
          0,
          0,
          0,
          0
         ],
         "yaxis": "y"
        }
       ],
       "_js2py_restyle": {},
       "_js2py_update": {},
       "_last_layout_edit_id": 1,
       "_layout": {
        "autosize": true,
        "legend": {
         "tracegroupgap": 0
        },
        "margin": {
         "t": 60
        },
        "template": {
         "data": {
          "bar": [
           {
            "error_x": {
             "color": "#2a3f5f"
            },
            "error_y": {
             "color": "#2a3f5f"
            },
            "marker": {
             "line": {
              "color": "#E5ECF6",
              "width": 0.5
             }
            },
            "type": "bar"
           }
          ],
          "barpolar": [
           {
            "marker": {
             "line": {
              "color": "#E5ECF6",
              "width": 0.5
             }
            },
            "type": "barpolar"
           }
          ],
          "carpet": [
           {
            "aaxis": {
             "endlinecolor": "#2a3f5f",
             "gridcolor": "white",
             "linecolor": "white",
             "minorgridcolor": "white",
             "startlinecolor": "#2a3f5f"
            },
            "baxis": {
             "endlinecolor": "#2a3f5f",
             "gridcolor": "white",
             "linecolor": "white",
             "minorgridcolor": "white",
             "startlinecolor": "#2a3f5f"
            },
            "type": "carpet"
           }
          ],
          "choropleth": [
           {
            "colorbar": {
             "outlinewidth": 0,
             "ticks": ""
            },
            "type": "choropleth"
           }
          ],
          "contour": [
           {
            "colorbar": {
             "outlinewidth": 0,
             "ticks": ""
            },
            "colorscale": [
             [
              0,
              "#0d0887"
             ],
             [
              0.1111111111111111,
              "#46039f"
             ],
             [
              0.2222222222222222,
              "#7201a8"
             ],
             [
              0.3333333333333333,
              "#9c179e"
             ],
             [
              0.4444444444444444,
              "#bd3786"
             ],
             [
              0.5555555555555556,
              "#d8576b"
             ],
             [
              0.6666666666666666,
              "#ed7953"
             ],
             [
              0.7777777777777778,
              "#fb9f3a"
             ],
             [
              0.8888888888888888,
              "#fdca26"
             ],
             [
              1,
              "#f0f921"
             ]
            ],
            "type": "contour"
           }
          ],
          "contourcarpet": [
           {
            "colorbar": {
             "outlinewidth": 0,
             "ticks": ""
            },
            "type": "contourcarpet"
           }
          ],
          "heatmap": [
           {
            "colorbar": {
             "outlinewidth": 0,
             "ticks": ""
            },
            "colorscale": [
             [
              0,
              "#0d0887"
             ],
             [
              0.1111111111111111,
              "#46039f"
             ],
             [
              0.2222222222222222,
              "#7201a8"
             ],
             [
              0.3333333333333333,
              "#9c179e"
             ],
             [
              0.4444444444444444,
              "#bd3786"
             ],
             [
              0.5555555555555556,
              "#d8576b"
             ],
             [
              0.6666666666666666,
              "#ed7953"
             ],
             [
              0.7777777777777778,
              "#fb9f3a"
             ],
             [
              0.8888888888888888,
              "#fdca26"
             ],
             [
              1,
              "#f0f921"
             ]
            ],
            "type": "heatmap"
           }
          ],
          "heatmapgl": [
           {
            "colorbar": {
             "outlinewidth": 0,
             "ticks": ""
            },
            "colorscale": [
             [
              0,
              "#0d0887"
             ],
             [
              0.1111111111111111,
              "#46039f"
             ],
             [
              0.2222222222222222,
              "#7201a8"
             ],
             [
              0.3333333333333333,
              "#9c179e"
             ],
             [
              0.4444444444444444,
              "#bd3786"
             ],
             [
              0.5555555555555556,
              "#d8576b"
             ],
             [
              0.6666666666666666,
              "#ed7953"
             ],
             [
              0.7777777777777778,
              "#fb9f3a"
             ],
             [
              0.8888888888888888,
              "#fdca26"
             ],
             [
              1,
              "#f0f921"
             ]
            ],
            "type": "heatmapgl"
           }
          ],
          "histogram": [
           {
            "marker": {
             "colorbar": {
              "outlinewidth": 0,
              "ticks": ""
             }
            },
            "type": "histogram"
           }
          ],
          "histogram2d": [
           {
            "colorbar": {
             "outlinewidth": 0,
             "ticks": ""
            },
            "colorscale": [
             [
              0,
              "#0d0887"
             ],
             [
              0.1111111111111111,
              "#46039f"
             ],
             [
              0.2222222222222222,
              "#7201a8"
             ],
             [
              0.3333333333333333,
              "#9c179e"
             ],
             [
              0.4444444444444444,
              "#bd3786"
             ],
             [
              0.5555555555555556,
              "#d8576b"
             ],
             [
              0.6666666666666666,
              "#ed7953"
             ],
             [
              0.7777777777777778,
              "#fb9f3a"
             ],
             [
              0.8888888888888888,
              "#fdca26"
             ],
             [
              1,
              "#f0f921"
             ]
            ],
            "type": "histogram2d"
           }
          ],
          "histogram2dcontour": [
           {
            "colorbar": {
             "outlinewidth": 0,
             "ticks": ""
            },
            "colorscale": [
             [
              0,
              "#0d0887"
             ],
             [
              0.1111111111111111,
              "#46039f"
             ],
             [
              0.2222222222222222,
              "#7201a8"
             ],
             [
              0.3333333333333333,
              "#9c179e"
             ],
             [
              0.4444444444444444,
              "#bd3786"
             ],
             [
              0.5555555555555556,
              "#d8576b"
             ],
             [
              0.6666666666666666,
              "#ed7953"
             ],
             [
              0.7777777777777778,
              "#fb9f3a"
             ],
             [
              0.8888888888888888,
              "#fdca26"
             ],
             [
              1,
              "#f0f921"
             ]
            ],
            "type": "histogram2dcontour"
           }
          ],
          "mesh3d": [
           {
            "colorbar": {
             "outlinewidth": 0,
             "ticks": ""
            },
            "type": "mesh3d"
           }
          ],
          "parcoords": [
           {
            "line": {
             "colorbar": {
              "outlinewidth": 0,
              "ticks": ""
             }
            },
            "type": "parcoords"
           }
          ],
          "pie": [
           {
            "automargin": true,
            "type": "pie"
           }
          ],
          "scatter": [
           {
            "marker": {
             "colorbar": {
              "outlinewidth": 0,
              "ticks": ""
             }
            },
            "type": "scatter"
           }
          ],
          "scatter3d": [
           {
            "line": {
             "colorbar": {
              "outlinewidth": 0,
              "ticks": ""
             }
            },
            "marker": {
             "colorbar": {
              "outlinewidth": 0,
              "ticks": ""
             }
            },
            "type": "scatter3d"
           }
          ],
          "scattercarpet": [
           {
            "marker": {
             "colorbar": {
              "outlinewidth": 0,
              "ticks": ""
             }
            },
            "type": "scattercarpet"
           }
          ],
          "scattergeo": [
           {
            "marker": {
             "colorbar": {
              "outlinewidth": 0,
              "ticks": ""
             }
            },
            "type": "scattergeo"
           }
          ],
          "scattergl": [
           {
            "marker": {
             "colorbar": {
              "outlinewidth": 0,
              "ticks": ""
             }
            },
            "type": "scattergl"
           }
          ],
          "scattermapbox": [
           {
            "marker": {
             "colorbar": {
              "outlinewidth": 0,
              "ticks": ""
             }
            },
            "type": "scattermapbox"
           }
          ],
          "scatterpolar": [
           {
            "marker": {
             "colorbar": {
              "outlinewidth": 0,
              "ticks": ""
             }
            },
            "type": "scatterpolar"
           }
          ],
          "scatterpolargl": [
           {
            "marker": {
             "colorbar": {
              "outlinewidth": 0,
              "ticks": ""
             }
            },
            "type": "scatterpolargl"
           }
          ],
          "scatterternary": [
           {
            "marker": {
             "colorbar": {
              "outlinewidth": 0,
              "ticks": ""
             }
            },
            "type": "scatterternary"
           }
          ],
          "surface": [
           {
            "colorbar": {
             "outlinewidth": 0,
             "ticks": ""
            },
            "colorscale": [
             [
              0,
              "#0d0887"
             ],
             [
              0.1111111111111111,
              "#46039f"
             ],
             [
              0.2222222222222222,
              "#7201a8"
             ],
             [
              0.3333333333333333,
              "#9c179e"
             ],
             [
              0.4444444444444444,
              "#bd3786"
             ],
             [
              0.5555555555555556,
              "#d8576b"
             ],
             [
              0.6666666666666666,
              "#ed7953"
             ],
             [
              0.7777777777777778,
              "#fb9f3a"
             ],
             [
              0.8888888888888888,
              "#fdca26"
             ],
             [
              1,
              "#f0f921"
             ]
            ],
            "type": "surface"
           }
          ],
          "table": [
           {
            "cells": {
             "fill": {
              "color": "#EBF0F8"
             },
             "line": {
              "color": "white"
             }
            },
            "header": {
             "fill": {
              "color": "#C8D4E3"
             },
             "line": {
              "color": "white"
             }
            },
            "type": "table"
           }
          ]
         },
         "layout": {
          "annotationdefaults": {
           "arrowcolor": "#2a3f5f",
           "arrowhead": 0,
           "arrowwidth": 1
          },
          "autotypenumbers": "strict",
          "coloraxis": {
           "colorbar": {
            "outlinewidth": 0,
            "ticks": ""
           }
          },
          "colorscale": {
           "diverging": [
            [
             0,
             "#8e0152"
            ],
            [
             0.1,
             "#c51b7d"
            ],
            [
             0.2,
             "#de77ae"
            ],
            [
             0.3,
             "#f1b6da"
            ],
            [
             0.4,
             "#fde0ef"
            ],
            [
             0.5,
             "#f7f7f7"
            ],
            [
             0.6,
             "#e6f5d0"
            ],
            [
             0.7,
             "#b8e186"
            ],
            [
             0.8,
             "#7fbc41"
            ],
            [
             0.9,
             "#4d9221"
            ],
            [
             1,
             "#276419"
            ]
           ],
           "sequential": [
            [
             0,
             "#0d0887"
            ],
            [
             0.1111111111111111,
             "#46039f"
            ],
            [
             0.2222222222222222,
             "#7201a8"
            ],
            [
             0.3333333333333333,
             "#9c179e"
            ],
            [
             0.4444444444444444,
             "#bd3786"
            ],
            [
             0.5555555555555556,
             "#d8576b"
            ],
            [
             0.6666666666666666,
             "#ed7953"
            ],
            [
             0.7777777777777778,
             "#fb9f3a"
            ],
            [
             0.8888888888888888,
             "#fdca26"
            ],
            [
             1,
             "#f0f921"
            ]
           ],
           "sequentialminus": [
            [
             0,
             "#0d0887"
            ],
            [
             0.1111111111111111,
             "#46039f"
            ],
            [
             0.2222222222222222,
             "#7201a8"
            ],
            [
             0.3333333333333333,
             "#9c179e"
            ],
            [
             0.4444444444444444,
             "#bd3786"
            ],
            [
             0.5555555555555556,
             "#d8576b"
            ],
            [
             0.6666666666666666,
             "#ed7953"
            ],
            [
             0.7777777777777778,
             "#fb9f3a"
            ],
            [
             0.8888888888888888,
             "#fdca26"
            ],
            [
             1,
             "#f0f921"
            ]
           ]
          },
          "colorway": [
           "#636efa",
           "#EF553B",
           "#00cc96",
           "#ab63fa",
           "#FFA15A",
           "#19d3f3",
           "#FF6692",
           "#B6E880",
           "#FF97FF",
           "#FECB52"
          ],
          "font": {
           "color": "#2a3f5f"
          },
          "geo": {
           "bgcolor": "white",
           "lakecolor": "white",
           "landcolor": "#E5ECF6",
           "showlakes": true,
           "showland": true,
           "subunitcolor": "white"
          },
          "hoverlabel": {
           "align": "left"
          },
          "hovermode": "closest",
          "mapbox": {
           "style": "light"
          },
          "paper_bgcolor": "white",
          "plot_bgcolor": "#E5ECF6",
          "polar": {
           "angularaxis": {
            "gridcolor": "white",
            "linecolor": "white",
            "ticks": ""
           },
           "bgcolor": "#E5ECF6",
           "radialaxis": {
            "gridcolor": "white",
            "linecolor": "white",
            "ticks": ""
           }
          },
          "scene": {
           "xaxis": {
            "backgroundcolor": "#E5ECF6",
            "gridcolor": "white",
            "gridwidth": 2,
            "linecolor": "white",
            "showbackground": true,
            "ticks": "",
            "zerolinecolor": "white"
           },
           "yaxis": {
            "backgroundcolor": "#E5ECF6",
            "gridcolor": "white",
            "gridwidth": 2,
            "linecolor": "white",
            "showbackground": true,
            "ticks": "",
            "zerolinecolor": "white"
           },
           "zaxis": {
            "backgroundcolor": "#E5ECF6",
            "gridcolor": "white",
            "gridwidth": 2,
            "linecolor": "white",
            "showbackground": true,
            "ticks": "",
            "zerolinecolor": "white"
           }
          },
          "shapedefaults": {
           "line": {
            "color": "#2a3f5f"
           }
          },
          "ternary": {
           "aaxis": {
            "gridcolor": "white",
            "linecolor": "white",
            "ticks": ""
           },
           "baxis": {
            "gridcolor": "white",
            "linecolor": "white",
            "ticks": ""
           },
           "bgcolor": "#E5ECF6",
           "caxis": {
            "gridcolor": "white",
            "linecolor": "white",
            "ticks": ""
           }
          },
          "title": {
           "x": 0.05
          },
          "xaxis": {
           "automargin": true,
           "gridcolor": "white",
           "linecolor": "white",
           "ticks": "",
           "title": {
            "standoff": 15
           },
           "zerolinecolor": "white",
           "zerolinewidth": 2
          },
          "yaxis": {
           "automargin": true,
           "gridcolor": "white",
           "linecolor": "white",
           "ticks": "",
           "title": {
            "standoff": 15
           },
           "zerolinecolor": "white",
           "zerolinewidth": 2
          }
         }
        },
        "xaxis": {
         "anchor": "y",
         "domain": [
          0,
          1
         ],
         "title": {
          "text": "x"
         }
        },
        "yaxis": {
         "anchor": "x",
         "domain": [
          0,
          1
         ],
         "title": {
          "text": "y"
         }
        }
       },
       "_py2js_addTraces": {},
       "_py2js_animate": {},
       "_py2js_deleteTraces": {},
       "_py2js_moveTraces": {},
       "_py2js_removeLayoutProps": {},
       "_py2js_removeTraceProps": {},
       "_py2js_restyle": {},
       "_py2js_update": {},
       "_view_count": 1
      }
     },
     "1fc83873ebf9417eb58bca48c3cf4d36": {
      "model_module": "@jupyter-widgets/base",
      "model_module_version": "1.2.0",
      "model_name": "LayoutModel",
      "state": {}
     },
     "233b09bb02354ff3b8ab099d67dc4547": {
      "model_module": "@jupyter-widgets/controls",
      "model_module_version": "1.5.0",
      "model_name": "HBoxModel",
      "state": {
       "children": [
        "IPY_MODEL_d09ad7405e804e42b085e0d64462e10e",
        "IPY_MODEL_c91cc879c71f4a57802d1e865284c670"
       ],
       "layout": "IPY_MODEL_a75db97b304c4e98859ec395d57ae74b"
      }
     },
     "24063955b7d24d17a622ec8de257cf52": {
      "model_module": "@jupyter-widgets/base",
      "model_module_version": "1.2.0",
      "model_name": "LayoutModel",
      "state": {}
     },
     "25f2beb1a9f34ad38b7838109d3658ea": {
      "model_module": "@jupyter-widgets/controls",
      "model_module_version": "1.5.0",
      "model_name": "SliderStyleModel",
      "state": {
       "description_width": ""
      }
     },
     "26c88dab8e1247909e2b240dd5183cfa": {
      "model_module": "@jupyter-widgets/base",
      "model_module_version": "1.2.0",
      "model_name": "LayoutModel",
      "state": {}
     },
     "29e425d75e81469e8bf242ec5395a9eb": {
      "model_module": "@jupyter-widgets/output",
      "model_module_version": "1.0.0",
      "model_name": "OutputModel",
      "state": {
       "layout": "IPY_MODEL_95783df8408642ac92ca373c3c7ee523",
       "outputs": [
        {
         "ename": "KeyError",
         "evalue": "'Palabra clave'",
         "output_type": "error",
         "traceback": [
          "\u001b[1;31m---------------------------------------------------------------------------\u001b[0m",
          "\u001b[1;31mKeyError\u001b[0m                                  Traceback (most recent call last)",
          "\u001b[1;32mC:\\ProgramData\\Anaconda3\\lib\\site-packages\\pandas\\core\\indexes\\base.py\u001b[0m in \u001b[0;36mget_loc\u001b[1;34m(self, key, method, tolerance)\u001b[0m\n\u001b[0;32m   2894\u001b[0m             \u001b[1;32mtry\u001b[0m\u001b[1;33m:\u001b[0m\u001b[1;33m\u001b[0m\u001b[1;33m\u001b[0m\u001b[0m\n\u001b[1;32m-> 2895\u001b[1;33m                 \u001b[1;32mreturn\u001b[0m \u001b[0mself\u001b[0m\u001b[1;33m.\u001b[0m\u001b[0m_engine\u001b[0m\u001b[1;33m.\u001b[0m\u001b[0mget_loc\u001b[0m\u001b[1;33m(\u001b[0m\u001b[0mcasted_key\u001b[0m\u001b[1;33m)\u001b[0m\u001b[1;33m\u001b[0m\u001b[1;33m\u001b[0m\u001b[0m\n\u001b[0m\u001b[0;32m   2896\u001b[0m             \u001b[1;32mexcept\u001b[0m \u001b[0mKeyError\u001b[0m \u001b[1;32mas\u001b[0m \u001b[0merr\u001b[0m\u001b[1;33m:\u001b[0m\u001b[1;33m\u001b[0m\u001b[1;33m\u001b[0m\u001b[0m\n",
          "\u001b[1;32mpandas\\_libs\\index.pyx\u001b[0m in \u001b[0;36mpandas._libs.index.IndexEngine.get_loc\u001b[1;34m()\u001b[0m\n",
          "\u001b[1;32mpandas\\_libs\\index.pyx\u001b[0m in \u001b[0;36mpandas._libs.index.IndexEngine.get_loc\u001b[1;34m()\u001b[0m\n",
          "\u001b[1;32mpandas\\_libs\\hashtable_class_helper.pxi\u001b[0m in \u001b[0;36mpandas._libs.hashtable.PyObjectHashTable.get_item\u001b[1;34m()\u001b[0m\n",
          "\u001b[1;32mpandas\\_libs\\hashtable_class_helper.pxi\u001b[0m in \u001b[0;36mpandas._libs.hashtable.PyObjectHashTable.get_item\u001b[1;34m()\u001b[0m\n",
          "\u001b[1;31mKeyError\u001b[0m: 'Palabra clave'",
          "\nThe above exception was the direct cause of the following exception:\n",
          "\u001b[1;31mKeyError\u001b[0m                                  Traceback (most recent call last)",
          "\u001b[1;32mC:\\ProgramData\\Anaconda3\\lib\\site-packages\\ipywidgets\\widgets\\interaction.py\u001b[0m in \u001b[0;36mupdate\u001b[1;34m(self, *args)\u001b[0m\n\u001b[0;32m    254\u001b[0m                     \u001b[0mvalue\u001b[0m \u001b[1;33m=\u001b[0m \u001b[0mwidget\u001b[0m\u001b[1;33m.\u001b[0m\u001b[0mget_interact_value\u001b[0m\u001b[1;33m(\u001b[0m\u001b[1;33m)\u001b[0m\u001b[1;33m\u001b[0m\u001b[1;33m\u001b[0m\u001b[0m\n\u001b[0;32m    255\u001b[0m                     \u001b[0mself\u001b[0m\u001b[1;33m.\u001b[0m\u001b[0mkwargs\u001b[0m\u001b[1;33m[\u001b[0m\u001b[0mwidget\u001b[0m\u001b[1;33m.\u001b[0m\u001b[0m_kwarg\u001b[0m\u001b[1;33m]\u001b[0m \u001b[1;33m=\u001b[0m \u001b[0mvalue\u001b[0m\u001b[1;33m\u001b[0m\u001b[1;33m\u001b[0m\u001b[0m\n\u001b[1;32m--> 256\u001b[1;33m                 \u001b[0mself\u001b[0m\u001b[1;33m.\u001b[0m\u001b[0mresult\u001b[0m \u001b[1;33m=\u001b[0m \u001b[0mself\u001b[0m\u001b[1;33m.\u001b[0m\u001b[0mf\u001b[0m\u001b[1;33m(\u001b[0m\u001b[1;33m**\u001b[0m\u001b[0mself\u001b[0m\u001b[1;33m.\u001b[0m\u001b[0mkwargs\u001b[0m\u001b[1;33m)\u001b[0m\u001b[1;33m\u001b[0m\u001b[1;33m\u001b[0m\u001b[0m\n\u001b[0m\u001b[0;32m    257\u001b[0m                 \u001b[0mshow_inline_matplotlib_plots\u001b[0m\u001b[1;33m(\u001b[0m\u001b[1;33m)\u001b[0m\u001b[1;33m\u001b[0m\u001b[1;33m\u001b[0m\u001b[0m\n\u001b[0;32m    258\u001b[0m                 \u001b[1;32mif\u001b[0m \u001b[0mself\u001b[0m\u001b[1;33m.\u001b[0m\u001b[0mauto_display\u001b[0m \u001b[1;32mand\u001b[0m \u001b[0mself\u001b[0m\u001b[1;33m.\u001b[0m\u001b[0mresult\u001b[0m \u001b[1;32mis\u001b[0m \u001b[1;32mnot\u001b[0m \u001b[1;32mNone\u001b[0m\u001b[1;33m:\u001b[0m\u001b[1;33m\u001b[0m\u001b[1;33m\u001b[0m\u001b[0m\n",
          "\u001b[1;32m<ipython-input-24-ecfc06a8e6f7>\u001b[0m in \u001b[0;36mupdate_plot\u001b[1;34m(palabra_clave)\u001b[0m\n\u001b[0;32m      6\u001b[0m     fig.update_layout(\n\u001b[0;32m      7\u001b[0m                 title={\n\u001b[1;32m----> 8\u001b[1;33m                 \u001b[1;34m'text'\u001b[0m \u001b[1;33m:\u001b[0m \u001b[1;34m\"Las palabras claves de la fecha <b> \"\u001b[0m\u001b[1;33m+\u001b[0m \u001b[0mstr\u001b[0m\u001b[1;33m(\u001b[0m\u001b[0mtabla_dias\u001b[0m\u001b[1;33m[\u001b[0m\u001b[1;34m'Fecha'\u001b[0m\u001b[1;33m]\u001b[0m\u001b[1;33m[\u001b[0m\u001b[0mpalabra_clave\u001b[0m\u001b[1;33m]\u001b[0m\u001b[1;33m)\u001b[0m \u001b[1;33m+\u001b[0m\u001b[1;34m\"</b> son: \"\u001b[0m \u001b[1;33m+\u001b[0m \u001b[0msum\u001b[0m\u001b[1;33m(\u001b[0m\u001b[0mlist\u001b[0m\u001b[1;33m(\u001b[0m\u001b[0mtabla_dias\u001b[0m\u001b[1;33m[\u001b[0m\u001b[1;34m'Palabra clave'\u001b[0m\u001b[1;33m]\u001b[0m\u001b[1;33m[\u001b[0m\u001b[0mpalabra_clave\u001b[0m\u001b[1;33m]\u001b[0m\u001b[1;33m.\u001b[0m\u001b[0mkeys\u001b[0m\u001b[1;33m(\u001b[0m\u001b[1;33m)\u001b[0m\u001b[1;33m)\u001b[0m\u001b[1;33m)\u001b[0m\u001b[1;33m,\u001b[0m\u001b[1;33m\u001b[0m\u001b[1;33m\u001b[0m\u001b[0m\n\u001b[0m\u001b[0;32m      9\u001b[0m                 \u001b[1;34m'x'\u001b[0m\u001b[1;33m:\u001b[0m\u001b[1;36m0.5\u001b[0m\u001b[1;33m,\u001b[0m\u001b[1;33m\u001b[0m\u001b[1;33m\u001b[0m\u001b[0m\n\u001b[0;32m     10\u001b[0m                 \u001b[1;34m'xanchor'\u001b[0m\u001b[1;33m:\u001b[0m \u001b[1;34m'center'\u001b[0m\u001b[1;33m,\u001b[0m\u001b[1;33m\u001b[0m\u001b[1;33m\u001b[0m\u001b[0m\n",
          "\u001b[1;32mC:\\ProgramData\\Anaconda3\\lib\\site-packages\\pandas\\core\\frame.py\u001b[0m in \u001b[0;36m__getitem__\u001b[1;34m(self, key)\u001b[0m\n\u001b[0;32m   2900\u001b[0m             \u001b[1;32mif\u001b[0m \u001b[0mself\u001b[0m\u001b[1;33m.\u001b[0m\u001b[0mcolumns\u001b[0m\u001b[1;33m.\u001b[0m\u001b[0mnlevels\u001b[0m \u001b[1;33m>\u001b[0m \u001b[1;36m1\u001b[0m\u001b[1;33m:\u001b[0m\u001b[1;33m\u001b[0m\u001b[1;33m\u001b[0m\u001b[0m\n\u001b[0;32m   2901\u001b[0m                 \u001b[1;32mreturn\u001b[0m \u001b[0mself\u001b[0m\u001b[1;33m.\u001b[0m\u001b[0m_getitem_multilevel\u001b[0m\u001b[1;33m(\u001b[0m\u001b[0mkey\u001b[0m\u001b[1;33m)\u001b[0m\u001b[1;33m\u001b[0m\u001b[1;33m\u001b[0m\u001b[0m\n\u001b[1;32m-> 2902\u001b[1;33m             \u001b[0mindexer\u001b[0m \u001b[1;33m=\u001b[0m \u001b[0mself\u001b[0m\u001b[1;33m.\u001b[0m\u001b[0mcolumns\u001b[0m\u001b[1;33m.\u001b[0m\u001b[0mget_loc\u001b[0m\u001b[1;33m(\u001b[0m\u001b[0mkey\u001b[0m\u001b[1;33m)\u001b[0m\u001b[1;33m\u001b[0m\u001b[1;33m\u001b[0m\u001b[0m\n\u001b[0m\u001b[0;32m   2903\u001b[0m             \u001b[1;32mif\u001b[0m \u001b[0mis_integer\u001b[0m\u001b[1;33m(\u001b[0m\u001b[0mindexer\u001b[0m\u001b[1;33m)\u001b[0m\u001b[1;33m:\u001b[0m\u001b[1;33m\u001b[0m\u001b[1;33m\u001b[0m\u001b[0m\n\u001b[0;32m   2904\u001b[0m                 \u001b[0mindexer\u001b[0m \u001b[1;33m=\u001b[0m \u001b[1;33m[\u001b[0m\u001b[0mindexer\u001b[0m\u001b[1;33m]\u001b[0m\u001b[1;33m\u001b[0m\u001b[1;33m\u001b[0m\u001b[0m\n",
          "\u001b[1;32mC:\\ProgramData\\Anaconda3\\lib\\site-packages\\pandas\\core\\indexes\\base.py\u001b[0m in \u001b[0;36mget_loc\u001b[1;34m(self, key, method, tolerance)\u001b[0m\n\u001b[0;32m   2895\u001b[0m                 \u001b[1;32mreturn\u001b[0m \u001b[0mself\u001b[0m\u001b[1;33m.\u001b[0m\u001b[0m_engine\u001b[0m\u001b[1;33m.\u001b[0m\u001b[0mget_loc\u001b[0m\u001b[1;33m(\u001b[0m\u001b[0mcasted_key\u001b[0m\u001b[1;33m)\u001b[0m\u001b[1;33m\u001b[0m\u001b[1;33m\u001b[0m\u001b[0m\n\u001b[0;32m   2896\u001b[0m             \u001b[1;32mexcept\u001b[0m \u001b[0mKeyError\u001b[0m \u001b[1;32mas\u001b[0m \u001b[0merr\u001b[0m\u001b[1;33m:\u001b[0m\u001b[1;33m\u001b[0m\u001b[1;33m\u001b[0m\u001b[0m\n\u001b[1;32m-> 2897\u001b[1;33m                 \u001b[1;32mraise\u001b[0m \u001b[0mKeyError\u001b[0m\u001b[1;33m(\u001b[0m\u001b[0mkey\u001b[0m\u001b[1;33m)\u001b[0m \u001b[1;32mfrom\u001b[0m \u001b[0merr\u001b[0m\u001b[1;33m\u001b[0m\u001b[1;33m\u001b[0m\u001b[0m\n\u001b[0m\u001b[0;32m   2898\u001b[0m \u001b[1;33m\u001b[0m\u001b[0m\n\u001b[0;32m   2899\u001b[0m         \u001b[1;32mif\u001b[0m \u001b[0mtolerance\u001b[0m \u001b[1;32mis\u001b[0m \u001b[1;32mnot\u001b[0m \u001b[1;32mNone\u001b[0m\u001b[1;33m:\u001b[0m\u001b[1;33m\u001b[0m\u001b[1;33m\u001b[0m\u001b[0m\n",
          "\u001b[1;31mKeyError\u001b[0m: 'Palabra clave'"
         ]
        }
       ]
      }
     },
     "32f4bb0850ff4a6e99d54cfb984ea2e4": {
      "model_module": "@jupyter-widgets/controls",
      "model_module_version": "1.5.0",
      "model_name": "FloatProgressModel",
      "state": {
       "bar_style": "danger",
       "layout": "IPY_MODEL_3e4d87aa6c2d43fe81b4122d20b69d59",
       "max": 27,
       "style": "IPY_MODEL_4dc58ca67fad43e6b2acd7aaa3ca6146",
       "value": 10
      }
     },
     "35be34a6486d4aababc57f620058680b": {
      "model_module": "@jupyter-widgets/controls",
      "model_module_version": "1.5.0",
      "model_name": "DescriptionStyleModel",
      "state": {
       "description_width": ""
      }
     },
     "36545eadb8c04f9fa824a827354e859a": {
      "model_module": "@jupyter-widgets/controls",
      "model_module_version": "1.5.0",
      "model_name": "DescriptionStyleModel",
      "state": {
       "description_width": ""
      }
     },
     "36747146865a44cdab22cdb5a273886e": {
      "model_module": "@jupyter-widgets/base",
      "model_module_version": "1.2.0",
      "model_name": "LayoutModel",
      "state": {}
     },
     "36cf4a7e943849b9b1735f91bb66ce7a": {
      "model_module": "@jupyter-widgets/output",
      "model_module_version": "1.0.0",
      "model_name": "OutputModel",
      "state": {
       "layout": "IPY_MODEL_26c88dab8e1247909e2b240dd5183cfa",
       "outputs": [
        {
         "data": {
          "application/vnd.plotly.v1+json": {
           "config": {
            "plotlyServerURL": "https://plot.ly"
           },
           "data": [
            {
             "mode": "lines",
             "name": "sospecha",
             "type": "scatter",
             "x": [
              "2020-08-14",
              "2020-08-17",
              "2020-08-18",
              "2020-08-19",
              "2020-08-20",
              "2020-08-21",
              "2020-08-22",
              "2020-08-23",
              "2020-08-24",
              "2020-08-25",
              "2020-08-26",
              "2020-08-27",
              "2020-08-28",
              "2020-08-29",
              "2020-08-30",
              "2020-08-31",
              "2020-09-01",
              "2020-09-02",
              "2020-09-03",
              "2020-09-04",
              "2020-09-07",
              "2020-09-08",
              "2020-09-09",
              "2020-09-10",
              "2020-09-11",
              "2020-09-12",
              "2020-09-15",
              "2020-09-16",
              "2020-09-17",
              "2020-09-18",
              "2020-09-19",
              "2020-09-21",
              "2020-09-22",
              "2020-09-23",
              "2020-09-24",
              "2020-09-25",
              "2020-09-26",
              "2020-09-27",
              "2020-09-28",
              "2020-09-29",
              "2020-09-30",
              "2020-10-01",
              "2020-10-02",
              "2020-10-03",
              "2020-10-05",
              "2020-10-06",
              "2020-10-07",
              "2020-10-08",
              "2020-10-09",
              "2020-10-10",
              "2020-10-13",
              "2020-10-14",
              "2020-10-15",
              "2020-10-16",
              "2020-10-17",
              "2020-10-19",
              "2020-10-20",
              "2020-10-21",
              "2020-10-22",
              "2020-10-23",
              "2020-10-24",
              "2020-10-25",
              "2020-10-26",
              "2020-10-27",
              "2020-10-28",
              "2020-11-06",
              "2020-11-07",
              "2020-11-08",
              "2020-11-09",
              "2020-11-10",
              "2020-11-11",
              "2020-11-12",
              "2020-11-13",
              "2020-11-14",
              "2020-11-15",
              "2020-11-16",
              "2020-11-17",
              "2020-11-18",
              "2020-11-19",
              "2020-11-20",
              "2020-11-21",
              "2020-11-23",
              "2020-11-24",
              "2020-11-25",
              "2020-11-26",
              "2020-11-27",
              "2020-11-28",
              "2020-11-29",
              "2020-11-30",
              "2020-12-01",
              "2020-12-02",
              "2020-12-03",
              "2020-12-04",
              "2020-12-05",
              "2020-12-07",
              "2020-12-09",
              "2020-12-10",
              "2020-12-11",
              "2020-12-12",
              "2020-12-13",
              "2020-12-17",
              "2020-12-18",
              "2020-12-19",
              "2020-12-24",
              "2020-12-28",
              "2020-12-29",
              "2020-12-30",
              "2020-12-31",
              "2021-01-04",
              "2021-01-05",
              "2021-01-06",
              "2021-01-07",
              "2021-01-08",
              "2021-01-10",
              "2021-01-12",
              "2021-01-13",
              "2021-01-14",
              "2021-01-15",
              "2021-01-17",
              "2021-01-18",
              "2021-01-20",
              "2021-01-21",
              "2021-01-22",
              "2021-02-05",
              "2021-02-06",
              "2021-02-09",
              "2021-02-10",
              "2021-02-11",
              "2021-02-12",
              "2021-02-14",
              "2021-02-15",
              "2021-02-16",
              "2021-02-17",
              "2021-02-18",
              "2021-02-19",
              "2021-02-20",
              "2021-02-22",
              "2021-02-23",
              "2021-02-24",
              "2021-02-25",
              "2021-02-26",
              "2021-02-27",
              "2021-03-01",
              "2021-03-02",
              "2021-03-03",
              "2021-03-04",
              "2021-03-05",
              "2021-03-08",
              "2021-03-09",
              "2021-03-11",
              "2021-03-15",
              "2021-03-16",
              "2021-03-17",
              "2021-03-25",
              "2021-03-26",
              "2021-03-27",
              "2021-03-29",
              "2021-04-04",
              "2021-04-05",
              "2021-04-06",
              "2021-04-07",
              "2021-04-08",
              "2021-04-09",
              "2021-04-10",
              "2021-04-12",
              "2021-04-21",
              "2021-04-22",
              "2021-04-23",
              "2021-04-26",
              "2021-04-27",
              "2021-04-28",
              "2021-04-30",
              "2021-05-01",
              "2021-05-02",
              "2021-05-03",
              "2021-05-04",
              "2021-05-05",
              "2021-05-07",
              "2021-05-08",
              "2021-05-09",
              "2021-05-10",
              "2021-05-11",
              "2021-05-12",
              "2021-05-13",
              "2021-05-14",
              "2021-05-17",
              "2021-05-18",
              "2021-05-19",
              "2021-05-21",
              "2021-05-25",
              "2021-05-26",
              "2021-05-27",
              "2021-05-28",
              "2021-05-31",
              "2021-06-01",
              "2021-06-03",
              "2021-06-04",
              "2021-06-05",
              "2021-06-06"
             ],
             "y": [
              13,
              13,
              13,
              13,
              13,
              13,
              13,
              13,
              13,
              13,
              13,
              13,
              13,
              13,
              13,
              13,
              13,
              13,
              13,
              13,
              13,
              13,
              13,
              13,
              13,
              13,
              13,
              13,
              13,
              13,
              13,
              13,
              13,
              13,
              13,
              13,
              13,
              13,
              13,
              13,
              13,
              13,
              13,
              14,
              14,
              14,
              15,
              15,
              15,
              15,
              15,
              15,
              16,
              16,
              16,
              16,
              16,
              16,
              16,
              16,
              16,
              16,
              16,
              16,
              16,
              16,
              16,
              16,
              16,
              16,
              16,
              16,
              16,
              16,
              16,
              16,
              16,
              16,
              16,
              17,
              17,
              17,
              17,
              17,
              17,
              17,
              17,
              17,
              17,
              17,
              17,
              17,
              17,
              17,
              17,
              18,
              19,
              19,
              19,
              19,
              19,
              19,
              19,
              19,
              19,
              19,
              19,
              19,
              19,
              19,
              19,
              19,
              19,
              19,
              19,
              19,
              19,
              19,
              19,
              19,
              19,
              19,
              19,
              21,
              21,
              21,
              21,
              21,
              21,
              21,
              21,
              21,
              21,
              21,
              21,
              21,
              21,
              21,
              21,
              21,
              21,
              21,
              21,
              21,
              21,
              21,
              21,
              21,
              21,
              21,
              21,
              21,
              21,
              21,
              21,
              21,
              21,
              21,
              21,
              21,
              21,
              21,
              21,
              21,
              21,
              21,
              21,
              21,
              21,
              21,
              21,
              21,
              21,
              21,
              21,
              21,
              21,
              21,
              21,
              21,
              21,
              21,
              21,
              21,
              21,
              21,
              21,
              21,
              21,
              21,
              21,
              21,
              21,
              21,
              21,
              21,
              21,
              21,
              21
             ]
            },
            {
             "mode": "lines",
             "name": "minas",
             "type": "scatter",
             "x": [
              "2020-08-14",
              "2020-08-17",
              "2020-08-18",
              "2020-08-19",
              "2020-08-20",
              "2020-08-21",
              "2020-08-22",
              "2020-08-23",
              "2020-08-24",
              "2020-08-25",
              "2020-08-26",
              "2020-08-27",
              "2020-08-28",
              "2020-08-29",
              "2020-08-30",
              "2020-08-31",
              "2020-09-01",
              "2020-09-02",
              "2020-09-03",
              "2020-09-04",
              "2020-09-07",
              "2020-09-08",
              "2020-09-09",
              "2020-09-10",
              "2020-09-11",
              "2020-09-12",
              "2020-09-15",
              "2020-09-16",
              "2020-09-17",
              "2020-09-18",
              "2020-09-19",
              "2020-09-21",
              "2020-09-22",
              "2020-09-23",
              "2020-09-24",
              "2020-09-25",
              "2020-09-26",
              "2020-09-27",
              "2020-09-28",
              "2020-09-29",
              "2020-09-30",
              "2020-10-01",
              "2020-10-02",
              "2020-10-03",
              "2020-10-05",
              "2020-10-06",
              "2020-10-07",
              "2020-10-08",
              "2020-10-09",
              "2020-10-10",
              "2020-10-13",
              "2020-10-14",
              "2020-10-15",
              "2020-10-16",
              "2020-10-17",
              "2020-10-19",
              "2020-10-20",
              "2020-10-21",
              "2020-10-22",
              "2020-10-23",
              "2020-10-24",
              "2020-10-25",
              "2020-10-26",
              "2020-10-27",
              "2020-10-28",
              "2020-11-06",
              "2020-11-07",
              "2020-11-08",
              "2020-11-09",
              "2020-11-10",
              "2020-11-11",
              "2020-11-12",
              "2020-11-13",
              "2020-11-14",
              "2020-11-15",
              "2020-11-16",
              "2020-11-17",
              "2020-11-18",
              "2020-11-19",
              "2020-11-20",
              "2020-11-21",
              "2020-11-23",
              "2020-11-24",
              "2020-11-25",
              "2020-11-26",
              "2020-11-27",
              "2020-11-28",
              "2020-11-29",
              "2020-11-30",
              "2020-12-01",
              "2020-12-02",
              "2020-12-03",
              "2020-12-04",
              "2020-12-05",
              "2020-12-07",
              "2020-12-09",
              "2020-12-10",
              "2020-12-11",
              "2020-12-12",
              "2020-12-13",
              "2020-12-17",
              "2020-12-18",
              "2020-12-19",
              "2020-12-24",
              "2020-12-28",
              "2020-12-29",
              "2020-12-30",
              "2020-12-31",
              "2021-01-04",
              "2021-01-05",
              "2021-01-06",
              "2021-01-07",
              "2021-01-08",
              "2021-01-10",
              "2021-01-12",
              "2021-01-13",
              "2021-01-14",
              "2021-01-15",
              "2021-01-17",
              "2021-01-18",
              "2021-01-20",
              "2021-01-21",
              "2021-01-22",
              "2021-02-05",
              "2021-02-06",
              "2021-02-09",
              "2021-02-10",
              "2021-02-11",
              "2021-02-12",
              "2021-02-14",
              "2021-02-15",
              "2021-02-16",
              "2021-02-17",
              "2021-02-18",
              "2021-02-19",
              "2021-02-20",
              "2021-02-22",
              "2021-02-23",
              "2021-02-24",
              "2021-02-25",
              "2021-02-26",
              "2021-02-27",
              "2021-03-01",
              "2021-03-02",
              "2021-03-03",
              "2021-03-04",
              "2021-03-05",
              "2021-03-08",
              "2021-03-09",
              "2021-03-11",
              "2021-03-15",
              "2021-03-16",
              "2021-03-17",
              "2021-03-25",
              "2021-03-26",
              "2021-03-27",
              "2021-03-29",
              "2021-04-04",
              "2021-04-05",
              "2021-04-06",
              "2021-04-07",
              "2021-04-08",
              "2021-04-09",
              "2021-04-10",
              "2021-04-12",
              "2021-04-21",
              "2021-04-22",
              "2021-04-23",
              "2021-04-26",
              "2021-04-27",
              "2021-04-28",
              "2021-04-30",
              "2021-05-01",
              "2021-05-02",
              "2021-05-03",
              "2021-05-04",
              "2021-05-05",
              "2021-05-07",
              "2021-05-08",
              "2021-05-09",
              "2021-05-10",
              "2021-05-11",
              "2021-05-12",
              "2021-05-13",
              "2021-05-14",
              "2021-05-17",
              "2021-05-18",
              "2021-05-19",
              "2021-05-21",
              "2021-05-25",
              "2021-05-26",
              "2021-05-27",
              "2021-05-28",
              "2021-05-31",
              "2021-06-01",
              "2021-06-03",
              "2021-06-04",
              "2021-06-05",
              "2021-06-06"
             ],
             "y": [
              14,
              14,
              14,
              14,
              14,
              14,
              14,
              17,
              17,
              22,
              23,
              23,
              24,
              24,
              25,
              25,
              25,
              25,
              26,
              26,
              26,
              28,
              28,
              28,
              28,
              28,
              28,
              28,
              28,
              28,
              28,
              28,
              28,
              28,
              28,
              28,
              29,
              29,
              29,
              29,
              30,
              30,
              30,
              30,
              30,
              32,
              33,
              34,
              35,
              35,
              35,
              35,
              36,
              36,
              36,
              36,
              36,
              36,
              37,
              41,
              41,
              41,
              41,
              41,
              43,
              43,
              49,
              49,
              49,
              51,
              51,
              51,
              51,
              51,
              51,
              52,
              52,
              52,
              52,
              54,
              54,
              54,
              56,
              57,
              58,
              58,
              62,
              62,
              62,
              62,
              62,
              63,
              63,
              63,
              63,
              64,
              66,
              66,
              66,
              66,
              66,
              66,
              66,
              66,
              66,
              66,
              66,
              66,
              66,
              66,
              66,
              66,
              67,
              67,
              68,
              68,
              68,
              68,
              68,
              69,
              69,
              70,
              80,
              84,
              88,
              88,
              88,
              88,
              92,
              92,
              92,
              92,
              94,
              94,
              94,
              94,
              94,
              94,
              94,
              94,
              95,
              96,
              96,
              97,
              97,
              97,
              97,
              97,
              98,
              98,
              98,
              98,
              98,
              98,
              98,
              98,
              98,
              98,
              98,
              98,
              98,
              98,
              98,
              98,
              100,
              100,
              100,
              100,
              100,
              102,
              102,
              102,
              102,
              102,
              102,
              102,
              102,
              102,
              102,
              102,
              102,
              102,
              102,
              102,
              102,
              102,
              102,
              102,
              102,
              102,
              102,
              102,
              102,
              102,
              102,
              102,
              102,
              102,
              102
             ]
            },
            {
             "mode": "lines",
             "name": "antipersona",
             "type": "scatter",
             "x": [
              "2020-08-14",
              "2020-08-17",
              "2020-08-18",
              "2020-08-19",
              "2020-08-20",
              "2020-08-21",
              "2020-08-22",
              "2020-08-23",
              "2020-08-24",
              "2020-08-25",
              "2020-08-26",
              "2020-08-27",
              "2020-08-28",
              "2020-08-29",
              "2020-08-30",
              "2020-08-31",
              "2020-09-01",
              "2020-09-02",
              "2020-09-03",
              "2020-09-04",
              "2020-09-07",
              "2020-09-08",
              "2020-09-09",
              "2020-09-10",
              "2020-09-11",
              "2020-09-12",
              "2020-09-15",
              "2020-09-16",
              "2020-09-17",
              "2020-09-18",
              "2020-09-19",
              "2020-09-21",
              "2020-09-22",
              "2020-09-23",
              "2020-09-24",
              "2020-09-25",
              "2020-09-26",
              "2020-09-27",
              "2020-09-28",
              "2020-09-29",
              "2020-09-30",
              "2020-10-01",
              "2020-10-02",
              "2020-10-03",
              "2020-10-05",
              "2020-10-06",
              "2020-10-07",
              "2020-10-08",
              "2020-10-09",
              "2020-10-10",
              "2020-10-13",
              "2020-10-14",
              "2020-10-15",
              "2020-10-16",
              "2020-10-17",
              "2020-10-19",
              "2020-10-20",
              "2020-10-21",
              "2020-10-22",
              "2020-10-23",
              "2020-10-24",
              "2020-10-25",
              "2020-10-26",
              "2020-10-27",
              "2020-10-28",
              "2020-11-06",
              "2020-11-07",
              "2020-11-08",
              "2020-11-09",
              "2020-11-10",
              "2020-11-11",
              "2020-11-12",
              "2020-11-13",
              "2020-11-14",
              "2020-11-15",
              "2020-11-16",
              "2020-11-17",
              "2020-11-18",
              "2020-11-19",
              "2020-11-20",
              "2020-11-21",
              "2020-11-23",
              "2020-11-24",
              "2020-11-25",
              "2020-11-26",
              "2020-11-27",
              "2020-11-28",
              "2020-11-29",
              "2020-11-30",
              "2020-12-01",
              "2020-12-02",
              "2020-12-03",
              "2020-12-04",
              "2020-12-05",
              "2020-12-07",
              "2020-12-09",
              "2020-12-10",
              "2020-12-11",
              "2020-12-12",
              "2020-12-13",
              "2020-12-17",
              "2020-12-18",
              "2020-12-19",
              "2020-12-24",
              "2020-12-28",
              "2020-12-29",
              "2020-12-30",
              "2020-12-31",
              "2021-01-04",
              "2021-01-05",
              "2021-01-06",
              "2021-01-07",
              "2021-01-08",
              "2021-01-10",
              "2021-01-12",
              "2021-01-13",
              "2021-01-14",
              "2021-01-15",
              "2021-01-17",
              "2021-01-18",
              "2021-01-20",
              "2021-01-21",
              "2021-01-22",
              "2021-02-05",
              "2021-02-06",
              "2021-02-09",
              "2021-02-10",
              "2021-02-11",
              "2021-02-12",
              "2021-02-14",
              "2021-02-15",
              "2021-02-16",
              "2021-02-17",
              "2021-02-18",
              "2021-02-19",
              "2021-02-20",
              "2021-02-22",
              "2021-02-23",
              "2021-02-24",
              "2021-02-25",
              "2021-02-26",
              "2021-02-27",
              "2021-03-01",
              "2021-03-02",
              "2021-03-03",
              "2021-03-04",
              "2021-03-05",
              "2021-03-08",
              "2021-03-09",
              "2021-03-11",
              "2021-03-15",
              "2021-03-16",
              "2021-03-17",
              "2021-03-25",
              "2021-03-26",
              "2021-03-27",
              "2021-03-29",
              "2021-04-04",
              "2021-04-05",
              "2021-04-06",
              "2021-04-07",
              "2021-04-08",
              "2021-04-09",
              "2021-04-10",
              "2021-04-12",
              "2021-04-21",
              "2021-04-22",
              "2021-04-23",
              "2021-04-26",
              "2021-04-27",
              "2021-04-28",
              "2021-04-30",
              "2021-05-01",
              "2021-05-02",
              "2021-05-03",
              "2021-05-04",
              "2021-05-05",
              "2021-05-07",
              "2021-05-08",
              "2021-05-09",
              "2021-05-10",
              "2021-05-11",
              "2021-05-12",
              "2021-05-13",
              "2021-05-14",
              "2021-05-17",
              "2021-05-18",
              "2021-05-19",
              "2021-05-21",
              "2021-05-25",
              "2021-05-26",
              "2021-05-27",
              "2021-05-28",
              "2021-05-31",
              "2021-06-01",
              "2021-06-03",
              "2021-06-04",
              "2021-06-05",
              "2021-06-06"
             ],
             "y": [
              13,
              13,
              13,
              13,
              13,
              13,
              13,
              13,
              13,
              13,
              13,
              13,
              13,
              13,
              13,
              13,
              13,
              13,
              13,
              13,
              13,
              13,
              13,
              13,
              13,
              13,
              13,
              13,
              13,
              13,
              13,
              13,
              13,
              13,
              13,
              13,
              13,
              13,
              13,
              13,
              13,
              13,
              13,
              13,
              13,
              13,
              13,
              13,
              13,
              13,
              13,
              13,
              14,
              14,
              14,
              14,
              14,
              14,
              14,
              14,
              14,
              14,
              14,
              14,
              14,
              14,
              14,
              14,
              14,
              14,
              14,
              14,
              14,
              14,
              14,
              14,
              14,
              14,
              14,
              14,
              14,
              14,
              14,
              15,
              15,
              15,
              16,
              16,
              16,
              16,
              16,
              16,
              16,
              16,
              16,
              17,
              18,
              18,
              18,
              18,
              18,
              18,
              18,
              18,
              18,
              18,
              18,
              18,
              18,
              18,
              18,
              18,
              18,
              18,
              18,
              18,
              18,
              18,
              18,
              18,
              18,
              18,
              18,
              22,
              26,
              26,
              26,
              26,
              28,
              28,
              28,
              28,
              30,
              30,
              30,
              30,
              30,
              30,
              30,
              30,
              31,
              31,
              31,
              31,
              31,
              31,
              31,
              31,
              31,
              31,
              31,
              31,
              31,
              31,
              31,
              31,
              31,
              31,
              31,
              31,
              31,
              31,
              31,
              31,
              31,
              31,
              31,
              31,
              31,
              31,
              31,
              31,
              31,
              31,
              31,
              31,
              31,
              31,
              31,
              31,
              31,
              31,
              31,
              31,
              31,
              31,
              31,
              31,
              31,
              31,
              31,
              31,
              31,
              31,
              31,
              31,
              31,
              31,
              31
             ]
            },
            {
             "mode": "lines",
             "name": "liberados",
             "type": "scatter",
             "x": [
              "2020-08-14",
              "2020-08-17",
              "2020-08-18",
              "2020-08-19",
              "2020-08-20",
              "2020-08-21",
              "2020-08-22",
              "2020-08-23",
              "2020-08-24",
              "2020-08-25",
              "2020-08-26",
              "2020-08-27",
              "2020-08-28",
              "2020-08-29",
              "2020-08-30",
              "2020-08-31",
              "2020-09-01",
              "2020-09-02",
              "2020-09-03",
              "2020-09-04",
              "2020-09-07",
              "2020-09-08",
              "2020-09-09",
              "2020-09-10",
              "2020-09-11",
              "2020-09-12",
              "2020-09-15",
              "2020-09-16",
              "2020-09-17",
              "2020-09-18",
              "2020-09-19",
              "2020-09-21",
              "2020-09-22",
              "2020-09-23",
              "2020-09-24",
              "2020-09-25",
              "2020-09-26",
              "2020-09-27",
              "2020-09-28",
              "2020-09-29",
              "2020-09-30",
              "2020-10-01",
              "2020-10-02",
              "2020-10-03",
              "2020-10-05",
              "2020-10-06",
              "2020-10-07",
              "2020-10-08",
              "2020-10-09",
              "2020-10-10",
              "2020-10-13",
              "2020-10-14",
              "2020-10-15",
              "2020-10-16",
              "2020-10-17",
              "2020-10-19",
              "2020-10-20",
              "2020-10-21",
              "2020-10-22",
              "2020-10-23",
              "2020-10-24",
              "2020-10-25",
              "2020-10-26",
              "2020-10-27",
              "2020-10-28",
              "2020-11-06",
              "2020-11-07",
              "2020-11-08",
              "2020-11-09",
              "2020-11-10",
              "2020-11-11",
              "2020-11-12",
              "2020-11-13",
              "2020-11-14",
              "2020-11-15",
              "2020-11-16",
              "2020-11-17",
              "2020-11-18",
              "2020-11-19",
              "2020-11-20",
              "2020-11-21",
              "2020-11-23",
              "2020-11-24",
              "2020-11-25",
              "2020-11-26",
              "2020-11-27",
              "2020-11-28",
              "2020-11-29",
              "2020-11-30",
              "2020-12-01",
              "2020-12-02",
              "2020-12-03",
              "2020-12-04",
              "2020-12-05",
              "2020-12-07",
              "2020-12-09",
              "2020-12-10",
              "2020-12-11",
              "2020-12-12",
              "2020-12-13",
              "2020-12-17",
              "2020-12-18",
              "2020-12-19",
              "2020-12-24",
              "2020-12-28",
              "2020-12-29",
              "2020-12-30",
              "2020-12-31",
              "2021-01-04",
              "2021-01-05",
              "2021-01-06",
              "2021-01-07",
              "2021-01-08",
              "2021-01-10",
              "2021-01-12",
              "2021-01-13",
              "2021-01-14",
              "2021-01-15",
              "2021-01-17",
              "2021-01-18",
              "2021-01-20",
              "2021-01-21",
              "2021-01-22",
              "2021-02-05",
              "2021-02-06",
              "2021-02-09",
              "2021-02-10",
              "2021-02-11",
              "2021-02-12",
              "2021-02-14",
              "2021-02-15",
              "2021-02-16",
              "2021-02-17",
              "2021-02-18",
              "2021-02-19",
              "2021-02-20",
              "2021-02-22",
              "2021-02-23",
              "2021-02-24",
              "2021-02-25",
              "2021-02-26",
              "2021-02-27",
              "2021-03-01",
              "2021-03-02",
              "2021-03-03",
              "2021-03-04",
              "2021-03-05",
              "2021-03-08",
              "2021-03-09",
              "2021-03-11",
              "2021-03-15",
              "2021-03-16",
              "2021-03-17",
              "2021-03-25",
              "2021-03-26",
              "2021-03-27",
              "2021-03-29",
              "2021-04-04",
              "2021-04-05",
              "2021-04-06",
              "2021-04-07",
              "2021-04-08",
              "2021-04-09",
              "2021-04-10",
              "2021-04-12",
              "2021-04-21",
              "2021-04-22",
              "2021-04-23",
              "2021-04-26",
              "2021-04-27",
              "2021-04-28",
              "2021-04-30",
              "2021-05-01",
              "2021-05-02",
              "2021-05-03",
              "2021-05-04",
              "2021-05-05",
              "2021-05-07",
              "2021-05-08",
              "2021-05-09",
              "2021-05-10",
              "2021-05-11",
              "2021-05-12",
              "2021-05-13",
              "2021-05-14",
              "2021-05-17",
              "2021-05-18",
              "2021-05-19",
              "2021-05-21",
              "2021-05-25",
              "2021-05-26",
              "2021-05-27",
              "2021-05-28",
              "2021-05-31",
              "2021-06-01",
              "2021-06-03",
              "2021-06-04",
              "2021-06-05",
              "2021-06-06"
             ],
             "y": [
              5,
              5,
              5,
              5,
              5,
              5,
              5,
              5,
              5,
              5,
              5,
              5,
              5,
              5,
              5,
              5,
              5,
              5,
              5,
              5,
              5,
              5,
              5,
              5,
              5,
              5,
              5,
              5,
              5,
              5,
              5,
              5,
              5,
              5,
              5,
              5,
              5,
              5,
              5,
              5,
              5,
              5,
              5,
              5,
              5,
              5,
              5,
              5,
              5,
              5,
              5,
              5,
              5,
              5,
              5,
              5,
              5,
              5,
              5,
              5,
              5,
              5,
              5,
              5,
              5,
              5,
              5,
              5,
              5,
              5,
              5,
              5,
              5,
              5,
              5,
              5,
              5,
              5,
              5,
              5,
              5,
              5,
              5,
              5,
              5,
              5,
              5,
              5,
              5,
              5,
              5,
              5,
              5,
              5,
              5,
              5,
              5,
              5,
              5,
              5,
              5,
              5,
              5,
              5,
              5,
              5,
              5,
              5,
              5,
              5,
              5,
              5,
              5,
              5,
              5,
              5,
              5,
              5,
              5,
              5,
              5,
              5,
              5,
              5,
              5,
              5,
              5,
              5,
              5,
              5,
              5,
              5,
              5,
              5,
              5,
              5,
              5,
              5,
              5,
              5,
              5,
              5,
              5,
              5,
              5,
              5,
              5,
              5,
              5,
              5,
              5,
              5,
              5,
              5,
              5,
              5,
              5,
              5,
              5,
              5,
              5,
              5,
              5,
              5,
              5,
              5,
              5,
              5,
              5,
              5,
              5,
              5,
              5,
              5,
              5,
              5,
              5,
              5,
              5,
              5,
              5,
              5,
              5,
              5,
              5,
              5,
              5,
              5,
              5,
              5,
              5,
              5,
              5,
              5,
              5,
              5,
              5,
              5,
              5
             ]
            },
            {
             "mode": "lines",
             "name": "municipios",
             "type": "scatter",
             "x": [
              "2020-08-14",
              "2020-08-17",
              "2020-08-18",
              "2020-08-19",
              "2020-08-20",
              "2020-08-21",
              "2020-08-22",
              "2020-08-23",
              "2020-08-24",
              "2020-08-25",
              "2020-08-26",
              "2020-08-27",
              "2020-08-28",
              "2020-08-29",
              "2020-08-30",
              "2020-08-31",
              "2020-09-01",
              "2020-09-02",
              "2020-09-03",
              "2020-09-04",
              "2020-09-07",
              "2020-09-08",
              "2020-09-09",
              "2020-09-10",
              "2020-09-11",
              "2020-09-12",
              "2020-09-15",
              "2020-09-16",
              "2020-09-17",
              "2020-09-18",
              "2020-09-19",
              "2020-09-21",
              "2020-09-22",
              "2020-09-23",
              "2020-09-24",
              "2020-09-25",
              "2020-09-26",
              "2020-09-27",
              "2020-09-28",
              "2020-09-29",
              "2020-09-30",
              "2020-10-01",
              "2020-10-02",
              "2020-10-03",
              "2020-10-05",
              "2020-10-06",
              "2020-10-07",
              "2020-10-08",
              "2020-10-09",
              "2020-10-10",
              "2020-10-13",
              "2020-10-14",
              "2020-10-15",
              "2020-10-16",
              "2020-10-17",
              "2020-10-19",
              "2020-10-20",
              "2020-10-21",
              "2020-10-22",
              "2020-10-23",
              "2020-10-24",
              "2020-10-25",
              "2020-10-26",
              "2020-10-27",
              "2020-10-28",
              "2020-11-06",
              "2020-11-07",
              "2020-11-08",
              "2020-11-09",
              "2020-11-10",
              "2020-11-11",
              "2020-11-12",
              "2020-11-13",
              "2020-11-14",
              "2020-11-15",
              "2020-11-16",
              "2020-11-17",
              "2020-11-18",
              "2020-11-19",
              "2020-11-20",
              "2020-11-21",
              "2020-11-23",
              "2020-11-24",
              "2020-11-25",
              "2020-11-26",
              "2020-11-27",
              "2020-11-28",
              "2020-11-29",
              "2020-11-30",
              "2020-12-01",
              "2020-12-02",
              "2020-12-03",
              "2020-12-04",
              "2020-12-05",
              "2020-12-07",
              "2020-12-09",
              "2020-12-10",
              "2020-12-11",
              "2020-12-12",
              "2020-12-13",
              "2020-12-17",
              "2020-12-18",
              "2020-12-19",
              "2020-12-24",
              "2020-12-28",
              "2020-12-29",
              "2020-12-30",
              "2020-12-31",
              "2021-01-04",
              "2021-01-05",
              "2021-01-06",
              "2021-01-07",
              "2021-01-08",
              "2021-01-10",
              "2021-01-12",
              "2021-01-13",
              "2021-01-14",
              "2021-01-15",
              "2021-01-17",
              "2021-01-18",
              "2021-01-20",
              "2021-01-21",
              "2021-01-22",
              "2021-02-05",
              "2021-02-06",
              "2021-02-09",
              "2021-02-10",
              "2021-02-11",
              "2021-02-12",
              "2021-02-14",
              "2021-02-15",
              "2021-02-16",
              "2021-02-17",
              "2021-02-18",
              "2021-02-19",
              "2021-02-20",
              "2021-02-22",
              "2021-02-23",
              "2021-02-24",
              "2021-02-25",
              "2021-02-26",
              "2021-02-27",
              "2021-03-01",
              "2021-03-02",
              "2021-03-03",
              "2021-03-04",
              "2021-03-05",
              "2021-03-08",
              "2021-03-09",
              "2021-03-11",
              "2021-03-15",
              "2021-03-16",
              "2021-03-17",
              "2021-03-25",
              "2021-03-26",
              "2021-03-27",
              "2021-03-29",
              "2021-04-04",
              "2021-04-05",
              "2021-04-06",
              "2021-04-07",
              "2021-04-08",
              "2021-04-09",
              "2021-04-10",
              "2021-04-12",
              "2021-04-21",
              "2021-04-22",
              "2021-04-23",
              "2021-04-26",
              "2021-04-27",
              "2021-04-28",
              "2021-04-30",
              "2021-05-01",
              "2021-05-02",
              "2021-05-03",
              "2021-05-04",
              "2021-05-05",
              "2021-05-07",
              "2021-05-08",
              "2021-05-09",
              "2021-05-10",
              "2021-05-11",
              "2021-05-12",
              "2021-05-13",
              "2021-05-14",
              "2021-05-17",
              "2021-05-18",
              "2021-05-19",
              "2021-05-21",
              "2021-05-25",
              "2021-05-26",
              "2021-05-27",
              "2021-05-28",
              "2021-05-31",
              "2021-06-01",
              "2021-06-03",
              "2021-06-04",
              "2021-06-05",
              "2021-06-06"
             ],
             "y": [
              17,
              18,
              20,
              21,
              22,
              23,
              25,
              25,
              38,
              44,
              47,
              50,
              64,
              64,
              64,
              66,
              67,
              69,
              74,
              76,
              80,
              82,
              96,
              98,
              99,
              99,
              125,
              139,
              152,
              153,
              154,
              167,
              169,
              182,
              195,
              196,
              197,
              198,
              213,
              215,
              221,
              235,
              249,
              251,
              264,
              277,
              281,
              283,
              286,
              286,
              287,
              290,
              295,
              296,
              296,
              296,
              298,
              300,
              314,
              329,
              330,
              330,
              345,
              359,
              360,
              362,
              368,
              368,
              394,
              398,
              424,
              426,
              430,
              430,
              430,
              430,
              432,
              434,
              437,
              437,
              437,
              439,
              453,
              471,
              475,
              478,
              488,
              488,
              491,
              492,
              494,
              509,
              513,
              514,
              516,
              517,
              522,
              524,
              524,
              524,
              526,
              528,
              528,
              528,
              530,
              532,
              533,
              533,
              535,
              535,
              537,
              539,
              541,
              541,
              541,
              541,
              543,
              546,
              546,
              550,
              552,
              554,
              557,
              561,
              561,
              569,
              573,
              599,
              603,
              603,
              603,
              605,
              605,
              607,
              609,
              609,
              611,
              624,
              638,
              641,
              641,
              641,
              643,
              645,
              660,
              662,
              679,
              681,
              683,
              685,
              699,
              700,
              700,
              726,
              756,
              756,
              758,
              764,
              764,
              790,
              794,
              822,
              848,
              850,
              850,
              876,
              902,
              928,
              930,
              958,
              962,
              962,
              962,
              962,
              964,
              966,
              966,
              966,
              966,
              966,
              966,
              966,
              966,
              973,
              973,
              973,
              974,
              974,
              977,
              977,
              977,
              977,
              977,
              977,
              977,
              979,
              982,
              982,
              982
             ]
            }
           ],
           "layout": {
            "height": 500,
            "legend": {
             "tracegroupgap": 0
            },
            "margin": {
             "t": 60
            },
            "template": {
             "data": {
              "bar": [
               {
                "error_x": {
                 "color": "#2a3f5f"
                },
                "error_y": {
                 "color": "#2a3f5f"
                },
                "marker": {
                 "line": {
                  "color": "#E5ECF6",
                  "width": 0.5
                 }
                },
                "type": "bar"
               }
              ],
              "barpolar": [
               {
                "marker": {
                 "line": {
                  "color": "#E5ECF6",
                  "width": 0.5
                 }
                },
                "type": "barpolar"
               }
              ],
              "carpet": [
               {
                "aaxis": {
                 "endlinecolor": "#2a3f5f",
                 "gridcolor": "white",
                 "linecolor": "white",
                 "minorgridcolor": "white",
                 "startlinecolor": "#2a3f5f"
                },
                "baxis": {
                 "endlinecolor": "#2a3f5f",
                 "gridcolor": "white",
                 "linecolor": "white",
                 "minorgridcolor": "white",
                 "startlinecolor": "#2a3f5f"
                },
                "type": "carpet"
               }
              ],
              "choropleth": [
               {
                "colorbar": {
                 "outlinewidth": 0,
                 "ticks": ""
                },
                "type": "choropleth"
               }
              ],
              "contour": [
               {
                "colorbar": {
                 "outlinewidth": 0,
                 "ticks": ""
                },
                "colorscale": [
                 [
                  0,
                  "#0d0887"
                 ],
                 [
                  0.1111111111111111,
                  "#46039f"
                 ],
                 [
                  0.2222222222222222,
                  "#7201a8"
                 ],
                 [
                  0.3333333333333333,
                  "#9c179e"
                 ],
                 [
                  0.4444444444444444,
                  "#bd3786"
                 ],
                 [
                  0.5555555555555556,
                  "#d8576b"
                 ],
                 [
                  0.6666666666666666,
                  "#ed7953"
                 ],
                 [
                  0.7777777777777778,
                  "#fb9f3a"
                 ],
                 [
                  0.8888888888888888,
                  "#fdca26"
                 ],
                 [
                  1,
                  "#f0f921"
                 ]
                ],
                "type": "contour"
               }
              ],
              "contourcarpet": [
               {
                "colorbar": {
                 "outlinewidth": 0,
                 "ticks": ""
                },
                "type": "contourcarpet"
               }
              ],
              "heatmap": [
               {
                "colorbar": {
                 "outlinewidth": 0,
                 "ticks": ""
                },
                "colorscale": [
                 [
                  0,
                  "#0d0887"
                 ],
                 [
                  0.1111111111111111,
                  "#46039f"
                 ],
                 [
                  0.2222222222222222,
                  "#7201a8"
                 ],
                 [
                  0.3333333333333333,
                  "#9c179e"
                 ],
                 [
                  0.4444444444444444,
                  "#bd3786"
                 ],
                 [
                  0.5555555555555556,
                  "#d8576b"
                 ],
                 [
                  0.6666666666666666,
                  "#ed7953"
                 ],
                 [
                  0.7777777777777778,
                  "#fb9f3a"
                 ],
                 [
                  0.8888888888888888,
                  "#fdca26"
                 ],
                 [
                  1,
                  "#f0f921"
                 ]
                ],
                "type": "heatmap"
               }
              ],
              "heatmapgl": [
               {
                "colorbar": {
                 "outlinewidth": 0,
                 "ticks": ""
                },
                "colorscale": [
                 [
                  0,
                  "#0d0887"
                 ],
                 [
                  0.1111111111111111,
                  "#46039f"
                 ],
                 [
                  0.2222222222222222,
                  "#7201a8"
                 ],
                 [
                  0.3333333333333333,
                  "#9c179e"
                 ],
                 [
                  0.4444444444444444,
                  "#bd3786"
                 ],
                 [
                  0.5555555555555556,
                  "#d8576b"
                 ],
                 [
                  0.6666666666666666,
                  "#ed7953"
                 ],
                 [
                  0.7777777777777778,
                  "#fb9f3a"
                 ],
                 [
                  0.8888888888888888,
                  "#fdca26"
                 ],
                 [
                  1,
                  "#f0f921"
                 ]
                ],
                "type": "heatmapgl"
               }
              ],
              "histogram": [
               {
                "marker": {
                 "colorbar": {
                  "outlinewidth": 0,
                  "ticks": ""
                 }
                },
                "type": "histogram"
               }
              ],
              "histogram2d": [
               {
                "colorbar": {
                 "outlinewidth": 0,
                 "ticks": ""
                },
                "colorscale": [
                 [
                  0,
                  "#0d0887"
                 ],
                 [
                  0.1111111111111111,
                  "#46039f"
                 ],
                 [
                  0.2222222222222222,
                  "#7201a8"
                 ],
                 [
                  0.3333333333333333,
                  "#9c179e"
                 ],
                 [
                  0.4444444444444444,
                  "#bd3786"
                 ],
                 [
                  0.5555555555555556,
                  "#d8576b"
                 ],
                 [
                  0.6666666666666666,
                  "#ed7953"
                 ],
                 [
                  0.7777777777777778,
                  "#fb9f3a"
                 ],
                 [
                  0.8888888888888888,
                  "#fdca26"
                 ],
                 [
                  1,
                  "#f0f921"
                 ]
                ],
                "type": "histogram2d"
               }
              ],
              "histogram2dcontour": [
               {
                "colorbar": {
                 "outlinewidth": 0,
                 "ticks": ""
                },
                "colorscale": [
                 [
                  0,
                  "#0d0887"
                 ],
                 [
                  0.1111111111111111,
                  "#46039f"
                 ],
                 [
                  0.2222222222222222,
                  "#7201a8"
                 ],
                 [
                  0.3333333333333333,
                  "#9c179e"
                 ],
                 [
                  0.4444444444444444,
                  "#bd3786"
                 ],
                 [
                  0.5555555555555556,
                  "#d8576b"
                 ],
                 [
                  0.6666666666666666,
                  "#ed7953"
                 ],
                 [
                  0.7777777777777778,
                  "#fb9f3a"
                 ],
                 [
                  0.8888888888888888,
                  "#fdca26"
                 ],
                 [
                  1,
                  "#f0f921"
                 ]
                ],
                "type": "histogram2dcontour"
               }
              ],
              "mesh3d": [
               {
                "colorbar": {
                 "outlinewidth": 0,
                 "ticks": ""
                },
                "type": "mesh3d"
               }
              ],
              "parcoords": [
               {
                "line": {
                 "colorbar": {
                  "outlinewidth": 0,
                  "ticks": ""
                 }
                },
                "type": "parcoords"
               }
              ],
              "pie": [
               {
                "automargin": true,
                "type": "pie"
               }
              ],
              "scatter": [
               {
                "marker": {
                 "colorbar": {
                  "outlinewidth": 0,
                  "ticks": ""
                 }
                },
                "type": "scatter"
               }
              ],
              "scatter3d": [
               {
                "line": {
                 "colorbar": {
                  "outlinewidth": 0,
                  "ticks": ""
                 }
                },
                "marker": {
                 "colorbar": {
                  "outlinewidth": 0,
                  "ticks": ""
                 }
                },
                "type": "scatter3d"
               }
              ],
              "scattercarpet": [
               {
                "marker": {
                 "colorbar": {
                  "outlinewidth": 0,
                  "ticks": ""
                 }
                },
                "type": "scattercarpet"
               }
              ],
              "scattergeo": [
               {
                "marker": {
                 "colorbar": {
                  "outlinewidth": 0,
                  "ticks": ""
                 }
                },
                "type": "scattergeo"
               }
              ],
              "scattergl": [
               {
                "marker": {
                 "colorbar": {
                  "outlinewidth": 0,
                  "ticks": ""
                 }
                },
                "type": "scattergl"
               }
              ],
              "scattermapbox": [
               {
                "marker": {
                 "colorbar": {
                  "outlinewidth": 0,
                  "ticks": ""
                 }
                },
                "type": "scattermapbox"
               }
              ],
              "scatterpolar": [
               {
                "marker": {
                 "colorbar": {
                  "outlinewidth": 0,
                  "ticks": ""
                 }
                },
                "type": "scatterpolar"
               }
              ],
              "scatterpolargl": [
               {
                "marker": {
                 "colorbar": {
                  "outlinewidth": 0,
                  "ticks": ""
                 }
                },
                "type": "scatterpolargl"
               }
              ],
              "scatterternary": [
               {
                "marker": {
                 "colorbar": {
                  "outlinewidth": 0,
                  "ticks": ""
                 }
                },
                "type": "scatterternary"
               }
              ],
              "surface": [
               {
                "colorbar": {
                 "outlinewidth": 0,
                 "ticks": ""
                },
                "colorscale": [
                 [
                  0,
                  "#0d0887"
                 ],
                 [
                  0.1111111111111111,
                  "#46039f"
                 ],
                 [
                  0.2222222222222222,
                  "#7201a8"
                 ],
                 [
                  0.3333333333333333,
                  "#9c179e"
                 ],
                 [
                  0.4444444444444444,
                  "#bd3786"
                 ],
                 [
                  0.5555555555555556,
                  "#d8576b"
                 ],
                 [
                  0.6666666666666666,
                  "#ed7953"
                 ],
                 [
                  0.7777777777777778,
                  "#fb9f3a"
                 ],
                 [
                  0.8888888888888888,
                  "#fdca26"
                 ],
                 [
                  1,
                  "#f0f921"
                 ]
                ],
                "type": "surface"
               }
              ],
              "table": [
               {
                "cells": {
                 "fill": {
                  "color": "#EBF0F8"
                 },
                 "line": {
                  "color": "white"
                 }
                },
                "header": {
                 "fill": {
                  "color": "#C8D4E3"
                 },
                 "line": {
                  "color": "white"
                 }
                },
                "type": "table"
               }
              ]
             },
             "layout": {
              "annotationdefaults": {
               "arrowcolor": "#2a3f5f",
               "arrowhead": 0,
               "arrowwidth": 1
              },
              "autotypenumbers": "strict",
              "coloraxis": {
               "colorbar": {
                "outlinewidth": 0,
                "ticks": ""
               }
              },
              "colorscale": {
               "diverging": [
                [
                 0,
                 "#8e0152"
                ],
                [
                 0.1,
                 "#c51b7d"
                ],
                [
                 0.2,
                 "#de77ae"
                ],
                [
                 0.3,
                 "#f1b6da"
                ],
                [
                 0.4,
                 "#fde0ef"
                ],
                [
                 0.5,
                 "#f7f7f7"
                ],
                [
                 0.6,
                 "#e6f5d0"
                ],
                [
                 0.7,
                 "#b8e186"
                ],
                [
                 0.8,
                 "#7fbc41"
                ],
                [
                 0.9,
                 "#4d9221"
                ],
                [
                 1,
                 "#276419"
                ]
               ],
               "sequential": [
                [
                 0,
                 "#0d0887"
                ],
                [
                 0.1111111111111111,
                 "#46039f"
                ],
                [
                 0.2222222222222222,
                 "#7201a8"
                ],
                [
                 0.3333333333333333,
                 "#9c179e"
                ],
                [
                 0.4444444444444444,
                 "#bd3786"
                ],
                [
                 0.5555555555555556,
                 "#d8576b"
                ],
                [
                 0.6666666666666666,
                 "#ed7953"
                ],
                [
                 0.7777777777777778,
                 "#fb9f3a"
                ],
                [
                 0.8888888888888888,
                 "#fdca26"
                ],
                [
                 1,
                 "#f0f921"
                ]
               ],
               "sequentialminus": [
                [
                 0,
                 "#0d0887"
                ],
                [
                 0.1111111111111111,
                 "#46039f"
                ],
                [
                 0.2222222222222222,
                 "#7201a8"
                ],
                [
                 0.3333333333333333,
                 "#9c179e"
                ],
                [
                 0.4444444444444444,
                 "#bd3786"
                ],
                [
                 0.5555555555555556,
                 "#d8576b"
                ],
                [
                 0.6666666666666666,
                 "#ed7953"
                ],
                [
                 0.7777777777777778,
                 "#fb9f3a"
                ],
                [
                 0.8888888888888888,
                 "#fdca26"
                ],
                [
                 1,
                 "#f0f921"
                ]
               ]
              },
              "colorway": [
               "#636efa",
               "#EF553B",
               "#00cc96",
               "#ab63fa",
               "#FFA15A",
               "#19d3f3",
               "#FF6692",
               "#B6E880",
               "#FF97FF",
               "#FECB52"
              ],
              "font": {
               "color": "#2a3f5f"
              },
              "geo": {
               "bgcolor": "white",
               "lakecolor": "white",
               "landcolor": "#E5ECF6",
               "showlakes": true,
               "showland": true,
               "subunitcolor": "white"
              },
              "hoverlabel": {
               "align": "left"
              },
              "hovermode": "closest",
              "mapbox": {
               "style": "light"
              },
              "paper_bgcolor": "white",
              "plot_bgcolor": "#E5ECF6",
              "polar": {
               "angularaxis": {
                "gridcolor": "white",
                "linecolor": "white",
                "ticks": ""
               },
               "bgcolor": "#E5ECF6",
               "radialaxis": {
                "gridcolor": "white",
                "linecolor": "white",
                "ticks": ""
               }
              },
              "scene": {
               "xaxis": {
                "backgroundcolor": "#E5ECF6",
                "gridcolor": "white",
                "gridwidth": 2,
                "linecolor": "white",
                "showbackground": true,
                "ticks": "",
                "zerolinecolor": "white"
               },
               "yaxis": {
                "backgroundcolor": "#E5ECF6",
                "gridcolor": "white",
                "gridwidth": 2,
                "linecolor": "white",
                "showbackground": true,
                "ticks": "",
                "zerolinecolor": "white"
               },
               "zaxis": {
                "backgroundcolor": "#E5ECF6",
                "gridcolor": "white",
                "gridwidth": 2,
                "linecolor": "white",
                "showbackground": true,
                "ticks": "",
                "zerolinecolor": "white"
               }
              },
              "shapedefaults": {
               "line": {
                "color": "#2a3f5f"
               }
              },
              "ternary": {
               "aaxis": {
                "gridcolor": "white",
                "linecolor": "white",
                "ticks": ""
               },
               "baxis": {
                "gridcolor": "white",
                "linecolor": "white",
                "ticks": ""
               },
               "bgcolor": "#E5ECF6",
               "caxis": {
                "gridcolor": "white",
                "linecolor": "white",
                "ticks": ""
               }
              },
              "title": {
               "x": 0.05
              },
              "xaxis": {
               "automargin": true,
               "gridcolor": "white",
               "linecolor": "white",
               "ticks": "",
               "title": {
                "standoff": 15
               },
               "zerolinecolor": "white",
               "zerolinewidth": 2
              },
              "yaxis": {
               "automargin": true,
               "gridcolor": "white",
               "linecolor": "white",
               "ticks": "",
               "title": {
                "standoff": 15
               },
               "zerolinecolor": "white",
               "zerolinewidth": 2
              }
             }
            },
            "title": {
             "font": {
              "size": 15
             },
             "text": "Las palabras claves de la fecha <b> 2020-08-14</b> son: sospecha, minas, antipersona, liberados, municipios",
             "x": 0.5,
             "xanchor": "center"
            },
            "width": 800,
            "xaxis": {
             "anchor": "y",
             "domain": [
              0,
              1
             ]
            },
            "yaxis": {
             "anchor": "x",
             "domain": [
              0,
              1
             ]
            }
           }
          },
          "text/html": "<div>                            <div id=\"433df35f-116e-44e1-a32d-c66a586725dd\" class=\"plotly-graph-div\" style=\"height:500px; width:800px;\"></div>            <script type=\"text/javascript\">                require([\"plotly\"], function(Plotly) {                    window.PLOTLYENV=window.PLOTLYENV || {};                                    if (document.getElementById(\"433df35f-116e-44e1-a32d-c66a586725dd\")) {                    Plotly.newPlot(                        \"433df35f-116e-44e1-a32d-c66a586725dd\",                        [{\"mode\": \"lines\", \"name\": \"sospecha\", \"type\": \"scatter\", \"x\": [\"2020-08-14\", \"2020-08-17\", \"2020-08-18\", \"2020-08-19\", \"2020-08-20\", \"2020-08-21\", \"2020-08-22\", \"2020-08-23\", \"2020-08-24\", \"2020-08-25\", \"2020-08-26\", \"2020-08-27\", \"2020-08-28\", \"2020-08-29\", \"2020-08-30\", \"2020-08-31\", \"2020-09-01\", \"2020-09-02\", \"2020-09-03\", \"2020-09-04\", \"2020-09-07\", \"2020-09-08\", \"2020-09-09\", \"2020-09-10\", \"2020-09-11\", \"2020-09-12\", \"2020-09-15\", \"2020-09-16\", \"2020-09-17\", \"2020-09-18\", \"2020-09-19\", \"2020-09-21\", \"2020-09-22\", \"2020-09-23\", \"2020-09-24\", \"2020-09-25\", \"2020-09-26\", \"2020-09-27\", \"2020-09-28\", \"2020-09-29\", \"2020-09-30\", \"2020-10-01\", \"2020-10-02\", \"2020-10-03\", \"2020-10-05\", \"2020-10-06\", \"2020-10-07\", \"2020-10-08\", \"2020-10-09\", \"2020-10-10\", \"2020-10-13\", \"2020-10-14\", \"2020-10-15\", \"2020-10-16\", \"2020-10-17\", \"2020-10-19\", \"2020-10-20\", \"2020-10-21\", \"2020-10-22\", \"2020-10-23\", \"2020-10-24\", \"2020-10-25\", \"2020-10-26\", \"2020-10-27\", \"2020-10-28\", \"2020-11-06\", \"2020-11-07\", \"2020-11-08\", \"2020-11-09\", \"2020-11-10\", \"2020-11-11\", \"2020-11-12\", \"2020-11-13\", \"2020-11-14\", \"2020-11-15\", \"2020-11-16\", \"2020-11-17\", \"2020-11-18\", \"2020-11-19\", \"2020-11-20\", \"2020-11-21\", \"2020-11-23\", \"2020-11-24\", \"2020-11-25\", \"2020-11-26\", \"2020-11-27\", \"2020-11-28\", \"2020-11-29\", \"2020-11-30\", \"2020-12-01\", \"2020-12-02\", \"2020-12-03\", \"2020-12-04\", \"2020-12-05\", \"2020-12-07\", \"2020-12-09\", \"2020-12-10\", \"2020-12-11\", \"2020-12-12\", \"2020-12-13\", \"2020-12-17\", \"2020-12-18\", \"2020-12-19\", \"2020-12-24\", \"2020-12-28\", \"2020-12-29\", \"2020-12-30\", \"2020-12-31\", \"2021-01-04\", \"2021-01-05\", \"2021-01-06\", \"2021-01-07\", \"2021-01-08\", \"2021-01-10\", \"2021-01-12\", \"2021-01-13\", \"2021-01-14\", \"2021-01-15\", \"2021-01-17\", \"2021-01-18\", \"2021-01-20\", \"2021-01-21\", \"2021-01-22\", \"2021-02-05\", \"2021-02-06\", \"2021-02-09\", \"2021-02-10\", \"2021-02-11\", \"2021-02-12\", \"2021-02-14\", \"2021-02-15\", \"2021-02-16\", \"2021-02-17\", \"2021-02-18\", \"2021-02-19\", \"2021-02-20\", \"2021-02-22\", \"2021-02-23\", \"2021-02-24\", \"2021-02-25\", \"2021-02-26\", \"2021-02-27\", \"2021-03-01\", \"2021-03-02\", \"2021-03-03\", \"2021-03-04\", \"2021-03-05\", \"2021-03-08\", \"2021-03-09\", \"2021-03-11\", \"2021-03-15\", \"2021-03-16\", \"2021-03-17\", \"2021-03-25\", \"2021-03-26\", \"2021-03-27\", \"2021-03-29\", \"2021-04-04\", \"2021-04-05\", \"2021-04-06\", \"2021-04-07\", \"2021-04-08\", \"2021-04-09\", \"2021-04-10\", \"2021-04-12\", \"2021-04-21\", \"2021-04-22\", \"2021-04-23\", \"2021-04-26\", \"2021-04-27\", \"2021-04-28\", \"2021-04-30\", \"2021-05-01\", \"2021-05-02\", \"2021-05-03\", \"2021-05-04\", \"2021-05-05\", \"2021-05-07\", \"2021-05-08\", \"2021-05-09\", \"2021-05-10\", \"2021-05-11\", \"2021-05-12\", \"2021-05-13\", \"2021-05-14\", \"2021-05-17\", \"2021-05-18\", \"2021-05-19\", \"2021-05-21\", \"2021-05-25\", \"2021-05-26\", \"2021-05-27\", \"2021-05-28\", \"2021-05-31\", \"2021-06-01\", \"2021-06-03\", \"2021-06-04\", \"2021-06-05\", \"2021-06-06\"], \"y\": [13, 13, 13, 13, 13, 13, 13, 13, 13, 13, 13, 13, 13, 13, 13, 13, 13, 13, 13, 13, 13, 13, 13, 13, 13, 13, 13, 13, 13, 13, 13, 13, 13, 13, 13, 13, 13, 13, 13, 13, 13, 13, 13, 14, 14, 14, 15, 15, 15, 15, 15, 15, 16, 16, 16, 16, 16, 16, 16, 16, 16, 16, 16, 16, 16, 16, 16, 16, 16, 16, 16, 16, 16, 16, 16, 16, 16, 16, 16, 17, 17, 17, 17, 17, 17, 17, 17, 17, 17, 17, 17, 17, 17, 17, 17, 18, 19, 19, 19, 19, 19, 19, 19, 19, 19, 19, 19, 19, 19, 19, 19, 19, 19, 19, 19, 19, 19, 19, 19, 19, 19, 19, 19, 21, 21, 21, 21, 21, 21, 21, 21, 21, 21, 21, 21, 21, 21, 21, 21, 21, 21, 21, 21, 21, 21, 21, 21, 21, 21, 21, 21, 21, 21, 21, 21, 21, 21, 21, 21, 21, 21, 21, 21, 21, 21, 21, 21, 21, 21, 21, 21, 21, 21, 21, 21, 21, 21, 21, 21, 21, 21, 21, 21, 21, 21, 21, 21, 21, 21, 21, 21, 21, 21, 21, 21, 21, 21, 21, 21]}, {\"mode\": \"lines\", \"name\": \"minas\", \"type\": \"scatter\", \"x\": [\"2020-08-14\", \"2020-08-17\", \"2020-08-18\", \"2020-08-19\", \"2020-08-20\", \"2020-08-21\", \"2020-08-22\", \"2020-08-23\", \"2020-08-24\", \"2020-08-25\", \"2020-08-26\", \"2020-08-27\", \"2020-08-28\", \"2020-08-29\", \"2020-08-30\", \"2020-08-31\", \"2020-09-01\", \"2020-09-02\", \"2020-09-03\", \"2020-09-04\", \"2020-09-07\", \"2020-09-08\", \"2020-09-09\", \"2020-09-10\", \"2020-09-11\", \"2020-09-12\", \"2020-09-15\", \"2020-09-16\", \"2020-09-17\", \"2020-09-18\", \"2020-09-19\", \"2020-09-21\", \"2020-09-22\", \"2020-09-23\", \"2020-09-24\", \"2020-09-25\", \"2020-09-26\", \"2020-09-27\", \"2020-09-28\", \"2020-09-29\", \"2020-09-30\", \"2020-10-01\", \"2020-10-02\", \"2020-10-03\", \"2020-10-05\", \"2020-10-06\", \"2020-10-07\", \"2020-10-08\", \"2020-10-09\", \"2020-10-10\", \"2020-10-13\", \"2020-10-14\", \"2020-10-15\", \"2020-10-16\", \"2020-10-17\", \"2020-10-19\", \"2020-10-20\", \"2020-10-21\", \"2020-10-22\", \"2020-10-23\", \"2020-10-24\", \"2020-10-25\", \"2020-10-26\", \"2020-10-27\", \"2020-10-28\", \"2020-11-06\", \"2020-11-07\", \"2020-11-08\", \"2020-11-09\", \"2020-11-10\", \"2020-11-11\", \"2020-11-12\", \"2020-11-13\", \"2020-11-14\", \"2020-11-15\", \"2020-11-16\", \"2020-11-17\", \"2020-11-18\", \"2020-11-19\", \"2020-11-20\", \"2020-11-21\", \"2020-11-23\", \"2020-11-24\", \"2020-11-25\", \"2020-11-26\", \"2020-11-27\", \"2020-11-28\", \"2020-11-29\", \"2020-11-30\", \"2020-12-01\", \"2020-12-02\", \"2020-12-03\", \"2020-12-04\", \"2020-12-05\", \"2020-12-07\", \"2020-12-09\", \"2020-12-10\", \"2020-12-11\", \"2020-12-12\", \"2020-12-13\", \"2020-12-17\", \"2020-12-18\", \"2020-12-19\", \"2020-12-24\", \"2020-12-28\", \"2020-12-29\", \"2020-12-30\", \"2020-12-31\", \"2021-01-04\", \"2021-01-05\", \"2021-01-06\", \"2021-01-07\", \"2021-01-08\", \"2021-01-10\", \"2021-01-12\", \"2021-01-13\", \"2021-01-14\", \"2021-01-15\", \"2021-01-17\", \"2021-01-18\", \"2021-01-20\", \"2021-01-21\", \"2021-01-22\", \"2021-02-05\", \"2021-02-06\", \"2021-02-09\", \"2021-02-10\", \"2021-02-11\", \"2021-02-12\", \"2021-02-14\", \"2021-02-15\", \"2021-02-16\", \"2021-02-17\", \"2021-02-18\", \"2021-02-19\", \"2021-02-20\", \"2021-02-22\", \"2021-02-23\", \"2021-02-24\", \"2021-02-25\", \"2021-02-26\", \"2021-02-27\", \"2021-03-01\", \"2021-03-02\", \"2021-03-03\", \"2021-03-04\", \"2021-03-05\", \"2021-03-08\", \"2021-03-09\", \"2021-03-11\", \"2021-03-15\", \"2021-03-16\", \"2021-03-17\", \"2021-03-25\", \"2021-03-26\", \"2021-03-27\", \"2021-03-29\", \"2021-04-04\", \"2021-04-05\", \"2021-04-06\", \"2021-04-07\", \"2021-04-08\", \"2021-04-09\", \"2021-04-10\", \"2021-04-12\", \"2021-04-21\", \"2021-04-22\", \"2021-04-23\", \"2021-04-26\", \"2021-04-27\", \"2021-04-28\", \"2021-04-30\", \"2021-05-01\", \"2021-05-02\", \"2021-05-03\", \"2021-05-04\", \"2021-05-05\", \"2021-05-07\", \"2021-05-08\", \"2021-05-09\", \"2021-05-10\", \"2021-05-11\", \"2021-05-12\", \"2021-05-13\", \"2021-05-14\", \"2021-05-17\", \"2021-05-18\", \"2021-05-19\", \"2021-05-21\", \"2021-05-25\", \"2021-05-26\", \"2021-05-27\", \"2021-05-28\", \"2021-05-31\", \"2021-06-01\", \"2021-06-03\", \"2021-06-04\", \"2021-06-05\", \"2021-06-06\"], \"y\": [14, 14, 14, 14, 14, 14, 14, 17, 17, 22, 23, 23, 24, 24, 25, 25, 25, 25, 26, 26, 26, 28, 28, 28, 28, 28, 28, 28, 28, 28, 28, 28, 28, 28, 28, 28, 29, 29, 29, 29, 30, 30, 30, 30, 30, 32, 33, 34, 35, 35, 35, 35, 36, 36, 36, 36, 36, 36, 37, 41, 41, 41, 41, 41, 43, 43, 49, 49, 49, 51, 51, 51, 51, 51, 51, 52, 52, 52, 52, 54, 54, 54, 56, 57, 58, 58, 62, 62, 62, 62, 62, 63, 63, 63, 63, 64, 66, 66, 66, 66, 66, 66, 66, 66, 66, 66, 66, 66, 66, 66, 66, 66, 67, 67, 68, 68, 68, 68, 68, 69, 69, 70, 80, 84, 88, 88, 88, 88, 92, 92, 92, 92, 94, 94, 94, 94, 94, 94, 94, 94, 95, 96, 96, 97, 97, 97, 97, 97, 98, 98, 98, 98, 98, 98, 98, 98, 98, 98, 98, 98, 98, 98, 98, 98, 100, 100, 100, 100, 100, 102, 102, 102, 102, 102, 102, 102, 102, 102, 102, 102, 102, 102, 102, 102, 102, 102, 102, 102, 102, 102, 102, 102, 102, 102, 102, 102, 102, 102, 102]}, {\"mode\": \"lines\", \"name\": \"antipersona\", \"type\": \"scatter\", \"x\": [\"2020-08-14\", \"2020-08-17\", \"2020-08-18\", \"2020-08-19\", \"2020-08-20\", \"2020-08-21\", \"2020-08-22\", \"2020-08-23\", \"2020-08-24\", \"2020-08-25\", \"2020-08-26\", \"2020-08-27\", \"2020-08-28\", \"2020-08-29\", \"2020-08-30\", \"2020-08-31\", \"2020-09-01\", \"2020-09-02\", \"2020-09-03\", \"2020-09-04\", \"2020-09-07\", \"2020-09-08\", \"2020-09-09\", \"2020-09-10\", \"2020-09-11\", \"2020-09-12\", \"2020-09-15\", \"2020-09-16\", \"2020-09-17\", \"2020-09-18\", \"2020-09-19\", \"2020-09-21\", \"2020-09-22\", \"2020-09-23\", \"2020-09-24\", \"2020-09-25\", \"2020-09-26\", \"2020-09-27\", \"2020-09-28\", \"2020-09-29\", \"2020-09-30\", \"2020-10-01\", \"2020-10-02\", \"2020-10-03\", \"2020-10-05\", \"2020-10-06\", \"2020-10-07\", \"2020-10-08\", \"2020-10-09\", \"2020-10-10\", \"2020-10-13\", \"2020-10-14\", \"2020-10-15\", \"2020-10-16\", \"2020-10-17\", \"2020-10-19\", \"2020-10-20\", \"2020-10-21\", \"2020-10-22\", \"2020-10-23\", \"2020-10-24\", \"2020-10-25\", \"2020-10-26\", \"2020-10-27\", \"2020-10-28\", \"2020-11-06\", \"2020-11-07\", \"2020-11-08\", \"2020-11-09\", \"2020-11-10\", \"2020-11-11\", \"2020-11-12\", \"2020-11-13\", \"2020-11-14\", \"2020-11-15\", \"2020-11-16\", \"2020-11-17\", \"2020-11-18\", \"2020-11-19\", \"2020-11-20\", \"2020-11-21\", \"2020-11-23\", \"2020-11-24\", \"2020-11-25\", \"2020-11-26\", \"2020-11-27\", \"2020-11-28\", \"2020-11-29\", \"2020-11-30\", \"2020-12-01\", \"2020-12-02\", \"2020-12-03\", \"2020-12-04\", \"2020-12-05\", \"2020-12-07\", \"2020-12-09\", \"2020-12-10\", \"2020-12-11\", \"2020-12-12\", \"2020-12-13\", \"2020-12-17\", \"2020-12-18\", \"2020-12-19\", \"2020-12-24\", \"2020-12-28\", \"2020-12-29\", \"2020-12-30\", \"2020-12-31\", \"2021-01-04\", \"2021-01-05\", \"2021-01-06\", \"2021-01-07\", \"2021-01-08\", \"2021-01-10\", \"2021-01-12\", \"2021-01-13\", \"2021-01-14\", \"2021-01-15\", \"2021-01-17\", \"2021-01-18\", \"2021-01-20\", \"2021-01-21\", \"2021-01-22\", \"2021-02-05\", \"2021-02-06\", \"2021-02-09\", \"2021-02-10\", \"2021-02-11\", \"2021-02-12\", \"2021-02-14\", \"2021-02-15\", \"2021-02-16\", \"2021-02-17\", \"2021-02-18\", \"2021-02-19\", \"2021-02-20\", \"2021-02-22\", \"2021-02-23\", \"2021-02-24\", \"2021-02-25\", \"2021-02-26\", \"2021-02-27\", \"2021-03-01\", \"2021-03-02\", \"2021-03-03\", \"2021-03-04\", \"2021-03-05\", \"2021-03-08\", \"2021-03-09\", \"2021-03-11\", \"2021-03-15\", \"2021-03-16\", \"2021-03-17\", \"2021-03-25\", \"2021-03-26\", \"2021-03-27\", \"2021-03-29\", \"2021-04-04\", \"2021-04-05\", \"2021-04-06\", \"2021-04-07\", \"2021-04-08\", \"2021-04-09\", \"2021-04-10\", \"2021-04-12\", \"2021-04-21\", \"2021-04-22\", \"2021-04-23\", \"2021-04-26\", \"2021-04-27\", \"2021-04-28\", \"2021-04-30\", \"2021-05-01\", \"2021-05-02\", \"2021-05-03\", \"2021-05-04\", \"2021-05-05\", \"2021-05-07\", \"2021-05-08\", \"2021-05-09\", \"2021-05-10\", \"2021-05-11\", \"2021-05-12\", \"2021-05-13\", \"2021-05-14\", \"2021-05-17\", \"2021-05-18\", \"2021-05-19\", \"2021-05-21\", \"2021-05-25\", \"2021-05-26\", \"2021-05-27\", \"2021-05-28\", \"2021-05-31\", \"2021-06-01\", \"2021-06-03\", \"2021-06-04\", \"2021-06-05\", \"2021-06-06\"], \"y\": [13, 13, 13, 13, 13, 13, 13, 13, 13, 13, 13, 13, 13, 13, 13, 13, 13, 13, 13, 13, 13, 13, 13, 13, 13, 13, 13, 13, 13, 13, 13, 13, 13, 13, 13, 13, 13, 13, 13, 13, 13, 13, 13, 13, 13, 13, 13, 13, 13, 13, 13, 13, 14, 14, 14, 14, 14, 14, 14, 14, 14, 14, 14, 14, 14, 14, 14, 14, 14, 14, 14, 14, 14, 14, 14, 14, 14, 14, 14, 14, 14, 14, 14, 15, 15, 15, 16, 16, 16, 16, 16, 16, 16, 16, 16, 17, 18, 18, 18, 18, 18, 18, 18, 18, 18, 18, 18, 18, 18, 18, 18, 18, 18, 18, 18, 18, 18, 18, 18, 18, 18, 18, 18, 22, 26, 26, 26, 26, 28, 28, 28, 28, 30, 30, 30, 30, 30, 30, 30, 30, 31, 31, 31, 31, 31, 31, 31, 31, 31, 31, 31, 31, 31, 31, 31, 31, 31, 31, 31, 31, 31, 31, 31, 31, 31, 31, 31, 31, 31, 31, 31, 31, 31, 31, 31, 31, 31, 31, 31, 31, 31, 31, 31, 31, 31, 31, 31, 31, 31, 31, 31, 31, 31, 31, 31, 31, 31, 31, 31]}, {\"mode\": \"lines\", \"name\": \"liberados\", \"type\": \"scatter\", \"x\": [\"2020-08-14\", \"2020-08-17\", \"2020-08-18\", \"2020-08-19\", \"2020-08-20\", \"2020-08-21\", \"2020-08-22\", \"2020-08-23\", \"2020-08-24\", \"2020-08-25\", \"2020-08-26\", \"2020-08-27\", \"2020-08-28\", \"2020-08-29\", \"2020-08-30\", \"2020-08-31\", \"2020-09-01\", \"2020-09-02\", \"2020-09-03\", \"2020-09-04\", \"2020-09-07\", \"2020-09-08\", \"2020-09-09\", \"2020-09-10\", \"2020-09-11\", \"2020-09-12\", \"2020-09-15\", \"2020-09-16\", \"2020-09-17\", \"2020-09-18\", \"2020-09-19\", \"2020-09-21\", \"2020-09-22\", \"2020-09-23\", \"2020-09-24\", \"2020-09-25\", \"2020-09-26\", \"2020-09-27\", \"2020-09-28\", \"2020-09-29\", \"2020-09-30\", \"2020-10-01\", \"2020-10-02\", \"2020-10-03\", \"2020-10-05\", \"2020-10-06\", \"2020-10-07\", \"2020-10-08\", \"2020-10-09\", \"2020-10-10\", \"2020-10-13\", \"2020-10-14\", \"2020-10-15\", \"2020-10-16\", \"2020-10-17\", \"2020-10-19\", \"2020-10-20\", \"2020-10-21\", \"2020-10-22\", \"2020-10-23\", \"2020-10-24\", \"2020-10-25\", \"2020-10-26\", \"2020-10-27\", \"2020-10-28\", \"2020-11-06\", \"2020-11-07\", \"2020-11-08\", \"2020-11-09\", \"2020-11-10\", \"2020-11-11\", \"2020-11-12\", \"2020-11-13\", \"2020-11-14\", \"2020-11-15\", \"2020-11-16\", \"2020-11-17\", \"2020-11-18\", \"2020-11-19\", \"2020-11-20\", \"2020-11-21\", \"2020-11-23\", \"2020-11-24\", \"2020-11-25\", \"2020-11-26\", \"2020-11-27\", \"2020-11-28\", \"2020-11-29\", \"2020-11-30\", \"2020-12-01\", \"2020-12-02\", \"2020-12-03\", \"2020-12-04\", \"2020-12-05\", \"2020-12-07\", \"2020-12-09\", \"2020-12-10\", \"2020-12-11\", \"2020-12-12\", \"2020-12-13\", \"2020-12-17\", \"2020-12-18\", \"2020-12-19\", \"2020-12-24\", \"2020-12-28\", \"2020-12-29\", \"2020-12-30\", \"2020-12-31\", \"2021-01-04\", \"2021-01-05\", \"2021-01-06\", \"2021-01-07\", \"2021-01-08\", \"2021-01-10\", \"2021-01-12\", \"2021-01-13\", \"2021-01-14\", \"2021-01-15\", \"2021-01-17\", \"2021-01-18\", \"2021-01-20\", \"2021-01-21\", \"2021-01-22\", \"2021-02-05\", \"2021-02-06\", \"2021-02-09\", \"2021-02-10\", \"2021-02-11\", \"2021-02-12\", \"2021-02-14\", \"2021-02-15\", \"2021-02-16\", \"2021-02-17\", \"2021-02-18\", \"2021-02-19\", \"2021-02-20\", \"2021-02-22\", \"2021-02-23\", \"2021-02-24\", \"2021-02-25\", \"2021-02-26\", \"2021-02-27\", \"2021-03-01\", \"2021-03-02\", \"2021-03-03\", \"2021-03-04\", \"2021-03-05\", \"2021-03-08\", \"2021-03-09\", \"2021-03-11\", \"2021-03-15\", \"2021-03-16\", \"2021-03-17\", \"2021-03-25\", \"2021-03-26\", \"2021-03-27\", \"2021-03-29\", \"2021-04-04\", \"2021-04-05\", \"2021-04-06\", \"2021-04-07\", \"2021-04-08\", \"2021-04-09\", \"2021-04-10\", \"2021-04-12\", \"2021-04-21\", \"2021-04-22\", \"2021-04-23\", \"2021-04-26\", \"2021-04-27\", \"2021-04-28\", \"2021-04-30\", \"2021-05-01\", \"2021-05-02\", \"2021-05-03\", \"2021-05-04\", \"2021-05-05\", \"2021-05-07\", \"2021-05-08\", \"2021-05-09\", \"2021-05-10\", \"2021-05-11\", \"2021-05-12\", \"2021-05-13\", \"2021-05-14\", \"2021-05-17\", \"2021-05-18\", \"2021-05-19\", \"2021-05-21\", \"2021-05-25\", \"2021-05-26\", \"2021-05-27\", \"2021-05-28\", \"2021-05-31\", \"2021-06-01\", \"2021-06-03\", \"2021-06-04\", \"2021-06-05\", \"2021-06-06\"], \"y\": [5, 5, 5, 5, 5, 5, 5, 5, 5, 5, 5, 5, 5, 5, 5, 5, 5, 5, 5, 5, 5, 5, 5, 5, 5, 5, 5, 5, 5, 5, 5, 5, 5, 5, 5, 5, 5, 5, 5, 5, 5, 5, 5, 5, 5, 5, 5, 5, 5, 5, 5, 5, 5, 5, 5, 5, 5, 5, 5, 5, 5, 5, 5, 5, 5, 5, 5, 5, 5, 5, 5, 5, 5, 5, 5, 5, 5, 5, 5, 5, 5, 5, 5, 5, 5, 5, 5, 5, 5, 5, 5, 5, 5, 5, 5, 5, 5, 5, 5, 5, 5, 5, 5, 5, 5, 5, 5, 5, 5, 5, 5, 5, 5, 5, 5, 5, 5, 5, 5, 5, 5, 5, 5, 5, 5, 5, 5, 5, 5, 5, 5, 5, 5, 5, 5, 5, 5, 5, 5, 5, 5, 5, 5, 5, 5, 5, 5, 5, 5, 5, 5, 5, 5, 5, 5, 5, 5, 5, 5, 5, 5, 5, 5, 5, 5, 5, 5, 5, 5, 5, 5, 5, 5, 5, 5, 5, 5, 5, 5, 5, 5, 5, 5, 5, 5, 5, 5, 5, 5, 5, 5, 5, 5, 5, 5, 5, 5, 5, 5]}, {\"mode\": \"lines\", \"name\": \"municipios\", \"type\": \"scatter\", \"x\": [\"2020-08-14\", \"2020-08-17\", \"2020-08-18\", \"2020-08-19\", \"2020-08-20\", \"2020-08-21\", \"2020-08-22\", \"2020-08-23\", \"2020-08-24\", \"2020-08-25\", \"2020-08-26\", \"2020-08-27\", \"2020-08-28\", \"2020-08-29\", \"2020-08-30\", \"2020-08-31\", \"2020-09-01\", \"2020-09-02\", \"2020-09-03\", \"2020-09-04\", \"2020-09-07\", \"2020-09-08\", \"2020-09-09\", \"2020-09-10\", \"2020-09-11\", \"2020-09-12\", \"2020-09-15\", \"2020-09-16\", \"2020-09-17\", \"2020-09-18\", \"2020-09-19\", \"2020-09-21\", \"2020-09-22\", \"2020-09-23\", \"2020-09-24\", \"2020-09-25\", \"2020-09-26\", \"2020-09-27\", \"2020-09-28\", \"2020-09-29\", \"2020-09-30\", \"2020-10-01\", \"2020-10-02\", \"2020-10-03\", \"2020-10-05\", \"2020-10-06\", \"2020-10-07\", \"2020-10-08\", \"2020-10-09\", \"2020-10-10\", \"2020-10-13\", \"2020-10-14\", \"2020-10-15\", \"2020-10-16\", \"2020-10-17\", \"2020-10-19\", \"2020-10-20\", \"2020-10-21\", \"2020-10-22\", \"2020-10-23\", \"2020-10-24\", \"2020-10-25\", \"2020-10-26\", \"2020-10-27\", \"2020-10-28\", \"2020-11-06\", \"2020-11-07\", \"2020-11-08\", \"2020-11-09\", \"2020-11-10\", \"2020-11-11\", \"2020-11-12\", \"2020-11-13\", \"2020-11-14\", \"2020-11-15\", \"2020-11-16\", \"2020-11-17\", \"2020-11-18\", \"2020-11-19\", \"2020-11-20\", \"2020-11-21\", \"2020-11-23\", \"2020-11-24\", \"2020-11-25\", \"2020-11-26\", \"2020-11-27\", \"2020-11-28\", \"2020-11-29\", \"2020-11-30\", \"2020-12-01\", \"2020-12-02\", \"2020-12-03\", \"2020-12-04\", \"2020-12-05\", \"2020-12-07\", \"2020-12-09\", \"2020-12-10\", \"2020-12-11\", \"2020-12-12\", \"2020-12-13\", \"2020-12-17\", \"2020-12-18\", \"2020-12-19\", \"2020-12-24\", \"2020-12-28\", \"2020-12-29\", \"2020-12-30\", \"2020-12-31\", \"2021-01-04\", \"2021-01-05\", \"2021-01-06\", \"2021-01-07\", \"2021-01-08\", \"2021-01-10\", \"2021-01-12\", \"2021-01-13\", \"2021-01-14\", \"2021-01-15\", \"2021-01-17\", \"2021-01-18\", \"2021-01-20\", \"2021-01-21\", \"2021-01-22\", \"2021-02-05\", \"2021-02-06\", \"2021-02-09\", \"2021-02-10\", \"2021-02-11\", \"2021-02-12\", \"2021-02-14\", \"2021-02-15\", \"2021-02-16\", \"2021-02-17\", \"2021-02-18\", \"2021-02-19\", \"2021-02-20\", \"2021-02-22\", \"2021-02-23\", \"2021-02-24\", \"2021-02-25\", \"2021-02-26\", \"2021-02-27\", \"2021-03-01\", \"2021-03-02\", \"2021-03-03\", \"2021-03-04\", \"2021-03-05\", \"2021-03-08\", \"2021-03-09\", \"2021-03-11\", \"2021-03-15\", \"2021-03-16\", \"2021-03-17\", \"2021-03-25\", \"2021-03-26\", \"2021-03-27\", \"2021-03-29\", \"2021-04-04\", \"2021-04-05\", \"2021-04-06\", \"2021-04-07\", \"2021-04-08\", \"2021-04-09\", \"2021-04-10\", \"2021-04-12\", \"2021-04-21\", \"2021-04-22\", \"2021-04-23\", \"2021-04-26\", \"2021-04-27\", \"2021-04-28\", \"2021-04-30\", \"2021-05-01\", \"2021-05-02\", \"2021-05-03\", \"2021-05-04\", \"2021-05-05\", \"2021-05-07\", \"2021-05-08\", \"2021-05-09\", \"2021-05-10\", \"2021-05-11\", \"2021-05-12\", \"2021-05-13\", \"2021-05-14\", \"2021-05-17\", \"2021-05-18\", \"2021-05-19\", \"2021-05-21\", \"2021-05-25\", \"2021-05-26\", \"2021-05-27\", \"2021-05-28\", \"2021-05-31\", \"2021-06-01\", \"2021-06-03\", \"2021-06-04\", \"2021-06-05\", \"2021-06-06\"], \"y\": [17, 18, 20, 21, 22, 23, 25, 25, 38, 44, 47, 50, 64, 64, 64, 66, 67, 69, 74, 76, 80, 82, 96, 98, 99, 99, 125, 139, 152, 153, 154, 167, 169, 182, 195, 196, 197, 198, 213, 215, 221, 235, 249, 251, 264, 277, 281, 283, 286, 286, 287, 290, 295, 296, 296, 296, 298, 300, 314, 329, 330, 330, 345, 359, 360, 362, 368, 368, 394, 398, 424, 426, 430, 430, 430, 430, 432, 434, 437, 437, 437, 439, 453, 471, 475, 478, 488, 488, 491, 492, 494, 509, 513, 514, 516, 517, 522, 524, 524, 524, 526, 528, 528, 528, 530, 532, 533, 533, 535, 535, 537, 539, 541, 541, 541, 541, 543, 546, 546, 550, 552, 554, 557, 561, 561, 569, 573, 599, 603, 603, 603, 605, 605, 607, 609, 609, 611, 624, 638, 641, 641, 641, 643, 645, 660, 662, 679, 681, 683, 685, 699, 700, 700, 726, 756, 756, 758, 764, 764, 790, 794, 822, 848, 850, 850, 876, 902, 928, 930, 958, 962, 962, 962, 962, 964, 966, 966, 966, 966, 966, 966, 966, 966, 973, 973, 973, 974, 974, 977, 977, 977, 977, 977, 977, 977, 979, 982, 982, 982]}],                        {\"height\": 500, \"legend\": {\"tracegroupgap\": 0}, \"margin\": {\"t\": 60}, \"template\": {\"data\": {\"bar\": [{\"error_x\": {\"color\": \"#2a3f5f\"}, \"error_y\": {\"color\": \"#2a3f5f\"}, \"marker\": {\"line\": {\"color\": \"#E5ECF6\", \"width\": 0.5}}, \"type\": \"bar\"}], \"barpolar\": [{\"marker\": {\"line\": {\"color\": \"#E5ECF6\", \"width\": 0.5}}, \"type\": \"barpolar\"}], \"carpet\": [{\"aaxis\": {\"endlinecolor\": \"#2a3f5f\", \"gridcolor\": \"white\", \"linecolor\": \"white\", \"minorgridcolor\": \"white\", \"startlinecolor\": \"#2a3f5f\"}, \"baxis\": {\"endlinecolor\": \"#2a3f5f\", \"gridcolor\": \"white\", \"linecolor\": \"white\", \"minorgridcolor\": \"white\", \"startlinecolor\": \"#2a3f5f\"}, \"type\": \"carpet\"}], \"choropleth\": [{\"colorbar\": {\"outlinewidth\": 0, \"ticks\": \"\"}, \"type\": \"choropleth\"}], \"contour\": [{\"colorbar\": {\"outlinewidth\": 0, \"ticks\": \"\"}, \"colorscale\": [[0.0, \"#0d0887\"], [0.1111111111111111, \"#46039f\"], [0.2222222222222222, \"#7201a8\"], [0.3333333333333333, \"#9c179e\"], [0.4444444444444444, \"#bd3786\"], [0.5555555555555556, \"#d8576b\"], [0.6666666666666666, \"#ed7953\"], [0.7777777777777778, \"#fb9f3a\"], [0.8888888888888888, \"#fdca26\"], [1.0, \"#f0f921\"]], \"type\": \"contour\"}], \"contourcarpet\": [{\"colorbar\": {\"outlinewidth\": 0, \"ticks\": \"\"}, \"type\": \"contourcarpet\"}], \"heatmap\": [{\"colorbar\": {\"outlinewidth\": 0, \"ticks\": \"\"}, \"colorscale\": [[0.0, \"#0d0887\"], [0.1111111111111111, \"#46039f\"], [0.2222222222222222, \"#7201a8\"], [0.3333333333333333, \"#9c179e\"], [0.4444444444444444, \"#bd3786\"], [0.5555555555555556, \"#d8576b\"], [0.6666666666666666, \"#ed7953\"], [0.7777777777777778, \"#fb9f3a\"], [0.8888888888888888, \"#fdca26\"], [1.0, \"#f0f921\"]], \"type\": \"heatmap\"}], \"heatmapgl\": [{\"colorbar\": {\"outlinewidth\": 0, \"ticks\": \"\"}, \"colorscale\": [[0.0, \"#0d0887\"], [0.1111111111111111, \"#46039f\"], [0.2222222222222222, \"#7201a8\"], [0.3333333333333333, \"#9c179e\"], [0.4444444444444444, \"#bd3786\"], [0.5555555555555556, \"#d8576b\"], [0.6666666666666666, \"#ed7953\"], [0.7777777777777778, \"#fb9f3a\"], [0.8888888888888888, \"#fdca26\"], [1.0, \"#f0f921\"]], \"type\": \"heatmapgl\"}], \"histogram\": [{\"marker\": {\"colorbar\": {\"outlinewidth\": 0, \"ticks\": \"\"}}, \"type\": \"histogram\"}], \"histogram2d\": [{\"colorbar\": {\"outlinewidth\": 0, \"ticks\": \"\"}, \"colorscale\": [[0.0, \"#0d0887\"], [0.1111111111111111, \"#46039f\"], [0.2222222222222222, \"#7201a8\"], [0.3333333333333333, \"#9c179e\"], [0.4444444444444444, \"#bd3786\"], [0.5555555555555556, \"#d8576b\"], [0.6666666666666666, \"#ed7953\"], [0.7777777777777778, \"#fb9f3a\"], [0.8888888888888888, \"#fdca26\"], [1.0, \"#f0f921\"]], \"type\": \"histogram2d\"}], \"histogram2dcontour\": [{\"colorbar\": {\"outlinewidth\": 0, \"ticks\": \"\"}, \"colorscale\": [[0.0, \"#0d0887\"], [0.1111111111111111, \"#46039f\"], [0.2222222222222222, \"#7201a8\"], [0.3333333333333333, \"#9c179e\"], [0.4444444444444444, \"#bd3786\"], [0.5555555555555556, \"#d8576b\"], [0.6666666666666666, \"#ed7953\"], [0.7777777777777778, \"#fb9f3a\"], [0.8888888888888888, \"#fdca26\"], [1.0, \"#f0f921\"]], \"type\": \"histogram2dcontour\"}], \"mesh3d\": [{\"colorbar\": {\"outlinewidth\": 0, \"ticks\": \"\"}, \"type\": \"mesh3d\"}], \"parcoords\": [{\"line\": {\"colorbar\": {\"outlinewidth\": 0, \"ticks\": \"\"}}, \"type\": \"parcoords\"}], \"pie\": [{\"automargin\": true, \"type\": \"pie\"}], \"scatter\": [{\"marker\": {\"colorbar\": {\"outlinewidth\": 0, \"ticks\": \"\"}}, \"type\": \"scatter\"}], \"scatter3d\": [{\"line\": {\"colorbar\": {\"outlinewidth\": 0, \"ticks\": \"\"}}, \"marker\": {\"colorbar\": {\"outlinewidth\": 0, \"ticks\": \"\"}}, \"type\": \"scatter3d\"}], \"scattercarpet\": [{\"marker\": {\"colorbar\": {\"outlinewidth\": 0, \"ticks\": \"\"}}, \"type\": \"scattercarpet\"}], \"scattergeo\": [{\"marker\": {\"colorbar\": {\"outlinewidth\": 0, \"ticks\": \"\"}}, \"type\": \"scattergeo\"}], \"scattergl\": [{\"marker\": {\"colorbar\": {\"outlinewidth\": 0, \"ticks\": \"\"}}, \"type\": \"scattergl\"}], \"scattermapbox\": [{\"marker\": {\"colorbar\": {\"outlinewidth\": 0, \"ticks\": \"\"}}, \"type\": \"scattermapbox\"}], \"scatterpolar\": [{\"marker\": {\"colorbar\": {\"outlinewidth\": 0, \"ticks\": \"\"}}, \"type\": \"scatterpolar\"}], \"scatterpolargl\": [{\"marker\": {\"colorbar\": {\"outlinewidth\": 0, \"ticks\": \"\"}}, \"type\": \"scatterpolargl\"}], \"scatterternary\": [{\"marker\": {\"colorbar\": {\"outlinewidth\": 0, \"ticks\": \"\"}}, \"type\": \"scatterternary\"}], \"surface\": [{\"colorbar\": {\"outlinewidth\": 0, \"ticks\": \"\"}, \"colorscale\": [[0.0, \"#0d0887\"], [0.1111111111111111, \"#46039f\"], [0.2222222222222222, \"#7201a8\"], [0.3333333333333333, \"#9c179e\"], [0.4444444444444444, \"#bd3786\"], [0.5555555555555556, \"#d8576b\"], [0.6666666666666666, \"#ed7953\"], [0.7777777777777778, \"#fb9f3a\"], [0.8888888888888888, \"#fdca26\"], [1.0, \"#f0f921\"]], \"type\": \"surface\"}], \"table\": [{\"cells\": {\"fill\": {\"color\": \"#EBF0F8\"}, \"line\": {\"color\": \"white\"}}, \"header\": {\"fill\": {\"color\": \"#C8D4E3\"}, \"line\": {\"color\": \"white\"}}, \"type\": \"table\"}]}, \"layout\": {\"annotationdefaults\": {\"arrowcolor\": \"#2a3f5f\", \"arrowhead\": 0, \"arrowwidth\": 1}, \"autotypenumbers\": \"strict\", \"coloraxis\": {\"colorbar\": {\"outlinewidth\": 0, \"ticks\": \"\"}}, \"colorscale\": {\"diverging\": [[0, \"#8e0152\"], [0.1, \"#c51b7d\"], [0.2, \"#de77ae\"], [0.3, \"#f1b6da\"], [0.4, \"#fde0ef\"], [0.5, \"#f7f7f7\"], [0.6, \"#e6f5d0\"], [0.7, \"#b8e186\"], [0.8, \"#7fbc41\"], [0.9, \"#4d9221\"], [1, \"#276419\"]], \"sequential\": [[0.0, \"#0d0887\"], [0.1111111111111111, \"#46039f\"], [0.2222222222222222, \"#7201a8\"], [0.3333333333333333, \"#9c179e\"], [0.4444444444444444, \"#bd3786\"], [0.5555555555555556, \"#d8576b\"], [0.6666666666666666, \"#ed7953\"], [0.7777777777777778, \"#fb9f3a\"], [0.8888888888888888, \"#fdca26\"], [1.0, \"#f0f921\"]], \"sequentialminus\": [[0.0, \"#0d0887\"], [0.1111111111111111, \"#46039f\"], [0.2222222222222222, \"#7201a8\"], [0.3333333333333333, \"#9c179e\"], [0.4444444444444444, \"#bd3786\"], [0.5555555555555556, \"#d8576b\"], [0.6666666666666666, \"#ed7953\"], [0.7777777777777778, \"#fb9f3a\"], [0.8888888888888888, \"#fdca26\"], [1.0, \"#f0f921\"]]}, \"colorway\": [\"#636efa\", \"#EF553B\", \"#00cc96\", \"#ab63fa\", \"#FFA15A\", \"#19d3f3\", \"#FF6692\", \"#B6E880\", \"#FF97FF\", \"#FECB52\"], \"font\": {\"color\": \"#2a3f5f\"}, \"geo\": {\"bgcolor\": \"white\", \"lakecolor\": \"white\", \"landcolor\": \"#E5ECF6\", \"showlakes\": true, \"showland\": true, \"subunitcolor\": \"white\"}, \"hoverlabel\": {\"align\": \"left\"}, \"hovermode\": \"closest\", \"mapbox\": {\"style\": \"light\"}, \"paper_bgcolor\": \"white\", \"plot_bgcolor\": \"#E5ECF6\", \"polar\": {\"angularaxis\": {\"gridcolor\": \"white\", \"linecolor\": \"white\", \"ticks\": \"\"}, \"bgcolor\": \"#E5ECF6\", \"radialaxis\": {\"gridcolor\": \"white\", \"linecolor\": \"white\", \"ticks\": \"\"}}, \"scene\": {\"xaxis\": {\"backgroundcolor\": \"#E5ECF6\", \"gridcolor\": \"white\", \"gridwidth\": 2, \"linecolor\": \"white\", \"showbackground\": true, \"ticks\": \"\", \"zerolinecolor\": \"white\"}, \"yaxis\": {\"backgroundcolor\": \"#E5ECF6\", \"gridcolor\": \"white\", \"gridwidth\": 2, \"linecolor\": \"white\", \"showbackground\": true, \"ticks\": \"\", \"zerolinecolor\": \"white\"}, \"zaxis\": {\"backgroundcolor\": \"#E5ECF6\", \"gridcolor\": \"white\", \"gridwidth\": 2, \"linecolor\": \"white\", \"showbackground\": true, \"ticks\": \"\", \"zerolinecolor\": \"white\"}}, \"shapedefaults\": {\"line\": {\"color\": \"#2a3f5f\"}}, \"ternary\": {\"aaxis\": {\"gridcolor\": \"white\", \"linecolor\": \"white\", \"ticks\": \"\"}, \"baxis\": {\"gridcolor\": \"white\", \"linecolor\": \"white\", \"ticks\": \"\"}, \"bgcolor\": \"#E5ECF6\", \"caxis\": {\"gridcolor\": \"white\", \"linecolor\": \"white\", \"ticks\": \"\"}}, \"title\": {\"x\": 0.05}, \"xaxis\": {\"automargin\": true, \"gridcolor\": \"white\", \"linecolor\": \"white\", \"ticks\": \"\", \"title\": {\"standoff\": 15}, \"zerolinecolor\": \"white\", \"zerolinewidth\": 2}, \"yaxis\": {\"automargin\": true, \"gridcolor\": \"white\", \"linecolor\": \"white\", \"ticks\": \"\", \"title\": {\"standoff\": 15}, \"zerolinecolor\": \"white\", \"zerolinewidth\": 2}}}, \"title\": {\"font\": {\"size\": 15}, \"text\": \"Las palabras claves de la fecha <b> 2020-08-14</b> son: sospecha, minas, antipersona, liberados, municipios\", \"x\": 0.5, \"xanchor\": \"center\"}, \"width\": 800, \"xaxis\": {\"anchor\": \"y\", \"domain\": [0.0, 1.0]}, \"yaxis\": {\"anchor\": \"x\", \"domain\": [0.0, 1.0]}},                        {\"responsive\": true}                    ).then(function(){\n                            \nvar gd = document.getElementById('433df35f-116e-44e1-a32d-c66a586725dd');\nvar x = new MutationObserver(function (mutations, observer) {{\n        var display = window.getComputedStyle(gd).display;\n        if (!display || display === 'none') {{\n            console.log([gd, 'removed!']);\n            Plotly.purge(gd);\n            observer.disconnect();\n        }}\n}});\n\n// Listen for the removal of the full notebook cells\nvar notebookContainer = gd.closest('#notebook-container');\nif (notebookContainer) {{\n    x.observe(notebookContainer, {childList: true});\n}}\n\n// Listen for the clearing of the current output cell\nvar outputEl = gd.closest('.output');\nif (outputEl) {{\n    x.observe(outputEl, {childList: true});\n}}\n\n                        })                };                });            </script>        </div>"
         },
         "metadata": {},
         "output_type": "display_data"
        }
       ]
      }
     },
     "36f299d053b04f04b9459f40c67decd9": {
      "model_module": "@jupyter-widgets/controls",
      "model_module_version": "1.5.0",
      "model_name": "VBoxModel",
      "state": {
       "_dom_classes": [
        "widget-interact"
       ],
       "children": [
        "IPY_MODEL_56c9f17ac1524d5da7450ac38e90315a",
        "IPY_MODEL_62d9e13c65e846df9471d50916ae937f"
       ],
       "layout": "IPY_MODEL_4e30fb5822274dec89518f96f78a9213"
      }
     },
     "3725f4b955b444a48b1c221327d163ff": {
      "model_module": "@jupyter-widgets/controls",
      "model_module_version": "1.5.0",
      "model_name": "SliderStyleModel",
      "state": {
       "description_width": ""
      }
     },
     "38f868b2447c4c16bf166ac1f22842b4": {
      "model_module": "@jupyter-widgets/base",
      "model_module_version": "1.2.0",
      "model_name": "LayoutModel",
      "state": {}
     },
     "3b7a6295da2444c9ae787fbea95c0c8b": {
      "model_module": "@jupyter-widgets/controls",
      "model_module_version": "1.5.0",
      "model_name": "HBoxModel",
      "state": {
       "children": [
        "IPY_MODEL_5a152572167c41ea9e89bd728354b01d",
        "IPY_MODEL_d0975a01f9384bbeb8293231d005fb4a"
       ],
       "layout": "IPY_MODEL_762e1064894844868157d5e9c00e7ec0"
      }
     },
     "3c953fab267546b39ac61d57adf048b3": {
      "model_module": "@jupyter-widgets/output",
      "model_module_version": "1.0.0",
      "model_name": "OutputModel",
      "state": {
       "layout": "IPY_MODEL_59fdfca5745347c99723538753be3319",
       "outputs": [
        {
         "data": {
          "application/vnd.plotly.v1+json": {
           "config": {
            "plotlyServerURL": "https://plot.ly"
           },
           "data": [
            {
             "mode": "lines",
             "name": "paz",
             "type": "scatter",
             "x": [
              "2020-08-14",
              "2020-08-17",
              "2020-08-18",
              "2020-08-19",
              "2020-08-20",
              "2020-08-21",
              "2020-08-22",
              "2020-08-23",
              "2020-08-24",
              "2020-08-25",
              "2020-08-26",
              "2020-08-27",
              "2020-08-28",
              "2020-08-29",
              "2020-08-30",
              "2020-08-31",
              "2020-09-01",
              "2020-09-02",
              "2020-09-03",
              "2020-09-04",
              "2020-09-07",
              "2020-09-08",
              "2020-09-09",
              "2020-09-10",
              "2020-09-11",
              "2020-09-12",
              "2020-09-15",
              "2020-09-16",
              "2020-09-17",
              "2020-09-18",
              "2020-09-19",
              "2020-09-21",
              "2020-09-22",
              "2020-09-23",
              "2020-09-24",
              "2020-09-25",
              "2020-09-26",
              "2020-09-27",
              "2020-09-28",
              "2020-09-29",
              "2020-09-30",
              "2020-10-01",
              "2020-10-02",
              "2020-10-03",
              "2020-10-05",
              "2020-10-06",
              "2020-10-07",
              "2020-10-08",
              "2020-10-09",
              "2020-10-10",
              "2020-10-13",
              "2020-10-14",
              "2020-10-15",
              "2020-10-16",
              "2020-10-17",
              "2020-10-19",
              "2020-10-20",
              "2020-10-21",
              "2020-10-22",
              "2020-10-23",
              "2020-10-24",
              "2020-10-25",
              "2020-10-26",
              "2020-10-27",
              "2020-10-28",
              "2020-11-06",
              "2020-11-07",
              "2020-11-08",
              "2020-11-09",
              "2020-11-10",
              "2020-11-11",
              "2020-11-12",
              "2020-11-13",
              "2020-11-14",
              "2020-11-15",
              "2020-11-16",
              "2020-11-17",
              "2020-11-18",
              "2020-11-19",
              "2020-11-20",
              "2020-11-21",
              "2020-11-23",
              "2020-11-24",
              "2020-11-25",
              "2020-11-26",
              "2020-11-27",
              "2020-11-28",
              "2020-11-29",
              "2020-11-30",
              "2020-12-01",
              "2020-12-02",
              "2020-12-03",
              "2020-12-04",
              "2020-12-05",
              "2020-12-07",
              "2020-12-09",
              "2020-12-10",
              "2020-12-11",
              "2020-12-12",
              "2020-12-13",
              "2020-12-17",
              "2020-12-18",
              "2020-12-19",
              "2020-12-24",
              "2020-12-28",
              "2020-12-29",
              "2020-12-30",
              "2020-12-31",
              "2021-01-04",
              "2021-01-05",
              "2021-01-06",
              "2021-01-07",
              "2021-01-08",
              "2021-01-10",
              "2021-01-12",
              "2021-01-13",
              "2021-01-14",
              "2021-01-15",
              "2021-01-17",
              "2021-01-18",
              "2021-01-20",
              "2021-01-21",
              "2021-01-22",
              "2021-02-05",
              "2021-02-06",
              "2021-02-09",
              "2021-02-10",
              "2021-02-11",
              "2021-02-12",
              "2021-02-14",
              "2021-02-15",
              "2021-02-16",
              "2021-02-17",
              "2021-02-18",
              "2021-02-19",
              "2021-02-20",
              "2021-02-22",
              "2021-02-23",
              "2021-02-24",
              "2021-02-25",
              "2021-02-26",
              "2021-02-27",
              "2021-03-01",
              "2021-03-02",
              "2021-03-03",
              "2021-03-04",
              "2021-03-05",
              "2021-03-08",
              "2021-03-09",
              "2021-03-11",
              "2021-03-15",
              "2021-03-16",
              "2021-03-17",
              "2021-03-25",
              "2021-03-26",
              "2021-03-27",
              "2021-03-29",
              "2021-04-04",
              "2021-04-05",
              "2021-04-06",
              "2021-04-07",
              "2021-04-08",
              "2021-04-09",
              "2021-04-10",
              "2021-04-12",
              "2021-04-21",
              "2021-04-22",
              "2021-04-23",
              "2021-04-26",
              "2021-04-27",
              "2021-04-28",
              "2021-04-30",
              "2021-05-01",
              "2021-05-02",
              "2021-05-03",
              "2021-05-04",
              "2021-05-05",
              "2021-05-07",
              "2021-05-08",
              "2021-05-09",
              "2021-05-10",
              "2021-05-11",
              "2021-05-12",
              "2021-05-13",
              "2021-05-14",
              "2021-05-17",
              "2021-05-18",
              "2021-05-19",
              "2021-05-21",
              "2021-05-25",
              "2021-05-26",
              "2021-05-27",
              "2021-05-28",
              "2021-05-31",
              "2021-06-01",
              "2021-06-03",
              "2021-06-04",
              "2021-06-05",
              "2021-06-06"
             ],
             "y": [
              8,
              8,
              8,
              8,
              11,
              11,
              12,
              12,
              13,
              15,
              18,
              21,
              30,
              30,
              30,
              30,
              38,
              38,
              40,
              40,
              40,
              40,
              54,
              54,
              54,
              54,
              56,
              101,
              103,
              105,
              106,
              108,
              115,
              116,
              118,
              118,
              120,
              127,
              130,
              130,
              138,
              141,
              143,
              143,
              144,
              145,
              151,
              152,
              154,
              154,
              155,
              155,
              157,
              157,
              157,
              159,
              162,
              162,
              167,
              170,
              171,
              171,
              172,
              189,
              190,
              190,
              190,
              190,
              192,
              192,
              194,
              196,
              196,
              196,
              196,
              196,
              196,
              196,
              196,
              196,
              202,
              204,
              210,
              227,
              233,
              234,
              253,
              253,
              253,
              253,
              253,
              254,
              255,
              263,
              265,
              265,
              269,
              269,
              269,
              269,
              269,
              269,
              269,
              269,
              269,
              269,
              269,
              270,
              270,
              271,
              271,
              271,
              272,
              272,
              272,
              272,
              274,
              275,
              281,
              288,
              288,
              288,
              289,
              317,
              343,
              349,
              349,
              351,
              353,
              353,
              355,
              355,
              371,
              371,
              371,
              371,
              371,
              372,
              407,
              407,
              407,
              414,
              416,
              416,
              417,
              418,
              419,
              419,
              430,
              430,
              431,
              432,
              432,
              436,
              442,
              446,
              446,
              446,
              446,
              448,
              448,
              450,
              480,
              480,
              482,
              484,
              486,
              488,
              488,
              492,
              496,
              496,
              496,
              496,
              496,
              498,
              498,
              498,
              498,
              500,
              501,
              501,
              503,
              504,
              504,
              504,
              507,
              507,
              507,
              507,
              507,
              507,
              507,
              508,
              508,
              508,
              510,
              510,
              514
             ]
            },
            {
             "mode": "lines",
             "name": "fase",
             "type": "scatter",
             "x": [
              "2020-08-14",
              "2020-08-17",
              "2020-08-18",
              "2020-08-19",
              "2020-08-20",
              "2020-08-21",
              "2020-08-22",
              "2020-08-23",
              "2020-08-24",
              "2020-08-25",
              "2020-08-26",
              "2020-08-27",
              "2020-08-28",
              "2020-08-29",
              "2020-08-30",
              "2020-08-31",
              "2020-09-01",
              "2020-09-02",
              "2020-09-03",
              "2020-09-04",
              "2020-09-07",
              "2020-09-08",
              "2020-09-09",
              "2020-09-10",
              "2020-09-11",
              "2020-09-12",
              "2020-09-15",
              "2020-09-16",
              "2020-09-17",
              "2020-09-18",
              "2020-09-19",
              "2020-09-21",
              "2020-09-22",
              "2020-09-23",
              "2020-09-24",
              "2020-09-25",
              "2020-09-26",
              "2020-09-27",
              "2020-09-28",
              "2020-09-29",
              "2020-09-30",
              "2020-10-01",
              "2020-10-02",
              "2020-10-03",
              "2020-10-05",
              "2020-10-06",
              "2020-10-07",
              "2020-10-08",
              "2020-10-09",
              "2020-10-10",
              "2020-10-13",
              "2020-10-14",
              "2020-10-15",
              "2020-10-16",
              "2020-10-17",
              "2020-10-19",
              "2020-10-20",
              "2020-10-21",
              "2020-10-22",
              "2020-10-23",
              "2020-10-24",
              "2020-10-25",
              "2020-10-26",
              "2020-10-27",
              "2020-10-28",
              "2020-11-06",
              "2020-11-07",
              "2020-11-08",
              "2020-11-09",
              "2020-11-10",
              "2020-11-11",
              "2020-11-12",
              "2020-11-13",
              "2020-11-14",
              "2020-11-15",
              "2020-11-16",
              "2020-11-17",
              "2020-11-18",
              "2020-11-19",
              "2020-11-20",
              "2020-11-21",
              "2020-11-23",
              "2020-11-24",
              "2020-11-25",
              "2020-11-26",
              "2020-11-27",
              "2020-11-28",
              "2020-11-29",
              "2020-11-30",
              "2020-12-01",
              "2020-12-02",
              "2020-12-03",
              "2020-12-04",
              "2020-12-05",
              "2020-12-07",
              "2020-12-09",
              "2020-12-10",
              "2020-12-11",
              "2020-12-12",
              "2020-12-13",
              "2020-12-17",
              "2020-12-18",
              "2020-12-19",
              "2020-12-24",
              "2020-12-28",
              "2020-12-29",
              "2020-12-30",
              "2020-12-31",
              "2021-01-04",
              "2021-01-05",
              "2021-01-06",
              "2021-01-07",
              "2021-01-08",
              "2021-01-10",
              "2021-01-12",
              "2021-01-13",
              "2021-01-14",
              "2021-01-15",
              "2021-01-17",
              "2021-01-18",
              "2021-01-20",
              "2021-01-21",
              "2021-01-22",
              "2021-02-05",
              "2021-02-06",
              "2021-02-09",
              "2021-02-10",
              "2021-02-11",
              "2021-02-12",
              "2021-02-14",
              "2021-02-15",
              "2021-02-16",
              "2021-02-17",
              "2021-02-18",
              "2021-02-19",
              "2021-02-20",
              "2021-02-22",
              "2021-02-23",
              "2021-02-24",
              "2021-02-25",
              "2021-02-26",
              "2021-02-27",
              "2021-03-01",
              "2021-03-02",
              "2021-03-03",
              "2021-03-04",
              "2021-03-05",
              "2021-03-08",
              "2021-03-09",
              "2021-03-11",
              "2021-03-15",
              "2021-03-16",
              "2021-03-17",
              "2021-03-25",
              "2021-03-26",
              "2021-03-27",
              "2021-03-29",
              "2021-04-04",
              "2021-04-05",
              "2021-04-06",
              "2021-04-07",
              "2021-04-08",
              "2021-04-09",
              "2021-04-10",
              "2021-04-12",
              "2021-04-21",
              "2021-04-22",
              "2021-04-23",
              "2021-04-26",
              "2021-04-27",
              "2021-04-28",
              "2021-04-30",
              "2021-05-01",
              "2021-05-02",
              "2021-05-03",
              "2021-05-04",
              "2021-05-05",
              "2021-05-07",
              "2021-05-08",
              "2021-05-09",
              "2021-05-10",
              "2021-05-11",
              "2021-05-12",
              "2021-05-13",
              "2021-05-14",
              "2021-05-17",
              "2021-05-18",
              "2021-05-19",
              "2021-05-21",
              "2021-05-25",
              "2021-05-26",
              "2021-05-27",
              "2021-05-28",
              "2021-05-31",
              "2021-06-01",
              "2021-06-03",
              "2021-06-04",
              "2021-06-05",
              "2021-06-06"
             ],
             "y": [
              0,
              1,
              1,
              1,
              1,
              1,
              1,
              1,
              18,
              21,
              21,
              22,
              42,
              42,
              46,
              46,
              46,
              46,
              46,
              46,
              46,
              46,
              63,
              63,
              63,
              63,
              97,
              114,
              131,
              131,
              133,
              150,
              150,
              167,
              184,
              184,
              184,
              184,
              201,
              201,
              201,
              218,
              236,
              237,
              254,
              272,
              273,
              273,
              275,
              275,
              275,
              275,
              275,
              275,
              285,
              285,
              287,
              287,
              304,
              321,
              321,
              321,
              338,
              355,
              355,
              355,
              355,
              355,
              389,
              389,
              423,
              423,
              423,
              423,
              423,
              423,
              423,
              423,
              423,
              423,
              423,
              423,
              440,
              459,
              459,
              460,
              460,
              460,
              460,
              460,
              460,
              477,
              477,
              477,
              477,
              477,
              477,
              477,
              480,
              480,
              480,
              480,
              480,
              480,
              480,
              480,
              480,
              480,
              480,
              480,
              480,
              480,
              480,
              480,
              480,
              480,
              480,
              480,
              480,
              480,
              480,
              480,
              480,
              480,
              480,
              480,
              480,
              514,
              514,
              514,
              514,
              514,
              514,
              514,
              514,
              514,
              514,
              531,
              531,
              531,
              531,
              531,
              531,
              531,
              548,
              548,
              566,
              566,
              566,
              566,
              584,
              584,
              584,
              618,
              652,
              652,
              652,
              652,
              652,
              686,
              686,
              720,
              754,
              754,
              754,
              788,
              822,
              856,
              856,
              890,
              890,
              890,
              890,
              890,
              890,
              890,
              890,
              890,
              890,
              890,
              890,
              890,
              890,
              890,
              890,
              890,
              890,
              890,
              890,
              890,
              890,
              890,
              890,
              890,
              890,
              891,
              891,
              891,
              891
             ]
            },
            {
             "mode": "lines",
             "name": "reparación",
             "type": "scatter",
             "x": [
              "2020-08-14",
              "2020-08-17",
              "2020-08-18",
              "2020-08-19",
              "2020-08-20",
              "2020-08-21",
              "2020-08-22",
              "2020-08-23",
              "2020-08-24",
              "2020-08-25",
              "2020-08-26",
              "2020-08-27",
              "2020-08-28",
              "2020-08-29",
              "2020-08-30",
              "2020-08-31",
              "2020-09-01",
              "2020-09-02",
              "2020-09-03",
              "2020-09-04",
              "2020-09-07",
              "2020-09-08",
              "2020-09-09",
              "2020-09-10",
              "2020-09-11",
              "2020-09-12",
              "2020-09-15",
              "2020-09-16",
              "2020-09-17",
              "2020-09-18",
              "2020-09-19",
              "2020-09-21",
              "2020-09-22",
              "2020-09-23",
              "2020-09-24",
              "2020-09-25",
              "2020-09-26",
              "2020-09-27",
              "2020-09-28",
              "2020-09-29",
              "2020-09-30",
              "2020-10-01",
              "2020-10-02",
              "2020-10-03",
              "2020-10-05",
              "2020-10-06",
              "2020-10-07",
              "2020-10-08",
              "2020-10-09",
              "2020-10-10",
              "2020-10-13",
              "2020-10-14",
              "2020-10-15",
              "2020-10-16",
              "2020-10-17",
              "2020-10-19",
              "2020-10-20",
              "2020-10-21",
              "2020-10-22",
              "2020-10-23",
              "2020-10-24",
              "2020-10-25",
              "2020-10-26",
              "2020-10-27",
              "2020-10-28",
              "2020-11-06",
              "2020-11-07",
              "2020-11-08",
              "2020-11-09",
              "2020-11-10",
              "2020-11-11",
              "2020-11-12",
              "2020-11-13",
              "2020-11-14",
              "2020-11-15",
              "2020-11-16",
              "2020-11-17",
              "2020-11-18",
              "2020-11-19",
              "2020-11-20",
              "2020-11-21",
              "2020-11-23",
              "2020-11-24",
              "2020-11-25",
              "2020-11-26",
              "2020-11-27",
              "2020-11-28",
              "2020-11-29",
              "2020-11-30",
              "2020-12-01",
              "2020-12-02",
              "2020-12-03",
              "2020-12-04",
              "2020-12-05",
              "2020-12-07",
              "2020-12-09",
              "2020-12-10",
              "2020-12-11",
              "2020-12-12",
              "2020-12-13",
              "2020-12-17",
              "2020-12-18",
              "2020-12-19",
              "2020-12-24",
              "2020-12-28",
              "2020-12-29",
              "2020-12-30",
              "2020-12-31",
              "2021-01-04",
              "2021-01-05",
              "2021-01-06",
              "2021-01-07",
              "2021-01-08",
              "2021-01-10",
              "2021-01-12",
              "2021-01-13",
              "2021-01-14",
              "2021-01-15",
              "2021-01-17",
              "2021-01-18",
              "2021-01-20",
              "2021-01-21",
              "2021-01-22",
              "2021-02-05",
              "2021-02-06",
              "2021-02-09",
              "2021-02-10",
              "2021-02-11",
              "2021-02-12",
              "2021-02-14",
              "2021-02-15",
              "2021-02-16",
              "2021-02-17",
              "2021-02-18",
              "2021-02-19",
              "2021-02-20",
              "2021-02-22",
              "2021-02-23",
              "2021-02-24",
              "2021-02-25",
              "2021-02-26",
              "2021-02-27",
              "2021-03-01",
              "2021-03-02",
              "2021-03-03",
              "2021-03-04",
              "2021-03-05",
              "2021-03-08",
              "2021-03-09",
              "2021-03-11",
              "2021-03-15",
              "2021-03-16",
              "2021-03-17",
              "2021-03-25",
              "2021-03-26",
              "2021-03-27",
              "2021-03-29",
              "2021-04-04",
              "2021-04-05",
              "2021-04-06",
              "2021-04-07",
              "2021-04-08",
              "2021-04-09",
              "2021-04-10",
              "2021-04-12",
              "2021-04-21",
              "2021-04-22",
              "2021-04-23",
              "2021-04-26",
              "2021-04-27",
              "2021-04-28",
              "2021-04-30",
              "2021-05-01",
              "2021-05-02",
              "2021-05-03",
              "2021-05-04",
              "2021-05-05",
              "2021-05-07",
              "2021-05-08",
              "2021-05-09",
              "2021-05-10",
              "2021-05-11",
              "2021-05-12",
              "2021-05-13",
              "2021-05-14",
              "2021-05-17",
              "2021-05-18",
              "2021-05-19",
              "2021-05-21",
              "2021-05-25",
              "2021-05-26",
              "2021-05-27",
              "2021-05-28",
              "2021-05-31",
              "2021-06-01",
              "2021-06-03",
              "2021-06-04",
              "2021-06-05",
              "2021-06-06"
             ],
             "y": [
              1,
              1,
              1,
              1,
              1,
              1,
              1,
              1,
              1,
              1,
              2,
              2,
              2,
              2,
              3,
              3,
              4,
              4,
              4,
              4,
              4,
              4,
              9,
              9,
              9,
              9,
              9,
              22,
              22,
              22,
              22,
              22,
              23,
              23,
              23,
              24,
              24,
              24,
              24,
              24,
              24,
              24,
              24,
              24,
              25,
              27,
              30,
              30,
              30,
              30,
              31,
              31,
              31,
              31,
              31,
              31,
              31,
              31,
              31,
              31,
              31,
              31,
              31,
              32,
              32,
              32,
              32,
              32,
              32,
              32,
              32,
              32,
              32,
              32,
              32,
              32,
              32,
              32,
              32,
              32,
              34,
              35,
              35,
              37,
              37,
              38,
              41,
              41,
              41,
              41,
              41,
              42,
              42,
              42,
              42,
              42,
              42,
              42,
              43,
              43,
              43,
              43,
              43,
              43,
              43,
              43,
              43,
              43,
              43,
              43,
              43,
              43,
              43,
              43,
              45,
              45,
              45,
              45,
              45,
              46,
              46,
              47,
              47,
              51,
              53,
              53,
              53,
              53,
              65,
              65,
              67,
              67,
              70,
              70,
              70,
              71,
              71,
              71,
              82,
              83,
              84,
              84,
              85,
              85,
              85,
              85,
              85,
              85,
              92,
              92,
              92,
              95,
              95,
              95,
              95,
              95,
              95,
              95,
              95,
              95,
              95,
              95,
              119,
              119,
              119,
              119,
              119,
              119,
              119,
              119,
              119,
              119,
              119,
              119,
              119,
              121,
              121,
              121,
              121,
              121,
              121,
              121,
              122,
              122,
              122,
              122,
              122,
              122,
              122,
              122,
              122,
              122,
              122,
              123,
              123,
              123,
              123,
              123,
              123
             ]
            },
            {
             "mode": "lines",
             "name": "justicia",
             "type": "scatter",
             "x": [
              "2020-08-14",
              "2020-08-17",
              "2020-08-18",
              "2020-08-19",
              "2020-08-20",
              "2020-08-21",
              "2020-08-22",
              "2020-08-23",
              "2020-08-24",
              "2020-08-25",
              "2020-08-26",
              "2020-08-27",
              "2020-08-28",
              "2020-08-29",
              "2020-08-30",
              "2020-08-31",
              "2020-09-01",
              "2020-09-02",
              "2020-09-03",
              "2020-09-04",
              "2020-09-07",
              "2020-09-08",
              "2020-09-09",
              "2020-09-10",
              "2020-09-11",
              "2020-09-12",
              "2020-09-15",
              "2020-09-16",
              "2020-09-17",
              "2020-09-18",
              "2020-09-19",
              "2020-09-21",
              "2020-09-22",
              "2020-09-23",
              "2020-09-24",
              "2020-09-25",
              "2020-09-26",
              "2020-09-27",
              "2020-09-28",
              "2020-09-29",
              "2020-09-30",
              "2020-10-01",
              "2020-10-02",
              "2020-10-03",
              "2020-10-05",
              "2020-10-06",
              "2020-10-07",
              "2020-10-08",
              "2020-10-09",
              "2020-10-10",
              "2020-10-13",
              "2020-10-14",
              "2020-10-15",
              "2020-10-16",
              "2020-10-17",
              "2020-10-19",
              "2020-10-20",
              "2020-10-21",
              "2020-10-22",
              "2020-10-23",
              "2020-10-24",
              "2020-10-25",
              "2020-10-26",
              "2020-10-27",
              "2020-10-28",
              "2020-11-06",
              "2020-11-07",
              "2020-11-08",
              "2020-11-09",
              "2020-11-10",
              "2020-11-11",
              "2020-11-12",
              "2020-11-13",
              "2020-11-14",
              "2020-11-15",
              "2020-11-16",
              "2020-11-17",
              "2020-11-18",
              "2020-11-19",
              "2020-11-20",
              "2020-11-21",
              "2020-11-23",
              "2020-11-24",
              "2020-11-25",
              "2020-11-26",
              "2020-11-27",
              "2020-11-28",
              "2020-11-29",
              "2020-11-30",
              "2020-12-01",
              "2020-12-02",
              "2020-12-03",
              "2020-12-04",
              "2020-12-05",
              "2020-12-07",
              "2020-12-09",
              "2020-12-10",
              "2020-12-11",
              "2020-12-12",
              "2020-12-13",
              "2020-12-17",
              "2020-12-18",
              "2020-12-19",
              "2020-12-24",
              "2020-12-28",
              "2020-12-29",
              "2020-12-30",
              "2020-12-31",
              "2021-01-04",
              "2021-01-05",
              "2021-01-06",
              "2021-01-07",
              "2021-01-08",
              "2021-01-10",
              "2021-01-12",
              "2021-01-13",
              "2021-01-14",
              "2021-01-15",
              "2021-01-17",
              "2021-01-18",
              "2021-01-20",
              "2021-01-21",
              "2021-01-22",
              "2021-02-05",
              "2021-02-06",
              "2021-02-09",
              "2021-02-10",
              "2021-02-11",
              "2021-02-12",
              "2021-02-14",
              "2021-02-15",
              "2021-02-16",
              "2021-02-17",
              "2021-02-18",
              "2021-02-19",
              "2021-02-20",
              "2021-02-22",
              "2021-02-23",
              "2021-02-24",
              "2021-02-25",
              "2021-02-26",
              "2021-02-27",
              "2021-03-01",
              "2021-03-02",
              "2021-03-03",
              "2021-03-04",
              "2021-03-05",
              "2021-03-08",
              "2021-03-09",
              "2021-03-11",
              "2021-03-15",
              "2021-03-16",
              "2021-03-17",
              "2021-03-25",
              "2021-03-26",
              "2021-03-27",
              "2021-03-29",
              "2021-04-04",
              "2021-04-05",
              "2021-04-06",
              "2021-04-07",
              "2021-04-08",
              "2021-04-09",
              "2021-04-10",
              "2021-04-12",
              "2021-04-21",
              "2021-04-22",
              "2021-04-23",
              "2021-04-26",
              "2021-04-27",
              "2021-04-28",
              "2021-04-30",
              "2021-05-01",
              "2021-05-02",
              "2021-05-03",
              "2021-05-04",
              "2021-05-05",
              "2021-05-07",
              "2021-05-08",
              "2021-05-09",
              "2021-05-10",
              "2021-05-11",
              "2021-05-12",
              "2021-05-13",
              "2021-05-14",
              "2021-05-17",
              "2021-05-18",
              "2021-05-19",
              "2021-05-21",
              "2021-05-25",
              "2021-05-26",
              "2021-05-27",
              "2021-05-28",
              "2021-05-31",
              "2021-06-01",
              "2021-06-03",
              "2021-06-04",
              "2021-06-05",
              "2021-06-06"
             ],
             "y": [
              1,
              2,
              2,
              2,
              3,
              3,
              12,
              12,
              12,
              12,
              12,
              12,
              17,
              18,
              18,
              18,
              23,
              24,
              27,
              28,
              28,
              28,
              37,
              37,
              37,
              37,
              37,
              55,
              57,
              57,
              60,
              60,
              60,
              60,
              60,
              67,
              67,
              70,
              82,
              82,
              82,
              82,
              82,
              90,
              98,
              98,
              110,
              110,
              110,
              111,
              111,
              111,
              111,
              111,
              111,
              111,
              112,
              112,
              112,
              112,
              112,
              113,
              114,
              119,
              120,
              120,
              120,
              120,
              124,
              124,
              124,
              124,
              124,
              124,
              124,
              124,
              124,
              124,
              124,
              125,
              131,
              133,
              133,
              144,
              146,
              150,
              187,
              188,
              188,
              188,
              188,
              190,
              190,
              190,
              190,
              190,
              190,
              190,
              191,
              191,
              191,
              192,
              192,
              192,
              192,
              192,
              192,
              193,
              193,
              193,
              193,
              193,
              193,
              195,
              195,
              195,
              195,
              196,
              196,
              201,
              201,
              201,
              201,
              207,
              223,
              227,
              227,
              227,
              245,
              245,
              245,
              245,
              247,
              247,
              247,
              247,
              247,
              247,
              254,
              254,
              255,
              255,
              256,
              256,
              256,
              256,
              256,
              256,
              283,
              283,
              285,
              285,
              285,
              291,
              291,
              293,
              293,
              293,
              293,
              293,
              293,
              293,
              325,
              325,
              325,
              325,
              325,
              325,
              325,
              325,
              325,
              325,
              325,
              325,
              325,
              329,
              331,
              331,
              331,
              332,
              332,
              332,
              332,
              332,
              332,
              332,
              332,
              332,
              332,
              332,
              332,
              333,
              333,
              335,
              335,
              335,
              335,
              335,
              337
             ]
            },
            {
             "mode": "lines",
             "name": "años",
             "type": "scatter",
             "x": [
              "2020-08-14",
              "2020-08-17",
              "2020-08-18",
              "2020-08-19",
              "2020-08-20",
              "2020-08-21",
              "2020-08-22",
              "2020-08-23",
              "2020-08-24",
              "2020-08-25",
              "2020-08-26",
              "2020-08-27",
              "2020-08-28",
              "2020-08-29",
              "2020-08-30",
              "2020-08-31",
              "2020-09-01",
              "2020-09-02",
              "2020-09-03",
              "2020-09-04",
              "2020-09-07",
              "2020-09-08",
              "2020-09-09",
              "2020-09-10",
              "2020-09-11",
              "2020-09-12",
              "2020-09-15",
              "2020-09-16",
              "2020-09-17",
              "2020-09-18",
              "2020-09-19",
              "2020-09-21",
              "2020-09-22",
              "2020-09-23",
              "2020-09-24",
              "2020-09-25",
              "2020-09-26",
              "2020-09-27",
              "2020-09-28",
              "2020-09-29",
              "2020-09-30",
              "2020-10-01",
              "2020-10-02",
              "2020-10-03",
              "2020-10-05",
              "2020-10-06",
              "2020-10-07",
              "2020-10-08",
              "2020-10-09",
              "2020-10-10",
              "2020-10-13",
              "2020-10-14",
              "2020-10-15",
              "2020-10-16",
              "2020-10-17",
              "2020-10-19",
              "2020-10-20",
              "2020-10-21",
              "2020-10-22",
              "2020-10-23",
              "2020-10-24",
              "2020-10-25",
              "2020-10-26",
              "2020-10-27",
              "2020-10-28",
              "2020-11-06",
              "2020-11-07",
              "2020-11-08",
              "2020-11-09",
              "2020-11-10",
              "2020-11-11",
              "2020-11-12",
              "2020-11-13",
              "2020-11-14",
              "2020-11-15",
              "2020-11-16",
              "2020-11-17",
              "2020-11-18",
              "2020-11-19",
              "2020-11-20",
              "2020-11-21",
              "2020-11-23",
              "2020-11-24",
              "2020-11-25",
              "2020-11-26",
              "2020-11-27",
              "2020-11-28",
              "2020-11-29",
              "2020-11-30",
              "2020-12-01",
              "2020-12-02",
              "2020-12-03",
              "2020-12-04",
              "2020-12-05",
              "2020-12-07",
              "2020-12-09",
              "2020-12-10",
              "2020-12-11",
              "2020-12-12",
              "2020-12-13",
              "2020-12-17",
              "2020-12-18",
              "2020-12-19",
              "2020-12-24",
              "2020-12-28",
              "2020-12-29",
              "2020-12-30",
              "2020-12-31",
              "2021-01-04",
              "2021-01-05",
              "2021-01-06",
              "2021-01-07",
              "2021-01-08",
              "2021-01-10",
              "2021-01-12",
              "2021-01-13",
              "2021-01-14",
              "2021-01-15",
              "2021-01-17",
              "2021-01-18",
              "2021-01-20",
              "2021-01-21",
              "2021-01-22",
              "2021-02-05",
              "2021-02-06",
              "2021-02-09",
              "2021-02-10",
              "2021-02-11",
              "2021-02-12",
              "2021-02-14",
              "2021-02-15",
              "2021-02-16",
              "2021-02-17",
              "2021-02-18",
              "2021-02-19",
              "2021-02-20",
              "2021-02-22",
              "2021-02-23",
              "2021-02-24",
              "2021-02-25",
              "2021-02-26",
              "2021-02-27",
              "2021-03-01",
              "2021-03-02",
              "2021-03-03",
              "2021-03-04",
              "2021-03-05",
              "2021-03-08",
              "2021-03-09",
              "2021-03-11",
              "2021-03-15",
              "2021-03-16",
              "2021-03-17",
              "2021-03-25",
              "2021-03-26",
              "2021-03-27",
              "2021-03-29",
              "2021-04-04",
              "2021-04-05",
              "2021-04-06",
              "2021-04-07",
              "2021-04-08",
              "2021-04-09",
              "2021-04-10",
              "2021-04-12",
              "2021-04-21",
              "2021-04-22",
              "2021-04-23",
              "2021-04-26",
              "2021-04-27",
              "2021-04-28",
              "2021-04-30",
              "2021-05-01",
              "2021-05-02",
              "2021-05-03",
              "2021-05-04",
              "2021-05-05",
              "2021-05-07",
              "2021-05-08",
              "2021-05-09",
              "2021-05-10",
              "2021-05-11",
              "2021-05-12",
              "2021-05-13",
              "2021-05-14",
              "2021-05-17",
              "2021-05-18",
              "2021-05-19",
              "2021-05-21",
              "2021-05-25",
              "2021-05-26",
              "2021-05-27",
              "2021-05-28",
              "2021-05-31",
              "2021-06-01",
              "2021-06-03",
              "2021-06-04",
              "2021-06-05",
              "2021-06-06"
             ],
             "y": [
              15,
              22,
              27,
              32,
              49,
              51,
              62,
              62,
              71,
              98,
              133,
              142,
              158,
              165,
              175,
              179,
              192,
              210,
              227,
              242,
              246,
              268,
              280,
              284,
              284,
              285,
              310,
              342,
              346,
              353,
              361,
              366,
              368,
              371,
              381,
              386,
              389,
              400,
              421,
              434,
              455,
              468,
              481,
              491,
              497,
              506,
              523,
              526,
              538,
              546,
              548,
              557,
              559,
              559,
              562,
              568,
              576,
              576,
              581,
              594,
              603,
              603,
              614,
              622,
              627,
              631,
              643,
              643,
              649,
              671,
              679,
              699,
              707,
              708,
              708,
              711,
              711,
              712,
              712,
              714,
              725,
              748,
              756,
              784,
              799,
              808,
              828,
              829,
              840,
              847,
              848,
              861,
              871,
              878,
              879,
              880,
              898,
              900,
              905,
              905,
              905,
              906,
              907,
              907,
              907,
              907,
              907,
              907,
              910,
              912,
              912,
              912,
              914,
              916,
              922,
              933,
              936,
              946,
              948,
              955,
              955,
              956,
              970,
              1000,
              1034,
              1082,
              1082,
              1088,
              1106,
              1108,
              1114,
              1118,
              1123,
              1132,
              1148,
              1149,
              1153,
              1161,
              1167,
              1174,
              1182,
              1195,
              1204,
              1214,
              1219,
              1225,
              1234,
              1240,
              1252,
              1252,
              1260,
              1278,
              1283,
              1325,
              1363,
              1363,
              1363,
              1363,
              1371,
              1377,
              1385,
              1411,
              1423,
              1427,
              1435,
              1441,
              1447,
              1453,
              1453,
              1473,
              1487,
              1517,
              1517,
              1517,
              1517,
              1517,
              1517,
              1517,
              1519,
              1519,
              1519,
              1519,
              1531,
              1531,
              1531,
              1532,
              1537,
              1541,
              1544,
              1545,
              1546,
              1553,
              1553,
              1564,
              1565,
              1571,
              1583,
              1584,
              1600
             ]
            }
           ],
           "layout": {
            "height": 500,
            "legend": {
             "tracegroupgap": 0
            },
            "margin": {
             "t": 60
            },
            "template": {
             "data": {
              "bar": [
               {
                "error_x": {
                 "color": "#2a3f5f"
                },
                "error_y": {
                 "color": "#2a3f5f"
                },
                "marker": {
                 "line": {
                  "color": "#E5ECF6",
                  "width": 0.5
                 }
                },
                "type": "bar"
               }
              ],
              "barpolar": [
               {
                "marker": {
                 "line": {
                  "color": "#E5ECF6",
                  "width": 0.5
                 }
                },
                "type": "barpolar"
               }
              ],
              "carpet": [
               {
                "aaxis": {
                 "endlinecolor": "#2a3f5f",
                 "gridcolor": "white",
                 "linecolor": "white",
                 "minorgridcolor": "white",
                 "startlinecolor": "#2a3f5f"
                },
                "baxis": {
                 "endlinecolor": "#2a3f5f",
                 "gridcolor": "white",
                 "linecolor": "white",
                 "minorgridcolor": "white",
                 "startlinecolor": "#2a3f5f"
                },
                "type": "carpet"
               }
              ],
              "choropleth": [
               {
                "colorbar": {
                 "outlinewidth": 0,
                 "ticks": ""
                },
                "type": "choropleth"
               }
              ],
              "contour": [
               {
                "colorbar": {
                 "outlinewidth": 0,
                 "ticks": ""
                },
                "colorscale": [
                 [
                  0,
                  "#0d0887"
                 ],
                 [
                  0.1111111111111111,
                  "#46039f"
                 ],
                 [
                  0.2222222222222222,
                  "#7201a8"
                 ],
                 [
                  0.3333333333333333,
                  "#9c179e"
                 ],
                 [
                  0.4444444444444444,
                  "#bd3786"
                 ],
                 [
                  0.5555555555555556,
                  "#d8576b"
                 ],
                 [
                  0.6666666666666666,
                  "#ed7953"
                 ],
                 [
                  0.7777777777777778,
                  "#fb9f3a"
                 ],
                 [
                  0.8888888888888888,
                  "#fdca26"
                 ],
                 [
                  1,
                  "#f0f921"
                 ]
                ],
                "type": "contour"
               }
              ],
              "contourcarpet": [
               {
                "colorbar": {
                 "outlinewidth": 0,
                 "ticks": ""
                },
                "type": "contourcarpet"
               }
              ],
              "heatmap": [
               {
                "colorbar": {
                 "outlinewidth": 0,
                 "ticks": ""
                },
                "colorscale": [
                 [
                  0,
                  "#0d0887"
                 ],
                 [
                  0.1111111111111111,
                  "#46039f"
                 ],
                 [
                  0.2222222222222222,
                  "#7201a8"
                 ],
                 [
                  0.3333333333333333,
                  "#9c179e"
                 ],
                 [
                  0.4444444444444444,
                  "#bd3786"
                 ],
                 [
                  0.5555555555555556,
                  "#d8576b"
                 ],
                 [
                  0.6666666666666666,
                  "#ed7953"
                 ],
                 [
                  0.7777777777777778,
                  "#fb9f3a"
                 ],
                 [
                  0.8888888888888888,
                  "#fdca26"
                 ],
                 [
                  1,
                  "#f0f921"
                 ]
                ],
                "type": "heatmap"
               }
              ],
              "heatmapgl": [
               {
                "colorbar": {
                 "outlinewidth": 0,
                 "ticks": ""
                },
                "colorscale": [
                 [
                  0,
                  "#0d0887"
                 ],
                 [
                  0.1111111111111111,
                  "#46039f"
                 ],
                 [
                  0.2222222222222222,
                  "#7201a8"
                 ],
                 [
                  0.3333333333333333,
                  "#9c179e"
                 ],
                 [
                  0.4444444444444444,
                  "#bd3786"
                 ],
                 [
                  0.5555555555555556,
                  "#d8576b"
                 ],
                 [
                  0.6666666666666666,
                  "#ed7953"
                 ],
                 [
                  0.7777777777777778,
                  "#fb9f3a"
                 ],
                 [
                  0.8888888888888888,
                  "#fdca26"
                 ],
                 [
                  1,
                  "#f0f921"
                 ]
                ],
                "type": "heatmapgl"
               }
              ],
              "histogram": [
               {
                "marker": {
                 "colorbar": {
                  "outlinewidth": 0,
                  "ticks": ""
                 }
                },
                "type": "histogram"
               }
              ],
              "histogram2d": [
               {
                "colorbar": {
                 "outlinewidth": 0,
                 "ticks": ""
                },
                "colorscale": [
                 [
                  0,
                  "#0d0887"
                 ],
                 [
                  0.1111111111111111,
                  "#46039f"
                 ],
                 [
                  0.2222222222222222,
                  "#7201a8"
                 ],
                 [
                  0.3333333333333333,
                  "#9c179e"
                 ],
                 [
                  0.4444444444444444,
                  "#bd3786"
                 ],
                 [
                  0.5555555555555556,
                  "#d8576b"
                 ],
                 [
                  0.6666666666666666,
                  "#ed7953"
                 ],
                 [
                  0.7777777777777778,
                  "#fb9f3a"
                 ],
                 [
                  0.8888888888888888,
                  "#fdca26"
                 ],
                 [
                  1,
                  "#f0f921"
                 ]
                ],
                "type": "histogram2d"
               }
              ],
              "histogram2dcontour": [
               {
                "colorbar": {
                 "outlinewidth": 0,
                 "ticks": ""
                },
                "colorscale": [
                 [
                  0,
                  "#0d0887"
                 ],
                 [
                  0.1111111111111111,
                  "#46039f"
                 ],
                 [
                  0.2222222222222222,
                  "#7201a8"
                 ],
                 [
                  0.3333333333333333,
                  "#9c179e"
                 ],
                 [
                  0.4444444444444444,
                  "#bd3786"
                 ],
                 [
                  0.5555555555555556,
                  "#d8576b"
                 ],
                 [
                  0.6666666666666666,
                  "#ed7953"
                 ],
                 [
                  0.7777777777777778,
                  "#fb9f3a"
                 ],
                 [
                  0.8888888888888888,
                  "#fdca26"
                 ],
                 [
                  1,
                  "#f0f921"
                 ]
                ],
                "type": "histogram2dcontour"
               }
              ],
              "mesh3d": [
               {
                "colorbar": {
                 "outlinewidth": 0,
                 "ticks": ""
                },
                "type": "mesh3d"
               }
              ],
              "parcoords": [
               {
                "line": {
                 "colorbar": {
                  "outlinewidth": 0,
                  "ticks": ""
                 }
                },
                "type": "parcoords"
               }
              ],
              "pie": [
               {
                "automargin": true,
                "type": "pie"
               }
              ],
              "scatter": [
               {
                "marker": {
                 "colorbar": {
                  "outlinewidth": 0,
                  "ticks": ""
                 }
                },
                "type": "scatter"
               }
              ],
              "scatter3d": [
               {
                "line": {
                 "colorbar": {
                  "outlinewidth": 0,
                  "ticks": ""
                 }
                },
                "marker": {
                 "colorbar": {
                  "outlinewidth": 0,
                  "ticks": ""
                 }
                },
                "type": "scatter3d"
               }
              ],
              "scattercarpet": [
               {
                "marker": {
                 "colorbar": {
                  "outlinewidth": 0,
                  "ticks": ""
                 }
                },
                "type": "scattercarpet"
               }
              ],
              "scattergeo": [
               {
                "marker": {
                 "colorbar": {
                  "outlinewidth": 0,
                  "ticks": ""
                 }
                },
                "type": "scattergeo"
               }
              ],
              "scattergl": [
               {
                "marker": {
                 "colorbar": {
                  "outlinewidth": 0,
                  "ticks": ""
                 }
                },
                "type": "scattergl"
               }
              ],
              "scattermapbox": [
               {
                "marker": {
                 "colorbar": {
                  "outlinewidth": 0,
                  "ticks": ""
                 }
                },
                "type": "scattermapbox"
               }
              ],
              "scatterpolar": [
               {
                "marker": {
                 "colorbar": {
                  "outlinewidth": 0,
                  "ticks": ""
                 }
                },
                "type": "scatterpolar"
               }
              ],
              "scatterpolargl": [
               {
                "marker": {
                 "colorbar": {
                  "outlinewidth": 0,
                  "ticks": ""
                 }
                },
                "type": "scatterpolargl"
               }
              ],
              "scatterternary": [
               {
                "marker": {
                 "colorbar": {
                  "outlinewidth": 0,
                  "ticks": ""
                 }
                },
                "type": "scatterternary"
               }
              ],
              "surface": [
               {
                "colorbar": {
                 "outlinewidth": 0,
                 "ticks": ""
                },
                "colorscale": [
                 [
                  0,
                  "#0d0887"
                 ],
                 [
                  0.1111111111111111,
                  "#46039f"
                 ],
                 [
                  0.2222222222222222,
                  "#7201a8"
                 ],
                 [
                  0.3333333333333333,
                  "#9c179e"
                 ],
                 [
                  0.4444444444444444,
                  "#bd3786"
                 ],
                 [
                  0.5555555555555556,
                  "#d8576b"
                 ],
                 [
                  0.6666666666666666,
                  "#ed7953"
                 ],
                 [
                  0.7777777777777778,
                  "#fb9f3a"
                 ],
                 [
                  0.8888888888888888,
                  "#fdca26"
                 ],
                 [
                  1,
                  "#f0f921"
                 ]
                ],
                "type": "surface"
               }
              ],
              "table": [
               {
                "cells": {
                 "fill": {
                  "color": "#EBF0F8"
                 },
                 "line": {
                  "color": "white"
                 }
                },
                "header": {
                 "fill": {
                  "color": "#C8D4E3"
                 },
                 "line": {
                  "color": "white"
                 }
                },
                "type": "table"
               }
              ]
             },
             "layout": {
              "annotationdefaults": {
               "arrowcolor": "#2a3f5f",
               "arrowhead": 0,
               "arrowwidth": 1
              },
              "autotypenumbers": "strict",
              "coloraxis": {
               "colorbar": {
                "outlinewidth": 0,
                "ticks": ""
               }
              },
              "colorscale": {
               "diverging": [
                [
                 0,
                 "#8e0152"
                ],
                [
                 0.1,
                 "#c51b7d"
                ],
                [
                 0.2,
                 "#de77ae"
                ],
                [
                 0.3,
                 "#f1b6da"
                ],
                [
                 0.4,
                 "#fde0ef"
                ],
                [
                 0.5,
                 "#f7f7f7"
                ],
                [
                 0.6,
                 "#e6f5d0"
                ],
                [
                 0.7,
                 "#b8e186"
                ],
                [
                 0.8,
                 "#7fbc41"
                ],
                [
                 0.9,
                 "#4d9221"
                ],
                [
                 1,
                 "#276419"
                ]
               ],
               "sequential": [
                [
                 0,
                 "#0d0887"
                ],
                [
                 0.1111111111111111,
                 "#46039f"
                ],
                [
                 0.2222222222222222,
                 "#7201a8"
                ],
                [
                 0.3333333333333333,
                 "#9c179e"
                ],
                [
                 0.4444444444444444,
                 "#bd3786"
                ],
                [
                 0.5555555555555556,
                 "#d8576b"
                ],
                [
                 0.6666666666666666,
                 "#ed7953"
                ],
                [
                 0.7777777777777778,
                 "#fb9f3a"
                ],
                [
                 0.8888888888888888,
                 "#fdca26"
                ],
                [
                 1,
                 "#f0f921"
                ]
               ],
               "sequentialminus": [
                [
                 0,
                 "#0d0887"
                ],
                [
                 0.1111111111111111,
                 "#46039f"
                ],
                [
                 0.2222222222222222,
                 "#7201a8"
                ],
                [
                 0.3333333333333333,
                 "#9c179e"
                ],
                [
                 0.4444444444444444,
                 "#bd3786"
                ],
                [
                 0.5555555555555556,
                 "#d8576b"
                ],
                [
                 0.6666666666666666,
                 "#ed7953"
                ],
                [
                 0.7777777777777778,
                 "#fb9f3a"
                ],
                [
                 0.8888888888888888,
                 "#fdca26"
                ],
                [
                 1,
                 "#f0f921"
                ]
               ]
              },
              "colorway": [
               "#636efa",
               "#EF553B",
               "#00cc96",
               "#ab63fa",
               "#FFA15A",
               "#19d3f3",
               "#FF6692",
               "#B6E880",
               "#FF97FF",
               "#FECB52"
              ],
              "font": {
               "color": "#2a3f5f"
              },
              "geo": {
               "bgcolor": "white",
               "lakecolor": "white",
               "landcolor": "#E5ECF6",
               "showlakes": true,
               "showland": true,
               "subunitcolor": "white"
              },
              "hoverlabel": {
               "align": "left"
              },
              "hovermode": "closest",
              "mapbox": {
               "style": "light"
              },
              "paper_bgcolor": "white",
              "plot_bgcolor": "#E5ECF6",
              "polar": {
               "angularaxis": {
                "gridcolor": "white",
                "linecolor": "white",
                "ticks": ""
               },
               "bgcolor": "#E5ECF6",
               "radialaxis": {
                "gridcolor": "white",
                "linecolor": "white",
                "ticks": ""
               }
              },
              "scene": {
               "xaxis": {
                "backgroundcolor": "#E5ECF6",
                "gridcolor": "white",
                "gridwidth": 2,
                "linecolor": "white",
                "showbackground": true,
                "ticks": "",
                "zerolinecolor": "white"
               },
               "yaxis": {
                "backgroundcolor": "#E5ECF6",
                "gridcolor": "white",
                "gridwidth": 2,
                "linecolor": "white",
                "showbackground": true,
                "ticks": "",
                "zerolinecolor": "white"
               },
               "zaxis": {
                "backgroundcolor": "#E5ECF6",
                "gridcolor": "white",
                "gridwidth": 2,
                "linecolor": "white",
                "showbackground": true,
                "ticks": "",
                "zerolinecolor": "white"
               }
              },
              "shapedefaults": {
               "line": {
                "color": "#2a3f5f"
               }
              },
              "ternary": {
               "aaxis": {
                "gridcolor": "white",
                "linecolor": "white",
                "ticks": ""
               },
               "baxis": {
                "gridcolor": "white",
                "linecolor": "white",
                "ticks": ""
               },
               "bgcolor": "#E5ECF6",
               "caxis": {
                "gridcolor": "white",
                "linecolor": "white",
                "ticks": ""
               }
              },
              "title": {
               "x": 0.05
              },
              "xaxis": {
               "automargin": true,
               "gridcolor": "white",
               "linecolor": "white",
               "ticks": "",
               "title": {
                "standoff": 15
               },
               "zerolinecolor": "white",
               "zerolinewidth": 2
              },
              "yaxis": {
               "automargin": true,
               "gridcolor": "white",
               "linecolor": "white",
               "ticks": "",
               "title": {
                "standoff": 15
               },
               "zerolinecolor": "white",
               "zerolinewidth": 2
              }
             }
            },
            "title": {
             "font": {
              "size": 15
             },
             "text": "Las palabras claves de la fecha <b> 2020-09-16</b> son: paz, fase, reparación, justicia, años",
             "x": 0.5,
             "xanchor": "center"
            },
            "width": 800,
            "xaxis": {
             "anchor": "y",
             "domain": [
              0,
              1
             ]
            },
            "yaxis": {
             "anchor": "x",
             "domain": [
              0,
              1
             ]
            }
           }
          },
          "text/html": "<div>                            <div id=\"696466fc-8d6f-4e80-a540-a93bc358a3a7\" class=\"plotly-graph-div\" style=\"height:500px; width:800px;\"></div>            <script type=\"text/javascript\">                require([\"plotly\"], function(Plotly) {                    window.PLOTLYENV=window.PLOTLYENV || {};                                    if (document.getElementById(\"696466fc-8d6f-4e80-a540-a93bc358a3a7\")) {                    Plotly.newPlot(                        \"696466fc-8d6f-4e80-a540-a93bc358a3a7\",                        [{\"mode\": \"lines\", \"name\": \"paz\", \"type\": \"scatter\", \"x\": [\"2020-08-14\", \"2020-08-17\", \"2020-08-18\", \"2020-08-19\", \"2020-08-20\", \"2020-08-21\", \"2020-08-22\", \"2020-08-23\", \"2020-08-24\", \"2020-08-25\", \"2020-08-26\", \"2020-08-27\", \"2020-08-28\", \"2020-08-29\", \"2020-08-30\", \"2020-08-31\", \"2020-09-01\", \"2020-09-02\", \"2020-09-03\", \"2020-09-04\", \"2020-09-07\", \"2020-09-08\", \"2020-09-09\", \"2020-09-10\", \"2020-09-11\", \"2020-09-12\", \"2020-09-15\", \"2020-09-16\", \"2020-09-17\", \"2020-09-18\", \"2020-09-19\", \"2020-09-21\", \"2020-09-22\", \"2020-09-23\", \"2020-09-24\", \"2020-09-25\", \"2020-09-26\", \"2020-09-27\", \"2020-09-28\", \"2020-09-29\", \"2020-09-30\", \"2020-10-01\", \"2020-10-02\", \"2020-10-03\", \"2020-10-05\", \"2020-10-06\", \"2020-10-07\", \"2020-10-08\", \"2020-10-09\", \"2020-10-10\", \"2020-10-13\", \"2020-10-14\", \"2020-10-15\", \"2020-10-16\", \"2020-10-17\", \"2020-10-19\", \"2020-10-20\", \"2020-10-21\", \"2020-10-22\", \"2020-10-23\", \"2020-10-24\", \"2020-10-25\", \"2020-10-26\", \"2020-10-27\", \"2020-10-28\", \"2020-11-06\", \"2020-11-07\", \"2020-11-08\", \"2020-11-09\", \"2020-11-10\", \"2020-11-11\", \"2020-11-12\", \"2020-11-13\", \"2020-11-14\", \"2020-11-15\", \"2020-11-16\", \"2020-11-17\", \"2020-11-18\", \"2020-11-19\", \"2020-11-20\", \"2020-11-21\", \"2020-11-23\", \"2020-11-24\", \"2020-11-25\", \"2020-11-26\", \"2020-11-27\", \"2020-11-28\", \"2020-11-29\", \"2020-11-30\", \"2020-12-01\", \"2020-12-02\", \"2020-12-03\", \"2020-12-04\", \"2020-12-05\", \"2020-12-07\", \"2020-12-09\", \"2020-12-10\", \"2020-12-11\", \"2020-12-12\", \"2020-12-13\", \"2020-12-17\", \"2020-12-18\", \"2020-12-19\", \"2020-12-24\", \"2020-12-28\", \"2020-12-29\", \"2020-12-30\", \"2020-12-31\", \"2021-01-04\", \"2021-01-05\", \"2021-01-06\", \"2021-01-07\", \"2021-01-08\", \"2021-01-10\", \"2021-01-12\", \"2021-01-13\", \"2021-01-14\", \"2021-01-15\", \"2021-01-17\", \"2021-01-18\", \"2021-01-20\", \"2021-01-21\", \"2021-01-22\", \"2021-02-05\", \"2021-02-06\", \"2021-02-09\", \"2021-02-10\", \"2021-02-11\", \"2021-02-12\", \"2021-02-14\", \"2021-02-15\", \"2021-02-16\", \"2021-02-17\", \"2021-02-18\", \"2021-02-19\", \"2021-02-20\", \"2021-02-22\", \"2021-02-23\", \"2021-02-24\", \"2021-02-25\", \"2021-02-26\", \"2021-02-27\", \"2021-03-01\", \"2021-03-02\", \"2021-03-03\", \"2021-03-04\", \"2021-03-05\", \"2021-03-08\", \"2021-03-09\", \"2021-03-11\", \"2021-03-15\", \"2021-03-16\", \"2021-03-17\", \"2021-03-25\", \"2021-03-26\", \"2021-03-27\", \"2021-03-29\", \"2021-04-04\", \"2021-04-05\", \"2021-04-06\", \"2021-04-07\", \"2021-04-08\", \"2021-04-09\", \"2021-04-10\", \"2021-04-12\", \"2021-04-21\", \"2021-04-22\", \"2021-04-23\", \"2021-04-26\", \"2021-04-27\", \"2021-04-28\", \"2021-04-30\", \"2021-05-01\", \"2021-05-02\", \"2021-05-03\", \"2021-05-04\", \"2021-05-05\", \"2021-05-07\", \"2021-05-08\", \"2021-05-09\", \"2021-05-10\", \"2021-05-11\", \"2021-05-12\", \"2021-05-13\", \"2021-05-14\", \"2021-05-17\", \"2021-05-18\", \"2021-05-19\", \"2021-05-21\", \"2021-05-25\", \"2021-05-26\", \"2021-05-27\", \"2021-05-28\", \"2021-05-31\", \"2021-06-01\", \"2021-06-03\", \"2021-06-04\", \"2021-06-05\", \"2021-06-06\"], \"y\": [8, 8, 8, 8, 11, 11, 12, 12, 13, 15, 18, 21, 30, 30, 30, 30, 38, 38, 40, 40, 40, 40, 54, 54, 54, 54, 56, 101, 103, 105, 106, 108, 115, 116, 118, 118, 120, 127, 130, 130, 138, 141, 143, 143, 144, 145, 151, 152, 154, 154, 155, 155, 157, 157, 157, 159, 162, 162, 167, 170, 171, 171, 172, 189, 190, 190, 190, 190, 192, 192, 194, 196, 196, 196, 196, 196, 196, 196, 196, 196, 202, 204, 210, 227, 233, 234, 253, 253, 253, 253, 253, 254, 255, 263, 265, 265, 269, 269, 269, 269, 269, 269, 269, 269, 269, 269, 269, 270, 270, 271, 271, 271, 272, 272, 272, 272, 274, 275, 281, 288, 288, 288, 289, 317, 343, 349, 349, 351, 353, 353, 355, 355, 371, 371, 371, 371, 371, 372, 407, 407, 407, 414, 416, 416, 417, 418, 419, 419, 430, 430, 431, 432, 432, 436, 442, 446, 446, 446, 446, 448, 448, 450, 480, 480, 482, 484, 486, 488, 488, 492, 496, 496, 496, 496, 496, 498, 498, 498, 498, 500, 501, 501, 503, 504, 504, 504, 507, 507, 507, 507, 507, 507, 507, 508, 508, 508, 510, 510, 514]}, {\"mode\": \"lines\", \"name\": \"fase\", \"type\": \"scatter\", \"x\": [\"2020-08-14\", \"2020-08-17\", \"2020-08-18\", \"2020-08-19\", \"2020-08-20\", \"2020-08-21\", \"2020-08-22\", \"2020-08-23\", \"2020-08-24\", \"2020-08-25\", \"2020-08-26\", \"2020-08-27\", \"2020-08-28\", \"2020-08-29\", \"2020-08-30\", \"2020-08-31\", \"2020-09-01\", \"2020-09-02\", \"2020-09-03\", \"2020-09-04\", \"2020-09-07\", \"2020-09-08\", \"2020-09-09\", \"2020-09-10\", \"2020-09-11\", \"2020-09-12\", \"2020-09-15\", \"2020-09-16\", \"2020-09-17\", \"2020-09-18\", \"2020-09-19\", \"2020-09-21\", \"2020-09-22\", \"2020-09-23\", \"2020-09-24\", \"2020-09-25\", \"2020-09-26\", \"2020-09-27\", \"2020-09-28\", \"2020-09-29\", \"2020-09-30\", \"2020-10-01\", \"2020-10-02\", \"2020-10-03\", \"2020-10-05\", \"2020-10-06\", \"2020-10-07\", \"2020-10-08\", \"2020-10-09\", \"2020-10-10\", \"2020-10-13\", \"2020-10-14\", \"2020-10-15\", \"2020-10-16\", \"2020-10-17\", \"2020-10-19\", \"2020-10-20\", \"2020-10-21\", \"2020-10-22\", \"2020-10-23\", \"2020-10-24\", \"2020-10-25\", \"2020-10-26\", \"2020-10-27\", \"2020-10-28\", \"2020-11-06\", \"2020-11-07\", \"2020-11-08\", \"2020-11-09\", \"2020-11-10\", \"2020-11-11\", \"2020-11-12\", \"2020-11-13\", \"2020-11-14\", \"2020-11-15\", \"2020-11-16\", \"2020-11-17\", \"2020-11-18\", \"2020-11-19\", \"2020-11-20\", \"2020-11-21\", \"2020-11-23\", \"2020-11-24\", \"2020-11-25\", \"2020-11-26\", \"2020-11-27\", \"2020-11-28\", \"2020-11-29\", \"2020-11-30\", \"2020-12-01\", \"2020-12-02\", \"2020-12-03\", \"2020-12-04\", \"2020-12-05\", \"2020-12-07\", \"2020-12-09\", \"2020-12-10\", \"2020-12-11\", \"2020-12-12\", \"2020-12-13\", \"2020-12-17\", \"2020-12-18\", \"2020-12-19\", \"2020-12-24\", \"2020-12-28\", \"2020-12-29\", \"2020-12-30\", \"2020-12-31\", \"2021-01-04\", \"2021-01-05\", \"2021-01-06\", \"2021-01-07\", \"2021-01-08\", \"2021-01-10\", \"2021-01-12\", \"2021-01-13\", \"2021-01-14\", \"2021-01-15\", \"2021-01-17\", \"2021-01-18\", \"2021-01-20\", \"2021-01-21\", \"2021-01-22\", \"2021-02-05\", \"2021-02-06\", \"2021-02-09\", \"2021-02-10\", \"2021-02-11\", \"2021-02-12\", \"2021-02-14\", \"2021-02-15\", \"2021-02-16\", \"2021-02-17\", \"2021-02-18\", \"2021-02-19\", \"2021-02-20\", \"2021-02-22\", \"2021-02-23\", \"2021-02-24\", \"2021-02-25\", \"2021-02-26\", \"2021-02-27\", \"2021-03-01\", \"2021-03-02\", \"2021-03-03\", \"2021-03-04\", \"2021-03-05\", \"2021-03-08\", \"2021-03-09\", \"2021-03-11\", \"2021-03-15\", \"2021-03-16\", \"2021-03-17\", \"2021-03-25\", \"2021-03-26\", \"2021-03-27\", \"2021-03-29\", \"2021-04-04\", \"2021-04-05\", \"2021-04-06\", \"2021-04-07\", \"2021-04-08\", \"2021-04-09\", \"2021-04-10\", \"2021-04-12\", \"2021-04-21\", \"2021-04-22\", \"2021-04-23\", \"2021-04-26\", \"2021-04-27\", \"2021-04-28\", \"2021-04-30\", \"2021-05-01\", \"2021-05-02\", \"2021-05-03\", \"2021-05-04\", \"2021-05-05\", \"2021-05-07\", \"2021-05-08\", \"2021-05-09\", \"2021-05-10\", \"2021-05-11\", \"2021-05-12\", \"2021-05-13\", \"2021-05-14\", \"2021-05-17\", \"2021-05-18\", \"2021-05-19\", \"2021-05-21\", \"2021-05-25\", \"2021-05-26\", \"2021-05-27\", \"2021-05-28\", \"2021-05-31\", \"2021-06-01\", \"2021-06-03\", \"2021-06-04\", \"2021-06-05\", \"2021-06-06\"], \"y\": [0, 1, 1, 1, 1, 1, 1, 1, 18, 21, 21, 22, 42, 42, 46, 46, 46, 46, 46, 46, 46, 46, 63, 63, 63, 63, 97, 114, 131, 131, 133, 150, 150, 167, 184, 184, 184, 184, 201, 201, 201, 218, 236, 237, 254, 272, 273, 273, 275, 275, 275, 275, 275, 275, 285, 285, 287, 287, 304, 321, 321, 321, 338, 355, 355, 355, 355, 355, 389, 389, 423, 423, 423, 423, 423, 423, 423, 423, 423, 423, 423, 423, 440, 459, 459, 460, 460, 460, 460, 460, 460, 477, 477, 477, 477, 477, 477, 477, 480, 480, 480, 480, 480, 480, 480, 480, 480, 480, 480, 480, 480, 480, 480, 480, 480, 480, 480, 480, 480, 480, 480, 480, 480, 480, 480, 480, 480, 514, 514, 514, 514, 514, 514, 514, 514, 514, 514, 531, 531, 531, 531, 531, 531, 531, 548, 548, 566, 566, 566, 566, 584, 584, 584, 618, 652, 652, 652, 652, 652, 686, 686, 720, 754, 754, 754, 788, 822, 856, 856, 890, 890, 890, 890, 890, 890, 890, 890, 890, 890, 890, 890, 890, 890, 890, 890, 890, 890, 890, 890, 890, 890, 890, 890, 890, 890, 891, 891, 891, 891]}, {\"mode\": \"lines\", \"name\": \"reparaci\\u00f3n\", \"type\": \"scatter\", \"x\": [\"2020-08-14\", \"2020-08-17\", \"2020-08-18\", \"2020-08-19\", \"2020-08-20\", \"2020-08-21\", \"2020-08-22\", \"2020-08-23\", \"2020-08-24\", \"2020-08-25\", \"2020-08-26\", \"2020-08-27\", \"2020-08-28\", \"2020-08-29\", \"2020-08-30\", \"2020-08-31\", \"2020-09-01\", \"2020-09-02\", \"2020-09-03\", \"2020-09-04\", \"2020-09-07\", \"2020-09-08\", \"2020-09-09\", \"2020-09-10\", \"2020-09-11\", \"2020-09-12\", \"2020-09-15\", \"2020-09-16\", \"2020-09-17\", \"2020-09-18\", \"2020-09-19\", \"2020-09-21\", \"2020-09-22\", \"2020-09-23\", \"2020-09-24\", \"2020-09-25\", \"2020-09-26\", \"2020-09-27\", \"2020-09-28\", \"2020-09-29\", \"2020-09-30\", \"2020-10-01\", \"2020-10-02\", \"2020-10-03\", \"2020-10-05\", \"2020-10-06\", \"2020-10-07\", \"2020-10-08\", \"2020-10-09\", \"2020-10-10\", \"2020-10-13\", \"2020-10-14\", \"2020-10-15\", \"2020-10-16\", \"2020-10-17\", \"2020-10-19\", \"2020-10-20\", \"2020-10-21\", \"2020-10-22\", \"2020-10-23\", \"2020-10-24\", \"2020-10-25\", \"2020-10-26\", \"2020-10-27\", \"2020-10-28\", \"2020-11-06\", \"2020-11-07\", \"2020-11-08\", \"2020-11-09\", \"2020-11-10\", \"2020-11-11\", \"2020-11-12\", \"2020-11-13\", \"2020-11-14\", \"2020-11-15\", \"2020-11-16\", \"2020-11-17\", \"2020-11-18\", \"2020-11-19\", \"2020-11-20\", \"2020-11-21\", \"2020-11-23\", \"2020-11-24\", \"2020-11-25\", \"2020-11-26\", \"2020-11-27\", \"2020-11-28\", \"2020-11-29\", \"2020-11-30\", \"2020-12-01\", \"2020-12-02\", \"2020-12-03\", \"2020-12-04\", \"2020-12-05\", \"2020-12-07\", \"2020-12-09\", \"2020-12-10\", \"2020-12-11\", \"2020-12-12\", \"2020-12-13\", \"2020-12-17\", \"2020-12-18\", \"2020-12-19\", \"2020-12-24\", \"2020-12-28\", \"2020-12-29\", \"2020-12-30\", \"2020-12-31\", \"2021-01-04\", \"2021-01-05\", \"2021-01-06\", \"2021-01-07\", \"2021-01-08\", \"2021-01-10\", \"2021-01-12\", \"2021-01-13\", \"2021-01-14\", \"2021-01-15\", \"2021-01-17\", \"2021-01-18\", \"2021-01-20\", \"2021-01-21\", \"2021-01-22\", \"2021-02-05\", \"2021-02-06\", \"2021-02-09\", \"2021-02-10\", \"2021-02-11\", \"2021-02-12\", \"2021-02-14\", \"2021-02-15\", \"2021-02-16\", \"2021-02-17\", \"2021-02-18\", \"2021-02-19\", \"2021-02-20\", \"2021-02-22\", \"2021-02-23\", \"2021-02-24\", \"2021-02-25\", \"2021-02-26\", \"2021-02-27\", \"2021-03-01\", \"2021-03-02\", \"2021-03-03\", \"2021-03-04\", \"2021-03-05\", \"2021-03-08\", \"2021-03-09\", \"2021-03-11\", \"2021-03-15\", \"2021-03-16\", \"2021-03-17\", \"2021-03-25\", \"2021-03-26\", \"2021-03-27\", \"2021-03-29\", \"2021-04-04\", \"2021-04-05\", \"2021-04-06\", \"2021-04-07\", \"2021-04-08\", \"2021-04-09\", \"2021-04-10\", \"2021-04-12\", \"2021-04-21\", \"2021-04-22\", \"2021-04-23\", \"2021-04-26\", \"2021-04-27\", \"2021-04-28\", \"2021-04-30\", \"2021-05-01\", \"2021-05-02\", \"2021-05-03\", \"2021-05-04\", \"2021-05-05\", \"2021-05-07\", \"2021-05-08\", \"2021-05-09\", \"2021-05-10\", \"2021-05-11\", \"2021-05-12\", \"2021-05-13\", \"2021-05-14\", \"2021-05-17\", \"2021-05-18\", \"2021-05-19\", \"2021-05-21\", \"2021-05-25\", \"2021-05-26\", \"2021-05-27\", \"2021-05-28\", \"2021-05-31\", \"2021-06-01\", \"2021-06-03\", \"2021-06-04\", \"2021-06-05\", \"2021-06-06\"], \"y\": [1, 1, 1, 1, 1, 1, 1, 1, 1, 1, 2, 2, 2, 2, 3, 3, 4, 4, 4, 4, 4, 4, 9, 9, 9, 9, 9, 22, 22, 22, 22, 22, 23, 23, 23, 24, 24, 24, 24, 24, 24, 24, 24, 24, 25, 27, 30, 30, 30, 30, 31, 31, 31, 31, 31, 31, 31, 31, 31, 31, 31, 31, 31, 32, 32, 32, 32, 32, 32, 32, 32, 32, 32, 32, 32, 32, 32, 32, 32, 32, 34, 35, 35, 37, 37, 38, 41, 41, 41, 41, 41, 42, 42, 42, 42, 42, 42, 42, 43, 43, 43, 43, 43, 43, 43, 43, 43, 43, 43, 43, 43, 43, 43, 43, 45, 45, 45, 45, 45, 46, 46, 47, 47, 51, 53, 53, 53, 53, 65, 65, 67, 67, 70, 70, 70, 71, 71, 71, 82, 83, 84, 84, 85, 85, 85, 85, 85, 85, 92, 92, 92, 95, 95, 95, 95, 95, 95, 95, 95, 95, 95, 95, 119, 119, 119, 119, 119, 119, 119, 119, 119, 119, 119, 119, 119, 121, 121, 121, 121, 121, 121, 121, 122, 122, 122, 122, 122, 122, 122, 122, 122, 122, 122, 123, 123, 123, 123, 123, 123]}, {\"mode\": \"lines\", \"name\": \"justicia\", \"type\": \"scatter\", \"x\": [\"2020-08-14\", \"2020-08-17\", \"2020-08-18\", \"2020-08-19\", \"2020-08-20\", \"2020-08-21\", \"2020-08-22\", \"2020-08-23\", \"2020-08-24\", \"2020-08-25\", \"2020-08-26\", \"2020-08-27\", \"2020-08-28\", \"2020-08-29\", \"2020-08-30\", \"2020-08-31\", \"2020-09-01\", \"2020-09-02\", \"2020-09-03\", \"2020-09-04\", \"2020-09-07\", \"2020-09-08\", \"2020-09-09\", \"2020-09-10\", \"2020-09-11\", \"2020-09-12\", \"2020-09-15\", \"2020-09-16\", \"2020-09-17\", \"2020-09-18\", \"2020-09-19\", \"2020-09-21\", \"2020-09-22\", \"2020-09-23\", \"2020-09-24\", \"2020-09-25\", \"2020-09-26\", \"2020-09-27\", \"2020-09-28\", \"2020-09-29\", \"2020-09-30\", \"2020-10-01\", \"2020-10-02\", \"2020-10-03\", \"2020-10-05\", \"2020-10-06\", \"2020-10-07\", \"2020-10-08\", \"2020-10-09\", \"2020-10-10\", \"2020-10-13\", \"2020-10-14\", \"2020-10-15\", \"2020-10-16\", \"2020-10-17\", \"2020-10-19\", \"2020-10-20\", \"2020-10-21\", \"2020-10-22\", \"2020-10-23\", \"2020-10-24\", \"2020-10-25\", \"2020-10-26\", \"2020-10-27\", \"2020-10-28\", \"2020-11-06\", \"2020-11-07\", \"2020-11-08\", \"2020-11-09\", \"2020-11-10\", \"2020-11-11\", \"2020-11-12\", \"2020-11-13\", \"2020-11-14\", \"2020-11-15\", \"2020-11-16\", \"2020-11-17\", \"2020-11-18\", \"2020-11-19\", \"2020-11-20\", \"2020-11-21\", \"2020-11-23\", \"2020-11-24\", \"2020-11-25\", \"2020-11-26\", \"2020-11-27\", \"2020-11-28\", \"2020-11-29\", \"2020-11-30\", \"2020-12-01\", \"2020-12-02\", \"2020-12-03\", \"2020-12-04\", \"2020-12-05\", \"2020-12-07\", \"2020-12-09\", \"2020-12-10\", \"2020-12-11\", \"2020-12-12\", \"2020-12-13\", \"2020-12-17\", \"2020-12-18\", \"2020-12-19\", \"2020-12-24\", \"2020-12-28\", \"2020-12-29\", \"2020-12-30\", \"2020-12-31\", \"2021-01-04\", \"2021-01-05\", \"2021-01-06\", \"2021-01-07\", \"2021-01-08\", \"2021-01-10\", \"2021-01-12\", \"2021-01-13\", \"2021-01-14\", \"2021-01-15\", \"2021-01-17\", \"2021-01-18\", \"2021-01-20\", \"2021-01-21\", \"2021-01-22\", \"2021-02-05\", \"2021-02-06\", \"2021-02-09\", \"2021-02-10\", \"2021-02-11\", \"2021-02-12\", \"2021-02-14\", \"2021-02-15\", \"2021-02-16\", \"2021-02-17\", \"2021-02-18\", \"2021-02-19\", \"2021-02-20\", \"2021-02-22\", \"2021-02-23\", \"2021-02-24\", \"2021-02-25\", \"2021-02-26\", \"2021-02-27\", \"2021-03-01\", \"2021-03-02\", \"2021-03-03\", \"2021-03-04\", \"2021-03-05\", \"2021-03-08\", \"2021-03-09\", \"2021-03-11\", \"2021-03-15\", \"2021-03-16\", \"2021-03-17\", \"2021-03-25\", \"2021-03-26\", \"2021-03-27\", \"2021-03-29\", \"2021-04-04\", \"2021-04-05\", \"2021-04-06\", \"2021-04-07\", \"2021-04-08\", \"2021-04-09\", \"2021-04-10\", \"2021-04-12\", \"2021-04-21\", \"2021-04-22\", \"2021-04-23\", \"2021-04-26\", \"2021-04-27\", \"2021-04-28\", \"2021-04-30\", \"2021-05-01\", \"2021-05-02\", \"2021-05-03\", \"2021-05-04\", \"2021-05-05\", \"2021-05-07\", \"2021-05-08\", \"2021-05-09\", \"2021-05-10\", \"2021-05-11\", \"2021-05-12\", \"2021-05-13\", \"2021-05-14\", \"2021-05-17\", \"2021-05-18\", \"2021-05-19\", \"2021-05-21\", \"2021-05-25\", \"2021-05-26\", \"2021-05-27\", \"2021-05-28\", \"2021-05-31\", \"2021-06-01\", \"2021-06-03\", \"2021-06-04\", \"2021-06-05\", \"2021-06-06\"], \"y\": [1, 2, 2, 2, 3, 3, 12, 12, 12, 12, 12, 12, 17, 18, 18, 18, 23, 24, 27, 28, 28, 28, 37, 37, 37, 37, 37, 55, 57, 57, 60, 60, 60, 60, 60, 67, 67, 70, 82, 82, 82, 82, 82, 90, 98, 98, 110, 110, 110, 111, 111, 111, 111, 111, 111, 111, 112, 112, 112, 112, 112, 113, 114, 119, 120, 120, 120, 120, 124, 124, 124, 124, 124, 124, 124, 124, 124, 124, 124, 125, 131, 133, 133, 144, 146, 150, 187, 188, 188, 188, 188, 190, 190, 190, 190, 190, 190, 190, 191, 191, 191, 192, 192, 192, 192, 192, 192, 193, 193, 193, 193, 193, 193, 195, 195, 195, 195, 196, 196, 201, 201, 201, 201, 207, 223, 227, 227, 227, 245, 245, 245, 245, 247, 247, 247, 247, 247, 247, 254, 254, 255, 255, 256, 256, 256, 256, 256, 256, 283, 283, 285, 285, 285, 291, 291, 293, 293, 293, 293, 293, 293, 293, 325, 325, 325, 325, 325, 325, 325, 325, 325, 325, 325, 325, 325, 329, 331, 331, 331, 332, 332, 332, 332, 332, 332, 332, 332, 332, 332, 332, 332, 333, 333, 335, 335, 335, 335, 335, 337]}, {\"mode\": \"lines\", \"name\": \"a\\u00f1os\", \"type\": \"scatter\", \"x\": [\"2020-08-14\", \"2020-08-17\", \"2020-08-18\", \"2020-08-19\", \"2020-08-20\", \"2020-08-21\", \"2020-08-22\", \"2020-08-23\", \"2020-08-24\", \"2020-08-25\", \"2020-08-26\", \"2020-08-27\", \"2020-08-28\", \"2020-08-29\", \"2020-08-30\", \"2020-08-31\", \"2020-09-01\", \"2020-09-02\", \"2020-09-03\", \"2020-09-04\", \"2020-09-07\", \"2020-09-08\", \"2020-09-09\", \"2020-09-10\", \"2020-09-11\", \"2020-09-12\", \"2020-09-15\", \"2020-09-16\", \"2020-09-17\", \"2020-09-18\", \"2020-09-19\", \"2020-09-21\", \"2020-09-22\", \"2020-09-23\", \"2020-09-24\", \"2020-09-25\", \"2020-09-26\", \"2020-09-27\", \"2020-09-28\", \"2020-09-29\", \"2020-09-30\", \"2020-10-01\", \"2020-10-02\", \"2020-10-03\", \"2020-10-05\", \"2020-10-06\", \"2020-10-07\", \"2020-10-08\", \"2020-10-09\", \"2020-10-10\", \"2020-10-13\", \"2020-10-14\", \"2020-10-15\", \"2020-10-16\", \"2020-10-17\", \"2020-10-19\", \"2020-10-20\", \"2020-10-21\", \"2020-10-22\", \"2020-10-23\", \"2020-10-24\", \"2020-10-25\", \"2020-10-26\", \"2020-10-27\", \"2020-10-28\", \"2020-11-06\", \"2020-11-07\", \"2020-11-08\", \"2020-11-09\", \"2020-11-10\", \"2020-11-11\", \"2020-11-12\", \"2020-11-13\", \"2020-11-14\", \"2020-11-15\", \"2020-11-16\", \"2020-11-17\", \"2020-11-18\", \"2020-11-19\", \"2020-11-20\", \"2020-11-21\", \"2020-11-23\", \"2020-11-24\", \"2020-11-25\", \"2020-11-26\", \"2020-11-27\", \"2020-11-28\", \"2020-11-29\", \"2020-11-30\", \"2020-12-01\", \"2020-12-02\", \"2020-12-03\", \"2020-12-04\", \"2020-12-05\", \"2020-12-07\", \"2020-12-09\", \"2020-12-10\", \"2020-12-11\", \"2020-12-12\", \"2020-12-13\", \"2020-12-17\", \"2020-12-18\", \"2020-12-19\", \"2020-12-24\", \"2020-12-28\", \"2020-12-29\", \"2020-12-30\", \"2020-12-31\", \"2021-01-04\", \"2021-01-05\", \"2021-01-06\", \"2021-01-07\", \"2021-01-08\", \"2021-01-10\", \"2021-01-12\", \"2021-01-13\", \"2021-01-14\", \"2021-01-15\", \"2021-01-17\", \"2021-01-18\", \"2021-01-20\", \"2021-01-21\", \"2021-01-22\", \"2021-02-05\", \"2021-02-06\", \"2021-02-09\", \"2021-02-10\", \"2021-02-11\", \"2021-02-12\", \"2021-02-14\", \"2021-02-15\", \"2021-02-16\", \"2021-02-17\", \"2021-02-18\", \"2021-02-19\", \"2021-02-20\", \"2021-02-22\", \"2021-02-23\", \"2021-02-24\", \"2021-02-25\", \"2021-02-26\", \"2021-02-27\", \"2021-03-01\", \"2021-03-02\", \"2021-03-03\", \"2021-03-04\", \"2021-03-05\", \"2021-03-08\", \"2021-03-09\", \"2021-03-11\", \"2021-03-15\", \"2021-03-16\", \"2021-03-17\", \"2021-03-25\", \"2021-03-26\", \"2021-03-27\", \"2021-03-29\", \"2021-04-04\", \"2021-04-05\", \"2021-04-06\", \"2021-04-07\", \"2021-04-08\", \"2021-04-09\", \"2021-04-10\", \"2021-04-12\", \"2021-04-21\", \"2021-04-22\", \"2021-04-23\", \"2021-04-26\", \"2021-04-27\", \"2021-04-28\", \"2021-04-30\", \"2021-05-01\", \"2021-05-02\", \"2021-05-03\", \"2021-05-04\", \"2021-05-05\", \"2021-05-07\", \"2021-05-08\", \"2021-05-09\", \"2021-05-10\", \"2021-05-11\", \"2021-05-12\", \"2021-05-13\", \"2021-05-14\", \"2021-05-17\", \"2021-05-18\", \"2021-05-19\", \"2021-05-21\", \"2021-05-25\", \"2021-05-26\", \"2021-05-27\", \"2021-05-28\", \"2021-05-31\", \"2021-06-01\", \"2021-06-03\", \"2021-06-04\", \"2021-06-05\", \"2021-06-06\"], \"y\": [15, 22, 27, 32, 49, 51, 62, 62, 71, 98, 133, 142, 158, 165, 175, 179, 192, 210, 227, 242, 246, 268, 280, 284, 284, 285, 310, 342, 346, 353, 361, 366, 368, 371, 381, 386, 389, 400, 421, 434, 455, 468, 481, 491, 497, 506, 523, 526, 538, 546, 548, 557, 559, 559, 562, 568, 576, 576, 581, 594, 603, 603, 614, 622, 627, 631, 643, 643, 649, 671, 679, 699, 707, 708, 708, 711, 711, 712, 712, 714, 725, 748, 756, 784, 799, 808, 828, 829, 840, 847, 848, 861, 871, 878, 879, 880, 898, 900, 905, 905, 905, 906, 907, 907, 907, 907, 907, 907, 910, 912, 912, 912, 914, 916, 922, 933, 936, 946, 948, 955, 955, 956, 970, 1000, 1034, 1082, 1082, 1088, 1106, 1108, 1114, 1118, 1123, 1132, 1148, 1149, 1153, 1161, 1167, 1174, 1182, 1195, 1204, 1214, 1219, 1225, 1234, 1240, 1252, 1252, 1260, 1278, 1283, 1325, 1363, 1363, 1363, 1363, 1371, 1377, 1385, 1411, 1423, 1427, 1435, 1441, 1447, 1453, 1453, 1473, 1487, 1517, 1517, 1517, 1517, 1517, 1517, 1517, 1519, 1519, 1519, 1519, 1531, 1531, 1531, 1532, 1537, 1541, 1544, 1545, 1546, 1553, 1553, 1564, 1565, 1571, 1583, 1584, 1600]}],                        {\"height\": 500, \"legend\": {\"tracegroupgap\": 0}, \"margin\": {\"t\": 60}, \"template\": {\"data\": {\"bar\": [{\"error_x\": {\"color\": \"#2a3f5f\"}, \"error_y\": {\"color\": \"#2a3f5f\"}, \"marker\": {\"line\": {\"color\": \"#E5ECF6\", \"width\": 0.5}}, \"type\": \"bar\"}], \"barpolar\": [{\"marker\": {\"line\": {\"color\": \"#E5ECF6\", \"width\": 0.5}}, \"type\": \"barpolar\"}], \"carpet\": [{\"aaxis\": {\"endlinecolor\": \"#2a3f5f\", \"gridcolor\": \"white\", \"linecolor\": \"white\", \"minorgridcolor\": \"white\", \"startlinecolor\": \"#2a3f5f\"}, \"baxis\": {\"endlinecolor\": \"#2a3f5f\", \"gridcolor\": \"white\", \"linecolor\": \"white\", \"minorgridcolor\": \"white\", \"startlinecolor\": \"#2a3f5f\"}, \"type\": \"carpet\"}], \"choropleth\": [{\"colorbar\": {\"outlinewidth\": 0, \"ticks\": \"\"}, \"type\": \"choropleth\"}], \"contour\": [{\"colorbar\": {\"outlinewidth\": 0, \"ticks\": \"\"}, \"colorscale\": [[0.0, \"#0d0887\"], [0.1111111111111111, \"#46039f\"], [0.2222222222222222, \"#7201a8\"], [0.3333333333333333, \"#9c179e\"], [0.4444444444444444, \"#bd3786\"], [0.5555555555555556, \"#d8576b\"], [0.6666666666666666, \"#ed7953\"], [0.7777777777777778, \"#fb9f3a\"], [0.8888888888888888, \"#fdca26\"], [1.0, \"#f0f921\"]], \"type\": \"contour\"}], \"contourcarpet\": [{\"colorbar\": {\"outlinewidth\": 0, \"ticks\": \"\"}, \"type\": \"contourcarpet\"}], \"heatmap\": [{\"colorbar\": {\"outlinewidth\": 0, \"ticks\": \"\"}, \"colorscale\": [[0.0, \"#0d0887\"], [0.1111111111111111, \"#46039f\"], [0.2222222222222222, \"#7201a8\"], [0.3333333333333333, \"#9c179e\"], [0.4444444444444444, \"#bd3786\"], [0.5555555555555556, \"#d8576b\"], [0.6666666666666666, \"#ed7953\"], [0.7777777777777778, \"#fb9f3a\"], [0.8888888888888888, \"#fdca26\"], [1.0, \"#f0f921\"]], \"type\": \"heatmap\"}], \"heatmapgl\": [{\"colorbar\": {\"outlinewidth\": 0, \"ticks\": \"\"}, \"colorscale\": [[0.0, \"#0d0887\"], [0.1111111111111111, \"#46039f\"], [0.2222222222222222, \"#7201a8\"], [0.3333333333333333, \"#9c179e\"], [0.4444444444444444, \"#bd3786\"], [0.5555555555555556, \"#d8576b\"], [0.6666666666666666, \"#ed7953\"], [0.7777777777777778, \"#fb9f3a\"], [0.8888888888888888, \"#fdca26\"], [1.0, \"#f0f921\"]], \"type\": \"heatmapgl\"}], \"histogram\": [{\"marker\": {\"colorbar\": {\"outlinewidth\": 0, \"ticks\": \"\"}}, \"type\": \"histogram\"}], \"histogram2d\": [{\"colorbar\": {\"outlinewidth\": 0, \"ticks\": \"\"}, \"colorscale\": [[0.0, \"#0d0887\"], [0.1111111111111111, \"#46039f\"], [0.2222222222222222, \"#7201a8\"], [0.3333333333333333, \"#9c179e\"], [0.4444444444444444, \"#bd3786\"], [0.5555555555555556, \"#d8576b\"], [0.6666666666666666, \"#ed7953\"], [0.7777777777777778, \"#fb9f3a\"], [0.8888888888888888, \"#fdca26\"], [1.0, \"#f0f921\"]], \"type\": \"histogram2d\"}], \"histogram2dcontour\": [{\"colorbar\": {\"outlinewidth\": 0, \"ticks\": \"\"}, \"colorscale\": [[0.0, \"#0d0887\"], [0.1111111111111111, \"#46039f\"], [0.2222222222222222, \"#7201a8\"], [0.3333333333333333, \"#9c179e\"], [0.4444444444444444, \"#bd3786\"], [0.5555555555555556, \"#d8576b\"], [0.6666666666666666, \"#ed7953\"], [0.7777777777777778, \"#fb9f3a\"], [0.8888888888888888, \"#fdca26\"], [1.0, \"#f0f921\"]], \"type\": \"histogram2dcontour\"}], \"mesh3d\": [{\"colorbar\": {\"outlinewidth\": 0, \"ticks\": \"\"}, \"type\": \"mesh3d\"}], \"parcoords\": [{\"line\": {\"colorbar\": {\"outlinewidth\": 0, \"ticks\": \"\"}}, \"type\": \"parcoords\"}], \"pie\": [{\"automargin\": true, \"type\": \"pie\"}], \"scatter\": [{\"marker\": {\"colorbar\": {\"outlinewidth\": 0, \"ticks\": \"\"}}, \"type\": \"scatter\"}], \"scatter3d\": [{\"line\": {\"colorbar\": {\"outlinewidth\": 0, \"ticks\": \"\"}}, \"marker\": {\"colorbar\": {\"outlinewidth\": 0, \"ticks\": \"\"}}, \"type\": \"scatter3d\"}], \"scattercarpet\": [{\"marker\": {\"colorbar\": {\"outlinewidth\": 0, \"ticks\": \"\"}}, \"type\": \"scattercarpet\"}], \"scattergeo\": [{\"marker\": {\"colorbar\": {\"outlinewidth\": 0, \"ticks\": \"\"}}, \"type\": \"scattergeo\"}], \"scattergl\": [{\"marker\": {\"colorbar\": {\"outlinewidth\": 0, \"ticks\": \"\"}}, \"type\": \"scattergl\"}], \"scattermapbox\": [{\"marker\": {\"colorbar\": {\"outlinewidth\": 0, \"ticks\": \"\"}}, \"type\": \"scattermapbox\"}], \"scatterpolar\": [{\"marker\": {\"colorbar\": {\"outlinewidth\": 0, \"ticks\": \"\"}}, \"type\": \"scatterpolar\"}], \"scatterpolargl\": [{\"marker\": {\"colorbar\": {\"outlinewidth\": 0, \"ticks\": \"\"}}, \"type\": \"scatterpolargl\"}], \"scatterternary\": [{\"marker\": {\"colorbar\": {\"outlinewidth\": 0, \"ticks\": \"\"}}, \"type\": \"scatterternary\"}], \"surface\": [{\"colorbar\": {\"outlinewidth\": 0, \"ticks\": \"\"}, \"colorscale\": [[0.0, \"#0d0887\"], [0.1111111111111111, \"#46039f\"], [0.2222222222222222, \"#7201a8\"], [0.3333333333333333, \"#9c179e\"], [0.4444444444444444, \"#bd3786\"], [0.5555555555555556, \"#d8576b\"], [0.6666666666666666, \"#ed7953\"], [0.7777777777777778, \"#fb9f3a\"], [0.8888888888888888, \"#fdca26\"], [1.0, \"#f0f921\"]], \"type\": \"surface\"}], \"table\": [{\"cells\": {\"fill\": {\"color\": \"#EBF0F8\"}, \"line\": {\"color\": \"white\"}}, \"header\": {\"fill\": {\"color\": \"#C8D4E3\"}, \"line\": {\"color\": \"white\"}}, \"type\": \"table\"}]}, \"layout\": {\"annotationdefaults\": {\"arrowcolor\": \"#2a3f5f\", \"arrowhead\": 0, \"arrowwidth\": 1}, \"autotypenumbers\": \"strict\", \"coloraxis\": {\"colorbar\": {\"outlinewidth\": 0, \"ticks\": \"\"}}, \"colorscale\": {\"diverging\": [[0, \"#8e0152\"], [0.1, \"#c51b7d\"], [0.2, \"#de77ae\"], [0.3, \"#f1b6da\"], [0.4, \"#fde0ef\"], [0.5, \"#f7f7f7\"], [0.6, \"#e6f5d0\"], [0.7, \"#b8e186\"], [0.8, \"#7fbc41\"], [0.9, \"#4d9221\"], [1, \"#276419\"]], \"sequential\": [[0.0, \"#0d0887\"], [0.1111111111111111, \"#46039f\"], [0.2222222222222222, \"#7201a8\"], [0.3333333333333333, \"#9c179e\"], [0.4444444444444444, \"#bd3786\"], [0.5555555555555556, \"#d8576b\"], [0.6666666666666666, \"#ed7953\"], [0.7777777777777778, \"#fb9f3a\"], [0.8888888888888888, \"#fdca26\"], [1.0, \"#f0f921\"]], \"sequentialminus\": [[0.0, \"#0d0887\"], [0.1111111111111111, \"#46039f\"], [0.2222222222222222, \"#7201a8\"], [0.3333333333333333, \"#9c179e\"], [0.4444444444444444, \"#bd3786\"], [0.5555555555555556, \"#d8576b\"], [0.6666666666666666, \"#ed7953\"], [0.7777777777777778, \"#fb9f3a\"], [0.8888888888888888, \"#fdca26\"], [1.0, \"#f0f921\"]]}, \"colorway\": [\"#636efa\", \"#EF553B\", \"#00cc96\", \"#ab63fa\", \"#FFA15A\", \"#19d3f3\", \"#FF6692\", \"#B6E880\", \"#FF97FF\", \"#FECB52\"], \"font\": {\"color\": \"#2a3f5f\"}, \"geo\": {\"bgcolor\": \"white\", \"lakecolor\": \"white\", \"landcolor\": \"#E5ECF6\", \"showlakes\": true, \"showland\": true, \"subunitcolor\": \"white\"}, \"hoverlabel\": {\"align\": \"left\"}, \"hovermode\": \"closest\", \"mapbox\": {\"style\": \"light\"}, \"paper_bgcolor\": \"white\", \"plot_bgcolor\": \"#E5ECF6\", \"polar\": {\"angularaxis\": {\"gridcolor\": \"white\", \"linecolor\": \"white\", \"ticks\": \"\"}, \"bgcolor\": \"#E5ECF6\", \"radialaxis\": {\"gridcolor\": \"white\", \"linecolor\": \"white\", \"ticks\": \"\"}}, \"scene\": {\"xaxis\": {\"backgroundcolor\": \"#E5ECF6\", \"gridcolor\": \"white\", \"gridwidth\": 2, \"linecolor\": \"white\", \"showbackground\": true, \"ticks\": \"\", \"zerolinecolor\": \"white\"}, \"yaxis\": {\"backgroundcolor\": \"#E5ECF6\", \"gridcolor\": \"white\", \"gridwidth\": 2, \"linecolor\": \"white\", \"showbackground\": true, \"ticks\": \"\", \"zerolinecolor\": \"white\"}, \"zaxis\": {\"backgroundcolor\": \"#E5ECF6\", \"gridcolor\": \"white\", \"gridwidth\": 2, \"linecolor\": \"white\", \"showbackground\": true, \"ticks\": \"\", \"zerolinecolor\": \"white\"}}, \"shapedefaults\": {\"line\": {\"color\": \"#2a3f5f\"}}, \"ternary\": {\"aaxis\": {\"gridcolor\": \"white\", \"linecolor\": \"white\", \"ticks\": \"\"}, \"baxis\": {\"gridcolor\": \"white\", \"linecolor\": \"white\", \"ticks\": \"\"}, \"bgcolor\": \"#E5ECF6\", \"caxis\": {\"gridcolor\": \"white\", \"linecolor\": \"white\", \"ticks\": \"\"}}, \"title\": {\"x\": 0.05}, \"xaxis\": {\"automargin\": true, \"gridcolor\": \"white\", \"linecolor\": \"white\", \"ticks\": \"\", \"title\": {\"standoff\": 15}, \"zerolinecolor\": \"white\", \"zerolinewidth\": 2}, \"yaxis\": {\"automargin\": true, \"gridcolor\": \"white\", \"linecolor\": \"white\", \"ticks\": \"\", \"title\": {\"standoff\": 15}, \"zerolinecolor\": \"white\", \"zerolinewidth\": 2}}}, \"title\": {\"font\": {\"size\": 15}, \"text\": \"Las palabras claves de la fecha <b> 2020-09-16</b> son: paz, fase, reparaci\\u00f3n, justicia, a\\u00f1os\", \"x\": 0.5, \"xanchor\": \"center\"}, \"width\": 800, \"xaxis\": {\"anchor\": \"y\", \"domain\": [0.0, 1.0]}, \"yaxis\": {\"anchor\": \"x\", \"domain\": [0.0, 1.0]}},                        {\"responsive\": true}                    ).then(function(){\n                            \nvar gd = document.getElementById('696466fc-8d6f-4e80-a540-a93bc358a3a7');\nvar x = new MutationObserver(function (mutations, observer) {{\n        var display = window.getComputedStyle(gd).display;\n        if (!display || display === 'none') {{\n            console.log([gd, 'removed!']);\n            Plotly.purge(gd);\n            observer.disconnect();\n        }}\n}});\n\n// Listen for the removal of the full notebook cells\nvar notebookContainer = gd.closest('#notebook-container');\nif (notebookContainer) {{\n    x.observe(notebookContainer, {childList: true});\n}}\n\n// Listen for the clearing of the current output cell\nvar outputEl = gd.closest('.output');\nif (outputEl) {{\n    x.observe(outputEl, {childList: true});\n}}\n\n                        })                };                });            </script>        </div>"
         },
         "metadata": {},
         "output_type": "display_data"
        }
       ]
      }
     },
     "3e28ce7f03014b64baa4332033eb85ec": {
      "model_module": "@jupyter-widgets/base",
      "model_module_version": "1.2.0",
      "model_name": "LayoutModel",
      "state": {}
     },
     "3e4d87aa6c2d43fe81b4122d20b69d59": {
      "model_module": "@jupyter-widgets/base",
      "model_module_version": "1.2.0",
      "model_name": "LayoutModel",
      "state": {}
     },
     "3f6d9ede8b794a838096abb4640339b5": {
      "model_module": "@jupyter-widgets/base",
      "model_module_version": "1.2.0",
      "model_name": "LayoutModel",
      "state": {}
     },
     "4dc58ca67fad43e6b2acd7aaa3ca6146": {
      "model_module": "@jupyter-widgets/controls",
      "model_module_version": "1.5.0",
      "model_name": "ProgressStyleModel",
      "state": {
       "description_width": ""
      }
     },
     "4dee4a077e724d6d88d18ec0b35c4dc4": {
      "model_module": "@jupyter-widgets/base",
      "model_module_version": "1.2.0",
      "model_name": "LayoutModel",
      "state": {}
     },
     "4e30fb5822274dec89518f96f78a9213": {
      "model_module": "@jupyter-widgets/base",
      "model_module_version": "1.2.0",
      "model_name": "LayoutModel",
      "state": {}
     },
     "4e66c80922f44bc18b26c8cb92093bc8": {
      "model_module": "@jupyter-widgets/base",
      "model_module_version": "1.2.0",
      "model_name": "LayoutModel",
      "state": {}
     },
     "501662034c7949d19bace3248ea42586": {
      "model_module": "@jupyter-widgets/controls",
      "model_module_version": "1.5.0",
      "model_name": "VBoxModel",
      "state": {
       "children": [
        "IPY_MODEL_3b7a6295da2444c9ae787fbea95c0c8b",
        "IPY_MODEL_bb0304b3cf0842acb5dc75dd08e6a8ac"
       ],
       "layout": "IPY_MODEL_d8374b179c9a4135a3bcf8564521e011"
      }
     },
     "519151c38dec43509419771425ae5625": {
      "model_module": "@jupyter-widgets/controls",
      "model_module_version": "1.5.0",
      "model_name": "DescriptionStyleModel",
      "state": {
       "description_width": ""
      }
     },
     "56c9f17ac1524d5da7450ac38e90315a": {
      "model_module": "@jupyter-widgets/controls",
      "model_module_version": "1.5.0",
      "model_name": "FloatSliderModel",
      "state": {
       "description": "Palabras: ",
       "layout": "IPY_MODEL_75ce8a06e1344139932bc67423c35cdf",
       "max": 198,
       "style": "IPY_MODEL_8cb50bb367684ba08b4e16d3f3b109e7"
      }
     },
     "56f8c518f8e249c5a8c42fd0c2538cfd": {
      "model_module": "@jupyter-widgets/controls",
      "model_module_version": "1.5.0",
      "model_name": "DescriptionStyleModel",
      "state": {
       "description_width": ""
      }
     },
     "57d14111759442bd929d7856459fea20": {
      "model_module": "@jupyter-widgets/base",
      "model_module_version": "1.2.0",
      "model_name": "LayoutModel",
      "state": {}
     },
     "5822fb2e71264159828571a391a518b2": {
      "model_module": "@jupyter-widgets/controls",
      "model_module_version": "1.5.0",
      "model_name": "DropdownModel",
      "state": {
       "_options_labels": [
        "abiertos",
        "abordemos",
        "acumulada",
        "adolescentes",
        "adopción",
        "adriana",
        "advertencia",
        "aeronave",
        "aeropuerto",
        "afrocolombianas",
        "afuera",
        "agenda",
        "agroindustriales",
        "agrosavia",
        "agua",
        "aguilar",
        "alcaldes",
        "alegría",
        "algún",
        "alias",
        "alirio",
        "alivios",
        "almacenamiento",
        "almagro",
        "ambiental",
        "andicom",
        "andinos",
        "andrés",
        "anillo",
        "aníbal",
        "aquiles",
        "aquí",
        "arauca",
        "arterias",
        "artificial",
        "asocapitales",
        "asociativo",
        "asume",
        "ataques",
        "atehortúa",
        "atendido",
        "aulas",
        "autogeneración",
        "autoridad",
        "aves",
        "ayuda",
        "aérea",
        "aéreas",
        "año",
        "años",
        "banquete",
        "billones",
        "binacional",
        "bloqueos",
        "campesinos",
        "capaces",
        "capacidad",
        "capitales",
        "captura",
        "capítulo",
        "carmen",
        "carrera",
        "carteles",
        "cartera",
        "chicles",
        "chile",
        "china",
        "ciudades",
        "clan",
        "clase",
        "colegiales",
        "colegios",
        "coletazo",
        "compromiso",
        "comunal",
        "comunales",
        "comunidad",
        "comunidades",
        "conat",
        "concejal",
        "conductas",
        "conectividad",
        "conectándonos",
        "conservador",
        "constitucional",
        "convencionales",
        "conversación",
        "conversar",
        "corazones",
        "corea",
        "corinto",
        "cortes",
        "cosas",
        "costa",
        "crimen",
        "criminal",
        "crímenes",
        "cuales",
        "cuenca",
        "cuerpo",
        "cultural",
        "deberes",
        "defensoría",
        "deportistas",
        "deportiva",
        "depuración",
        "desigualdades",
        "despliegue",
        "dian",
        "diferencias",
        "digital",
        "doctora",
        "domiciliarios",
        "dos",
        "día",
        "elecciones",
        "electoral",
        "electrónico",
        "elsa",
        "emisiones",
        "emisión",
        "empleado",
        "empresa",
        "empresarial",
        "energía",
        "energías",
        "equipares",
        "equipo",
        "equivalen",
        "escolar",
        "escombros",
        "escucharnos",
        "esencialmente",
        "eventual",
        "evitemos",
        "exportaciones",
        "exportación",
        "exterior",
        "fallecidas",
        "familia",
        "familiares",
        "familias",
        "farc",
        "federaciones",
        "fedesarrollo",
        "fenalco",
        "festival",
        "finanzas",
        "fintec",
        "firmamos",
        "fiscal",
        "fuerzas",
        "funcional",
        "funciones",
        "fundación",
        "furia",
        "fábrica",
        "félix",
        "férreas",
        "galindo",
        "ganaderos",
        "garantizar",
        "gases",
        "general",
        "gobernadores",
        "gobierno",
        "golfo",
        "guardaparques",
        "guaviare",
        "guillermo",
        "habilidades",
        "habilitar",
        "habitantes",
        "hablando",
        "habló",
        "herramientas",
        "herreros",
        "homicidios",
        "honorables",
        "hu",
        "humanos",
        "humboldt",
        "huracán",
        "indicadores",
        "indignación",
        "industria",
        "industrias",
        "infinita",
        "iniciar",
        "inspiratic",
        "instituciones",
        "institución",
        "integración",
        "integral",
        "interior",
        "invernadero",
        "invernal",
        "inversionistas",
        "inversión",
        "invitados",
        "islas",
        "iva",
        "jaime",
        "jóvenes",
        "karen",
        "kilómetros",
        "laboral",
        "labores",
        "lan",
        "lavador",
        "leary",
        "leve",
        "limpia",
        "local",
        "mangles",
        "mantenerse",
        "mayores",
        "maíz",
        "medellín",
        "medios",
        "megas",
        "mejora",
        "mendoza",
        "mensaje",
        "mes",
        "mesa",
        "meta",
        "migrantes",
        "migratoria",
        "mil",
        "militares",
        "millones",
        "millón",
        "minas",
        "minerales",
        "minero",
        "mineros",
        "minería",
        "ministra",
        "miércoles",
        "moda",
        "muestras",
        "mujer",
        "mujeres",
        "multilateral",
        "multilateralismo",
        "multinacional",
        "municipios",
        "nacional",
        "nacionales",
        "naciones",
        "naranja",
        "narcotalia",
        "narcoterrorismo",
        "naturaleza",
        "navidad",
        "negociaciones",
        "negras",
        "nemesio",
        "ningún",
        "niños",
        "nocturnas",
        "normas",
        "normativa",
        "notariado",
        "nubank",
        "nuevo",
        "nunca",
        "obligatoriedad",
        "obras",
        "ocaña",
        "ocde",
        "oferta",
        "oficiales",
        "oleonorte",
        "ollas",
        "omega",
        "operacional",
        "orden",
        "orión",
        "palenqueras",
        "palma",
        "palmicultores",
        "pamplona",
        "parques",
        "participación",
        "partido",
        "países",
        "pdet",
        "penales",
        "pensamiento",
        "pensamos",
        "planeta",
        "plantean",
        "policial",
        "posterior",
        "precipitaciones",
        "presentado",
        "presidente",
        "presidentes",
        "presupuesto",
        "privado",
        "productores",
        "profesores",
        "programa",
        "programadores",
        "programas",
        "provocaciones",
        "proyecto",
        "proyectos",
        "prudencia",
        "pruebas",
        "pueden",
        "raizales",
        "rama",
        "regiones",
        "registra",
        "registrada",
        "renovables",
        "reparación",
        "reporte",
        "rescatistas",
        "resiliencia",
        "responsable",
        "responsables",
        "respuesta",
        "restablece",
        "retos",
        "revisando",
        "revolucionarios",
        "revolución",
        "ricardo",
        "rural",
        "rutas",
        "rápida",
        "régimen",
        "río",
        "sabemos",
        "sabios",
        "sacamos",
        "sagasti",
        "salarial",
        "san",
        "sanciones",
        "sandra",
        "saneamiento",
        "santandereanos",
        "santiago",
        "seguirá",
        "seguros",
        "selección",
        "sello",
        "semanas",
        "semestre",
        "sena",
        "señores",
        "si",
        "sillas",
        "sinchi",
        "sindicado",
        "sobrevuelo",
        "social",
        "soluciones",
        "sospecha",
        "sostenible",
        "subsidios",
        "subteniente",
        "sucre",
        "temas",
        "temporal",
        "tensión",
        "terminal",
        "tic",
        "tolima",
        "toneladas",
        "tono",
        "total",
        "trabajadores",
        "trabajaremos",
        "trabajo",
        "transformación",
        "transicional",
        "transnacionales",
        "transparencia",
        "tratemos",
        "ubicamos",
        "unida",
        "unidos",
        "unificado",
        "uniforme",
        "urabá",
        "urbanos",
        "usted",
        "ustedes",
        "vacuna",
        "vacunas",
        "valle",
        "valledupar",
        "veteranos",
        "vial",
        "viernes",
        "vigilancia",
        "violencia",
        "vive",
        "viviendas",
        "viéramos",
        "votante",
        "vulnerables",
        "vías",
        "víctimas",
        "wilson",
        "yopal"
       ],
       "description": "Evolución de la palabra clave:",
       "index": 0,
       "layout": "IPY_MODEL_38f868b2447c4c16bf166ac1f22842b4",
       "style": "IPY_MODEL_36545eadb8c04f9fa824a827354e859a"
      }
     },
     "59fdfca5745347c99723538753be3319": {
      "model_module": "@jupyter-widgets/base",
      "model_module_version": "1.2.0",
      "model_name": "LayoutModel",
      "state": {}
     },
     "5a152572167c41ea9e89bd728354b01d": {
      "model_module": "@jupyter-widgets/controls",
      "model_module_version": "1.5.0",
      "model_name": "DropdownModel",
      "state": {
       "_options_labels": [
        "abiertos",
        "abordemos",
        "acumulada",
        "adolescentes",
        "adopción",
        "adriana",
        "advertencia",
        "aeronave",
        "aeropuerto",
        "afrocolombianas",
        "afuera",
        "agenda",
        "agroindustriales",
        "agrosavia",
        "agua",
        "aguilar",
        "alcaldes",
        "alegría",
        "algún",
        "alias",
        "alirio",
        "alivios",
        "almacenamiento",
        "almagro",
        "ambiental",
        "andicom",
        "andinos",
        "andrés",
        "anillo",
        "aníbal",
        "aquiles",
        "aquí",
        "arauca",
        "arterias",
        "artificial",
        "asocapitales",
        "asociativo",
        "asume",
        "ataques",
        "atehortúa",
        "atendido",
        "aulas",
        "autogeneración",
        "autoridad",
        "aves",
        "ayuda",
        "aérea",
        "aéreas",
        "año",
        "años",
        "banquete",
        "billones",
        "binacional",
        "bloqueos",
        "campesinos",
        "capaces",
        "capacidad",
        "capitales",
        "captura",
        "capítulo",
        "carmen",
        "carrera",
        "carteles",
        "cartera",
        "chicles",
        "chile",
        "china",
        "ciudades",
        "clan",
        "clase",
        "colegiales",
        "colegios",
        "coletazo",
        "compromiso",
        "comunal",
        "comunales",
        "comunidad",
        "comunidades",
        "conat",
        "concejal",
        "conductas",
        "conectividad",
        "conectándonos",
        "conservador",
        "constitucional",
        "convencionales",
        "conversación",
        "conversar",
        "corazones",
        "corea",
        "corinto",
        "cortes",
        "cosas",
        "costa",
        "crimen",
        "criminal",
        "crímenes",
        "cuales",
        "cuenca",
        "cuerpo",
        "cultural",
        "deberes",
        "defensoría",
        "deportistas",
        "deportiva",
        "depuración",
        "desigualdades",
        "despliegue",
        "dian",
        "diferencias",
        "digital",
        "doctora",
        "domiciliarios",
        "dos",
        "día",
        "elecciones",
        "electoral",
        "electrónico",
        "elsa",
        "emisiones",
        "emisión",
        "empleado",
        "empresa",
        "empresarial",
        "energía",
        "energías",
        "equipares",
        "equipo",
        "equivalen",
        "escolar",
        "escombros",
        "escucharnos",
        "esencialmente",
        "eventual",
        "evitemos",
        "exportaciones",
        "exportación",
        "exterior",
        "fallecidas",
        "familia",
        "familiares",
        "familias",
        "farc",
        "federaciones",
        "fedesarrollo",
        "fenalco",
        "festival",
        "finanzas",
        "fintec",
        "firmamos",
        "fiscal",
        "fuerzas",
        "funcional",
        "funciones",
        "fundación",
        "furia",
        "fábrica",
        "félix",
        "férreas",
        "galindo",
        "ganaderos",
        "garantizar",
        "gases",
        "general",
        "gobernadores",
        "gobierno",
        "golfo",
        "guardaparques",
        "guaviare",
        "guillermo",
        "habilidades",
        "habilitar",
        "habitantes",
        "hablando",
        "habló",
        "herramientas",
        "herreros",
        "homicidios",
        "honorables",
        "hu",
        "humanos",
        "humboldt",
        "huracán",
        "indicadores",
        "indignación",
        "industria",
        "industrias",
        "infinita",
        "iniciar",
        "inspiratic",
        "instituciones",
        "institución",
        "integración",
        "integral",
        "interior",
        "invernadero",
        "invernal",
        "inversionistas",
        "inversión",
        "invitados",
        "islas",
        "iva",
        "jaime",
        "jóvenes",
        "karen",
        "kilómetros",
        "laboral",
        "labores",
        "lan",
        "lavador",
        "leary",
        "leve",
        "limpia",
        "local",
        "mangles",
        "mantenerse",
        "mayores",
        "maíz",
        "medellín",
        "medios",
        "megas",
        "mejora",
        "mendoza",
        "mensaje",
        "mes",
        "mesa",
        "meta",
        "migrantes",
        "migratoria",
        "mil",
        "militares",
        "millones",
        "millón",
        "minas",
        "minerales",
        "minero",
        "mineros",
        "minería",
        "ministra",
        "miércoles",
        "moda",
        "muestras",
        "mujer",
        "mujeres",
        "multilateral",
        "multilateralismo",
        "multinacional",
        "municipios",
        "nacional",
        "nacionales",
        "naciones",
        "naranja",
        "narcotalia",
        "narcoterrorismo",
        "naturaleza",
        "navidad",
        "negociaciones",
        "negras",
        "nemesio",
        "ningún",
        "niños",
        "nocturnas",
        "normas",
        "normativa",
        "notariado",
        "nubank",
        "nuevo",
        "nunca",
        "obligatoriedad",
        "obras",
        "ocaña",
        "ocde",
        "oferta",
        "oficiales",
        "oleonorte",
        "ollas",
        "omega",
        "operacional",
        "orden",
        "orión",
        "palenqueras",
        "palma",
        "palmicultores",
        "pamplona",
        "parques",
        "participación",
        "partido",
        "países",
        "pdet",
        "penales",
        "pensamiento",
        "pensamos",
        "planeta",
        "plantean",
        "policial",
        "posterior",
        "precipitaciones",
        "presentado",
        "presidente",
        "presidentes",
        "presupuesto",
        "privado",
        "productores",
        "profesores",
        "programa",
        "programadores",
        "programas",
        "provocaciones",
        "proyecto",
        "proyectos",
        "prudencia",
        "pruebas",
        "pueden",
        "raizales",
        "rama",
        "regiones",
        "registra",
        "registrada",
        "renovables",
        "reparación",
        "reporte",
        "rescatistas",
        "resiliencia",
        "responsable",
        "responsables",
        "respuesta",
        "restablece",
        "retos",
        "revisando",
        "revolucionarios",
        "revolución",
        "ricardo",
        "rural",
        "rutas",
        "rápida",
        "régimen",
        "río",
        "sabemos",
        "sabios",
        "sacamos",
        "sagasti",
        "salarial",
        "san",
        "sanciones",
        "sandra",
        "saneamiento",
        "santandereanos",
        "santiago",
        "seguirá",
        "seguros",
        "selección",
        "sello",
        "semanas",
        "semestre",
        "sena",
        "señores",
        "si",
        "sillas",
        "sinchi",
        "sindicado",
        "sobrevuelo",
        "social",
        "soluciones",
        "sospecha",
        "sostenible",
        "subsidios",
        "subteniente",
        "sucre",
        "temas",
        "temporal",
        "tensión",
        "terminal",
        "tic",
        "tolima",
        "toneladas",
        "tono",
        "total",
        "trabajadores",
        "trabajaremos",
        "trabajo",
        "transformación",
        "transicional",
        "transnacionales",
        "transparencia",
        "tratemos",
        "ubicamos",
        "unida",
        "unidos",
        "unificado",
        "uniforme",
        "urabá",
        "urbanos",
        "usted",
        "ustedes",
        "vacuna",
        "vacunas",
        "valle",
        "valledupar",
        "veteranos",
        "vial",
        "viernes",
        "vigilancia",
        "violencia",
        "vive",
        "viviendas",
        "viéramos",
        "votante",
        "vulnerables",
        "vías",
        "víctimas",
        "wilson",
        "yopal"
       ],
       "description": "Evolución de la palabra clave:",
       "index": 0,
       "layout": "IPY_MODEL_cdaf4ceccbf5437e89e9bee566b390eb",
       "style": "IPY_MODEL_84b38e36f4e147a3adcee0e61b4677c0"
      }
     },
     "62700f27156546a8a65f3f24968d24a8": {
      "model_module": "@jupyter-widgets/base",
      "model_module_version": "1.2.0",
      "model_name": "LayoutModel",
      "state": {}
     },
     "62bac44c9c914100bbea6cb8cf396eef": {
      "model_module": "@jupyter-widgets/base",
      "model_module_version": "1.2.0",
      "model_name": "LayoutModel",
      "state": {}
     },
     "62cbbf9f03f04e49b0dc5db6fb03e282": {
      "model_module": "@jupyter-widgets/base",
      "model_module_version": "1.2.0",
      "model_name": "LayoutModel",
      "state": {}
     },
     "62d9e13c65e846df9471d50916ae937f": {
      "model_module": "@jupyter-widgets/output",
      "model_module_version": "1.0.0",
      "model_name": "OutputModel",
      "state": {
       "layout": "IPY_MODEL_57d14111759442bd929d7856459fea20",
       "outputs": [
        {
         "data": {
          "application/vnd.plotly.v1+json": {
           "config": {
            "plotlyServerURL": "https://plot.ly"
           },
           "data": [
            {
             "mode": "lines",
             "name": "sospecha",
             "type": "scatter",
             "x": [
              "2020-08-14",
              "2020-08-17",
              "2020-08-18",
              "2020-08-19",
              "2020-08-20",
              "2020-08-21",
              "2020-08-22",
              "2020-08-23",
              "2020-08-24",
              "2020-08-25",
              "2020-08-26",
              "2020-08-27",
              "2020-08-28",
              "2020-08-29",
              "2020-08-30",
              "2020-08-31",
              "2020-09-01",
              "2020-09-02",
              "2020-09-03",
              "2020-09-04",
              "2020-09-07",
              "2020-09-08",
              "2020-09-09",
              "2020-09-10",
              "2020-09-11",
              "2020-09-12",
              "2020-09-15",
              "2020-09-16",
              "2020-09-17",
              "2020-09-18",
              "2020-09-19",
              "2020-09-21",
              "2020-09-22",
              "2020-09-23",
              "2020-09-24",
              "2020-09-25",
              "2020-09-26",
              "2020-09-27",
              "2020-09-28",
              "2020-09-29",
              "2020-09-30",
              "2020-10-01",
              "2020-10-02",
              "2020-10-03",
              "2020-10-05",
              "2020-10-06",
              "2020-10-07",
              "2020-10-08",
              "2020-10-09",
              "2020-10-10",
              "2020-10-13",
              "2020-10-14",
              "2020-10-15",
              "2020-10-16",
              "2020-10-17",
              "2020-10-19",
              "2020-10-20",
              "2020-10-21",
              "2020-10-22",
              "2020-10-23",
              "2020-10-24",
              "2020-10-25",
              "2020-10-26",
              "2020-10-27",
              "2020-10-28",
              "2020-11-06",
              "2020-11-07",
              "2020-11-08",
              "2020-11-09",
              "2020-11-10",
              "2020-11-11",
              "2020-11-12",
              "2020-11-13",
              "2020-11-14",
              "2020-11-15",
              "2020-11-16",
              "2020-11-17",
              "2020-11-18",
              "2020-11-19",
              "2020-11-20",
              "2020-11-21",
              "2020-11-23",
              "2020-11-24",
              "2020-11-25",
              "2020-11-26",
              "2020-11-27",
              "2020-11-28",
              "2020-11-29",
              "2020-11-30",
              "2020-12-01",
              "2020-12-02",
              "2020-12-03",
              "2020-12-04",
              "2020-12-05",
              "2020-12-07",
              "2020-12-09",
              "2020-12-10",
              "2020-12-11",
              "2020-12-12",
              "2020-12-13",
              "2020-12-17",
              "2020-12-18",
              "2020-12-19",
              "2020-12-24",
              "2020-12-28",
              "2020-12-29",
              "2020-12-30",
              "2020-12-31",
              "2021-01-04",
              "2021-01-05",
              "2021-01-06",
              "2021-01-07",
              "2021-01-08",
              "2021-01-10",
              "2021-01-12",
              "2021-01-13",
              "2021-01-14",
              "2021-01-15",
              "2021-01-17",
              "2021-01-18",
              "2021-01-20",
              "2021-01-21",
              "2021-01-22",
              "2021-02-05",
              "2021-02-06",
              "2021-02-09",
              "2021-02-10",
              "2021-02-11",
              "2021-02-12",
              "2021-02-14",
              "2021-02-15",
              "2021-02-16",
              "2021-02-17",
              "2021-02-18",
              "2021-02-19",
              "2021-02-20",
              "2021-02-22",
              "2021-02-23",
              "2021-02-24",
              "2021-02-25",
              "2021-02-26",
              "2021-02-27",
              "2021-03-01",
              "2021-03-02",
              "2021-03-03",
              "2021-03-04",
              "2021-03-05",
              "2021-03-08",
              "2021-03-09",
              "2021-03-11",
              "2021-03-15",
              "2021-03-16",
              "2021-03-17",
              "2021-03-25",
              "2021-03-26",
              "2021-03-27",
              "2021-03-29",
              "2021-04-04",
              "2021-04-05",
              "2021-04-06",
              "2021-04-07",
              "2021-04-08",
              "2021-04-09",
              "2021-04-10",
              "2021-04-12",
              "2021-04-21",
              "2021-04-22",
              "2021-04-23",
              "2021-04-26",
              "2021-04-27",
              "2021-04-28",
              "2021-04-30",
              "2021-05-01",
              "2021-05-02",
              "2021-05-03",
              "2021-05-04",
              "2021-05-05",
              "2021-05-07",
              "2021-05-08",
              "2021-05-09",
              "2021-05-10",
              "2021-05-11",
              "2021-05-12",
              "2021-05-13",
              "2021-05-14",
              "2021-05-17",
              "2021-05-18",
              "2021-05-19",
              "2021-05-21",
              "2021-05-25",
              "2021-05-26",
              "2021-05-27",
              "2021-05-28",
              "2021-05-31",
              "2021-06-01",
              "2021-06-03",
              "2021-06-04",
              "2021-06-05",
              "2021-06-06"
             ],
             "y": [
              13,
              13,
              13,
              13,
              13,
              13,
              13,
              13,
              13,
              13,
              13,
              13,
              13,
              13,
              13,
              13,
              13,
              13,
              13,
              13,
              13,
              13,
              13,
              13,
              13,
              13,
              13,
              13,
              13,
              13,
              13,
              13,
              13,
              13,
              13,
              13,
              13,
              13,
              13,
              13,
              13,
              13,
              13,
              14,
              14,
              14,
              15,
              15,
              15,
              15,
              15,
              15,
              16,
              16,
              16,
              16,
              16,
              16,
              16,
              16,
              16,
              16,
              16,
              16,
              16,
              16,
              16,
              16,
              16,
              16,
              16,
              16,
              16,
              16,
              16,
              16,
              16,
              16,
              16,
              17,
              17,
              17,
              17,
              17,
              17,
              17,
              17,
              17,
              17,
              17,
              17,
              17,
              17,
              17,
              17,
              18,
              19,
              19,
              19,
              19,
              19,
              19,
              19,
              19,
              19,
              19,
              19,
              19,
              19,
              19,
              19,
              19,
              19,
              19,
              19,
              19,
              19,
              19,
              19,
              19,
              19,
              19,
              19,
              21,
              21,
              21,
              21,
              21,
              21,
              21,
              21,
              21,
              21,
              21,
              21,
              21,
              21,
              21,
              21,
              21,
              21,
              21,
              21,
              21,
              21,
              21,
              21,
              21,
              21,
              21,
              21,
              21,
              21,
              21,
              21,
              21,
              21,
              21,
              21,
              21,
              21,
              21,
              21,
              21,
              21,
              21,
              21,
              21,
              21,
              21,
              21,
              21,
              21,
              21,
              21,
              21,
              21,
              21,
              21,
              21,
              21,
              21,
              21,
              21,
              21,
              21,
              21,
              21,
              21,
              21,
              21,
              21,
              21,
              21,
              21,
              21,
              21,
              21,
              21
             ]
            },
            {
             "mode": "lines",
             "name": "minas",
             "type": "scatter",
             "x": [
              "2020-08-14",
              "2020-08-17",
              "2020-08-18",
              "2020-08-19",
              "2020-08-20",
              "2020-08-21",
              "2020-08-22",
              "2020-08-23",
              "2020-08-24",
              "2020-08-25",
              "2020-08-26",
              "2020-08-27",
              "2020-08-28",
              "2020-08-29",
              "2020-08-30",
              "2020-08-31",
              "2020-09-01",
              "2020-09-02",
              "2020-09-03",
              "2020-09-04",
              "2020-09-07",
              "2020-09-08",
              "2020-09-09",
              "2020-09-10",
              "2020-09-11",
              "2020-09-12",
              "2020-09-15",
              "2020-09-16",
              "2020-09-17",
              "2020-09-18",
              "2020-09-19",
              "2020-09-21",
              "2020-09-22",
              "2020-09-23",
              "2020-09-24",
              "2020-09-25",
              "2020-09-26",
              "2020-09-27",
              "2020-09-28",
              "2020-09-29",
              "2020-09-30",
              "2020-10-01",
              "2020-10-02",
              "2020-10-03",
              "2020-10-05",
              "2020-10-06",
              "2020-10-07",
              "2020-10-08",
              "2020-10-09",
              "2020-10-10",
              "2020-10-13",
              "2020-10-14",
              "2020-10-15",
              "2020-10-16",
              "2020-10-17",
              "2020-10-19",
              "2020-10-20",
              "2020-10-21",
              "2020-10-22",
              "2020-10-23",
              "2020-10-24",
              "2020-10-25",
              "2020-10-26",
              "2020-10-27",
              "2020-10-28",
              "2020-11-06",
              "2020-11-07",
              "2020-11-08",
              "2020-11-09",
              "2020-11-10",
              "2020-11-11",
              "2020-11-12",
              "2020-11-13",
              "2020-11-14",
              "2020-11-15",
              "2020-11-16",
              "2020-11-17",
              "2020-11-18",
              "2020-11-19",
              "2020-11-20",
              "2020-11-21",
              "2020-11-23",
              "2020-11-24",
              "2020-11-25",
              "2020-11-26",
              "2020-11-27",
              "2020-11-28",
              "2020-11-29",
              "2020-11-30",
              "2020-12-01",
              "2020-12-02",
              "2020-12-03",
              "2020-12-04",
              "2020-12-05",
              "2020-12-07",
              "2020-12-09",
              "2020-12-10",
              "2020-12-11",
              "2020-12-12",
              "2020-12-13",
              "2020-12-17",
              "2020-12-18",
              "2020-12-19",
              "2020-12-24",
              "2020-12-28",
              "2020-12-29",
              "2020-12-30",
              "2020-12-31",
              "2021-01-04",
              "2021-01-05",
              "2021-01-06",
              "2021-01-07",
              "2021-01-08",
              "2021-01-10",
              "2021-01-12",
              "2021-01-13",
              "2021-01-14",
              "2021-01-15",
              "2021-01-17",
              "2021-01-18",
              "2021-01-20",
              "2021-01-21",
              "2021-01-22",
              "2021-02-05",
              "2021-02-06",
              "2021-02-09",
              "2021-02-10",
              "2021-02-11",
              "2021-02-12",
              "2021-02-14",
              "2021-02-15",
              "2021-02-16",
              "2021-02-17",
              "2021-02-18",
              "2021-02-19",
              "2021-02-20",
              "2021-02-22",
              "2021-02-23",
              "2021-02-24",
              "2021-02-25",
              "2021-02-26",
              "2021-02-27",
              "2021-03-01",
              "2021-03-02",
              "2021-03-03",
              "2021-03-04",
              "2021-03-05",
              "2021-03-08",
              "2021-03-09",
              "2021-03-11",
              "2021-03-15",
              "2021-03-16",
              "2021-03-17",
              "2021-03-25",
              "2021-03-26",
              "2021-03-27",
              "2021-03-29",
              "2021-04-04",
              "2021-04-05",
              "2021-04-06",
              "2021-04-07",
              "2021-04-08",
              "2021-04-09",
              "2021-04-10",
              "2021-04-12",
              "2021-04-21",
              "2021-04-22",
              "2021-04-23",
              "2021-04-26",
              "2021-04-27",
              "2021-04-28",
              "2021-04-30",
              "2021-05-01",
              "2021-05-02",
              "2021-05-03",
              "2021-05-04",
              "2021-05-05",
              "2021-05-07",
              "2021-05-08",
              "2021-05-09",
              "2021-05-10",
              "2021-05-11",
              "2021-05-12",
              "2021-05-13",
              "2021-05-14",
              "2021-05-17",
              "2021-05-18",
              "2021-05-19",
              "2021-05-21",
              "2021-05-25",
              "2021-05-26",
              "2021-05-27",
              "2021-05-28",
              "2021-05-31",
              "2021-06-01",
              "2021-06-03",
              "2021-06-04",
              "2021-06-05",
              "2021-06-06"
             ],
             "y": [
              14,
              14,
              14,
              14,
              14,
              14,
              14,
              17,
              17,
              22,
              23,
              23,
              24,
              24,
              25,
              25,
              25,
              25,
              26,
              26,
              26,
              28,
              28,
              28,
              28,
              28,
              28,
              28,
              28,
              28,
              28,
              28,
              28,
              28,
              28,
              28,
              29,
              29,
              29,
              29,
              30,
              30,
              30,
              30,
              30,
              32,
              33,
              34,
              35,
              35,
              35,
              35,
              36,
              36,
              36,
              36,
              36,
              36,
              37,
              41,
              41,
              41,
              41,
              41,
              43,
              43,
              49,
              49,
              49,
              51,
              51,
              51,
              51,
              51,
              51,
              52,
              52,
              52,
              52,
              54,
              54,
              54,
              56,
              57,
              58,
              58,
              62,
              62,
              62,
              62,
              62,
              63,
              63,
              63,
              63,
              64,
              66,
              66,
              66,
              66,
              66,
              66,
              66,
              66,
              66,
              66,
              66,
              66,
              66,
              66,
              66,
              66,
              67,
              67,
              68,
              68,
              68,
              68,
              68,
              69,
              69,
              70,
              80,
              84,
              88,
              88,
              88,
              88,
              92,
              92,
              92,
              92,
              94,
              94,
              94,
              94,
              94,
              94,
              94,
              94,
              95,
              96,
              96,
              97,
              97,
              97,
              97,
              97,
              98,
              98,
              98,
              98,
              98,
              98,
              98,
              98,
              98,
              98,
              98,
              98,
              98,
              98,
              98,
              98,
              100,
              100,
              100,
              100,
              100,
              102,
              102,
              102,
              102,
              102,
              102,
              102,
              102,
              102,
              102,
              102,
              102,
              102,
              102,
              102,
              102,
              102,
              102,
              102,
              102,
              102,
              102,
              102,
              102,
              102,
              102,
              102,
              102,
              102,
              102
             ]
            },
            {
             "mode": "lines",
             "name": "antipersona",
             "type": "scatter",
             "x": [
              "2020-08-14",
              "2020-08-17",
              "2020-08-18",
              "2020-08-19",
              "2020-08-20",
              "2020-08-21",
              "2020-08-22",
              "2020-08-23",
              "2020-08-24",
              "2020-08-25",
              "2020-08-26",
              "2020-08-27",
              "2020-08-28",
              "2020-08-29",
              "2020-08-30",
              "2020-08-31",
              "2020-09-01",
              "2020-09-02",
              "2020-09-03",
              "2020-09-04",
              "2020-09-07",
              "2020-09-08",
              "2020-09-09",
              "2020-09-10",
              "2020-09-11",
              "2020-09-12",
              "2020-09-15",
              "2020-09-16",
              "2020-09-17",
              "2020-09-18",
              "2020-09-19",
              "2020-09-21",
              "2020-09-22",
              "2020-09-23",
              "2020-09-24",
              "2020-09-25",
              "2020-09-26",
              "2020-09-27",
              "2020-09-28",
              "2020-09-29",
              "2020-09-30",
              "2020-10-01",
              "2020-10-02",
              "2020-10-03",
              "2020-10-05",
              "2020-10-06",
              "2020-10-07",
              "2020-10-08",
              "2020-10-09",
              "2020-10-10",
              "2020-10-13",
              "2020-10-14",
              "2020-10-15",
              "2020-10-16",
              "2020-10-17",
              "2020-10-19",
              "2020-10-20",
              "2020-10-21",
              "2020-10-22",
              "2020-10-23",
              "2020-10-24",
              "2020-10-25",
              "2020-10-26",
              "2020-10-27",
              "2020-10-28",
              "2020-11-06",
              "2020-11-07",
              "2020-11-08",
              "2020-11-09",
              "2020-11-10",
              "2020-11-11",
              "2020-11-12",
              "2020-11-13",
              "2020-11-14",
              "2020-11-15",
              "2020-11-16",
              "2020-11-17",
              "2020-11-18",
              "2020-11-19",
              "2020-11-20",
              "2020-11-21",
              "2020-11-23",
              "2020-11-24",
              "2020-11-25",
              "2020-11-26",
              "2020-11-27",
              "2020-11-28",
              "2020-11-29",
              "2020-11-30",
              "2020-12-01",
              "2020-12-02",
              "2020-12-03",
              "2020-12-04",
              "2020-12-05",
              "2020-12-07",
              "2020-12-09",
              "2020-12-10",
              "2020-12-11",
              "2020-12-12",
              "2020-12-13",
              "2020-12-17",
              "2020-12-18",
              "2020-12-19",
              "2020-12-24",
              "2020-12-28",
              "2020-12-29",
              "2020-12-30",
              "2020-12-31",
              "2021-01-04",
              "2021-01-05",
              "2021-01-06",
              "2021-01-07",
              "2021-01-08",
              "2021-01-10",
              "2021-01-12",
              "2021-01-13",
              "2021-01-14",
              "2021-01-15",
              "2021-01-17",
              "2021-01-18",
              "2021-01-20",
              "2021-01-21",
              "2021-01-22",
              "2021-02-05",
              "2021-02-06",
              "2021-02-09",
              "2021-02-10",
              "2021-02-11",
              "2021-02-12",
              "2021-02-14",
              "2021-02-15",
              "2021-02-16",
              "2021-02-17",
              "2021-02-18",
              "2021-02-19",
              "2021-02-20",
              "2021-02-22",
              "2021-02-23",
              "2021-02-24",
              "2021-02-25",
              "2021-02-26",
              "2021-02-27",
              "2021-03-01",
              "2021-03-02",
              "2021-03-03",
              "2021-03-04",
              "2021-03-05",
              "2021-03-08",
              "2021-03-09",
              "2021-03-11",
              "2021-03-15",
              "2021-03-16",
              "2021-03-17",
              "2021-03-25",
              "2021-03-26",
              "2021-03-27",
              "2021-03-29",
              "2021-04-04",
              "2021-04-05",
              "2021-04-06",
              "2021-04-07",
              "2021-04-08",
              "2021-04-09",
              "2021-04-10",
              "2021-04-12",
              "2021-04-21",
              "2021-04-22",
              "2021-04-23",
              "2021-04-26",
              "2021-04-27",
              "2021-04-28",
              "2021-04-30",
              "2021-05-01",
              "2021-05-02",
              "2021-05-03",
              "2021-05-04",
              "2021-05-05",
              "2021-05-07",
              "2021-05-08",
              "2021-05-09",
              "2021-05-10",
              "2021-05-11",
              "2021-05-12",
              "2021-05-13",
              "2021-05-14",
              "2021-05-17",
              "2021-05-18",
              "2021-05-19",
              "2021-05-21",
              "2021-05-25",
              "2021-05-26",
              "2021-05-27",
              "2021-05-28",
              "2021-05-31",
              "2021-06-01",
              "2021-06-03",
              "2021-06-04",
              "2021-06-05",
              "2021-06-06"
             ],
             "y": [
              13,
              13,
              13,
              13,
              13,
              13,
              13,
              13,
              13,
              13,
              13,
              13,
              13,
              13,
              13,
              13,
              13,
              13,
              13,
              13,
              13,
              13,
              13,
              13,
              13,
              13,
              13,
              13,
              13,
              13,
              13,
              13,
              13,
              13,
              13,
              13,
              13,
              13,
              13,
              13,
              13,
              13,
              13,
              13,
              13,
              13,
              13,
              13,
              13,
              13,
              13,
              13,
              14,
              14,
              14,
              14,
              14,
              14,
              14,
              14,
              14,
              14,
              14,
              14,
              14,
              14,
              14,
              14,
              14,
              14,
              14,
              14,
              14,
              14,
              14,
              14,
              14,
              14,
              14,
              14,
              14,
              14,
              14,
              15,
              15,
              15,
              16,
              16,
              16,
              16,
              16,
              16,
              16,
              16,
              16,
              17,
              18,
              18,
              18,
              18,
              18,
              18,
              18,
              18,
              18,
              18,
              18,
              18,
              18,
              18,
              18,
              18,
              18,
              18,
              18,
              18,
              18,
              18,
              18,
              18,
              18,
              18,
              18,
              22,
              26,
              26,
              26,
              26,
              28,
              28,
              28,
              28,
              30,
              30,
              30,
              30,
              30,
              30,
              30,
              30,
              31,
              31,
              31,
              31,
              31,
              31,
              31,
              31,
              31,
              31,
              31,
              31,
              31,
              31,
              31,
              31,
              31,
              31,
              31,
              31,
              31,
              31,
              31,
              31,
              31,
              31,
              31,
              31,
              31,
              31,
              31,
              31,
              31,
              31,
              31,
              31,
              31,
              31,
              31,
              31,
              31,
              31,
              31,
              31,
              31,
              31,
              31,
              31,
              31,
              31,
              31,
              31,
              31,
              31,
              31,
              31,
              31,
              31,
              31
             ]
            },
            {
             "mode": "lines",
             "name": "liberados",
             "type": "scatter",
             "x": [
              "2020-08-14",
              "2020-08-17",
              "2020-08-18",
              "2020-08-19",
              "2020-08-20",
              "2020-08-21",
              "2020-08-22",
              "2020-08-23",
              "2020-08-24",
              "2020-08-25",
              "2020-08-26",
              "2020-08-27",
              "2020-08-28",
              "2020-08-29",
              "2020-08-30",
              "2020-08-31",
              "2020-09-01",
              "2020-09-02",
              "2020-09-03",
              "2020-09-04",
              "2020-09-07",
              "2020-09-08",
              "2020-09-09",
              "2020-09-10",
              "2020-09-11",
              "2020-09-12",
              "2020-09-15",
              "2020-09-16",
              "2020-09-17",
              "2020-09-18",
              "2020-09-19",
              "2020-09-21",
              "2020-09-22",
              "2020-09-23",
              "2020-09-24",
              "2020-09-25",
              "2020-09-26",
              "2020-09-27",
              "2020-09-28",
              "2020-09-29",
              "2020-09-30",
              "2020-10-01",
              "2020-10-02",
              "2020-10-03",
              "2020-10-05",
              "2020-10-06",
              "2020-10-07",
              "2020-10-08",
              "2020-10-09",
              "2020-10-10",
              "2020-10-13",
              "2020-10-14",
              "2020-10-15",
              "2020-10-16",
              "2020-10-17",
              "2020-10-19",
              "2020-10-20",
              "2020-10-21",
              "2020-10-22",
              "2020-10-23",
              "2020-10-24",
              "2020-10-25",
              "2020-10-26",
              "2020-10-27",
              "2020-10-28",
              "2020-11-06",
              "2020-11-07",
              "2020-11-08",
              "2020-11-09",
              "2020-11-10",
              "2020-11-11",
              "2020-11-12",
              "2020-11-13",
              "2020-11-14",
              "2020-11-15",
              "2020-11-16",
              "2020-11-17",
              "2020-11-18",
              "2020-11-19",
              "2020-11-20",
              "2020-11-21",
              "2020-11-23",
              "2020-11-24",
              "2020-11-25",
              "2020-11-26",
              "2020-11-27",
              "2020-11-28",
              "2020-11-29",
              "2020-11-30",
              "2020-12-01",
              "2020-12-02",
              "2020-12-03",
              "2020-12-04",
              "2020-12-05",
              "2020-12-07",
              "2020-12-09",
              "2020-12-10",
              "2020-12-11",
              "2020-12-12",
              "2020-12-13",
              "2020-12-17",
              "2020-12-18",
              "2020-12-19",
              "2020-12-24",
              "2020-12-28",
              "2020-12-29",
              "2020-12-30",
              "2020-12-31",
              "2021-01-04",
              "2021-01-05",
              "2021-01-06",
              "2021-01-07",
              "2021-01-08",
              "2021-01-10",
              "2021-01-12",
              "2021-01-13",
              "2021-01-14",
              "2021-01-15",
              "2021-01-17",
              "2021-01-18",
              "2021-01-20",
              "2021-01-21",
              "2021-01-22",
              "2021-02-05",
              "2021-02-06",
              "2021-02-09",
              "2021-02-10",
              "2021-02-11",
              "2021-02-12",
              "2021-02-14",
              "2021-02-15",
              "2021-02-16",
              "2021-02-17",
              "2021-02-18",
              "2021-02-19",
              "2021-02-20",
              "2021-02-22",
              "2021-02-23",
              "2021-02-24",
              "2021-02-25",
              "2021-02-26",
              "2021-02-27",
              "2021-03-01",
              "2021-03-02",
              "2021-03-03",
              "2021-03-04",
              "2021-03-05",
              "2021-03-08",
              "2021-03-09",
              "2021-03-11",
              "2021-03-15",
              "2021-03-16",
              "2021-03-17",
              "2021-03-25",
              "2021-03-26",
              "2021-03-27",
              "2021-03-29",
              "2021-04-04",
              "2021-04-05",
              "2021-04-06",
              "2021-04-07",
              "2021-04-08",
              "2021-04-09",
              "2021-04-10",
              "2021-04-12",
              "2021-04-21",
              "2021-04-22",
              "2021-04-23",
              "2021-04-26",
              "2021-04-27",
              "2021-04-28",
              "2021-04-30",
              "2021-05-01",
              "2021-05-02",
              "2021-05-03",
              "2021-05-04",
              "2021-05-05",
              "2021-05-07",
              "2021-05-08",
              "2021-05-09",
              "2021-05-10",
              "2021-05-11",
              "2021-05-12",
              "2021-05-13",
              "2021-05-14",
              "2021-05-17",
              "2021-05-18",
              "2021-05-19",
              "2021-05-21",
              "2021-05-25",
              "2021-05-26",
              "2021-05-27",
              "2021-05-28",
              "2021-05-31",
              "2021-06-01",
              "2021-06-03",
              "2021-06-04",
              "2021-06-05",
              "2021-06-06"
             ],
             "y": [
              5,
              5,
              5,
              5,
              5,
              5,
              5,
              5,
              5,
              5,
              5,
              5,
              5,
              5,
              5,
              5,
              5,
              5,
              5,
              5,
              5,
              5,
              5,
              5,
              5,
              5,
              5,
              5,
              5,
              5,
              5,
              5,
              5,
              5,
              5,
              5,
              5,
              5,
              5,
              5,
              5,
              5,
              5,
              5,
              5,
              5,
              5,
              5,
              5,
              5,
              5,
              5,
              5,
              5,
              5,
              5,
              5,
              5,
              5,
              5,
              5,
              5,
              5,
              5,
              5,
              5,
              5,
              5,
              5,
              5,
              5,
              5,
              5,
              5,
              5,
              5,
              5,
              5,
              5,
              5,
              5,
              5,
              5,
              5,
              5,
              5,
              5,
              5,
              5,
              5,
              5,
              5,
              5,
              5,
              5,
              5,
              5,
              5,
              5,
              5,
              5,
              5,
              5,
              5,
              5,
              5,
              5,
              5,
              5,
              5,
              5,
              5,
              5,
              5,
              5,
              5,
              5,
              5,
              5,
              5,
              5,
              5,
              5,
              5,
              5,
              5,
              5,
              5,
              5,
              5,
              5,
              5,
              5,
              5,
              5,
              5,
              5,
              5,
              5,
              5,
              5,
              5,
              5,
              5,
              5,
              5,
              5,
              5,
              5,
              5,
              5,
              5,
              5,
              5,
              5,
              5,
              5,
              5,
              5,
              5,
              5,
              5,
              5,
              5,
              5,
              5,
              5,
              5,
              5,
              5,
              5,
              5,
              5,
              5,
              5,
              5,
              5,
              5,
              5,
              5,
              5,
              5,
              5,
              5,
              5,
              5,
              5,
              5,
              5,
              5,
              5,
              5,
              5,
              5,
              5,
              5,
              5,
              5,
              5
             ]
            },
            {
             "mode": "lines",
             "name": "municipios",
             "type": "scatter",
             "x": [
              "2020-08-14",
              "2020-08-17",
              "2020-08-18",
              "2020-08-19",
              "2020-08-20",
              "2020-08-21",
              "2020-08-22",
              "2020-08-23",
              "2020-08-24",
              "2020-08-25",
              "2020-08-26",
              "2020-08-27",
              "2020-08-28",
              "2020-08-29",
              "2020-08-30",
              "2020-08-31",
              "2020-09-01",
              "2020-09-02",
              "2020-09-03",
              "2020-09-04",
              "2020-09-07",
              "2020-09-08",
              "2020-09-09",
              "2020-09-10",
              "2020-09-11",
              "2020-09-12",
              "2020-09-15",
              "2020-09-16",
              "2020-09-17",
              "2020-09-18",
              "2020-09-19",
              "2020-09-21",
              "2020-09-22",
              "2020-09-23",
              "2020-09-24",
              "2020-09-25",
              "2020-09-26",
              "2020-09-27",
              "2020-09-28",
              "2020-09-29",
              "2020-09-30",
              "2020-10-01",
              "2020-10-02",
              "2020-10-03",
              "2020-10-05",
              "2020-10-06",
              "2020-10-07",
              "2020-10-08",
              "2020-10-09",
              "2020-10-10",
              "2020-10-13",
              "2020-10-14",
              "2020-10-15",
              "2020-10-16",
              "2020-10-17",
              "2020-10-19",
              "2020-10-20",
              "2020-10-21",
              "2020-10-22",
              "2020-10-23",
              "2020-10-24",
              "2020-10-25",
              "2020-10-26",
              "2020-10-27",
              "2020-10-28",
              "2020-11-06",
              "2020-11-07",
              "2020-11-08",
              "2020-11-09",
              "2020-11-10",
              "2020-11-11",
              "2020-11-12",
              "2020-11-13",
              "2020-11-14",
              "2020-11-15",
              "2020-11-16",
              "2020-11-17",
              "2020-11-18",
              "2020-11-19",
              "2020-11-20",
              "2020-11-21",
              "2020-11-23",
              "2020-11-24",
              "2020-11-25",
              "2020-11-26",
              "2020-11-27",
              "2020-11-28",
              "2020-11-29",
              "2020-11-30",
              "2020-12-01",
              "2020-12-02",
              "2020-12-03",
              "2020-12-04",
              "2020-12-05",
              "2020-12-07",
              "2020-12-09",
              "2020-12-10",
              "2020-12-11",
              "2020-12-12",
              "2020-12-13",
              "2020-12-17",
              "2020-12-18",
              "2020-12-19",
              "2020-12-24",
              "2020-12-28",
              "2020-12-29",
              "2020-12-30",
              "2020-12-31",
              "2021-01-04",
              "2021-01-05",
              "2021-01-06",
              "2021-01-07",
              "2021-01-08",
              "2021-01-10",
              "2021-01-12",
              "2021-01-13",
              "2021-01-14",
              "2021-01-15",
              "2021-01-17",
              "2021-01-18",
              "2021-01-20",
              "2021-01-21",
              "2021-01-22",
              "2021-02-05",
              "2021-02-06",
              "2021-02-09",
              "2021-02-10",
              "2021-02-11",
              "2021-02-12",
              "2021-02-14",
              "2021-02-15",
              "2021-02-16",
              "2021-02-17",
              "2021-02-18",
              "2021-02-19",
              "2021-02-20",
              "2021-02-22",
              "2021-02-23",
              "2021-02-24",
              "2021-02-25",
              "2021-02-26",
              "2021-02-27",
              "2021-03-01",
              "2021-03-02",
              "2021-03-03",
              "2021-03-04",
              "2021-03-05",
              "2021-03-08",
              "2021-03-09",
              "2021-03-11",
              "2021-03-15",
              "2021-03-16",
              "2021-03-17",
              "2021-03-25",
              "2021-03-26",
              "2021-03-27",
              "2021-03-29",
              "2021-04-04",
              "2021-04-05",
              "2021-04-06",
              "2021-04-07",
              "2021-04-08",
              "2021-04-09",
              "2021-04-10",
              "2021-04-12",
              "2021-04-21",
              "2021-04-22",
              "2021-04-23",
              "2021-04-26",
              "2021-04-27",
              "2021-04-28",
              "2021-04-30",
              "2021-05-01",
              "2021-05-02",
              "2021-05-03",
              "2021-05-04",
              "2021-05-05",
              "2021-05-07",
              "2021-05-08",
              "2021-05-09",
              "2021-05-10",
              "2021-05-11",
              "2021-05-12",
              "2021-05-13",
              "2021-05-14",
              "2021-05-17",
              "2021-05-18",
              "2021-05-19",
              "2021-05-21",
              "2021-05-25",
              "2021-05-26",
              "2021-05-27",
              "2021-05-28",
              "2021-05-31",
              "2021-06-01",
              "2021-06-03",
              "2021-06-04",
              "2021-06-05",
              "2021-06-06"
             ],
             "y": [
              17,
              18,
              20,
              21,
              22,
              23,
              25,
              25,
              38,
              44,
              47,
              50,
              64,
              64,
              64,
              66,
              67,
              69,
              74,
              76,
              80,
              82,
              96,
              98,
              99,
              99,
              125,
              139,
              152,
              153,
              154,
              167,
              169,
              182,
              195,
              196,
              197,
              198,
              213,
              215,
              221,
              235,
              249,
              251,
              264,
              277,
              281,
              283,
              286,
              286,
              287,
              290,
              295,
              296,
              296,
              296,
              298,
              300,
              314,
              329,
              330,
              330,
              345,
              359,
              360,
              362,
              368,
              368,
              394,
              398,
              424,
              426,
              430,
              430,
              430,
              430,
              432,
              434,
              437,
              437,
              437,
              439,
              453,
              471,
              475,
              478,
              488,
              488,
              491,
              492,
              494,
              509,
              513,
              514,
              516,
              517,
              522,
              524,
              524,
              524,
              526,
              528,
              528,
              528,
              530,
              532,
              533,
              533,
              535,
              535,
              537,
              539,
              541,
              541,
              541,
              541,
              543,
              546,
              546,
              550,
              552,
              554,
              557,
              561,
              561,
              569,
              573,
              599,
              603,
              603,
              603,
              605,
              605,
              607,
              609,
              609,
              611,
              624,
              638,
              641,
              641,
              641,
              643,
              645,
              660,
              662,
              679,
              681,
              683,
              685,
              699,
              700,
              700,
              726,
              756,
              756,
              758,
              764,
              764,
              790,
              794,
              822,
              848,
              850,
              850,
              876,
              902,
              928,
              930,
              958,
              962,
              962,
              962,
              962,
              964,
              966,
              966,
              966,
              966,
              966,
              966,
              966,
              966,
              973,
              973,
              973,
              974,
              974,
              977,
              977,
              977,
              977,
              977,
              977,
              977,
              979,
              982,
              982,
              982
             ]
            }
           ],
           "layout": {
            "height": 500,
            "legend": {
             "tracegroupgap": 0
            },
            "margin": {
             "t": 60
            },
            "template": {
             "data": {
              "bar": [
               {
                "error_x": {
                 "color": "#2a3f5f"
                },
                "error_y": {
                 "color": "#2a3f5f"
                },
                "marker": {
                 "line": {
                  "color": "#E5ECF6",
                  "width": 0.5
                 }
                },
                "type": "bar"
               }
              ],
              "barpolar": [
               {
                "marker": {
                 "line": {
                  "color": "#E5ECF6",
                  "width": 0.5
                 }
                },
                "type": "barpolar"
               }
              ],
              "carpet": [
               {
                "aaxis": {
                 "endlinecolor": "#2a3f5f",
                 "gridcolor": "white",
                 "linecolor": "white",
                 "minorgridcolor": "white",
                 "startlinecolor": "#2a3f5f"
                },
                "baxis": {
                 "endlinecolor": "#2a3f5f",
                 "gridcolor": "white",
                 "linecolor": "white",
                 "minorgridcolor": "white",
                 "startlinecolor": "#2a3f5f"
                },
                "type": "carpet"
               }
              ],
              "choropleth": [
               {
                "colorbar": {
                 "outlinewidth": 0,
                 "ticks": ""
                },
                "type": "choropleth"
               }
              ],
              "contour": [
               {
                "colorbar": {
                 "outlinewidth": 0,
                 "ticks": ""
                },
                "colorscale": [
                 [
                  0,
                  "#0d0887"
                 ],
                 [
                  0.1111111111111111,
                  "#46039f"
                 ],
                 [
                  0.2222222222222222,
                  "#7201a8"
                 ],
                 [
                  0.3333333333333333,
                  "#9c179e"
                 ],
                 [
                  0.4444444444444444,
                  "#bd3786"
                 ],
                 [
                  0.5555555555555556,
                  "#d8576b"
                 ],
                 [
                  0.6666666666666666,
                  "#ed7953"
                 ],
                 [
                  0.7777777777777778,
                  "#fb9f3a"
                 ],
                 [
                  0.8888888888888888,
                  "#fdca26"
                 ],
                 [
                  1,
                  "#f0f921"
                 ]
                ],
                "type": "contour"
               }
              ],
              "contourcarpet": [
               {
                "colorbar": {
                 "outlinewidth": 0,
                 "ticks": ""
                },
                "type": "contourcarpet"
               }
              ],
              "heatmap": [
               {
                "colorbar": {
                 "outlinewidth": 0,
                 "ticks": ""
                },
                "colorscale": [
                 [
                  0,
                  "#0d0887"
                 ],
                 [
                  0.1111111111111111,
                  "#46039f"
                 ],
                 [
                  0.2222222222222222,
                  "#7201a8"
                 ],
                 [
                  0.3333333333333333,
                  "#9c179e"
                 ],
                 [
                  0.4444444444444444,
                  "#bd3786"
                 ],
                 [
                  0.5555555555555556,
                  "#d8576b"
                 ],
                 [
                  0.6666666666666666,
                  "#ed7953"
                 ],
                 [
                  0.7777777777777778,
                  "#fb9f3a"
                 ],
                 [
                  0.8888888888888888,
                  "#fdca26"
                 ],
                 [
                  1,
                  "#f0f921"
                 ]
                ],
                "type": "heatmap"
               }
              ],
              "heatmapgl": [
               {
                "colorbar": {
                 "outlinewidth": 0,
                 "ticks": ""
                },
                "colorscale": [
                 [
                  0,
                  "#0d0887"
                 ],
                 [
                  0.1111111111111111,
                  "#46039f"
                 ],
                 [
                  0.2222222222222222,
                  "#7201a8"
                 ],
                 [
                  0.3333333333333333,
                  "#9c179e"
                 ],
                 [
                  0.4444444444444444,
                  "#bd3786"
                 ],
                 [
                  0.5555555555555556,
                  "#d8576b"
                 ],
                 [
                  0.6666666666666666,
                  "#ed7953"
                 ],
                 [
                  0.7777777777777778,
                  "#fb9f3a"
                 ],
                 [
                  0.8888888888888888,
                  "#fdca26"
                 ],
                 [
                  1,
                  "#f0f921"
                 ]
                ],
                "type": "heatmapgl"
               }
              ],
              "histogram": [
               {
                "marker": {
                 "colorbar": {
                  "outlinewidth": 0,
                  "ticks": ""
                 }
                },
                "type": "histogram"
               }
              ],
              "histogram2d": [
               {
                "colorbar": {
                 "outlinewidth": 0,
                 "ticks": ""
                },
                "colorscale": [
                 [
                  0,
                  "#0d0887"
                 ],
                 [
                  0.1111111111111111,
                  "#46039f"
                 ],
                 [
                  0.2222222222222222,
                  "#7201a8"
                 ],
                 [
                  0.3333333333333333,
                  "#9c179e"
                 ],
                 [
                  0.4444444444444444,
                  "#bd3786"
                 ],
                 [
                  0.5555555555555556,
                  "#d8576b"
                 ],
                 [
                  0.6666666666666666,
                  "#ed7953"
                 ],
                 [
                  0.7777777777777778,
                  "#fb9f3a"
                 ],
                 [
                  0.8888888888888888,
                  "#fdca26"
                 ],
                 [
                  1,
                  "#f0f921"
                 ]
                ],
                "type": "histogram2d"
               }
              ],
              "histogram2dcontour": [
               {
                "colorbar": {
                 "outlinewidth": 0,
                 "ticks": ""
                },
                "colorscale": [
                 [
                  0,
                  "#0d0887"
                 ],
                 [
                  0.1111111111111111,
                  "#46039f"
                 ],
                 [
                  0.2222222222222222,
                  "#7201a8"
                 ],
                 [
                  0.3333333333333333,
                  "#9c179e"
                 ],
                 [
                  0.4444444444444444,
                  "#bd3786"
                 ],
                 [
                  0.5555555555555556,
                  "#d8576b"
                 ],
                 [
                  0.6666666666666666,
                  "#ed7953"
                 ],
                 [
                  0.7777777777777778,
                  "#fb9f3a"
                 ],
                 [
                  0.8888888888888888,
                  "#fdca26"
                 ],
                 [
                  1,
                  "#f0f921"
                 ]
                ],
                "type": "histogram2dcontour"
               }
              ],
              "mesh3d": [
               {
                "colorbar": {
                 "outlinewidth": 0,
                 "ticks": ""
                },
                "type": "mesh3d"
               }
              ],
              "parcoords": [
               {
                "line": {
                 "colorbar": {
                  "outlinewidth": 0,
                  "ticks": ""
                 }
                },
                "type": "parcoords"
               }
              ],
              "pie": [
               {
                "automargin": true,
                "type": "pie"
               }
              ],
              "scatter": [
               {
                "marker": {
                 "colorbar": {
                  "outlinewidth": 0,
                  "ticks": ""
                 }
                },
                "type": "scatter"
               }
              ],
              "scatter3d": [
               {
                "line": {
                 "colorbar": {
                  "outlinewidth": 0,
                  "ticks": ""
                 }
                },
                "marker": {
                 "colorbar": {
                  "outlinewidth": 0,
                  "ticks": ""
                 }
                },
                "type": "scatter3d"
               }
              ],
              "scattercarpet": [
               {
                "marker": {
                 "colorbar": {
                  "outlinewidth": 0,
                  "ticks": ""
                 }
                },
                "type": "scattercarpet"
               }
              ],
              "scattergeo": [
               {
                "marker": {
                 "colorbar": {
                  "outlinewidth": 0,
                  "ticks": ""
                 }
                },
                "type": "scattergeo"
               }
              ],
              "scattergl": [
               {
                "marker": {
                 "colorbar": {
                  "outlinewidth": 0,
                  "ticks": ""
                 }
                },
                "type": "scattergl"
               }
              ],
              "scattermapbox": [
               {
                "marker": {
                 "colorbar": {
                  "outlinewidth": 0,
                  "ticks": ""
                 }
                },
                "type": "scattermapbox"
               }
              ],
              "scatterpolar": [
               {
                "marker": {
                 "colorbar": {
                  "outlinewidth": 0,
                  "ticks": ""
                 }
                },
                "type": "scatterpolar"
               }
              ],
              "scatterpolargl": [
               {
                "marker": {
                 "colorbar": {
                  "outlinewidth": 0,
                  "ticks": ""
                 }
                },
                "type": "scatterpolargl"
               }
              ],
              "scatterternary": [
               {
                "marker": {
                 "colorbar": {
                  "outlinewidth": 0,
                  "ticks": ""
                 }
                },
                "type": "scatterternary"
               }
              ],
              "surface": [
               {
                "colorbar": {
                 "outlinewidth": 0,
                 "ticks": ""
                },
                "colorscale": [
                 [
                  0,
                  "#0d0887"
                 ],
                 [
                  0.1111111111111111,
                  "#46039f"
                 ],
                 [
                  0.2222222222222222,
                  "#7201a8"
                 ],
                 [
                  0.3333333333333333,
                  "#9c179e"
                 ],
                 [
                  0.4444444444444444,
                  "#bd3786"
                 ],
                 [
                  0.5555555555555556,
                  "#d8576b"
                 ],
                 [
                  0.6666666666666666,
                  "#ed7953"
                 ],
                 [
                  0.7777777777777778,
                  "#fb9f3a"
                 ],
                 [
                  0.8888888888888888,
                  "#fdca26"
                 ],
                 [
                  1,
                  "#f0f921"
                 ]
                ],
                "type": "surface"
               }
              ],
              "table": [
               {
                "cells": {
                 "fill": {
                  "color": "#EBF0F8"
                 },
                 "line": {
                  "color": "white"
                 }
                },
                "header": {
                 "fill": {
                  "color": "#C8D4E3"
                 },
                 "line": {
                  "color": "white"
                 }
                },
                "type": "table"
               }
              ]
             },
             "layout": {
              "annotationdefaults": {
               "arrowcolor": "#2a3f5f",
               "arrowhead": 0,
               "arrowwidth": 1
              },
              "autotypenumbers": "strict",
              "coloraxis": {
               "colorbar": {
                "outlinewidth": 0,
                "ticks": ""
               }
              },
              "colorscale": {
               "diverging": [
                [
                 0,
                 "#8e0152"
                ],
                [
                 0.1,
                 "#c51b7d"
                ],
                [
                 0.2,
                 "#de77ae"
                ],
                [
                 0.3,
                 "#f1b6da"
                ],
                [
                 0.4,
                 "#fde0ef"
                ],
                [
                 0.5,
                 "#f7f7f7"
                ],
                [
                 0.6,
                 "#e6f5d0"
                ],
                [
                 0.7,
                 "#b8e186"
                ],
                [
                 0.8,
                 "#7fbc41"
                ],
                [
                 0.9,
                 "#4d9221"
                ],
                [
                 1,
                 "#276419"
                ]
               ],
               "sequential": [
                [
                 0,
                 "#0d0887"
                ],
                [
                 0.1111111111111111,
                 "#46039f"
                ],
                [
                 0.2222222222222222,
                 "#7201a8"
                ],
                [
                 0.3333333333333333,
                 "#9c179e"
                ],
                [
                 0.4444444444444444,
                 "#bd3786"
                ],
                [
                 0.5555555555555556,
                 "#d8576b"
                ],
                [
                 0.6666666666666666,
                 "#ed7953"
                ],
                [
                 0.7777777777777778,
                 "#fb9f3a"
                ],
                [
                 0.8888888888888888,
                 "#fdca26"
                ],
                [
                 1,
                 "#f0f921"
                ]
               ],
               "sequentialminus": [
                [
                 0,
                 "#0d0887"
                ],
                [
                 0.1111111111111111,
                 "#46039f"
                ],
                [
                 0.2222222222222222,
                 "#7201a8"
                ],
                [
                 0.3333333333333333,
                 "#9c179e"
                ],
                [
                 0.4444444444444444,
                 "#bd3786"
                ],
                [
                 0.5555555555555556,
                 "#d8576b"
                ],
                [
                 0.6666666666666666,
                 "#ed7953"
                ],
                [
                 0.7777777777777778,
                 "#fb9f3a"
                ],
                [
                 0.8888888888888888,
                 "#fdca26"
                ],
                [
                 1,
                 "#f0f921"
                ]
               ]
              },
              "colorway": [
               "#636efa",
               "#EF553B",
               "#00cc96",
               "#ab63fa",
               "#FFA15A",
               "#19d3f3",
               "#FF6692",
               "#B6E880",
               "#FF97FF",
               "#FECB52"
              ],
              "font": {
               "color": "#2a3f5f"
              },
              "geo": {
               "bgcolor": "white",
               "lakecolor": "white",
               "landcolor": "#E5ECF6",
               "showlakes": true,
               "showland": true,
               "subunitcolor": "white"
              },
              "hoverlabel": {
               "align": "left"
              },
              "hovermode": "closest",
              "mapbox": {
               "style": "light"
              },
              "paper_bgcolor": "white",
              "plot_bgcolor": "#E5ECF6",
              "polar": {
               "angularaxis": {
                "gridcolor": "white",
                "linecolor": "white",
                "ticks": ""
               },
               "bgcolor": "#E5ECF6",
               "radialaxis": {
                "gridcolor": "white",
                "linecolor": "white",
                "ticks": ""
               }
              },
              "scene": {
               "xaxis": {
                "backgroundcolor": "#E5ECF6",
                "gridcolor": "white",
                "gridwidth": 2,
                "linecolor": "white",
                "showbackground": true,
                "ticks": "",
                "zerolinecolor": "white"
               },
               "yaxis": {
                "backgroundcolor": "#E5ECF6",
                "gridcolor": "white",
                "gridwidth": 2,
                "linecolor": "white",
                "showbackground": true,
                "ticks": "",
                "zerolinecolor": "white"
               },
               "zaxis": {
                "backgroundcolor": "#E5ECF6",
                "gridcolor": "white",
                "gridwidth": 2,
                "linecolor": "white",
                "showbackground": true,
                "ticks": "",
                "zerolinecolor": "white"
               }
              },
              "shapedefaults": {
               "line": {
                "color": "#2a3f5f"
               }
              },
              "ternary": {
               "aaxis": {
                "gridcolor": "white",
                "linecolor": "white",
                "ticks": ""
               },
               "baxis": {
                "gridcolor": "white",
                "linecolor": "white",
                "ticks": ""
               },
               "bgcolor": "#E5ECF6",
               "caxis": {
                "gridcolor": "white",
                "linecolor": "white",
                "ticks": ""
               }
              },
              "title": {
               "x": 0.05
              },
              "xaxis": {
               "automargin": true,
               "gridcolor": "white",
               "linecolor": "white",
               "ticks": "",
               "title": {
                "standoff": 15
               },
               "zerolinecolor": "white",
               "zerolinewidth": 2
              },
              "yaxis": {
               "automargin": true,
               "gridcolor": "white",
               "linecolor": "white",
               "ticks": "",
               "title": {
                "standoff": 15
               },
               "zerolinecolor": "white",
               "zerolinewidth": 2
              }
             }
            },
            "title": {
             "font": {
              "size": 15
             },
             "text": "Las palabras claves de la fecha <b> 2020-08-14</b> son: sospechaminasantipersonaliberadosmunicipios",
             "x": 0.5,
             "xanchor": "center"
            },
            "width": 800,
            "xaxis": {
             "anchor": "y",
             "domain": [
              0,
              1
             ]
            },
            "yaxis": {
             "anchor": "x",
             "domain": [
              0,
              1
             ]
            }
           }
          },
          "text/html": "<div>                            <div id=\"9b75a372-9040-4bbd-a111-4e0888dcf063\" class=\"plotly-graph-div\" style=\"height:500px; width:800px;\"></div>            <script type=\"text/javascript\">                require([\"plotly\"], function(Plotly) {                    window.PLOTLYENV=window.PLOTLYENV || {};                                    if (document.getElementById(\"9b75a372-9040-4bbd-a111-4e0888dcf063\")) {                    Plotly.newPlot(                        \"9b75a372-9040-4bbd-a111-4e0888dcf063\",                        [{\"mode\": \"lines\", \"name\": \"sospecha\", \"type\": \"scatter\", \"x\": [\"2020-08-14\", \"2020-08-17\", \"2020-08-18\", \"2020-08-19\", \"2020-08-20\", \"2020-08-21\", \"2020-08-22\", \"2020-08-23\", \"2020-08-24\", \"2020-08-25\", \"2020-08-26\", \"2020-08-27\", \"2020-08-28\", \"2020-08-29\", \"2020-08-30\", \"2020-08-31\", \"2020-09-01\", \"2020-09-02\", \"2020-09-03\", \"2020-09-04\", \"2020-09-07\", \"2020-09-08\", \"2020-09-09\", \"2020-09-10\", \"2020-09-11\", \"2020-09-12\", \"2020-09-15\", \"2020-09-16\", \"2020-09-17\", \"2020-09-18\", \"2020-09-19\", \"2020-09-21\", \"2020-09-22\", \"2020-09-23\", \"2020-09-24\", \"2020-09-25\", \"2020-09-26\", \"2020-09-27\", \"2020-09-28\", \"2020-09-29\", \"2020-09-30\", \"2020-10-01\", \"2020-10-02\", \"2020-10-03\", \"2020-10-05\", \"2020-10-06\", \"2020-10-07\", \"2020-10-08\", \"2020-10-09\", \"2020-10-10\", \"2020-10-13\", \"2020-10-14\", \"2020-10-15\", \"2020-10-16\", \"2020-10-17\", \"2020-10-19\", \"2020-10-20\", \"2020-10-21\", \"2020-10-22\", \"2020-10-23\", \"2020-10-24\", \"2020-10-25\", \"2020-10-26\", \"2020-10-27\", \"2020-10-28\", \"2020-11-06\", \"2020-11-07\", \"2020-11-08\", \"2020-11-09\", \"2020-11-10\", \"2020-11-11\", \"2020-11-12\", \"2020-11-13\", \"2020-11-14\", \"2020-11-15\", \"2020-11-16\", \"2020-11-17\", \"2020-11-18\", \"2020-11-19\", \"2020-11-20\", \"2020-11-21\", \"2020-11-23\", \"2020-11-24\", \"2020-11-25\", \"2020-11-26\", \"2020-11-27\", \"2020-11-28\", \"2020-11-29\", \"2020-11-30\", \"2020-12-01\", \"2020-12-02\", \"2020-12-03\", \"2020-12-04\", \"2020-12-05\", \"2020-12-07\", \"2020-12-09\", \"2020-12-10\", \"2020-12-11\", \"2020-12-12\", \"2020-12-13\", \"2020-12-17\", \"2020-12-18\", \"2020-12-19\", \"2020-12-24\", \"2020-12-28\", \"2020-12-29\", \"2020-12-30\", \"2020-12-31\", \"2021-01-04\", \"2021-01-05\", \"2021-01-06\", \"2021-01-07\", \"2021-01-08\", \"2021-01-10\", \"2021-01-12\", \"2021-01-13\", \"2021-01-14\", \"2021-01-15\", \"2021-01-17\", \"2021-01-18\", \"2021-01-20\", \"2021-01-21\", \"2021-01-22\", \"2021-02-05\", \"2021-02-06\", \"2021-02-09\", \"2021-02-10\", \"2021-02-11\", \"2021-02-12\", \"2021-02-14\", \"2021-02-15\", \"2021-02-16\", \"2021-02-17\", \"2021-02-18\", \"2021-02-19\", \"2021-02-20\", \"2021-02-22\", \"2021-02-23\", \"2021-02-24\", \"2021-02-25\", \"2021-02-26\", \"2021-02-27\", \"2021-03-01\", \"2021-03-02\", \"2021-03-03\", \"2021-03-04\", \"2021-03-05\", \"2021-03-08\", \"2021-03-09\", \"2021-03-11\", \"2021-03-15\", \"2021-03-16\", \"2021-03-17\", \"2021-03-25\", \"2021-03-26\", \"2021-03-27\", \"2021-03-29\", \"2021-04-04\", \"2021-04-05\", \"2021-04-06\", \"2021-04-07\", \"2021-04-08\", \"2021-04-09\", \"2021-04-10\", \"2021-04-12\", \"2021-04-21\", \"2021-04-22\", \"2021-04-23\", \"2021-04-26\", \"2021-04-27\", \"2021-04-28\", \"2021-04-30\", \"2021-05-01\", \"2021-05-02\", \"2021-05-03\", \"2021-05-04\", \"2021-05-05\", \"2021-05-07\", \"2021-05-08\", \"2021-05-09\", \"2021-05-10\", \"2021-05-11\", \"2021-05-12\", \"2021-05-13\", \"2021-05-14\", \"2021-05-17\", \"2021-05-18\", \"2021-05-19\", \"2021-05-21\", \"2021-05-25\", \"2021-05-26\", \"2021-05-27\", \"2021-05-28\", \"2021-05-31\", \"2021-06-01\", \"2021-06-03\", \"2021-06-04\", \"2021-06-05\", \"2021-06-06\"], \"y\": [13, 13, 13, 13, 13, 13, 13, 13, 13, 13, 13, 13, 13, 13, 13, 13, 13, 13, 13, 13, 13, 13, 13, 13, 13, 13, 13, 13, 13, 13, 13, 13, 13, 13, 13, 13, 13, 13, 13, 13, 13, 13, 13, 14, 14, 14, 15, 15, 15, 15, 15, 15, 16, 16, 16, 16, 16, 16, 16, 16, 16, 16, 16, 16, 16, 16, 16, 16, 16, 16, 16, 16, 16, 16, 16, 16, 16, 16, 16, 17, 17, 17, 17, 17, 17, 17, 17, 17, 17, 17, 17, 17, 17, 17, 17, 18, 19, 19, 19, 19, 19, 19, 19, 19, 19, 19, 19, 19, 19, 19, 19, 19, 19, 19, 19, 19, 19, 19, 19, 19, 19, 19, 19, 21, 21, 21, 21, 21, 21, 21, 21, 21, 21, 21, 21, 21, 21, 21, 21, 21, 21, 21, 21, 21, 21, 21, 21, 21, 21, 21, 21, 21, 21, 21, 21, 21, 21, 21, 21, 21, 21, 21, 21, 21, 21, 21, 21, 21, 21, 21, 21, 21, 21, 21, 21, 21, 21, 21, 21, 21, 21, 21, 21, 21, 21, 21, 21, 21, 21, 21, 21, 21, 21, 21, 21, 21, 21, 21, 21]}, {\"mode\": \"lines\", \"name\": \"minas\", \"type\": \"scatter\", \"x\": [\"2020-08-14\", \"2020-08-17\", \"2020-08-18\", \"2020-08-19\", \"2020-08-20\", \"2020-08-21\", \"2020-08-22\", \"2020-08-23\", \"2020-08-24\", \"2020-08-25\", \"2020-08-26\", \"2020-08-27\", \"2020-08-28\", \"2020-08-29\", \"2020-08-30\", \"2020-08-31\", \"2020-09-01\", \"2020-09-02\", \"2020-09-03\", \"2020-09-04\", \"2020-09-07\", \"2020-09-08\", \"2020-09-09\", \"2020-09-10\", \"2020-09-11\", \"2020-09-12\", \"2020-09-15\", \"2020-09-16\", \"2020-09-17\", \"2020-09-18\", \"2020-09-19\", \"2020-09-21\", \"2020-09-22\", \"2020-09-23\", \"2020-09-24\", \"2020-09-25\", \"2020-09-26\", \"2020-09-27\", \"2020-09-28\", \"2020-09-29\", \"2020-09-30\", \"2020-10-01\", \"2020-10-02\", \"2020-10-03\", \"2020-10-05\", \"2020-10-06\", \"2020-10-07\", \"2020-10-08\", \"2020-10-09\", \"2020-10-10\", \"2020-10-13\", \"2020-10-14\", \"2020-10-15\", \"2020-10-16\", \"2020-10-17\", \"2020-10-19\", \"2020-10-20\", \"2020-10-21\", \"2020-10-22\", \"2020-10-23\", \"2020-10-24\", \"2020-10-25\", \"2020-10-26\", \"2020-10-27\", \"2020-10-28\", \"2020-11-06\", \"2020-11-07\", \"2020-11-08\", \"2020-11-09\", \"2020-11-10\", \"2020-11-11\", \"2020-11-12\", \"2020-11-13\", \"2020-11-14\", \"2020-11-15\", \"2020-11-16\", \"2020-11-17\", \"2020-11-18\", \"2020-11-19\", \"2020-11-20\", \"2020-11-21\", \"2020-11-23\", \"2020-11-24\", \"2020-11-25\", \"2020-11-26\", \"2020-11-27\", \"2020-11-28\", \"2020-11-29\", \"2020-11-30\", \"2020-12-01\", \"2020-12-02\", \"2020-12-03\", \"2020-12-04\", \"2020-12-05\", \"2020-12-07\", \"2020-12-09\", \"2020-12-10\", \"2020-12-11\", \"2020-12-12\", \"2020-12-13\", \"2020-12-17\", \"2020-12-18\", \"2020-12-19\", \"2020-12-24\", \"2020-12-28\", \"2020-12-29\", \"2020-12-30\", \"2020-12-31\", \"2021-01-04\", \"2021-01-05\", \"2021-01-06\", \"2021-01-07\", \"2021-01-08\", \"2021-01-10\", \"2021-01-12\", \"2021-01-13\", \"2021-01-14\", \"2021-01-15\", \"2021-01-17\", \"2021-01-18\", \"2021-01-20\", \"2021-01-21\", \"2021-01-22\", \"2021-02-05\", \"2021-02-06\", \"2021-02-09\", \"2021-02-10\", \"2021-02-11\", \"2021-02-12\", \"2021-02-14\", \"2021-02-15\", \"2021-02-16\", \"2021-02-17\", \"2021-02-18\", \"2021-02-19\", \"2021-02-20\", \"2021-02-22\", \"2021-02-23\", \"2021-02-24\", \"2021-02-25\", \"2021-02-26\", \"2021-02-27\", \"2021-03-01\", \"2021-03-02\", \"2021-03-03\", \"2021-03-04\", \"2021-03-05\", \"2021-03-08\", \"2021-03-09\", \"2021-03-11\", \"2021-03-15\", \"2021-03-16\", \"2021-03-17\", \"2021-03-25\", \"2021-03-26\", \"2021-03-27\", \"2021-03-29\", \"2021-04-04\", \"2021-04-05\", \"2021-04-06\", \"2021-04-07\", \"2021-04-08\", \"2021-04-09\", \"2021-04-10\", \"2021-04-12\", \"2021-04-21\", \"2021-04-22\", \"2021-04-23\", \"2021-04-26\", \"2021-04-27\", \"2021-04-28\", \"2021-04-30\", \"2021-05-01\", \"2021-05-02\", \"2021-05-03\", \"2021-05-04\", \"2021-05-05\", \"2021-05-07\", \"2021-05-08\", \"2021-05-09\", \"2021-05-10\", \"2021-05-11\", \"2021-05-12\", \"2021-05-13\", \"2021-05-14\", \"2021-05-17\", \"2021-05-18\", \"2021-05-19\", \"2021-05-21\", \"2021-05-25\", \"2021-05-26\", \"2021-05-27\", \"2021-05-28\", \"2021-05-31\", \"2021-06-01\", \"2021-06-03\", \"2021-06-04\", \"2021-06-05\", \"2021-06-06\"], \"y\": [14, 14, 14, 14, 14, 14, 14, 17, 17, 22, 23, 23, 24, 24, 25, 25, 25, 25, 26, 26, 26, 28, 28, 28, 28, 28, 28, 28, 28, 28, 28, 28, 28, 28, 28, 28, 29, 29, 29, 29, 30, 30, 30, 30, 30, 32, 33, 34, 35, 35, 35, 35, 36, 36, 36, 36, 36, 36, 37, 41, 41, 41, 41, 41, 43, 43, 49, 49, 49, 51, 51, 51, 51, 51, 51, 52, 52, 52, 52, 54, 54, 54, 56, 57, 58, 58, 62, 62, 62, 62, 62, 63, 63, 63, 63, 64, 66, 66, 66, 66, 66, 66, 66, 66, 66, 66, 66, 66, 66, 66, 66, 66, 67, 67, 68, 68, 68, 68, 68, 69, 69, 70, 80, 84, 88, 88, 88, 88, 92, 92, 92, 92, 94, 94, 94, 94, 94, 94, 94, 94, 95, 96, 96, 97, 97, 97, 97, 97, 98, 98, 98, 98, 98, 98, 98, 98, 98, 98, 98, 98, 98, 98, 98, 98, 100, 100, 100, 100, 100, 102, 102, 102, 102, 102, 102, 102, 102, 102, 102, 102, 102, 102, 102, 102, 102, 102, 102, 102, 102, 102, 102, 102, 102, 102, 102, 102, 102, 102, 102]}, {\"mode\": \"lines\", \"name\": \"antipersona\", \"type\": \"scatter\", \"x\": [\"2020-08-14\", \"2020-08-17\", \"2020-08-18\", \"2020-08-19\", \"2020-08-20\", \"2020-08-21\", \"2020-08-22\", \"2020-08-23\", \"2020-08-24\", \"2020-08-25\", \"2020-08-26\", \"2020-08-27\", \"2020-08-28\", \"2020-08-29\", \"2020-08-30\", \"2020-08-31\", \"2020-09-01\", \"2020-09-02\", \"2020-09-03\", \"2020-09-04\", \"2020-09-07\", \"2020-09-08\", \"2020-09-09\", \"2020-09-10\", \"2020-09-11\", \"2020-09-12\", \"2020-09-15\", \"2020-09-16\", \"2020-09-17\", \"2020-09-18\", \"2020-09-19\", \"2020-09-21\", \"2020-09-22\", \"2020-09-23\", \"2020-09-24\", \"2020-09-25\", \"2020-09-26\", \"2020-09-27\", \"2020-09-28\", \"2020-09-29\", \"2020-09-30\", \"2020-10-01\", \"2020-10-02\", \"2020-10-03\", \"2020-10-05\", \"2020-10-06\", \"2020-10-07\", \"2020-10-08\", \"2020-10-09\", \"2020-10-10\", \"2020-10-13\", \"2020-10-14\", \"2020-10-15\", \"2020-10-16\", \"2020-10-17\", \"2020-10-19\", \"2020-10-20\", \"2020-10-21\", \"2020-10-22\", \"2020-10-23\", \"2020-10-24\", \"2020-10-25\", \"2020-10-26\", \"2020-10-27\", \"2020-10-28\", \"2020-11-06\", \"2020-11-07\", \"2020-11-08\", \"2020-11-09\", \"2020-11-10\", \"2020-11-11\", \"2020-11-12\", \"2020-11-13\", \"2020-11-14\", \"2020-11-15\", \"2020-11-16\", \"2020-11-17\", \"2020-11-18\", \"2020-11-19\", \"2020-11-20\", \"2020-11-21\", \"2020-11-23\", \"2020-11-24\", \"2020-11-25\", \"2020-11-26\", \"2020-11-27\", \"2020-11-28\", \"2020-11-29\", \"2020-11-30\", \"2020-12-01\", \"2020-12-02\", \"2020-12-03\", \"2020-12-04\", \"2020-12-05\", \"2020-12-07\", \"2020-12-09\", \"2020-12-10\", \"2020-12-11\", \"2020-12-12\", \"2020-12-13\", \"2020-12-17\", \"2020-12-18\", \"2020-12-19\", \"2020-12-24\", \"2020-12-28\", \"2020-12-29\", \"2020-12-30\", \"2020-12-31\", \"2021-01-04\", \"2021-01-05\", \"2021-01-06\", \"2021-01-07\", \"2021-01-08\", \"2021-01-10\", \"2021-01-12\", \"2021-01-13\", \"2021-01-14\", \"2021-01-15\", \"2021-01-17\", \"2021-01-18\", \"2021-01-20\", \"2021-01-21\", \"2021-01-22\", \"2021-02-05\", \"2021-02-06\", \"2021-02-09\", \"2021-02-10\", \"2021-02-11\", \"2021-02-12\", \"2021-02-14\", \"2021-02-15\", \"2021-02-16\", \"2021-02-17\", \"2021-02-18\", \"2021-02-19\", \"2021-02-20\", \"2021-02-22\", \"2021-02-23\", \"2021-02-24\", \"2021-02-25\", \"2021-02-26\", \"2021-02-27\", \"2021-03-01\", \"2021-03-02\", \"2021-03-03\", \"2021-03-04\", \"2021-03-05\", \"2021-03-08\", \"2021-03-09\", \"2021-03-11\", \"2021-03-15\", \"2021-03-16\", \"2021-03-17\", \"2021-03-25\", \"2021-03-26\", \"2021-03-27\", \"2021-03-29\", \"2021-04-04\", \"2021-04-05\", \"2021-04-06\", \"2021-04-07\", \"2021-04-08\", \"2021-04-09\", \"2021-04-10\", \"2021-04-12\", \"2021-04-21\", \"2021-04-22\", \"2021-04-23\", \"2021-04-26\", \"2021-04-27\", \"2021-04-28\", \"2021-04-30\", \"2021-05-01\", \"2021-05-02\", \"2021-05-03\", \"2021-05-04\", \"2021-05-05\", \"2021-05-07\", \"2021-05-08\", \"2021-05-09\", \"2021-05-10\", \"2021-05-11\", \"2021-05-12\", \"2021-05-13\", \"2021-05-14\", \"2021-05-17\", \"2021-05-18\", \"2021-05-19\", \"2021-05-21\", \"2021-05-25\", \"2021-05-26\", \"2021-05-27\", \"2021-05-28\", \"2021-05-31\", \"2021-06-01\", \"2021-06-03\", \"2021-06-04\", \"2021-06-05\", \"2021-06-06\"], \"y\": [13, 13, 13, 13, 13, 13, 13, 13, 13, 13, 13, 13, 13, 13, 13, 13, 13, 13, 13, 13, 13, 13, 13, 13, 13, 13, 13, 13, 13, 13, 13, 13, 13, 13, 13, 13, 13, 13, 13, 13, 13, 13, 13, 13, 13, 13, 13, 13, 13, 13, 13, 13, 14, 14, 14, 14, 14, 14, 14, 14, 14, 14, 14, 14, 14, 14, 14, 14, 14, 14, 14, 14, 14, 14, 14, 14, 14, 14, 14, 14, 14, 14, 14, 15, 15, 15, 16, 16, 16, 16, 16, 16, 16, 16, 16, 17, 18, 18, 18, 18, 18, 18, 18, 18, 18, 18, 18, 18, 18, 18, 18, 18, 18, 18, 18, 18, 18, 18, 18, 18, 18, 18, 18, 22, 26, 26, 26, 26, 28, 28, 28, 28, 30, 30, 30, 30, 30, 30, 30, 30, 31, 31, 31, 31, 31, 31, 31, 31, 31, 31, 31, 31, 31, 31, 31, 31, 31, 31, 31, 31, 31, 31, 31, 31, 31, 31, 31, 31, 31, 31, 31, 31, 31, 31, 31, 31, 31, 31, 31, 31, 31, 31, 31, 31, 31, 31, 31, 31, 31, 31, 31, 31, 31, 31, 31, 31, 31, 31, 31]}, {\"mode\": \"lines\", \"name\": \"liberados\", \"type\": \"scatter\", \"x\": [\"2020-08-14\", \"2020-08-17\", \"2020-08-18\", \"2020-08-19\", \"2020-08-20\", \"2020-08-21\", \"2020-08-22\", \"2020-08-23\", \"2020-08-24\", \"2020-08-25\", \"2020-08-26\", \"2020-08-27\", \"2020-08-28\", \"2020-08-29\", \"2020-08-30\", \"2020-08-31\", \"2020-09-01\", \"2020-09-02\", \"2020-09-03\", \"2020-09-04\", \"2020-09-07\", \"2020-09-08\", \"2020-09-09\", \"2020-09-10\", \"2020-09-11\", \"2020-09-12\", \"2020-09-15\", \"2020-09-16\", \"2020-09-17\", \"2020-09-18\", \"2020-09-19\", \"2020-09-21\", \"2020-09-22\", \"2020-09-23\", \"2020-09-24\", \"2020-09-25\", \"2020-09-26\", \"2020-09-27\", \"2020-09-28\", \"2020-09-29\", \"2020-09-30\", \"2020-10-01\", \"2020-10-02\", \"2020-10-03\", \"2020-10-05\", \"2020-10-06\", \"2020-10-07\", \"2020-10-08\", \"2020-10-09\", \"2020-10-10\", \"2020-10-13\", \"2020-10-14\", \"2020-10-15\", \"2020-10-16\", \"2020-10-17\", \"2020-10-19\", \"2020-10-20\", \"2020-10-21\", \"2020-10-22\", \"2020-10-23\", \"2020-10-24\", \"2020-10-25\", \"2020-10-26\", \"2020-10-27\", \"2020-10-28\", \"2020-11-06\", \"2020-11-07\", \"2020-11-08\", \"2020-11-09\", \"2020-11-10\", \"2020-11-11\", \"2020-11-12\", \"2020-11-13\", \"2020-11-14\", \"2020-11-15\", \"2020-11-16\", \"2020-11-17\", \"2020-11-18\", \"2020-11-19\", \"2020-11-20\", \"2020-11-21\", \"2020-11-23\", \"2020-11-24\", \"2020-11-25\", \"2020-11-26\", \"2020-11-27\", \"2020-11-28\", \"2020-11-29\", \"2020-11-30\", \"2020-12-01\", \"2020-12-02\", \"2020-12-03\", \"2020-12-04\", \"2020-12-05\", \"2020-12-07\", \"2020-12-09\", \"2020-12-10\", \"2020-12-11\", \"2020-12-12\", \"2020-12-13\", \"2020-12-17\", \"2020-12-18\", \"2020-12-19\", \"2020-12-24\", \"2020-12-28\", \"2020-12-29\", \"2020-12-30\", \"2020-12-31\", \"2021-01-04\", \"2021-01-05\", \"2021-01-06\", \"2021-01-07\", \"2021-01-08\", \"2021-01-10\", \"2021-01-12\", \"2021-01-13\", \"2021-01-14\", \"2021-01-15\", \"2021-01-17\", \"2021-01-18\", \"2021-01-20\", \"2021-01-21\", \"2021-01-22\", \"2021-02-05\", \"2021-02-06\", \"2021-02-09\", \"2021-02-10\", \"2021-02-11\", \"2021-02-12\", \"2021-02-14\", \"2021-02-15\", \"2021-02-16\", \"2021-02-17\", \"2021-02-18\", \"2021-02-19\", \"2021-02-20\", \"2021-02-22\", \"2021-02-23\", \"2021-02-24\", \"2021-02-25\", \"2021-02-26\", \"2021-02-27\", \"2021-03-01\", \"2021-03-02\", \"2021-03-03\", \"2021-03-04\", \"2021-03-05\", \"2021-03-08\", \"2021-03-09\", \"2021-03-11\", \"2021-03-15\", \"2021-03-16\", \"2021-03-17\", \"2021-03-25\", \"2021-03-26\", \"2021-03-27\", \"2021-03-29\", \"2021-04-04\", \"2021-04-05\", \"2021-04-06\", \"2021-04-07\", \"2021-04-08\", \"2021-04-09\", \"2021-04-10\", \"2021-04-12\", \"2021-04-21\", \"2021-04-22\", \"2021-04-23\", \"2021-04-26\", \"2021-04-27\", \"2021-04-28\", \"2021-04-30\", \"2021-05-01\", \"2021-05-02\", \"2021-05-03\", \"2021-05-04\", \"2021-05-05\", \"2021-05-07\", \"2021-05-08\", \"2021-05-09\", \"2021-05-10\", \"2021-05-11\", \"2021-05-12\", \"2021-05-13\", \"2021-05-14\", \"2021-05-17\", \"2021-05-18\", \"2021-05-19\", \"2021-05-21\", \"2021-05-25\", \"2021-05-26\", \"2021-05-27\", \"2021-05-28\", \"2021-05-31\", \"2021-06-01\", \"2021-06-03\", \"2021-06-04\", \"2021-06-05\", \"2021-06-06\"], \"y\": [5, 5, 5, 5, 5, 5, 5, 5, 5, 5, 5, 5, 5, 5, 5, 5, 5, 5, 5, 5, 5, 5, 5, 5, 5, 5, 5, 5, 5, 5, 5, 5, 5, 5, 5, 5, 5, 5, 5, 5, 5, 5, 5, 5, 5, 5, 5, 5, 5, 5, 5, 5, 5, 5, 5, 5, 5, 5, 5, 5, 5, 5, 5, 5, 5, 5, 5, 5, 5, 5, 5, 5, 5, 5, 5, 5, 5, 5, 5, 5, 5, 5, 5, 5, 5, 5, 5, 5, 5, 5, 5, 5, 5, 5, 5, 5, 5, 5, 5, 5, 5, 5, 5, 5, 5, 5, 5, 5, 5, 5, 5, 5, 5, 5, 5, 5, 5, 5, 5, 5, 5, 5, 5, 5, 5, 5, 5, 5, 5, 5, 5, 5, 5, 5, 5, 5, 5, 5, 5, 5, 5, 5, 5, 5, 5, 5, 5, 5, 5, 5, 5, 5, 5, 5, 5, 5, 5, 5, 5, 5, 5, 5, 5, 5, 5, 5, 5, 5, 5, 5, 5, 5, 5, 5, 5, 5, 5, 5, 5, 5, 5, 5, 5, 5, 5, 5, 5, 5, 5, 5, 5, 5, 5, 5, 5, 5, 5, 5, 5]}, {\"mode\": \"lines\", \"name\": \"municipios\", \"type\": \"scatter\", \"x\": [\"2020-08-14\", \"2020-08-17\", \"2020-08-18\", \"2020-08-19\", \"2020-08-20\", \"2020-08-21\", \"2020-08-22\", \"2020-08-23\", \"2020-08-24\", \"2020-08-25\", \"2020-08-26\", \"2020-08-27\", \"2020-08-28\", \"2020-08-29\", \"2020-08-30\", \"2020-08-31\", \"2020-09-01\", \"2020-09-02\", \"2020-09-03\", \"2020-09-04\", \"2020-09-07\", \"2020-09-08\", \"2020-09-09\", \"2020-09-10\", \"2020-09-11\", \"2020-09-12\", \"2020-09-15\", \"2020-09-16\", \"2020-09-17\", \"2020-09-18\", \"2020-09-19\", \"2020-09-21\", \"2020-09-22\", \"2020-09-23\", \"2020-09-24\", \"2020-09-25\", \"2020-09-26\", \"2020-09-27\", \"2020-09-28\", \"2020-09-29\", \"2020-09-30\", \"2020-10-01\", \"2020-10-02\", \"2020-10-03\", \"2020-10-05\", \"2020-10-06\", \"2020-10-07\", \"2020-10-08\", \"2020-10-09\", \"2020-10-10\", \"2020-10-13\", \"2020-10-14\", \"2020-10-15\", \"2020-10-16\", \"2020-10-17\", \"2020-10-19\", \"2020-10-20\", \"2020-10-21\", \"2020-10-22\", \"2020-10-23\", \"2020-10-24\", \"2020-10-25\", \"2020-10-26\", \"2020-10-27\", \"2020-10-28\", \"2020-11-06\", \"2020-11-07\", \"2020-11-08\", \"2020-11-09\", \"2020-11-10\", \"2020-11-11\", \"2020-11-12\", \"2020-11-13\", \"2020-11-14\", \"2020-11-15\", \"2020-11-16\", \"2020-11-17\", \"2020-11-18\", \"2020-11-19\", \"2020-11-20\", \"2020-11-21\", \"2020-11-23\", \"2020-11-24\", \"2020-11-25\", \"2020-11-26\", \"2020-11-27\", \"2020-11-28\", \"2020-11-29\", \"2020-11-30\", \"2020-12-01\", \"2020-12-02\", \"2020-12-03\", \"2020-12-04\", \"2020-12-05\", \"2020-12-07\", \"2020-12-09\", \"2020-12-10\", \"2020-12-11\", \"2020-12-12\", \"2020-12-13\", \"2020-12-17\", \"2020-12-18\", \"2020-12-19\", \"2020-12-24\", \"2020-12-28\", \"2020-12-29\", \"2020-12-30\", \"2020-12-31\", \"2021-01-04\", \"2021-01-05\", \"2021-01-06\", \"2021-01-07\", \"2021-01-08\", \"2021-01-10\", \"2021-01-12\", \"2021-01-13\", \"2021-01-14\", \"2021-01-15\", \"2021-01-17\", \"2021-01-18\", \"2021-01-20\", \"2021-01-21\", \"2021-01-22\", \"2021-02-05\", \"2021-02-06\", \"2021-02-09\", \"2021-02-10\", \"2021-02-11\", \"2021-02-12\", \"2021-02-14\", \"2021-02-15\", \"2021-02-16\", \"2021-02-17\", \"2021-02-18\", \"2021-02-19\", \"2021-02-20\", \"2021-02-22\", \"2021-02-23\", \"2021-02-24\", \"2021-02-25\", \"2021-02-26\", \"2021-02-27\", \"2021-03-01\", \"2021-03-02\", \"2021-03-03\", \"2021-03-04\", \"2021-03-05\", \"2021-03-08\", \"2021-03-09\", \"2021-03-11\", \"2021-03-15\", \"2021-03-16\", \"2021-03-17\", \"2021-03-25\", \"2021-03-26\", \"2021-03-27\", \"2021-03-29\", \"2021-04-04\", \"2021-04-05\", \"2021-04-06\", \"2021-04-07\", \"2021-04-08\", \"2021-04-09\", \"2021-04-10\", \"2021-04-12\", \"2021-04-21\", \"2021-04-22\", \"2021-04-23\", \"2021-04-26\", \"2021-04-27\", \"2021-04-28\", \"2021-04-30\", \"2021-05-01\", \"2021-05-02\", \"2021-05-03\", \"2021-05-04\", \"2021-05-05\", \"2021-05-07\", \"2021-05-08\", \"2021-05-09\", \"2021-05-10\", \"2021-05-11\", \"2021-05-12\", \"2021-05-13\", \"2021-05-14\", \"2021-05-17\", \"2021-05-18\", \"2021-05-19\", \"2021-05-21\", \"2021-05-25\", \"2021-05-26\", \"2021-05-27\", \"2021-05-28\", \"2021-05-31\", \"2021-06-01\", \"2021-06-03\", \"2021-06-04\", \"2021-06-05\", \"2021-06-06\"], \"y\": [17, 18, 20, 21, 22, 23, 25, 25, 38, 44, 47, 50, 64, 64, 64, 66, 67, 69, 74, 76, 80, 82, 96, 98, 99, 99, 125, 139, 152, 153, 154, 167, 169, 182, 195, 196, 197, 198, 213, 215, 221, 235, 249, 251, 264, 277, 281, 283, 286, 286, 287, 290, 295, 296, 296, 296, 298, 300, 314, 329, 330, 330, 345, 359, 360, 362, 368, 368, 394, 398, 424, 426, 430, 430, 430, 430, 432, 434, 437, 437, 437, 439, 453, 471, 475, 478, 488, 488, 491, 492, 494, 509, 513, 514, 516, 517, 522, 524, 524, 524, 526, 528, 528, 528, 530, 532, 533, 533, 535, 535, 537, 539, 541, 541, 541, 541, 543, 546, 546, 550, 552, 554, 557, 561, 561, 569, 573, 599, 603, 603, 603, 605, 605, 607, 609, 609, 611, 624, 638, 641, 641, 641, 643, 645, 660, 662, 679, 681, 683, 685, 699, 700, 700, 726, 756, 756, 758, 764, 764, 790, 794, 822, 848, 850, 850, 876, 902, 928, 930, 958, 962, 962, 962, 962, 964, 966, 966, 966, 966, 966, 966, 966, 966, 973, 973, 973, 974, 974, 977, 977, 977, 977, 977, 977, 977, 979, 982, 982, 982]}],                        {\"height\": 500, \"legend\": {\"tracegroupgap\": 0}, \"margin\": {\"t\": 60}, \"template\": {\"data\": {\"bar\": [{\"error_x\": {\"color\": \"#2a3f5f\"}, \"error_y\": {\"color\": \"#2a3f5f\"}, \"marker\": {\"line\": {\"color\": \"#E5ECF6\", \"width\": 0.5}}, \"type\": \"bar\"}], \"barpolar\": [{\"marker\": {\"line\": {\"color\": \"#E5ECF6\", \"width\": 0.5}}, \"type\": \"barpolar\"}], \"carpet\": [{\"aaxis\": {\"endlinecolor\": \"#2a3f5f\", \"gridcolor\": \"white\", \"linecolor\": \"white\", \"minorgridcolor\": \"white\", \"startlinecolor\": \"#2a3f5f\"}, \"baxis\": {\"endlinecolor\": \"#2a3f5f\", \"gridcolor\": \"white\", \"linecolor\": \"white\", \"minorgridcolor\": \"white\", \"startlinecolor\": \"#2a3f5f\"}, \"type\": \"carpet\"}], \"choropleth\": [{\"colorbar\": {\"outlinewidth\": 0, \"ticks\": \"\"}, \"type\": \"choropleth\"}], \"contour\": [{\"colorbar\": {\"outlinewidth\": 0, \"ticks\": \"\"}, \"colorscale\": [[0.0, \"#0d0887\"], [0.1111111111111111, \"#46039f\"], [0.2222222222222222, \"#7201a8\"], [0.3333333333333333, \"#9c179e\"], [0.4444444444444444, \"#bd3786\"], [0.5555555555555556, \"#d8576b\"], [0.6666666666666666, \"#ed7953\"], [0.7777777777777778, \"#fb9f3a\"], [0.8888888888888888, \"#fdca26\"], [1.0, \"#f0f921\"]], \"type\": \"contour\"}], \"contourcarpet\": [{\"colorbar\": {\"outlinewidth\": 0, \"ticks\": \"\"}, \"type\": \"contourcarpet\"}], \"heatmap\": [{\"colorbar\": {\"outlinewidth\": 0, \"ticks\": \"\"}, \"colorscale\": [[0.0, \"#0d0887\"], [0.1111111111111111, \"#46039f\"], [0.2222222222222222, \"#7201a8\"], [0.3333333333333333, \"#9c179e\"], [0.4444444444444444, \"#bd3786\"], [0.5555555555555556, \"#d8576b\"], [0.6666666666666666, \"#ed7953\"], [0.7777777777777778, \"#fb9f3a\"], [0.8888888888888888, \"#fdca26\"], [1.0, \"#f0f921\"]], \"type\": \"heatmap\"}], \"heatmapgl\": [{\"colorbar\": {\"outlinewidth\": 0, \"ticks\": \"\"}, \"colorscale\": [[0.0, \"#0d0887\"], [0.1111111111111111, \"#46039f\"], [0.2222222222222222, \"#7201a8\"], [0.3333333333333333, \"#9c179e\"], [0.4444444444444444, \"#bd3786\"], [0.5555555555555556, \"#d8576b\"], [0.6666666666666666, \"#ed7953\"], [0.7777777777777778, \"#fb9f3a\"], [0.8888888888888888, \"#fdca26\"], [1.0, \"#f0f921\"]], \"type\": \"heatmapgl\"}], \"histogram\": [{\"marker\": {\"colorbar\": {\"outlinewidth\": 0, \"ticks\": \"\"}}, \"type\": \"histogram\"}], \"histogram2d\": [{\"colorbar\": {\"outlinewidth\": 0, \"ticks\": \"\"}, \"colorscale\": [[0.0, \"#0d0887\"], [0.1111111111111111, \"#46039f\"], [0.2222222222222222, \"#7201a8\"], [0.3333333333333333, \"#9c179e\"], [0.4444444444444444, \"#bd3786\"], [0.5555555555555556, \"#d8576b\"], [0.6666666666666666, \"#ed7953\"], [0.7777777777777778, \"#fb9f3a\"], [0.8888888888888888, \"#fdca26\"], [1.0, \"#f0f921\"]], \"type\": \"histogram2d\"}], \"histogram2dcontour\": [{\"colorbar\": {\"outlinewidth\": 0, \"ticks\": \"\"}, \"colorscale\": [[0.0, \"#0d0887\"], [0.1111111111111111, \"#46039f\"], [0.2222222222222222, \"#7201a8\"], [0.3333333333333333, \"#9c179e\"], [0.4444444444444444, \"#bd3786\"], [0.5555555555555556, \"#d8576b\"], [0.6666666666666666, \"#ed7953\"], [0.7777777777777778, \"#fb9f3a\"], [0.8888888888888888, \"#fdca26\"], [1.0, \"#f0f921\"]], \"type\": \"histogram2dcontour\"}], \"mesh3d\": [{\"colorbar\": {\"outlinewidth\": 0, \"ticks\": \"\"}, \"type\": \"mesh3d\"}], \"parcoords\": [{\"line\": {\"colorbar\": {\"outlinewidth\": 0, \"ticks\": \"\"}}, \"type\": \"parcoords\"}], \"pie\": [{\"automargin\": true, \"type\": \"pie\"}], \"scatter\": [{\"marker\": {\"colorbar\": {\"outlinewidth\": 0, \"ticks\": \"\"}}, \"type\": \"scatter\"}], \"scatter3d\": [{\"line\": {\"colorbar\": {\"outlinewidth\": 0, \"ticks\": \"\"}}, \"marker\": {\"colorbar\": {\"outlinewidth\": 0, \"ticks\": \"\"}}, \"type\": \"scatter3d\"}], \"scattercarpet\": [{\"marker\": {\"colorbar\": {\"outlinewidth\": 0, \"ticks\": \"\"}}, \"type\": \"scattercarpet\"}], \"scattergeo\": [{\"marker\": {\"colorbar\": {\"outlinewidth\": 0, \"ticks\": \"\"}}, \"type\": \"scattergeo\"}], \"scattergl\": [{\"marker\": {\"colorbar\": {\"outlinewidth\": 0, \"ticks\": \"\"}}, \"type\": \"scattergl\"}], \"scattermapbox\": [{\"marker\": {\"colorbar\": {\"outlinewidth\": 0, \"ticks\": \"\"}}, \"type\": \"scattermapbox\"}], \"scatterpolar\": [{\"marker\": {\"colorbar\": {\"outlinewidth\": 0, \"ticks\": \"\"}}, \"type\": \"scatterpolar\"}], \"scatterpolargl\": [{\"marker\": {\"colorbar\": {\"outlinewidth\": 0, \"ticks\": \"\"}}, \"type\": \"scatterpolargl\"}], \"scatterternary\": [{\"marker\": {\"colorbar\": {\"outlinewidth\": 0, \"ticks\": \"\"}}, \"type\": \"scatterternary\"}], \"surface\": [{\"colorbar\": {\"outlinewidth\": 0, \"ticks\": \"\"}, \"colorscale\": [[0.0, \"#0d0887\"], [0.1111111111111111, \"#46039f\"], [0.2222222222222222, \"#7201a8\"], [0.3333333333333333, \"#9c179e\"], [0.4444444444444444, \"#bd3786\"], [0.5555555555555556, \"#d8576b\"], [0.6666666666666666, \"#ed7953\"], [0.7777777777777778, \"#fb9f3a\"], [0.8888888888888888, \"#fdca26\"], [1.0, \"#f0f921\"]], \"type\": \"surface\"}], \"table\": [{\"cells\": {\"fill\": {\"color\": \"#EBF0F8\"}, \"line\": {\"color\": \"white\"}}, \"header\": {\"fill\": {\"color\": \"#C8D4E3\"}, \"line\": {\"color\": \"white\"}}, \"type\": \"table\"}]}, \"layout\": {\"annotationdefaults\": {\"arrowcolor\": \"#2a3f5f\", \"arrowhead\": 0, \"arrowwidth\": 1}, \"autotypenumbers\": \"strict\", \"coloraxis\": {\"colorbar\": {\"outlinewidth\": 0, \"ticks\": \"\"}}, \"colorscale\": {\"diverging\": [[0, \"#8e0152\"], [0.1, \"#c51b7d\"], [0.2, \"#de77ae\"], [0.3, \"#f1b6da\"], [0.4, \"#fde0ef\"], [0.5, \"#f7f7f7\"], [0.6, \"#e6f5d0\"], [0.7, \"#b8e186\"], [0.8, \"#7fbc41\"], [0.9, \"#4d9221\"], [1, \"#276419\"]], \"sequential\": [[0.0, \"#0d0887\"], [0.1111111111111111, \"#46039f\"], [0.2222222222222222, \"#7201a8\"], [0.3333333333333333, \"#9c179e\"], [0.4444444444444444, \"#bd3786\"], [0.5555555555555556, \"#d8576b\"], [0.6666666666666666, \"#ed7953\"], [0.7777777777777778, \"#fb9f3a\"], [0.8888888888888888, \"#fdca26\"], [1.0, \"#f0f921\"]], \"sequentialminus\": [[0.0, \"#0d0887\"], [0.1111111111111111, \"#46039f\"], [0.2222222222222222, \"#7201a8\"], [0.3333333333333333, \"#9c179e\"], [0.4444444444444444, \"#bd3786\"], [0.5555555555555556, \"#d8576b\"], [0.6666666666666666, \"#ed7953\"], [0.7777777777777778, \"#fb9f3a\"], [0.8888888888888888, \"#fdca26\"], [1.0, \"#f0f921\"]]}, \"colorway\": [\"#636efa\", \"#EF553B\", \"#00cc96\", \"#ab63fa\", \"#FFA15A\", \"#19d3f3\", \"#FF6692\", \"#B6E880\", \"#FF97FF\", \"#FECB52\"], \"font\": {\"color\": \"#2a3f5f\"}, \"geo\": {\"bgcolor\": \"white\", \"lakecolor\": \"white\", \"landcolor\": \"#E5ECF6\", \"showlakes\": true, \"showland\": true, \"subunitcolor\": \"white\"}, \"hoverlabel\": {\"align\": \"left\"}, \"hovermode\": \"closest\", \"mapbox\": {\"style\": \"light\"}, \"paper_bgcolor\": \"white\", \"plot_bgcolor\": \"#E5ECF6\", \"polar\": {\"angularaxis\": {\"gridcolor\": \"white\", \"linecolor\": \"white\", \"ticks\": \"\"}, \"bgcolor\": \"#E5ECF6\", \"radialaxis\": {\"gridcolor\": \"white\", \"linecolor\": \"white\", \"ticks\": \"\"}}, \"scene\": {\"xaxis\": {\"backgroundcolor\": \"#E5ECF6\", \"gridcolor\": \"white\", \"gridwidth\": 2, \"linecolor\": \"white\", \"showbackground\": true, \"ticks\": \"\", \"zerolinecolor\": \"white\"}, \"yaxis\": {\"backgroundcolor\": \"#E5ECF6\", \"gridcolor\": \"white\", \"gridwidth\": 2, \"linecolor\": \"white\", \"showbackground\": true, \"ticks\": \"\", \"zerolinecolor\": \"white\"}, \"zaxis\": {\"backgroundcolor\": \"#E5ECF6\", \"gridcolor\": \"white\", \"gridwidth\": 2, \"linecolor\": \"white\", \"showbackground\": true, \"ticks\": \"\", \"zerolinecolor\": \"white\"}}, \"shapedefaults\": {\"line\": {\"color\": \"#2a3f5f\"}}, \"ternary\": {\"aaxis\": {\"gridcolor\": \"white\", \"linecolor\": \"white\", \"ticks\": \"\"}, \"baxis\": {\"gridcolor\": \"white\", \"linecolor\": \"white\", \"ticks\": \"\"}, \"bgcolor\": \"#E5ECF6\", \"caxis\": {\"gridcolor\": \"white\", \"linecolor\": \"white\", \"ticks\": \"\"}}, \"title\": {\"x\": 0.05}, \"xaxis\": {\"automargin\": true, \"gridcolor\": \"white\", \"linecolor\": \"white\", \"ticks\": \"\", \"title\": {\"standoff\": 15}, \"zerolinecolor\": \"white\", \"zerolinewidth\": 2}, \"yaxis\": {\"automargin\": true, \"gridcolor\": \"white\", \"linecolor\": \"white\", \"ticks\": \"\", \"title\": {\"standoff\": 15}, \"zerolinecolor\": \"white\", \"zerolinewidth\": 2}}}, \"title\": {\"font\": {\"size\": 15}, \"text\": \"Las palabras claves de la fecha <b> 2020-08-14</b> son: sospechaminasantipersonaliberadosmunicipios\", \"x\": 0.5, \"xanchor\": \"center\"}, \"width\": 800, \"xaxis\": {\"anchor\": \"y\", \"domain\": [0.0, 1.0]}, \"yaxis\": {\"anchor\": \"x\", \"domain\": [0.0, 1.0]}},                        {\"responsive\": true}                    ).then(function(){\n                            \nvar gd = document.getElementById('9b75a372-9040-4bbd-a111-4e0888dcf063');\nvar x = new MutationObserver(function (mutations, observer) {{\n        var display = window.getComputedStyle(gd).display;\n        if (!display || display === 'none') {{\n            console.log([gd, 'removed!']);\n            Plotly.purge(gd);\n            observer.disconnect();\n        }}\n}});\n\n// Listen for the removal of the full notebook cells\nvar notebookContainer = gd.closest('#notebook-container');\nif (notebookContainer) {{\n    x.observe(notebookContainer, {childList: true});\n}}\n\n// Listen for the clearing of the current output cell\nvar outputEl = gd.closest('.output');\nif (outputEl) {{\n    x.observe(outputEl, {childList: true});\n}}\n\n                        })                };                });            </script>        </div>"
         },
         "metadata": {},
         "output_type": "display_data"
        }
       ]
      }
     },
     "63e61d43c5da4d7fa52bb4de9a402e98": {
      "model_module": "@jupyter-widgets/base",
      "model_module_version": "1.2.0",
      "model_name": "LayoutModel",
      "state": {}
     },
     "64e5465dcf3c47e38110010b3b6d4e7d": {
      "model_module": "@jupyter-widgets/controls",
      "model_module_version": "1.5.0",
      "model_name": "FloatSliderModel",
      "state": {
       "description": "Palabras: ",
       "layout": "IPY_MODEL_24063955b7d24d17a622ec8de257cf52",
       "max": 198,
       "style": "IPY_MODEL_e4dc91e5a36448268d59b140b7a6a025"
      }
     },
     "67b4dc8371624c2194b1702a8bdd20ae": {
      "model_module": "@jupyter-widgets/output",
      "model_module_version": "1.0.0",
      "model_name": "OutputModel",
      "state": {
       "layout": "IPY_MODEL_88254c937fb44acdbe32a8bf48d3ff01",
       "outputs": [
        {
         "data": {
          "application/vnd.plotly.v1+json": {
           "config": {
            "plotlyServerURL": "https://plot.ly"
           },
           "data": [
            {
             "mode": "lines",
             "name": "sospecha",
             "type": "scatter",
             "x": [
              "2020-08-14",
              "2020-08-17",
              "2020-08-18",
              "2020-08-19",
              "2020-08-20",
              "2020-08-21",
              "2020-08-22",
              "2020-08-23",
              "2020-08-24",
              "2020-08-25",
              "2020-08-26",
              "2020-08-27",
              "2020-08-28",
              "2020-08-29",
              "2020-08-30",
              "2020-08-31",
              "2020-09-01",
              "2020-09-02",
              "2020-09-03",
              "2020-09-04",
              "2020-09-07",
              "2020-09-08",
              "2020-09-09",
              "2020-09-10",
              "2020-09-11",
              "2020-09-12",
              "2020-09-15",
              "2020-09-16",
              "2020-09-17",
              "2020-09-18",
              "2020-09-19",
              "2020-09-21",
              "2020-09-22",
              "2020-09-23",
              "2020-09-24",
              "2020-09-25",
              "2020-09-26",
              "2020-09-27",
              "2020-09-28",
              "2020-09-29",
              "2020-09-30",
              "2020-10-01",
              "2020-10-02",
              "2020-10-03",
              "2020-10-05",
              "2020-10-06",
              "2020-10-07",
              "2020-10-08",
              "2020-10-09",
              "2020-10-10",
              "2020-10-13",
              "2020-10-14",
              "2020-10-15",
              "2020-10-16",
              "2020-10-17",
              "2020-10-19",
              "2020-10-20",
              "2020-10-21",
              "2020-10-22",
              "2020-10-23",
              "2020-10-24",
              "2020-10-25",
              "2020-10-26",
              "2020-10-27",
              "2020-10-28",
              "2020-11-06",
              "2020-11-07",
              "2020-11-08",
              "2020-11-09",
              "2020-11-10",
              "2020-11-11",
              "2020-11-12",
              "2020-11-13",
              "2020-11-14",
              "2020-11-15",
              "2020-11-16",
              "2020-11-17",
              "2020-11-18",
              "2020-11-19",
              "2020-11-20",
              "2020-11-21",
              "2020-11-23",
              "2020-11-24",
              "2020-11-25",
              "2020-11-26",
              "2020-11-27",
              "2020-11-28",
              "2020-11-29",
              "2020-11-30",
              "2020-12-01",
              "2020-12-02",
              "2020-12-03",
              "2020-12-04",
              "2020-12-05",
              "2020-12-07",
              "2020-12-09",
              "2020-12-10",
              "2020-12-11",
              "2020-12-12",
              "2020-12-13",
              "2020-12-17",
              "2020-12-18",
              "2020-12-19",
              "2020-12-24",
              "2020-12-28",
              "2020-12-29",
              "2020-12-30",
              "2020-12-31",
              "2021-01-04",
              "2021-01-05",
              "2021-01-06",
              "2021-01-07",
              "2021-01-08",
              "2021-01-10",
              "2021-01-12",
              "2021-01-13",
              "2021-01-14",
              "2021-01-15",
              "2021-01-17",
              "2021-01-18",
              "2021-01-20",
              "2021-01-21",
              "2021-01-22",
              "2021-02-05",
              "2021-02-06",
              "2021-02-09",
              "2021-02-10",
              "2021-02-11",
              "2021-02-12",
              "2021-02-14",
              "2021-02-15",
              "2021-02-16",
              "2021-02-17",
              "2021-02-18",
              "2021-02-19",
              "2021-02-20",
              "2021-02-22",
              "2021-02-23",
              "2021-02-24",
              "2021-02-25",
              "2021-02-26",
              "2021-02-27",
              "2021-03-01",
              "2021-03-02",
              "2021-03-03",
              "2021-03-04",
              "2021-03-05",
              "2021-03-08",
              "2021-03-09",
              "2021-03-11",
              "2021-03-15",
              "2021-03-16",
              "2021-03-17",
              "2021-03-25",
              "2021-03-26",
              "2021-03-27",
              "2021-03-29",
              "2021-04-04",
              "2021-04-05",
              "2021-04-06",
              "2021-04-07",
              "2021-04-08",
              "2021-04-09",
              "2021-04-10",
              "2021-04-12",
              "2021-04-21",
              "2021-04-22",
              "2021-04-23",
              "2021-04-26",
              "2021-04-27",
              "2021-04-28",
              "2021-04-30",
              "2021-05-01",
              "2021-05-02",
              "2021-05-03",
              "2021-05-04",
              "2021-05-05",
              "2021-05-07",
              "2021-05-08",
              "2021-05-09",
              "2021-05-10",
              "2021-05-11",
              "2021-05-12",
              "2021-05-13",
              "2021-05-14",
              "2021-05-17",
              "2021-05-18",
              "2021-05-19",
              "2021-05-21",
              "2021-05-25",
              "2021-05-26",
              "2021-05-27",
              "2021-05-28",
              "2021-05-31",
              "2021-06-01",
              "2021-06-03",
              "2021-06-04",
              "2021-06-05",
              "2021-06-06"
             ],
             "y": [
              13,
              13,
              13,
              13,
              13,
              13,
              13,
              13,
              13,
              13,
              13,
              13,
              13,
              13,
              13,
              13,
              13,
              13,
              13,
              13,
              13,
              13,
              13,
              13,
              13,
              13,
              13,
              13,
              13,
              13,
              13,
              13,
              13,
              13,
              13,
              13,
              13,
              13,
              13,
              13,
              13,
              13,
              13,
              14,
              14,
              14,
              15,
              15,
              15,
              15,
              15,
              15,
              16,
              16,
              16,
              16,
              16,
              16,
              16,
              16,
              16,
              16,
              16,
              16,
              16,
              16,
              16,
              16,
              16,
              16,
              16,
              16,
              16,
              16,
              16,
              16,
              16,
              16,
              16,
              17,
              17,
              17,
              17,
              17,
              17,
              17,
              17,
              17,
              17,
              17,
              17,
              17,
              17,
              17,
              17,
              18,
              19,
              19,
              19,
              19,
              19,
              19,
              19,
              19,
              19,
              19,
              19,
              19,
              19,
              19,
              19,
              19,
              19,
              19,
              19,
              19,
              19,
              19,
              19,
              19,
              19,
              19,
              19,
              21,
              21,
              21,
              21,
              21,
              21,
              21,
              21,
              21,
              21,
              21,
              21,
              21,
              21,
              21,
              21,
              21,
              21,
              21,
              21,
              21,
              21,
              21,
              21,
              21,
              21,
              21,
              21,
              21,
              21,
              21,
              21,
              21,
              21,
              21,
              21,
              21,
              21,
              21,
              21,
              21,
              21,
              21,
              21,
              21,
              21,
              21,
              21,
              21,
              21,
              21,
              21,
              21,
              21,
              21,
              21,
              21,
              21,
              21,
              21,
              21,
              21,
              21,
              21,
              21,
              21,
              21,
              21,
              21,
              21,
              21,
              21,
              21,
              21,
              21,
              21
             ]
            },
            {
             "mode": "lines",
             "name": "minas",
             "type": "scatter",
             "x": [
              "2020-08-14",
              "2020-08-17",
              "2020-08-18",
              "2020-08-19",
              "2020-08-20",
              "2020-08-21",
              "2020-08-22",
              "2020-08-23",
              "2020-08-24",
              "2020-08-25",
              "2020-08-26",
              "2020-08-27",
              "2020-08-28",
              "2020-08-29",
              "2020-08-30",
              "2020-08-31",
              "2020-09-01",
              "2020-09-02",
              "2020-09-03",
              "2020-09-04",
              "2020-09-07",
              "2020-09-08",
              "2020-09-09",
              "2020-09-10",
              "2020-09-11",
              "2020-09-12",
              "2020-09-15",
              "2020-09-16",
              "2020-09-17",
              "2020-09-18",
              "2020-09-19",
              "2020-09-21",
              "2020-09-22",
              "2020-09-23",
              "2020-09-24",
              "2020-09-25",
              "2020-09-26",
              "2020-09-27",
              "2020-09-28",
              "2020-09-29",
              "2020-09-30",
              "2020-10-01",
              "2020-10-02",
              "2020-10-03",
              "2020-10-05",
              "2020-10-06",
              "2020-10-07",
              "2020-10-08",
              "2020-10-09",
              "2020-10-10",
              "2020-10-13",
              "2020-10-14",
              "2020-10-15",
              "2020-10-16",
              "2020-10-17",
              "2020-10-19",
              "2020-10-20",
              "2020-10-21",
              "2020-10-22",
              "2020-10-23",
              "2020-10-24",
              "2020-10-25",
              "2020-10-26",
              "2020-10-27",
              "2020-10-28",
              "2020-11-06",
              "2020-11-07",
              "2020-11-08",
              "2020-11-09",
              "2020-11-10",
              "2020-11-11",
              "2020-11-12",
              "2020-11-13",
              "2020-11-14",
              "2020-11-15",
              "2020-11-16",
              "2020-11-17",
              "2020-11-18",
              "2020-11-19",
              "2020-11-20",
              "2020-11-21",
              "2020-11-23",
              "2020-11-24",
              "2020-11-25",
              "2020-11-26",
              "2020-11-27",
              "2020-11-28",
              "2020-11-29",
              "2020-11-30",
              "2020-12-01",
              "2020-12-02",
              "2020-12-03",
              "2020-12-04",
              "2020-12-05",
              "2020-12-07",
              "2020-12-09",
              "2020-12-10",
              "2020-12-11",
              "2020-12-12",
              "2020-12-13",
              "2020-12-17",
              "2020-12-18",
              "2020-12-19",
              "2020-12-24",
              "2020-12-28",
              "2020-12-29",
              "2020-12-30",
              "2020-12-31",
              "2021-01-04",
              "2021-01-05",
              "2021-01-06",
              "2021-01-07",
              "2021-01-08",
              "2021-01-10",
              "2021-01-12",
              "2021-01-13",
              "2021-01-14",
              "2021-01-15",
              "2021-01-17",
              "2021-01-18",
              "2021-01-20",
              "2021-01-21",
              "2021-01-22",
              "2021-02-05",
              "2021-02-06",
              "2021-02-09",
              "2021-02-10",
              "2021-02-11",
              "2021-02-12",
              "2021-02-14",
              "2021-02-15",
              "2021-02-16",
              "2021-02-17",
              "2021-02-18",
              "2021-02-19",
              "2021-02-20",
              "2021-02-22",
              "2021-02-23",
              "2021-02-24",
              "2021-02-25",
              "2021-02-26",
              "2021-02-27",
              "2021-03-01",
              "2021-03-02",
              "2021-03-03",
              "2021-03-04",
              "2021-03-05",
              "2021-03-08",
              "2021-03-09",
              "2021-03-11",
              "2021-03-15",
              "2021-03-16",
              "2021-03-17",
              "2021-03-25",
              "2021-03-26",
              "2021-03-27",
              "2021-03-29",
              "2021-04-04",
              "2021-04-05",
              "2021-04-06",
              "2021-04-07",
              "2021-04-08",
              "2021-04-09",
              "2021-04-10",
              "2021-04-12",
              "2021-04-21",
              "2021-04-22",
              "2021-04-23",
              "2021-04-26",
              "2021-04-27",
              "2021-04-28",
              "2021-04-30",
              "2021-05-01",
              "2021-05-02",
              "2021-05-03",
              "2021-05-04",
              "2021-05-05",
              "2021-05-07",
              "2021-05-08",
              "2021-05-09",
              "2021-05-10",
              "2021-05-11",
              "2021-05-12",
              "2021-05-13",
              "2021-05-14",
              "2021-05-17",
              "2021-05-18",
              "2021-05-19",
              "2021-05-21",
              "2021-05-25",
              "2021-05-26",
              "2021-05-27",
              "2021-05-28",
              "2021-05-31",
              "2021-06-01",
              "2021-06-03",
              "2021-06-04",
              "2021-06-05",
              "2021-06-06"
             ],
             "y": [
              14,
              14,
              14,
              14,
              14,
              14,
              14,
              17,
              17,
              22,
              23,
              23,
              24,
              24,
              25,
              25,
              25,
              25,
              26,
              26,
              26,
              28,
              28,
              28,
              28,
              28,
              28,
              28,
              28,
              28,
              28,
              28,
              28,
              28,
              28,
              28,
              29,
              29,
              29,
              29,
              30,
              30,
              30,
              30,
              30,
              32,
              33,
              34,
              35,
              35,
              35,
              35,
              36,
              36,
              36,
              36,
              36,
              36,
              37,
              41,
              41,
              41,
              41,
              41,
              43,
              43,
              49,
              49,
              49,
              51,
              51,
              51,
              51,
              51,
              51,
              52,
              52,
              52,
              52,
              54,
              54,
              54,
              56,
              57,
              58,
              58,
              62,
              62,
              62,
              62,
              62,
              63,
              63,
              63,
              63,
              64,
              66,
              66,
              66,
              66,
              66,
              66,
              66,
              66,
              66,
              66,
              66,
              66,
              66,
              66,
              66,
              66,
              67,
              67,
              68,
              68,
              68,
              68,
              68,
              69,
              69,
              70,
              80,
              84,
              88,
              88,
              88,
              88,
              92,
              92,
              92,
              92,
              94,
              94,
              94,
              94,
              94,
              94,
              94,
              94,
              95,
              96,
              96,
              97,
              97,
              97,
              97,
              97,
              98,
              98,
              98,
              98,
              98,
              98,
              98,
              98,
              98,
              98,
              98,
              98,
              98,
              98,
              98,
              98,
              100,
              100,
              100,
              100,
              100,
              102,
              102,
              102,
              102,
              102,
              102,
              102,
              102,
              102,
              102,
              102,
              102,
              102,
              102,
              102,
              102,
              102,
              102,
              102,
              102,
              102,
              102,
              102,
              102,
              102,
              102,
              102,
              102,
              102,
              102
             ]
            },
            {
             "mode": "lines",
             "name": "antipersona",
             "type": "scatter",
             "x": [
              "2020-08-14",
              "2020-08-17",
              "2020-08-18",
              "2020-08-19",
              "2020-08-20",
              "2020-08-21",
              "2020-08-22",
              "2020-08-23",
              "2020-08-24",
              "2020-08-25",
              "2020-08-26",
              "2020-08-27",
              "2020-08-28",
              "2020-08-29",
              "2020-08-30",
              "2020-08-31",
              "2020-09-01",
              "2020-09-02",
              "2020-09-03",
              "2020-09-04",
              "2020-09-07",
              "2020-09-08",
              "2020-09-09",
              "2020-09-10",
              "2020-09-11",
              "2020-09-12",
              "2020-09-15",
              "2020-09-16",
              "2020-09-17",
              "2020-09-18",
              "2020-09-19",
              "2020-09-21",
              "2020-09-22",
              "2020-09-23",
              "2020-09-24",
              "2020-09-25",
              "2020-09-26",
              "2020-09-27",
              "2020-09-28",
              "2020-09-29",
              "2020-09-30",
              "2020-10-01",
              "2020-10-02",
              "2020-10-03",
              "2020-10-05",
              "2020-10-06",
              "2020-10-07",
              "2020-10-08",
              "2020-10-09",
              "2020-10-10",
              "2020-10-13",
              "2020-10-14",
              "2020-10-15",
              "2020-10-16",
              "2020-10-17",
              "2020-10-19",
              "2020-10-20",
              "2020-10-21",
              "2020-10-22",
              "2020-10-23",
              "2020-10-24",
              "2020-10-25",
              "2020-10-26",
              "2020-10-27",
              "2020-10-28",
              "2020-11-06",
              "2020-11-07",
              "2020-11-08",
              "2020-11-09",
              "2020-11-10",
              "2020-11-11",
              "2020-11-12",
              "2020-11-13",
              "2020-11-14",
              "2020-11-15",
              "2020-11-16",
              "2020-11-17",
              "2020-11-18",
              "2020-11-19",
              "2020-11-20",
              "2020-11-21",
              "2020-11-23",
              "2020-11-24",
              "2020-11-25",
              "2020-11-26",
              "2020-11-27",
              "2020-11-28",
              "2020-11-29",
              "2020-11-30",
              "2020-12-01",
              "2020-12-02",
              "2020-12-03",
              "2020-12-04",
              "2020-12-05",
              "2020-12-07",
              "2020-12-09",
              "2020-12-10",
              "2020-12-11",
              "2020-12-12",
              "2020-12-13",
              "2020-12-17",
              "2020-12-18",
              "2020-12-19",
              "2020-12-24",
              "2020-12-28",
              "2020-12-29",
              "2020-12-30",
              "2020-12-31",
              "2021-01-04",
              "2021-01-05",
              "2021-01-06",
              "2021-01-07",
              "2021-01-08",
              "2021-01-10",
              "2021-01-12",
              "2021-01-13",
              "2021-01-14",
              "2021-01-15",
              "2021-01-17",
              "2021-01-18",
              "2021-01-20",
              "2021-01-21",
              "2021-01-22",
              "2021-02-05",
              "2021-02-06",
              "2021-02-09",
              "2021-02-10",
              "2021-02-11",
              "2021-02-12",
              "2021-02-14",
              "2021-02-15",
              "2021-02-16",
              "2021-02-17",
              "2021-02-18",
              "2021-02-19",
              "2021-02-20",
              "2021-02-22",
              "2021-02-23",
              "2021-02-24",
              "2021-02-25",
              "2021-02-26",
              "2021-02-27",
              "2021-03-01",
              "2021-03-02",
              "2021-03-03",
              "2021-03-04",
              "2021-03-05",
              "2021-03-08",
              "2021-03-09",
              "2021-03-11",
              "2021-03-15",
              "2021-03-16",
              "2021-03-17",
              "2021-03-25",
              "2021-03-26",
              "2021-03-27",
              "2021-03-29",
              "2021-04-04",
              "2021-04-05",
              "2021-04-06",
              "2021-04-07",
              "2021-04-08",
              "2021-04-09",
              "2021-04-10",
              "2021-04-12",
              "2021-04-21",
              "2021-04-22",
              "2021-04-23",
              "2021-04-26",
              "2021-04-27",
              "2021-04-28",
              "2021-04-30",
              "2021-05-01",
              "2021-05-02",
              "2021-05-03",
              "2021-05-04",
              "2021-05-05",
              "2021-05-07",
              "2021-05-08",
              "2021-05-09",
              "2021-05-10",
              "2021-05-11",
              "2021-05-12",
              "2021-05-13",
              "2021-05-14",
              "2021-05-17",
              "2021-05-18",
              "2021-05-19",
              "2021-05-21",
              "2021-05-25",
              "2021-05-26",
              "2021-05-27",
              "2021-05-28",
              "2021-05-31",
              "2021-06-01",
              "2021-06-03",
              "2021-06-04",
              "2021-06-05",
              "2021-06-06"
             ],
             "y": [
              13,
              13,
              13,
              13,
              13,
              13,
              13,
              13,
              13,
              13,
              13,
              13,
              13,
              13,
              13,
              13,
              13,
              13,
              13,
              13,
              13,
              13,
              13,
              13,
              13,
              13,
              13,
              13,
              13,
              13,
              13,
              13,
              13,
              13,
              13,
              13,
              13,
              13,
              13,
              13,
              13,
              13,
              13,
              13,
              13,
              13,
              13,
              13,
              13,
              13,
              13,
              13,
              14,
              14,
              14,
              14,
              14,
              14,
              14,
              14,
              14,
              14,
              14,
              14,
              14,
              14,
              14,
              14,
              14,
              14,
              14,
              14,
              14,
              14,
              14,
              14,
              14,
              14,
              14,
              14,
              14,
              14,
              14,
              15,
              15,
              15,
              16,
              16,
              16,
              16,
              16,
              16,
              16,
              16,
              16,
              17,
              18,
              18,
              18,
              18,
              18,
              18,
              18,
              18,
              18,
              18,
              18,
              18,
              18,
              18,
              18,
              18,
              18,
              18,
              18,
              18,
              18,
              18,
              18,
              18,
              18,
              18,
              18,
              22,
              26,
              26,
              26,
              26,
              28,
              28,
              28,
              28,
              30,
              30,
              30,
              30,
              30,
              30,
              30,
              30,
              31,
              31,
              31,
              31,
              31,
              31,
              31,
              31,
              31,
              31,
              31,
              31,
              31,
              31,
              31,
              31,
              31,
              31,
              31,
              31,
              31,
              31,
              31,
              31,
              31,
              31,
              31,
              31,
              31,
              31,
              31,
              31,
              31,
              31,
              31,
              31,
              31,
              31,
              31,
              31,
              31,
              31,
              31,
              31,
              31,
              31,
              31,
              31,
              31,
              31,
              31,
              31,
              31,
              31,
              31,
              31,
              31,
              31,
              31
             ]
            },
            {
             "mode": "lines",
             "name": "liberados",
             "type": "scatter",
             "x": [
              "2020-08-14",
              "2020-08-17",
              "2020-08-18",
              "2020-08-19",
              "2020-08-20",
              "2020-08-21",
              "2020-08-22",
              "2020-08-23",
              "2020-08-24",
              "2020-08-25",
              "2020-08-26",
              "2020-08-27",
              "2020-08-28",
              "2020-08-29",
              "2020-08-30",
              "2020-08-31",
              "2020-09-01",
              "2020-09-02",
              "2020-09-03",
              "2020-09-04",
              "2020-09-07",
              "2020-09-08",
              "2020-09-09",
              "2020-09-10",
              "2020-09-11",
              "2020-09-12",
              "2020-09-15",
              "2020-09-16",
              "2020-09-17",
              "2020-09-18",
              "2020-09-19",
              "2020-09-21",
              "2020-09-22",
              "2020-09-23",
              "2020-09-24",
              "2020-09-25",
              "2020-09-26",
              "2020-09-27",
              "2020-09-28",
              "2020-09-29",
              "2020-09-30",
              "2020-10-01",
              "2020-10-02",
              "2020-10-03",
              "2020-10-05",
              "2020-10-06",
              "2020-10-07",
              "2020-10-08",
              "2020-10-09",
              "2020-10-10",
              "2020-10-13",
              "2020-10-14",
              "2020-10-15",
              "2020-10-16",
              "2020-10-17",
              "2020-10-19",
              "2020-10-20",
              "2020-10-21",
              "2020-10-22",
              "2020-10-23",
              "2020-10-24",
              "2020-10-25",
              "2020-10-26",
              "2020-10-27",
              "2020-10-28",
              "2020-11-06",
              "2020-11-07",
              "2020-11-08",
              "2020-11-09",
              "2020-11-10",
              "2020-11-11",
              "2020-11-12",
              "2020-11-13",
              "2020-11-14",
              "2020-11-15",
              "2020-11-16",
              "2020-11-17",
              "2020-11-18",
              "2020-11-19",
              "2020-11-20",
              "2020-11-21",
              "2020-11-23",
              "2020-11-24",
              "2020-11-25",
              "2020-11-26",
              "2020-11-27",
              "2020-11-28",
              "2020-11-29",
              "2020-11-30",
              "2020-12-01",
              "2020-12-02",
              "2020-12-03",
              "2020-12-04",
              "2020-12-05",
              "2020-12-07",
              "2020-12-09",
              "2020-12-10",
              "2020-12-11",
              "2020-12-12",
              "2020-12-13",
              "2020-12-17",
              "2020-12-18",
              "2020-12-19",
              "2020-12-24",
              "2020-12-28",
              "2020-12-29",
              "2020-12-30",
              "2020-12-31",
              "2021-01-04",
              "2021-01-05",
              "2021-01-06",
              "2021-01-07",
              "2021-01-08",
              "2021-01-10",
              "2021-01-12",
              "2021-01-13",
              "2021-01-14",
              "2021-01-15",
              "2021-01-17",
              "2021-01-18",
              "2021-01-20",
              "2021-01-21",
              "2021-01-22",
              "2021-02-05",
              "2021-02-06",
              "2021-02-09",
              "2021-02-10",
              "2021-02-11",
              "2021-02-12",
              "2021-02-14",
              "2021-02-15",
              "2021-02-16",
              "2021-02-17",
              "2021-02-18",
              "2021-02-19",
              "2021-02-20",
              "2021-02-22",
              "2021-02-23",
              "2021-02-24",
              "2021-02-25",
              "2021-02-26",
              "2021-02-27",
              "2021-03-01",
              "2021-03-02",
              "2021-03-03",
              "2021-03-04",
              "2021-03-05",
              "2021-03-08",
              "2021-03-09",
              "2021-03-11",
              "2021-03-15",
              "2021-03-16",
              "2021-03-17",
              "2021-03-25",
              "2021-03-26",
              "2021-03-27",
              "2021-03-29",
              "2021-04-04",
              "2021-04-05",
              "2021-04-06",
              "2021-04-07",
              "2021-04-08",
              "2021-04-09",
              "2021-04-10",
              "2021-04-12",
              "2021-04-21",
              "2021-04-22",
              "2021-04-23",
              "2021-04-26",
              "2021-04-27",
              "2021-04-28",
              "2021-04-30",
              "2021-05-01",
              "2021-05-02",
              "2021-05-03",
              "2021-05-04",
              "2021-05-05",
              "2021-05-07",
              "2021-05-08",
              "2021-05-09",
              "2021-05-10",
              "2021-05-11",
              "2021-05-12",
              "2021-05-13",
              "2021-05-14",
              "2021-05-17",
              "2021-05-18",
              "2021-05-19",
              "2021-05-21",
              "2021-05-25",
              "2021-05-26",
              "2021-05-27",
              "2021-05-28",
              "2021-05-31",
              "2021-06-01",
              "2021-06-03",
              "2021-06-04",
              "2021-06-05",
              "2021-06-06"
             ],
             "y": [
              5,
              5,
              5,
              5,
              5,
              5,
              5,
              5,
              5,
              5,
              5,
              5,
              5,
              5,
              5,
              5,
              5,
              5,
              5,
              5,
              5,
              5,
              5,
              5,
              5,
              5,
              5,
              5,
              5,
              5,
              5,
              5,
              5,
              5,
              5,
              5,
              5,
              5,
              5,
              5,
              5,
              5,
              5,
              5,
              5,
              5,
              5,
              5,
              5,
              5,
              5,
              5,
              5,
              5,
              5,
              5,
              5,
              5,
              5,
              5,
              5,
              5,
              5,
              5,
              5,
              5,
              5,
              5,
              5,
              5,
              5,
              5,
              5,
              5,
              5,
              5,
              5,
              5,
              5,
              5,
              5,
              5,
              5,
              5,
              5,
              5,
              5,
              5,
              5,
              5,
              5,
              5,
              5,
              5,
              5,
              5,
              5,
              5,
              5,
              5,
              5,
              5,
              5,
              5,
              5,
              5,
              5,
              5,
              5,
              5,
              5,
              5,
              5,
              5,
              5,
              5,
              5,
              5,
              5,
              5,
              5,
              5,
              5,
              5,
              5,
              5,
              5,
              5,
              5,
              5,
              5,
              5,
              5,
              5,
              5,
              5,
              5,
              5,
              5,
              5,
              5,
              5,
              5,
              5,
              5,
              5,
              5,
              5,
              5,
              5,
              5,
              5,
              5,
              5,
              5,
              5,
              5,
              5,
              5,
              5,
              5,
              5,
              5,
              5,
              5,
              5,
              5,
              5,
              5,
              5,
              5,
              5,
              5,
              5,
              5,
              5,
              5,
              5,
              5,
              5,
              5,
              5,
              5,
              5,
              5,
              5,
              5,
              5,
              5,
              5,
              5,
              5,
              5,
              5,
              5,
              5,
              5,
              5,
              5
             ]
            },
            {
             "mode": "lines",
             "name": "municipios",
             "type": "scatter",
             "x": [
              "2020-08-14",
              "2020-08-17",
              "2020-08-18",
              "2020-08-19",
              "2020-08-20",
              "2020-08-21",
              "2020-08-22",
              "2020-08-23",
              "2020-08-24",
              "2020-08-25",
              "2020-08-26",
              "2020-08-27",
              "2020-08-28",
              "2020-08-29",
              "2020-08-30",
              "2020-08-31",
              "2020-09-01",
              "2020-09-02",
              "2020-09-03",
              "2020-09-04",
              "2020-09-07",
              "2020-09-08",
              "2020-09-09",
              "2020-09-10",
              "2020-09-11",
              "2020-09-12",
              "2020-09-15",
              "2020-09-16",
              "2020-09-17",
              "2020-09-18",
              "2020-09-19",
              "2020-09-21",
              "2020-09-22",
              "2020-09-23",
              "2020-09-24",
              "2020-09-25",
              "2020-09-26",
              "2020-09-27",
              "2020-09-28",
              "2020-09-29",
              "2020-09-30",
              "2020-10-01",
              "2020-10-02",
              "2020-10-03",
              "2020-10-05",
              "2020-10-06",
              "2020-10-07",
              "2020-10-08",
              "2020-10-09",
              "2020-10-10",
              "2020-10-13",
              "2020-10-14",
              "2020-10-15",
              "2020-10-16",
              "2020-10-17",
              "2020-10-19",
              "2020-10-20",
              "2020-10-21",
              "2020-10-22",
              "2020-10-23",
              "2020-10-24",
              "2020-10-25",
              "2020-10-26",
              "2020-10-27",
              "2020-10-28",
              "2020-11-06",
              "2020-11-07",
              "2020-11-08",
              "2020-11-09",
              "2020-11-10",
              "2020-11-11",
              "2020-11-12",
              "2020-11-13",
              "2020-11-14",
              "2020-11-15",
              "2020-11-16",
              "2020-11-17",
              "2020-11-18",
              "2020-11-19",
              "2020-11-20",
              "2020-11-21",
              "2020-11-23",
              "2020-11-24",
              "2020-11-25",
              "2020-11-26",
              "2020-11-27",
              "2020-11-28",
              "2020-11-29",
              "2020-11-30",
              "2020-12-01",
              "2020-12-02",
              "2020-12-03",
              "2020-12-04",
              "2020-12-05",
              "2020-12-07",
              "2020-12-09",
              "2020-12-10",
              "2020-12-11",
              "2020-12-12",
              "2020-12-13",
              "2020-12-17",
              "2020-12-18",
              "2020-12-19",
              "2020-12-24",
              "2020-12-28",
              "2020-12-29",
              "2020-12-30",
              "2020-12-31",
              "2021-01-04",
              "2021-01-05",
              "2021-01-06",
              "2021-01-07",
              "2021-01-08",
              "2021-01-10",
              "2021-01-12",
              "2021-01-13",
              "2021-01-14",
              "2021-01-15",
              "2021-01-17",
              "2021-01-18",
              "2021-01-20",
              "2021-01-21",
              "2021-01-22",
              "2021-02-05",
              "2021-02-06",
              "2021-02-09",
              "2021-02-10",
              "2021-02-11",
              "2021-02-12",
              "2021-02-14",
              "2021-02-15",
              "2021-02-16",
              "2021-02-17",
              "2021-02-18",
              "2021-02-19",
              "2021-02-20",
              "2021-02-22",
              "2021-02-23",
              "2021-02-24",
              "2021-02-25",
              "2021-02-26",
              "2021-02-27",
              "2021-03-01",
              "2021-03-02",
              "2021-03-03",
              "2021-03-04",
              "2021-03-05",
              "2021-03-08",
              "2021-03-09",
              "2021-03-11",
              "2021-03-15",
              "2021-03-16",
              "2021-03-17",
              "2021-03-25",
              "2021-03-26",
              "2021-03-27",
              "2021-03-29",
              "2021-04-04",
              "2021-04-05",
              "2021-04-06",
              "2021-04-07",
              "2021-04-08",
              "2021-04-09",
              "2021-04-10",
              "2021-04-12",
              "2021-04-21",
              "2021-04-22",
              "2021-04-23",
              "2021-04-26",
              "2021-04-27",
              "2021-04-28",
              "2021-04-30",
              "2021-05-01",
              "2021-05-02",
              "2021-05-03",
              "2021-05-04",
              "2021-05-05",
              "2021-05-07",
              "2021-05-08",
              "2021-05-09",
              "2021-05-10",
              "2021-05-11",
              "2021-05-12",
              "2021-05-13",
              "2021-05-14",
              "2021-05-17",
              "2021-05-18",
              "2021-05-19",
              "2021-05-21",
              "2021-05-25",
              "2021-05-26",
              "2021-05-27",
              "2021-05-28",
              "2021-05-31",
              "2021-06-01",
              "2021-06-03",
              "2021-06-04",
              "2021-06-05",
              "2021-06-06"
             ],
             "y": [
              17,
              18,
              20,
              21,
              22,
              23,
              25,
              25,
              38,
              44,
              47,
              50,
              64,
              64,
              64,
              66,
              67,
              69,
              74,
              76,
              80,
              82,
              96,
              98,
              99,
              99,
              125,
              139,
              152,
              153,
              154,
              167,
              169,
              182,
              195,
              196,
              197,
              198,
              213,
              215,
              221,
              235,
              249,
              251,
              264,
              277,
              281,
              283,
              286,
              286,
              287,
              290,
              295,
              296,
              296,
              296,
              298,
              300,
              314,
              329,
              330,
              330,
              345,
              359,
              360,
              362,
              368,
              368,
              394,
              398,
              424,
              426,
              430,
              430,
              430,
              430,
              432,
              434,
              437,
              437,
              437,
              439,
              453,
              471,
              475,
              478,
              488,
              488,
              491,
              492,
              494,
              509,
              513,
              514,
              516,
              517,
              522,
              524,
              524,
              524,
              526,
              528,
              528,
              528,
              530,
              532,
              533,
              533,
              535,
              535,
              537,
              539,
              541,
              541,
              541,
              541,
              543,
              546,
              546,
              550,
              552,
              554,
              557,
              561,
              561,
              569,
              573,
              599,
              603,
              603,
              603,
              605,
              605,
              607,
              609,
              609,
              611,
              624,
              638,
              641,
              641,
              641,
              643,
              645,
              660,
              662,
              679,
              681,
              683,
              685,
              699,
              700,
              700,
              726,
              756,
              756,
              758,
              764,
              764,
              790,
              794,
              822,
              848,
              850,
              850,
              876,
              902,
              928,
              930,
              958,
              962,
              962,
              962,
              962,
              964,
              966,
              966,
              966,
              966,
              966,
              966,
              966,
              966,
              973,
              973,
              973,
              974,
              974,
              977,
              977,
              977,
              977,
              977,
              977,
              977,
              979,
              982,
              982,
              982
             ]
            }
           ],
           "layout": {
            "height": 500,
            "legend": {
             "tracegroupgap": 0
            },
            "margin": {
             "t": 60
            },
            "template": {
             "data": {
              "bar": [
               {
                "error_x": {
                 "color": "#2a3f5f"
                },
                "error_y": {
                 "color": "#2a3f5f"
                },
                "marker": {
                 "line": {
                  "color": "#E5ECF6",
                  "width": 0.5
                 }
                },
                "type": "bar"
               }
              ],
              "barpolar": [
               {
                "marker": {
                 "line": {
                  "color": "#E5ECF6",
                  "width": 0.5
                 }
                },
                "type": "barpolar"
               }
              ],
              "carpet": [
               {
                "aaxis": {
                 "endlinecolor": "#2a3f5f",
                 "gridcolor": "white",
                 "linecolor": "white",
                 "minorgridcolor": "white",
                 "startlinecolor": "#2a3f5f"
                },
                "baxis": {
                 "endlinecolor": "#2a3f5f",
                 "gridcolor": "white",
                 "linecolor": "white",
                 "minorgridcolor": "white",
                 "startlinecolor": "#2a3f5f"
                },
                "type": "carpet"
               }
              ],
              "choropleth": [
               {
                "colorbar": {
                 "outlinewidth": 0,
                 "ticks": ""
                },
                "type": "choropleth"
               }
              ],
              "contour": [
               {
                "colorbar": {
                 "outlinewidth": 0,
                 "ticks": ""
                },
                "colorscale": [
                 [
                  0,
                  "#0d0887"
                 ],
                 [
                  0.1111111111111111,
                  "#46039f"
                 ],
                 [
                  0.2222222222222222,
                  "#7201a8"
                 ],
                 [
                  0.3333333333333333,
                  "#9c179e"
                 ],
                 [
                  0.4444444444444444,
                  "#bd3786"
                 ],
                 [
                  0.5555555555555556,
                  "#d8576b"
                 ],
                 [
                  0.6666666666666666,
                  "#ed7953"
                 ],
                 [
                  0.7777777777777778,
                  "#fb9f3a"
                 ],
                 [
                  0.8888888888888888,
                  "#fdca26"
                 ],
                 [
                  1,
                  "#f0f921"
                 ]
                ],
                "type": "contour"
               }
              ],
              "contourcarpet": [
               {
                "colorbar": {
                 "outlinewidth": 0,
                 "ticks": ""
                },
                "type": "contourcarpet"
               }
              ],
              "heatmap": [
               {
                "colorbar": {
                 "outlinewidth": 0,
                 "ticks": ""
                },
                "colorscale": [
                 [
                  0,
                  "#0d0887"
                 ],
                 [
                  0.1111111111111111,
                  "#46039f"
                 ],
                 [
                  0.2222222222222222,
                  "#7201a8"
                 ],
                 [
                  0.3333333333333333,
                  "#9c179e"
                 ],
                 [
                  0.4444444444444444,
                  "#bd3786"
                 ],
                 [
                  0.5555555555555556,
                  "#d8576b"
                 ],
                 [
                  0.6666666666666666,
                  "#ed7953"
                 ],
                 [
                  0.7777777777777778,
                  "#fb9f3a"
                 ],
                 [
                  0.8888888888888888,
                  "#fdca26"
                 ],
                 [
                  1,
                  "#f0f921"
                 ]
                ],
                "type": "heatmap"
               }
              ],
              "heatmapgl": [
               {
                "colorbar": {
                 "outlinewidth": 0,
                 "ticks": ""
                },
                "colorscale": [
                 [
                  0,
                  "#0d0887"
                 ],
                 [
                  0.1111111111111111,
                  "#46039f"
                 ],
                 [
                  0.2222222222222222,
                  "#7201a8"
                 ],
                 [
                  0.3333333333333333,
                  "#9c179e"
                 ],
                 [
                  0.4444444444444444,
                  "#bd3786"
                 ],
                 [
                  0.5555555555555556,
                  "#d8576b"
                 ],
                 [
                  0.6666666666666666,
                  "#ed7953"
                 ],
                 [
                  0.7777777777777778,
                  "#fb9f3a"
                 ],
                 [
                  0.8888888888888888,
                  "#fdca26"
                 ],
                 [
                  1,
                  "#f0f921"
                 ]
                ],
                "type": "heatmapgl"
               }
              ],
              "histogram": [
               {
                "marker": {
                 "colorbar": {
                  "outlinewidth": 0,
                  "ticks": ""
                 }
                },
                "type": "histogram"
               }
              ],
              "histogram2d": [
               {
                "colorbar": {
                 "outlinewidth": 0,
                 "ticks": ""
                },
                "colorscale": [
                 [
                  0,
                  "#0d0887"
                 ],
                 [
                  0.1111111111111111,
                  "#46039f"
                 ],
                 [
                  0.2222222222222222,
                  "#7201a8"
                 ],
                 [
                  0.3333333333333333,
                  "#9c179e"
                 ],
                 [
                  0.4444444444444444,
                  "#bd3786"
                 ],
                 [
                  0.5555555555555556,
                  "#d8576b"
                 ],
                 [
                  0.6666666666666666,
                  "#ed7953"
                 ],
                 [
                  0.7777777777777778,
                  "#fb9f3a"
                 ],
                 [
                  0.8888888888888888,
                  "#fdca26"
                 ],
                 [
                  1,
                  "#f0f921"
                 ]
                ],
                "type": "histogram2d"
               }
              ],
              "histogram2dcontour": [
               {
                "colorbar": {
                 "outlinewidth": 0,
                 "ticks": ""
                },
                "colorscale": [
                 [
                  0,
                  "#0d0887"
                 ],
                 [
                  0.1111111111111111,
                  "#46039f"
                 ],
                 [
                  0.2222222222222222,
                  "#7201a8"
                 ],
                 [
                  0.3333333333333333,
                  "#9c179e"
                 ],
                 [
                  0.4444444444444444,
                  "#bd3786"
                 ],
                 [
                  0.5555555555555556,
                  "#d8576b"
                 ],
                 [
                  0.6666666666666666,
                  "#ed7953"
                 ],
                 [
                  0.7777777777777778,
                  "#fb9f3a"
                 ],
                 [
                  0.8888888888888888,
                  "#fdca26"
                 ],
                 [
                  1,
                  "#f0f921"
                 ]
                ],
                "type": "histogram2dcontour"
               }
              ],
              "mesh3d": [
               {
                "colorbar": {
                 "outlinewidth": 0,
                 "ticks": ""
                },
                "type": "mesh3d"
               }
              ],
              "parcoords": [
               {
                "line": {
                 "colorbar": {
                  "outlinewidth": 0,
                  "ticks": ""
                 }
                },
                "type": "parcoords"
               }
              ],
              "pie": [
               {
                "automargin": true,
                "type": "pie"
               }
              ],
              "scatter": [
               {
                "marker": {
                 "colorbar": {
                  "outlinewidth": 0,
                  "ticks": ""
                 }
                },
                "type": "scatter"
               }
              ],
              "scatter3d": [
               {
                "line": {
                 "colorbar": {
                  "outlinewidth": 0,
                  "ticks": ""
                 }
                },
                "marker": {
                 "colorbar": {
                  "outlinewidth": 0,
                  "ticks": ""
                 }
                },
                "type": "scatter3d"
               }
              ],
              "scattercarpet": [
               {
                "marker": {
                 "colorbar": {
                  "outlinewidth": 0,
                  "ticks": ""
                 }
                },
                "type": "scattercarpet"
               }
              ],
              "scattergeo": [
               {
                "marker": {
                 "colorbar": {
                  "outlinewidth": 0,
                  "ticks": ""
                 }
                },
                "type": "scattergeo"
               }
              ],
              "scattergl": [
               {
                "marker": {
                 "colorbar": {
                  "outlinewidth": 0,
                  "ticks": ""
                 }
                },
                "type": "scattergl"
               }
              ],
              "scattermapbox": [
               {
                "marker": {
                 "colorbar": {
                  "outlinewidth": 0,
                  "ticks": ""
                 }
                },
                "type": "scattermapbox"
               }
              ],
              "scatterpolar": [
               {
                "marker": {
                 "colorbar": {
                  "outlinewidth": 0,
                  "ticks": ""
                 }
                },
                "type": "scatterpolar"
               }
              ],
              "scatterpolargl": [
               {
                "marker": {
                 "colorbar": {
                  "outlinewidth": 0,
                  "ticks": ""
                 }
                },
                "type": "scatterpolargl"
               }
              ],
              "scatterternary": [
               {
                "marker": {
                 "colorbar": {
                  "outlinewidth": 0,
                  "ticks": ""
                 }
                },
                "type": "scatterternary"
               }
              ],
              "surface": [
               {
                "colorbar": {
                 "outlinewidth": 0,
                 "ticks": ""
                },
                "colorscale": [
                 [
                  0,
                  "#0d0887"
                 ],
                 [
                  0.1111111111111111,
                  "#46039f"
                 ],
                 [
                  0.2222222222222222,
                  "#7201a8"
                 ],
                 [
                  0.3333333333333333,
                  "#9c179e"
                 ],
                 [
                  0.4444444444444444,
                  "#bd3786"
                 ],
                 [
                  0.5555555555555556,
                  "#d8576b"
                 ],
                 [
                  0.6666666666666666,
                  "#ed7953"
                 ],
                 [
                  0.7777777777777778,
                  "#fb9f3a"
                 ],
                 [
                  0.8888888888888888,
                  "#fdca26"
                 ],
                 [
                  1,
                  "#f0f921"
                 ]
                ],
                "type": "surface"
               }
              ],
              "table": [
               {
                "cells": {
                 "fill": {
                  "color": "#EBF0F8"
                 },
                 "line": {
                  "color": "white"
                 }
                },
                "header": {
                 "fill": {
                  "color": "#C8D4E3"
                 },
                 "line": {
                  "color": "white"
                 }
                },
                "type": "table"
               }
              ]
             },
             "layout": {
              "annotationdefaults": {
               "arrowcolor": "#2a3f5f",
               "arrowhead": 0,
               "arrowwidth": 1
              },
              "autotypenumbers": "strict",
              "coloraxis": {
               "colorbar": {
                "outlinewidth": 0,
                "ticks": ""
               }
              },
              "colorscale": {
               "diverging": [
                [
                 0,
                 "#8e0152"
                ],
                [
                 0.1,
                 "#c51b7d"
                ],
                [
                 0.2,
                 "#de77ae"
                ],
                [
                 0.3,
                 "#f1b6da"
                ],
                [
                 0.4,
                 "#fde0ef"
                ],
                [
                 0.5,
                 "#f7f7f7"
                ],
                [
                 0.6,
                 "#e6f5d0"
                ],
                [
                 0.7,
                 "#b8e186"
                ],
                [
                 0.8,
                 "#7fbc41"
                ],
                [
                 0.9,
                 "#4d9221"
                ],
                [
                 1,
                 "#276419"
                ]
               ],
               "sequential": [
                [
                 0,
                 "#0d0887"
                ],
                [
                 0.1111111111111111,
                 "#46039f"
                ],
                [
                 0.2222222222222222,
                 "#7201a8"
                ],
                [
                 0.3333333333333333,
                 "#9c179e"
                ],
                [
                 0.4444444444444444,
                 "#bd3786"
                ],
                [
                 0.5555555555555556,
                 "#d8576b"
                ],
                [
                 0.6666666666666666,
                 "#ed7953"
                ],
                [
                 0.7777777777777778,
                 "#fb9f3a"
                ],
                [
                 0.8888888888888888,
                 "#fdca26"
                ],
                [
                 1,
                 "#f0f921"
                ]
               ],
               "sequentialminus": [
                [
                 0,
                 "#0d0887"
                ],
                [
                 0.1111111111111111,
                 "#46039f"
                ],
                [
                 0.2222222222222222,
                 "#7201a8"
                ],
                [
                 0.3333333333333333,
                 "#9c179e"
                ],
                [
                 0.4444444444444444,
                 "#bd3786"
                ],
                [
                 0.5555555555555556,
                 "#d8576b"
                ],
                [
                 0.6666666666666666,
                 "#ed7953"
                ],
                [
                 0.7777777777777778,
                 "#fb9f3a"
                ],
                [
                 0.8888888888888888,
                 "#fdca26"
                ],
                [
                 1,
                 "#f0f921"
                ]
               ]
              },
              "colorway": [
               "#636efa",
               "#EF553B",
               "#00cc96",
               "#ab63fa",
               "#FFA15A",
               "#19d3f3",
               "#FF6692",
               "#B6E880",
               "#FF97FF",
               "#FECB52"
              ],
              "font": {
               "color": "#2a3f5f"
              },
              "geo": {
               "bgcolor": "white",
               "lakecolor": "white",
               "landcolor": "#E5ECF6",
               "showlakes": true,
               "showland": true,
               "subunitcolor": "white"
              },
              "hoverlabel": {
               "align": "left"
              },
              "hovermode": "closest",
              "mapbox": {
               "style": "light"
              },
              "paper_bgcolor": "white",
              "plot_bgcolor": "#E5ECF6",
              "polar": {
               "angularaxis": {
                "gridcolor": "white",
                "linecolor": "white",
                "ticks": ""
               },
               "bgcolor": "#E5ECF6",
               "radialaxis": {
                "gridcolor": "white",
                "linecolor": "white",
                "ticks": ""
               }
              },
              "scene": {
               "xaxis": {
                "backgroundcolor": "#E5ECF6",
                "gridcolor": "white",
                "gridwidth": 2,
                "linecolor": "white",
                "showbackground": true,
                "ticks": "",
                "zerolinecolor": "white"
               },
               "yaxis": {
                "backgroundcolor": "#E5ECF6",
                "gridcolor": "white",
                "gridwidth": 2,
                "linecolor": "white",
                "showbackground": true,
                "ticks": "",
                "zerolinecolor": "white"
               },
               "zaxis": {
                "backgroundcolor": "#E5ECF6",
                "gridcolor": "white",
                "gridwidth": 2,
                "linecolor": "white",
                "showbackground": true,
                "ticks": "",
                "zerolinecolor": "white"
               }
              },
              "shapedefaults": {
               "line": {
                "color": "#2a3f5f"
               }
              },
              "ternary": {
               "aaxis": {
                "gridcolor": "white",
                "linecolor": "white",
                "ticks": ""
               },
               "baxis": {
                "gridcolor": "white",
                "linecolor": "white",
                "ticks": ""
               },
               "bgcolor": "#E5ECF6",
               "caxis": {
                "gridcolor": "white",
                "linecolor": "white",
                "ticks": ""
               }
              },
              "title": {
               "x": 0.05
              },
              "xaxis": {
               "automargin": true,
               "gridcolor": "white",
               "linecolor": "white",
               "ticks": "",
               "title": {
                "standoff": 15
               },
               "zerolinecolor": "white",
               "zerolinewidth": 2
              },
              "yaxis": {
               "automargin": true,
               "gridcolor": "white",
               "linecolor": "white",
               "ticks": "",
               "title": {
                "standoff": 15
               },
               "zerolinecolor": "white",
               "zerolinewidth": 2
              }
             }
            },
            "title": {
             "font": {
              "size": 15
             },
             "text": "Evolución de las menciones en el discurso de duque para las palabras: sospecha, minas, antipersona, liberados, municipios",
             "x": 0.5,
             "xanchor": "center"
            },
            "width": 900,
            "xaxis": {
             "anchor": "y",
             "domain": [
              0,
              1
             ]
            },
            "yaxis": {
             "anchor": "x",
             "domain": [
              0,
              1
             ]
            }
           }
          },
          "text/html": "<div>                            <div id=\"d04b40bd-6576-4d99-96d8-00e5fa62aab3\" class=\"plotly-graph-div\" style=\"height:500px; width:900px;\"></div>            <script type=\"text/javascript\">                require([\"plotly\"], function(Plotly) {                    window.PLOTLYENV=window.PLOTLYENV || {};                                    if (document.getElementById(\"d04b40bd-6576-4d99-96d8-00e5fa62aab3\")) {                    Plotly.newPlot(                        \"d04b40bd-6576-4d99-96d8-00e5fa62aab3\",                        [{\"mode\": \"lines\", \"name\": \"sospecha\", \"type\": \"scatter\", \"x\": [\"2020-08-14\", \"2020-08-17\", \"2020-08-18\", \"2020-08-19\", \"2020-08-20\", \"2020-08-21\", \"2020-08-22\", \"2020-08-23\", \"2020-08-24\", \"2020-08-25\", \"2020-08-26\", \"2020-08-27\", \"2020-08-28\", \"2020-08-29\", \"2020-08-30\", \"2020-08-31\", \"2020-09-01\", \"2020-09-02\", \"2020-09-03\", \"2020-09-04\", \"2020-09-07\", \"2020-09-08\", \"2020-09-09\", \"2020-09-10\", \"2020-09-11\", \"2020-09-12\", \"2020-09-15\", \"2020-09-16\", \"2020-09-17\", \"2020-09-18\", \"2020-09-19\", \"2020-09-21\", \"2020-09-22\", \"2020-09-23\", \"2020-09-24\", \"2020-09-25\", \"2020-09-26\", \"2020-09-27\", \"2020-09-28\", \"2020-09-29\", \"2020-09-30\", \"2020-10-01\", \"2020-10-02\", \"2020-10-03\", \"2020-10-05\", \"2020-10-06\", \"2020-10-07\", \"2020-10-08\", \"2020-10-09\", \"2020-10-10\", \"2020-10-13\", \"2020-10-14\", \"2020-10-15\", \"2020-10-16\", \"2020-10-17\", \"2020-10-19\", \"2020-10-20\", \"2020-10-21\", \"2020-10-22\", \"2020-10-23\", \"2020-10-24\", \"2020-10-25\", \"2020-10-26\", \"2020-10-27\", \"2020-10-28\", \"2020-11-06\", \"2020-11-07\", \"2020-11-08\", \"2020-11-09\", \"2020-11-10\", \"2020-11-11\", \"2020-11-12\", \"2020-11-13\", \"2020-11-14\", \"2020-11-15\", \"2020-11-16\", \"2020-11-17\", \"2020-11-18\", \"2020-11-19\", \"2020-11-20\", \"2020-11-21\", \"2020-11-23\", \"2020-11-24\", \"2020-11-25\", \"2020-11-26\", \"2020-11-27\", \"2020-11-28\", \"2020-11-29\", \"2020-11-30\", \"2020-12-01\", \"2020-12-02\", \"2020-12-03\", \"2020-12-04\", \"2020-12-05\", \"2020-12-07\", \"2020-12-09\", \"2020-12-10\", \"2020-12-11\", \"2020-12-12\", \"2020-12-13\", \"2020-12-17\", \"2020-12-18\", \"2020-12-19\", \"2020-12-24\", \"2020-12-28\", \"2020-12-29\", \"2020-12-30\", \"2020-12-31\", \"2021-01-04\", \"2021-01-05\", \"2021-01-06\", \"2021-01-07\", \"2021-01-08\", \"2021-01-10\", \"2021-01-12\", \"2021-01-13\", \"2021-01-14\", \"2021-01-15\", \"2021-01-17\", \"2021-01-18\", \"2021-01-20\", \"2021-01-21\", \"2021-01-22\", \"2021-02-05\", \"2021-02-06\", \"2021-02-09\", \"2021-02-10\", \"2021-02-11\", \"2021-02-12\", \"2021-02-14\", \"2021-02-15\", \"2021-02-16\", \"2021-02-17\", \"2021-02-18\", \"2021-02-19\", \"2021-02-20\", \"2021-02-22\", \"2021-02-23\", \"2021-02-24\", \"2021-02-25\", \"2021-02-26\", \"2021-02-27\", \"2021-03-01\", \"2021-03-02\", \"2021-03-03\", \"2021-03-04\", \"2021-03-05\", \"2021-03-08\", \"2021-03-09\", \"2021-03-11\", \"2021-03-15\", \"2021-03-16\", \"2021-03-17\", \"2021-03-25\", \"2021-03-26\", \"2021-03-27\", \"2021-03-29\", \"2021-04-04\", \"2021-04-05\", \"2021-04-06\", \"2021-04-07\", \"2021-04-08\", \"2021-04-09\", \"2021-04-10\", \"2021-04-12\", \"2021-04-21\", \"2021-04-22\", \"2021-04-23\", \"2021-04-26\", \"2021-04-27\", \"2021-04-28\", \"2021-04-30\", \"2021-05-01\", \"2021-05-02\", \"2021-05-03\", \"2021-05-04\", \"2021-05-05\", \"2021-05-07\", \"2021-05-08\", \"2021-05-09\", \"2021-05-10\", \"2021-05-11\", \"2021-05-12\", \"2021-05-13\", \"2021-05-14\", \"2021-05-17\", \"2021-05-18\", \"2021-05-19\", \"2021-05-21\", \"2021-05-25\", \"2021-05-26\", \"2021-05-27\", \"2021-05-28\", \"2021-05-31\", \"2021-06-01\", \"2021-06-03\", \"2021-06-04\", \"2021-06-05\", \"2021-06-06\"], \"y\": [13, 13, 13, 13, 13, 13, 13, 13, 13, 13, 13, 13, 13, 13, 13, 13, 13, 13, 13, 13, 13, 13, 13, 13, 13, 13, 13, 13, 13, 13, 13, 13, 13, 13, 13, 13, 13, 13, 13, 13, 13, 13, 13, 14, 14, 14, 15, 15, 15, 15, 15, 15, 16, 16, 16, 16, 16, 16, 16, 16, 16, 16, 16, 16, 16, 16, 16, 16, 16, 16, 16, 16, 16, 16, 16, 16, 16, 16, 16, 17, 17, 17, 17, 17, 17, 17, 17, 17, 17, 17, 17, 17, 17, 17, 17, 18, 19, 19, 19, 19, 19, 19, 19, 19, 19, 19, 19, 19, 19, 19, 19, 19, 19, 19, 19, 19, 19, 19, 19, 19, 19, 19, 19, 21, 21, 21, 21, 21, 21, 21, 21, 21, 21, 21, 21, 21, 21, 21, 21, 21, 21, 21, 21, 21, 21, 21, 21, 21, 21, 21, 21, 21, 21, 21, 21, 21, 21, 21, 21, 21, 21, 21, 21, 21, 21, 21, 21, 21, 21, 21, 21, 21, 21, 21, 21, 21, 21, 21, 21, 21, 21, 21, 21, 21, 21, 21, 21, 21, 21, 21, 21, 21, 21, 21, 21, 21, 21, 21, 21]}, {\"mode\": \"lines\", \"name\": \"minas\", \"type\": \"scatter\", \"x\": [\"2020-08-14\", \"2020-08-17\", \"2020-08-18\", \"2020-08-19\", \"2020-08-20\", \"2020-08-21\", \"2020-08-22\", \"2020-08-23\", \"2020-08-24\", \"2020-08-25\", \"2020-08-26\", \"2020-08-27\", \"2020-08-28\", \"2020-08-29\", \"2020-08-30\", \"2020-08-31\", \"2020-09-01\", \"2020-09-02\", \"2020-09-03\", \"2020-09-04\", \"2020-09-07\", \"2020-09-08\", \"2020-09-09\", \"2020-09-10\", \"2020-09-11\", \"2020-09-12\", \"2020-09-15\", \"2020-09-16\", \"2020-09-17\", \"2020-09-18\", \"2020-09-19\", \"2020-09-21\", \"2020-09-22\", \"2020-09-23\", \"2020-09-24\", \"2020-09-25\", \"2020-09-26\", \"2020-09-27\", \"2020-09-28\", \"2020-09-29\", \"2020-09-30\", \"2020-10-01\", \"2020-10-02\", \"2020-10-03\", \"2020-10-05\", \"2020-10-06\", \"2020-10-07\", \"2020-10-08\", \"2020-10-09\", \"2020-10-10\", \"2020-10-13\", \"2020-10-14\", \"2020-10-15\", \"2020-10-16\", \"2020-10-17\", \"2020-10-19\", \"2020-10-20\", \"2020-10-21\", \"2020-10-22\", \"2020-10-23\", \"2020-10-24\", \"2020-10-25\", \"2020-10-26\", \"2020-10-27\", \"2020-10-28\", \"2020-11-06\", \"2020-11-07\", \"2020-11-08\", \"2020-11-09\", \"2020-11-10\", \"2020-11-11\", \"2020-11-12\", \"2020-11-13\", \"2020-11-14\", \"2020-11-15\", \"2020-11-16\", \"2020-11-17\", \"2020-11-18\", \"2020-11-19\", \"2020-11-20\", \"2020-11-21\", \"2020-11-23\", \"2020-11-24\", \"2020-11-25\", \"2020-11-26\", \"2020-11-27\", \"2020-11-28\", \"2020-11-29\", \"2020-11-30\", \"2020-12-01\", \"2020-12-02\", \"2020-12-03\", \"2020-12-04\", \"2020-12-05\", \"2020-12-07\", \"2020-12-09\", \"2020-12-10\", \"2020-12-11\", \"2020-12-12\", \"2020-12-13\", \"2020-12-17\", \"2020-12-18\", \"2020-12-19\", \"2020-12-24\", \"2020-12-28\", \"2020-12-29\", \"2020-12-30\", \"2020-12-31\", \"2021-01-04\", \"2021-01-05\", \"2021-01-06\", \"2021-01-07\", \"2021-01-08\", \"2021-01-10\", \"2021-01-12\", \"2021-01-13\", \"2021-01-14\", \"2021-01-15\", \"2021-01-17\", \"2021-01-18\", \"2021-01-20\", \"2021-01-21\", \"2021-01-22\", \"2021-02-05\", \"2021-02-06\", \"2021-02-09\", \"2021-02-10\", \"2021-02-11\", \"2021-02-12\", \"2021-02-14\", \"2021-02-15\", \"2021-02-16\", \"2021-02-17\", \"2021-02-18\", \"2021-02-19\", \"2021-02-20\", \"2021-02-22\", \"2021-02-23\", \"2021-02-24\", \"2021-02-25\", \"2021-02-26\", \"2021-02-27\", \"2021-03-01\", \"2021-03-02\", \"2021-03-03\", \"2021-03-04\", \"2021-03-05\", \"2021-03-08\", \"2021-03-09\", \"2021-03-11\", \"2021-03-15\", \"2021-03-16\", \"2021-03-17\", \"2021-03-25\", \"2021-03-26\", \"2021-03-27\", \"2021-03-29\", \"2021-04-04\", \"2021-04-05\", \"2021-04-06\", \"2021-04-07\", \"2021-04-08\", \"2021-04-09\", \"2021-04-10\", \"2021-04-12\", \"2021-04-21\", \"2021-04-22\", \"2021-04-23\", \"2021-04-26\", \"2021-04-27\", \"2021-04-28\", \"2021-04-30\", \"2021-05-01\", \"2021-05-02\", \"2021-05-03\", \"2021-05-04\", \"2021-05-05\", \"2021-05-07\", \"2021-05-08\", \"2021-05-09\", \"2021-05-10\", \"2021-05-11\", \"2021-05-12\", \"2021-05-13\", \"2021-05-14\", \"2021-05-17\", \"2021-05-18\", \"2021-05-19\", \"2021-05-21\", \"2021-05-25\", \"2021-05-26\", \"2021-05-27\", \"2021-05-28\", \"2021-05-31\", \"2021-06-01\", \"2021-06-03\", \"2021-06-04\", \"2021-06-05\", \"2021-06-06\"], \"y\": [14, 14, 14, 14, 14, 14, 14, 17, 17, 22, 23, 23, 24, 24, 25, 25, 25, 25, 26, 26, 26, 28, 28, 28, 28, 28, 28, 28, 28, 28, 28, 28, 28, 28, 28, 28, 29, 29, 29, 29, 30, 30, 30, 30, 30, 32, 33, 34, 35, 35, 35, 35, 36, 36, 36, 36, 36, 36, 37, 41, 41, 41, 41, 41, 43, 43, 49, 49, 49, 51, 51, 51, 51, 51, 51, 52, 52, 52, 52, 54, 54, 54, 56, 57, 58, 58, 62, 62, 62, 62, 62, 63, 63, 63, 63, 64, 66, 66, 66, 66, 66, 66, 66, 66, 66, 66, 66, 66, 66, 66, 66, 66, 67, 67, 68, 68, 68, 68, 68, 69, 69, 70, 80, 84, 88, 88, 88, 88, 92, 92, 92, 92, 94, 94, 94, 94, 94, 94, 94, 94, 95, 96, 96, 97, 97, 97, 97, 97, 98, 98, 98, 98, 98, 98, 98, 98, 98, 98, 98, 98, 98, 98, 98, 98, 100, 100, 100, 100, 100, 102, 102, 102, 102, 102, 102, 102, 102, 102, 102, 102, 102, 102, 102, 102, 102, 102, 102, 102, 102, 102, 102, 102, 102, 102, 102, 102, 102, 102, 102]}, {\"mode\": \"lines\", \"name\": \"antipersona\", \"type\": \"scatter\", \"x\": [\"2020-08-14\", \"2020-08-17\", \"2020-08-18\", \"2020-08-19\", \"2020-08-20\", \"2020-08-21\", \"2020-08-22\", \"2020-08-23\", \"2020-08-24\", \"2020-08-25\", \"2020-08-26\", \"2020-08-27\", \"2020-08-28\", \"2020-08-29\", \"2020-08-30\", \"2020-08-31\", \"2020-09-01\", \"2020-09-02\", \"2020-09-03\", \"2020-09-04\", \"2020-09-07\", \"2020-09-08\", \"2020-09-09\", \"2020-09-10\", \"2020-09-11\", \"2020-09-12\", \"2020-09-15\", \"2020-09-16\", \"2020-09-17\", \"2020-09-18\", \"2020-09-19\", \"2020-09-21\", \"2020-09-22\", \"2020-09-23\", \"2020-09-24\", \"2020-09-25\", \"2020-09-26\", \"2020-09-27\", \"2020-09-28\", \"2020-09-29\", \"2020-09-30\", \"2020-10-01\", \"2020-10-02\", \"2020-10-03\", \"2020-10-05\", \"2020-10-06\", \"2020-10-07\", \"2020-10-08\", \"2020-10-09\", \"2020-10-10\", \"2020-10-13\", \"2020-10-14\", \"2020-10-15\", \"2020-10-16\", \"2020-10-17\", \"2020-10-19\", \"2020-10-20\", \"2020-10-21\", \"2020-10-22\", \"2020-10-23\", \"2020-10-24\", \"2020-10-25\", \"2020-10-26\", \"2020-10-27\", \"2020-10-28\", \"2020-11-06\", \"2020-11-07\", \"2020-11-08\", \"2020-11-09\", \"2020-11-10\", \"2020-11-11\", \"2020-11-12\", \"2020-11-13\", \"2020-11-14\", \"2020-11-15\", \"2020-11-16\", \"2020-11-17\", \"2020-11-18\", \"2020-11-19\", \"2020-11-20\", \"2020-11-21\", \"2020-11-23\", \"2020-11-24\", \"2020-11-25\", \"2020-11-26\", \"2020-11-27\", \"2020-11-28\", \"2020-11-29\", \"2020-11-30\", \"2020-12-01\", \"2020-12-02\", \"2020-12-03\", \"2020-12-04\", \"2020-12-05\", \"2020-12-07\", \"2020-12-09\", \"2020-12-10\", \"2020-12-11\", \"2020-12-12\", \"2020-12-13\", \"2020-12-17\", \"2020-12-18\", \"2020-12-19\", \"2020-12-24\", \"2020-12-28\", \"2020-12-29\", \"2020-12-30\", \"2020-12-31\", \"2021-01-04\", \"2021-01-05\", \"2021-01-06\", \"2021-01-07\", \"2021-01-08\", \"2021-01-10\", \"2021-01-12\", \"2021-01-13\", \"2021-01-14\", \"2021-01-15\", \"2021-01-17\", \"2021-01-18\", \"2021-01-20\", \"2021-01-21\", \"2021-01-22\", \"2021-02-05\", \"2021-02-06\", \"2021-02-09\", \"2021-02-10\", \"2021-02-11\", \"2021-02-12\", \"2021-02-14\", \"2021-02-15\", \"2021-02-16\", \"2021-02-17\", \"2021-02-18\", \"2021-02-19\", \"2021-02-20\", \"2021-02-22\", \"2021-02-23\", \"2021-02-24\", \"2021-02-25\", \"2021-02-26\", \"2021-02-27\", \"2021-03-01\", \"2021-03-02\", \"2021-03-03\", \"2021-03-04\", \"2021-03-05\", \"2021-03-08\", \"2021-03-09\", \"2021-03-11\", \"2021-03-15\", \"2021-03-16\", \"2021-03-17\", \"2021-03-25\", \"2021-03-26\", \"2021-03-27\", \"2021-03-29\", \"2021-04-04\", \"2021-04-05\", \"2021-04-06\", \"2021-04-07\", \"2021-04-08\", \"2021-04-09\", \"2021-04-10\", \"2021-04-12\", \"2021-04-21\", \"2021-04-22\", \"2021-04-23\", \"2021-04-26\", \"2021-04-27\", \"2021-04-28\", \"2021-04-30\", \"2021-05-01\", \"2021-05-02\", \"2021-05-03\", \"2021-05-04\", \"2021-05-05\", \"2021-05-07\", \"2021-05-08\", \"2021-05-09\", \"2021-05-10\", \"2021-05-11\", \"2021-05-12\", \"2021-05-13\", \"2021-05-14\", \"2021-05-17\", \"2021-05-18\", \"2021-05-19\", \"2021-05-21\", \"2021-05-25\", \"2021-05-26\", \"2021-05-27\", \"2021-05-28\", \"2021-05-31\", \"2021-06-01\", \"2021-06-03\", \"2021-06-04\", \"2021-06-05\", \"2021-06-06\"], \"y\": [13, 13, 13, 13, 13, 13, 13, 13, 13, 13, 13, 13, 13, 13, 13, 13, 13, 13, 13, 13, 13, 13, 13, 13, 13, 13, 13, 13, 13, 13, 13, 13, 13, 13, 13, 13, 13, 13, 13, 13, 13, 13, 13, 13, 13, 13, 13, 13, 13, 13, 13, 13, 14, 14, 14, 14, 14, 14, 14, 14, 14, 14, 14, 14, 14, 14, 14, 14, 14, 14, 14, 14, 14, 14, 14, 14, 14, 14, 14, 14, 14, 14, 14, 15, 15, 15, 16, 16, 16, 16, 16, 16, 16, 16, 16, 17, 18, 18, 18, 18, 18, 18, 18, 18, 18, 18, 18, 18, 18, 18, 18, 18, 18, 18, 18, 18, 18, 18, 18, 18, 18, 18, 18, 22, 26, 26, 26, 26, 28, 28, 28, 28, 30, 30, 30, 30, 30, 30, 30, 30, 31, 31, 31, 31, 31, 31, 31, 31, 31, 31, 31, 31, 31, 31, 31, 31, 31, 31, 31, 31, 31, 31, 31, 31, 31, 31, 31, 31, 31, 31, 31, 31, 31, 31, 31, 31, 31, 31, 31, 31, 31, 31, 31, 31, 31, 31, 31, 31, 31, 31, 31, 31, 31, 31, 31, 31, 31, 31, 31]}, {\"mode\": \"lines\", \"name\": \"liberados\", \"type\": \"scatter\", \"x\": [\"2020-08-14\", \"2020-08-17\", \"2020-08-18\", \"2020-08-19\", \"2020-08-20\", \"2020-08-21\", \"2020-08-22\", \"2020-08-23\", \"2020-08-24\", \"2020-08-25\", \"2020-08-26\", \"2020-08-27\", \"2020-08-28\", \"2020-08-29\", \"2020-08-30\", \"2020-08-31\", \"2020-09-01\", \"2020-09-02\", \"2020-09-03\", \"2020-09-04\", \"2020-09-07\", \"2020-09-08\", \"2020-09-09\", \"2020-09-10\", \"2020-09-11\", \"2020-09-12\", \"2020-09-15\", \"2020-09-16\", \"2020-09-17\", \"2020-09-18\", \"2020-09-19\", \"2020-09-21\", \"2020-09-22\", \"2020-09-23\", \"2020-09-24\", \"2020-09-25\", \"2020-09-26\", \"2020-09-27\", \"2020-09-28\", \"2020-09-29\", \"2020-09-30\", \"2020-10-01\", \"2020-10-02\", \"2020-10-03\", \"2020-10-05\", \"2020-10-06\", \"2020-10-07\", \"2020-10-08\", \"2020-10-09\", \"2020-10-10\", \"2020-10-13\", \"2020-10-14\", \"2020-10-15\", \"2020-10-16\", \"2020-10-17\", \"2020-10-19\", \"2020-10-20\", \"2020-10-21\", \"2020-10-22\", \"2020-10-23\", \"2020-10-24\", \"2020-10-25\", \"2020-10-26\", \"2020-10-27\", \"2020-10-28\", \"2020-11-06\", \"2020-11-07\", \"2020-11-08\", \"2020-11-09\", \"2020-11-10\", \"2020-11-11\", \"2020-11-12\", \"2020-11-13\", \"2020-11-14\", \"2020-11-15\", \"2020-11-16\", \"2020-11-17\", \"2020-11-18\", \"2020-11-19\", \"2020-11-20\", \"2020-11-21\", \"2020-11-23\", \"2020-11-24\", \"2020-11-25\", \"2020-11-26\", \"2020-11-27\", \"2020-11-28\", \"2020-11-29\", \"2020-11-30\", \"2020-12-01\", \"2020-12-02\", \"2020-12-03\", \"2020-12-04\", \"2020-12-05\", \"2020-12-07\", \"2020-12-09\", \"2020-12-10\", \"2020-12-11\", \"2020-12-12\", \"2020-12-13\", \"2020-12-17\", \"2020-12-18\", \"2020-12-19\", \"2020-12-24\", \"2020-12-28\", \"2020-12-29\", \"2020-12-30\", \"2020-12-31\", \"2021-01-04\", \"2021-01-05\", \"2021-01-06\", \"2021-01-07\", \"2021-01-08\", \"2021-01-10\", \"2021-01-12\", \"2021-01-13\", \"2021-01-14\", \"2021-01-15\", \"2021-01-17\", \"2021-01-18\", \"2021-01-20\", \"2021-01-21\", \"2021-01-22\", \"2021-02-05\", \"2021-02-06\", \"2021-02-09\", \"2021-02-10\", \"2021-02-11\", \"2021-02-12\", \"2021-02-14\", \"2021-02-15\", \"2021-02-16\", \"2021-02-17\", \"2021-02-18\", \"2021-02-19\", \"2021-02-20\", \"2021-02-22\", \"2021-02-23\", \"2021-02-24\", \"2021-02-25\", \"2021-02-26\", \"2021-02-27\", \"2021-03-01\", \"2021-03-02\", \"2021-03-03\", \"2021-03-04\", \"2021-03-05\", \"2021-03-08\", \"2021-03-09\", \"2021-03-11\", \"2021-03-15\", \"2021-03-16\", \"2021-03-17\", \"2021-03-25\", \"2021-03-26\", \"2021-03-27\", \"2021-03-29\", \"2021-04-04\", \"2021-04-05\", \"2021-04-06\", \"2021-04-07\", \"2021-04-08\", \"2021-04-09\", \"2021-04-10\", \"2021-04-12\", \"2021-04-21\", \"2021-04-22\", \"2021-04-23\", \"2021-04-26\", \"2021-04-27\", \"2021-04-28\", \"2021-04-30\", \"2021-05-01\", \"2021-05-02\", \"2021-05-03\", \"2021-05-04\", \"2021-05-05\", \"2021-05-07\", \"2021-05-08\", \"2021-05-09\", \"2021-05-10\", \"2021-05-11\", \"2021-05-12\", \"2021-05-13\", \"2021-05-14\", \"2021-05-17\", \"2021-05-18\", \"2021-05-19\", \"2021-05-21\", \"2021-05-25\", \"2021-05-26\", \"2021-05-27\", \"2021-05-28\", \"2021-05-31\", \"2021-06-01\", \"2021-06-03\", \"2021-06-04\", \"2021-06-05\", \"2021-06-06\"], \"y\": [5, 5, 5, 5, 5, 5, 5, 5, 5, 5, 5, 5, 5, 5, 5, 5, 5, 5, 5, 5, 5, 5, 5, 5, 5, 5, 5, 5, 5, 5, 5, 5, 5, 5, 5, 5, 5, 5, 5, 5, 5, 5, 5, 5, 5, 5, 5, 5, 5, 5, 5, 5, 5, 5, 5, 5, 5, 5, 5, 5, 5, 5, 5, 5, 5, 5, 5, 5, 5, 5, 5, 5, 5, 5, 5, 5, 5, 5, 5, 5, 5, 5, 5, 5, 5, 5, 5, 5, 5, 5, 5, 5, 5, 5, 5, 5, 5, 5, 5, 5, 5, 5, 5, 5, 5, 5, 5, 5, 5, 5, 5, 5, 5, 5, 5, 5, 5, 5, 5, 5, 5, 5, 5, 5, 5, 5, 5, 5, 5, 5, 5, 5, 5, 5, 5, 5, 5, 5, 5, 5, 5, 5, 5, 5, 5, 5, 5, 5, 5, 5, 5, 5, 5, 5, 5, 5, 5, 5, 5, 5, 5, 5, 5, 5, 5, 5, 5, 5, 5, 5, 5, 5, 5, 5, 5, 5, 5, 5, 5, 5, 5, 5, 5, 5, 5, 5, 5, 5, 5, 5, 5, 5, 5, 5, 5, 5, 5, 5, 5]}, {\"mode\": \"lines\", \"name\": \"municipios\", \"type\": \"scatter\", \"x\": [\"2020-08-14\", \"2020-08-17\", \"2020-08-18\", \"2020-08-19\", \"2020-08-20\", \"2020-08-21\", \"2020-08-22\", \"2020-08-23\", \"2020-08-24\", \"2020-08-25\", \"2020-08-26\", \"2020-08-27\", \"2020-08-28\", \"2020-08-29\", \"2020-08-30\", \"2020-08-31\", \"2020-09-01\", \"2020-09-02\", \"2020-09-03\", \"2020-09-04\", \"2020-09-07\", \"2020-09-08\", \"2020-09-09\", \"2020-09-10\", \"2020-09-11\", \"2020-09-12\", \"2020-09-15\", \"2020-09-16\", \"2020-09-17\", \"2020-09-18\", \"2020-09-19\", \"2020-09-21\", \"2020-09-22\", \"2020-09-23\", \"2020-09-24\", \"2020-09-25\", \"2020-09-26\", \"2020-09-27\", \"2020-09-28\", \"2020-09-29\", \"2020-09-30\", \"2020-10-01\", \"2020-10-02\", \"2020-10-03\", \"2020-10-05\", \"2020-10-06\", \"2020-10-07\", \"2020-10-08\", \"2020-10-09\", \"2020-10-10\", \"2020-10-13\", \"2020-10-14\", \"2020-10-15\", \"2020-10-16\", \"2020-10-17\", \"2020-10-19\", \"2020-10-20\", \"2020-10-21\", \"2020-10-22\", \"2020-10-23\", \"2020-10-24\", \"2020-10-25\", \"2020-10-26\", \"2020-10-27\", \"2020-10-28\", \"2020-11-06\", \"2020-11-07\", \"2020-11-08\", \"2020-11-09\", \"2020-11-10\", \"2020-11-11\", \"2020-11-12\", \"2020-11-13\", \"2020-11-14\", \"2020-11-15\", \"2020-11-16\", \"2020-11-17\", \"2020-11-18\", \"2020-11-19\", \"2020-11-20\", \"2020-11-21\", \"2020-11-23\", \"2020-11-24\", \"2020-11-25\", \"2020-11-26\", \"2020-11-27\", \"2020-11-28\", \"2020-11-29\", \"2020-11-30\", \"2020-12-01\", \"2020-12-02\", \"2020-12-03\", \"2020-12-04\", \"2020-12-05\", \"2020-12-07\", \"2020-12-09\", \"2020-12-10\", \"2020-12-11\", \"2020-12-12\", \"2020-12-13\", \"2020-12-17\", \"2020-12-18\", \"2020-12-19\", \"2020-12-24\", \"2020-12-28\", \"2020-12-29\", \"2020-12-30\", \"2020-12-31\", \"2021-01-04\", \"2021-01-05\", \"2021-01-06\", \"2021-01-07\", \"2021-01-08\", \"2021-01-10\", \"2021-01-12\", \"2021-01-13\", \"2021-01-14\", \"2021-01-15\", \"2021-01-17\", \"2021-01-18\", \"2021-01-20\", \"2021-01-21\", \"2021-01-22\", \"2021-02-05\", \"2021-02-06\", \"2021-02-09\", \"2021-02-10\", \"2021-02-11\", \"2021-02-12\", \"2021-02-14\", \"2021-02-15\", \"2021-02-16\", \"2021-02-17\", \"2021-02-18\", \"2021-02-19\", \"2021-02-20\", \"2021-02-22\", \"2021-02-23\", \"2021-02-24\", \"2021-02-25\", \"2021-02-26\", \"2021-02-27\", \"2021-03-01\", \"2021-03-02\", \"2021-03-03\", \"2021-03-04\", \"2021-03-05\", \"2021-03-08\", \"2021-03-09\", \"2021-03-11\", \"2021-03-15\", \"2021-03-16\", \"2021-03-17\", \"2021-03-25\", \"2021-03-26\", \"2021-03-27\", \"2021-03-29\", \"2021-04-04\", \"2021-04-05\", \"2021-04-06\", \"2021-04-07\", \"2021-04-08\", \"2021-04-09\", \"2021-04-10\", \"2021-04-12\", \"2021-04-21\", \"2021-04-22\", \"2021-04-23\", \"2021-04-26\", \"2021-04-27\", \"2021-04-28\", \"2021-04-30\", \"2021-05-01\", \"2021-05-02\", \"2021-05-03\", \"2021-05-04\", \"2021-05-05\", \"2021-05-07\", \"2021-05-08\", \"2021-05-09\", \"2021-05-10\", \"2021-05-11\", \"2021-05-12\", \"2021-05-13\", \"2021-05-14\", \"2021-05-17\", \"2021-05-18\", \"2021-05-19\", \"2021-05-21\", \"2021-05-25\", \"2021-05-26\", \"2021-05-27\", \"2021-05-28\", \"2021-05-31\", \"2021-06-01\", \"2021-06-03\", \"2021-06-04\", \"2021-06-05\", \"2021-06-06\"], \"y\": [17, 18, 20, 21, 22, 23, 25, 25, 38, 44, 47, 50, 64, 64, 64, 66, 67, 69, 74, 76, 80, 82, 96, 98, 99, 99, 125, 139, 152, 153, 154, 167, 169, 182, 195, 196, 197, 198, 213, 215, 221, 235, 249, 251, 264, 277, 281, 283, 286, 286, 287, 290, 295, 296, 296, 296, 298, 300, 314, 329, 330, 330, 345, 359, 360, 362, 368, 368, 394, 398, 424, 426, 430, 430, 430, 430, 432, 434, 437, 437, 437, 439, 453, 471, 475, 478, 488, 488, 491, 492, 494, 509, 513, 514, 516, 517, 522, 524, 524, 524, 526, 528, 528, 528, 530, 532, 533, 533, 535, 535, 537, 539, 541, 541, 541, 541, 543, 546, 546, 550, 552, 554, 557, 561, 561, 569, 573, 599, 603, 603, 603, 605, 605, 607, 609, 609, 611, 624, 638, 641, 641, 641, 643, 645, 660, 662, 679, 681, 683, 685, 699, 700, 700, 726, 756, 756, 758, 764, 764, 790, 794, 822, 848, 850, 850, 876, 902, 928, 930, 958, 962, 962, 962, 962, 964, 966, 966, 966, 966, 966, 966, 966, 966, 973, 973, 973, 974, 974, 977, 977, 977, 977, 977, 977, 977, 979, 982, 982, 982]}],                        {\"height\": 500, \"legend\": {\"tracegroupgap\": 0}, \"margin\": {\"t\": 60}, \"template\": {\"data\": {\"bar\": [{\"error_x\": {\"color\": \"#2a3f5f\"}, \"error_y\": {\"color\": \"#2a3f5f\"}, \"marker\": {\"line\": {\"color\": \"#E5ECF6\", \"width\": 0.5}}, \"type\": \"bar\"}], \"barpolar\": [{\"marker\": {\"line\": {\"color\": \"#E5ECF6\", \"width\": 0.5}}, \"type\": \"barpolar\"}], \"carpet\": [{\"aaxis\": {\"endlinecolor\": \"#2a3f5f\", \"gridcolor\": \"white\", \"linecolor\": \"white\", \"minorgridcolor\": \"white\", \"startlinecolor\": \"#2a3f5f\"}, \"baxis\": {\"endlinecolor\": \"#2a3f5f\", \"gridcolor\": \"white\", \"linecolor\": \"white\", \"minorgridcolor\": \"white\", \"startlinecolor\": \"#2a3f5f\"}, \"type\": \"carpet\"}], \"choropleth\": [{\"colorbar\": {\"outlinewidth\": 0, \"ticks\": \"\"}, \"type\": \"choropleth\"}], \"contour\": [{\"colorbar\": {\"outlinewidth\": 0, \"ticks\": \"\"}, \"colorscale\": [[0.0, \"#0d0887\"], [0.1111111111111111, \"#46039f\"], [0.2222222222222222, \"#7201a8\"], [0.3333333333333333, \"#9c179e\"], [0.4444444444444444, \"#bd3786\"], [0.5555555555555556, \"#d8576b\"], [0.6666666666666666, \"#ed7953\"], [0.7777777777777778, \"#fb9f3a\"], [0.8888888888888888, \"#fdca26\"], [1.0, \"#f0f921\"]], \"type\": \"contour\"}], \"contourcarpet\": [{\"colorbar\": {\"outlinewidth\": 0, \"ticks\": \"\"}, \"type\": \"contourcarpet\"}], \"heatmap\": [{\"colorbar\": {\"outlinewidth\": 0, \"ticks\": \"\"}, \"colorscale\": [[0.0, \"#0d0887\"], [0.1111111111111111, \"#46039f\"], [0.2222222222222222, \"#7201a8\"], [0.3333333333333333, \"#9c179e\"], [0.4444444444444444, \"#bd3786\"], [0.5555555555555556, \"#d8576b\"], [0.6666666666666666, \"#ed7953\"], [0.7777777777777778, \"#fb9f3a\"], [0.8888888888888888, \"#fdca26\"], [1.0, \"#f0f921\"]], \"type\": \"heatmap\"}], \"heatmapgl\": [{\"colorbar\": {\"outlinewidth\": 0, \"ticks\": \"\"}, \"colorscale\": [[0.0, \"#0d0887\"], [0.1111111111111111, \"#46039f\"], [0.2222222222222222, \"#7201a8\"], [0.3333333333333333, \"#9c179e\"], [0.4444444444444444, \"#bd3786\"], [0.5555555555555556, \"#d8576b\"], [0.6666666666666666, \"#ed7953\"], [0.7777777777777778, \"#fb9f3a\"], [0.8888888888888888, \"#fdca26\"], [1.0, \"#f0f921\"]], \"type\": \"heatmapgl\"}], \"histogram\": [{\"marker\": {\"colorbar\": {\"outlinewidth\": 0, \"ticks\": \"\"}}, \"type\": \"histogram\"}], \"histogram2d\": [{\"colorbar\": {\"outlinewidth\": 0, \"ticks\": \"\"}, \"colorscale\": [[0.0, \"#0d0887\"], [0.1111111111111111, \"#46039f\"], [0.2222222222222222, \"#7201a8\"], [0.3333333333333333, \"#9c179e\"], [0.4444444444444444, \"#bd3786\"], [0.5555555555555556, \"#d8576b\"], [0.6666666666666666, \"#ed7953\"], [0.7777777777777778, \"#fb9f3a\"], [0.8888888888888888, \"#fdca26\"], [1.0, \"#f0f921\"]], \"type\": \"histogram2d\"}], \"histogram2dcontour\": [{\"colorbar\": {\"outlinewidth\": 0, \"ticks\": \"\"}, \"colorscale\": [[0.0, \"#0d0887\"], [0.1111111111111111, \"#46039f\"], [0.2222222222222222, \"#7201a8\"], [0.3333333333333333, \"#9c179e\"], [0.4444444444444444, \"#bd3786\"], [0.5555555555555556, \"#d8576b\"], [0.6666666666666666, \"#ed7953\"], [0.7777777777777778, \"#fb9f3a\"], [0.8888888888888888, \"#fdca26\"], [1.0, \"#f0f921\"]], \"type\": \"histogram2dcontour\"}], \"mesh3d\": [{\"colorbar\": {\"outlinewidth\": 0, \"ticks\": \"\"}, \"type\": \"mesh3d\"}], \"parcoords\": [{\"line\": {\"colorbar\": {\"outlinewidth\": 0, \"ticks\": \"\"}}, \"type\": \"parcoords\"}], \"pie\": [{\"automargin\": true, \"type\": \"pie\"}], \"scatter\": [{\"marker\": {\"colorbar\": {\"outlinewidth\": 0, \"ticks\": \"\"}}, \"type\": \"scatter\"}], \"scatter3d\": [{\"line\": {\"colorbar\": {\"outlinewidth\": 0, \"ticks\": \"\"}}, \"marker\": {\"colorbar\": {\"outlinewidth\": 0, \"ticks\": \"\"}}, \"type\": \"scatter3d\"}], \"scattercarpet\": [{\"marker\": {\"colorbar\": {\"outlinewidth\": 0, \"ticks\": \"\"}}, \"type\": \"scattercarpet\"}], \"scattergeo\": [{\"marker\": {\"colorbar\": {\"outlinewidth\": 0, \"ticks\": \"\"}}, \"type\": \"scattergeo\"}], \"scattergl\": [{\"marker\": {\"colorbar\": {\"outlinewidth\": 0, \"ticks\": \"\"}}, \"type\": \"scattergl\"}], \"scattermapbox\": [{\"marker\": {\"colorbar\": {\"outlinewidth\": 0, \"ticks\": \"\"}}, \"type\": \"scattermapbox\"}], \"scatterpolar\": [{\"marker\": {\"colorbar\": {\"outlinewidth\": 0, \"ticks\": \"\"}}, \"type\": \"scatterpolar\"}], \"scatterpolargl\": [{\"marker\": {\"colorbar\": {\"outlinewidth\": 0, \"ticks\": \"\"}}, \"type\": \"scatterpolargl\"}], \"scatterternary\": [{\"marker\": {\"colorbar\": {\"outlinewidth\": 0, \"ticks\": \"\"}}, \"type\": \"scatterternary\"}], \"surface\": [{\"colorbar\": {\"outlinewidth\": 0, \"ticks\": \"\"}, \"colorscale\": [[0.0, \"#0d0887\"], [0.1111111111111111, \"#46039f\"], [0.2222222222222222, \"#7201a8\"], [0.3333333333333333, \"#9c179e\"], [0.4444444444444444, \"#bd3786\"], [0.5555555555555556, \"#d8576b\"], [0.6666666666666666, \"#ed7953\"], [0.7777777777777778, \"#fb9f3a\"], [0.8888888888888888, \"#fdca26\"], [1.0, \"#f0f921\"]], \"type\": \"surface\"}], \"table\": [{\"cells\": {\"fill\": {\"color\": \"#EBF0F8\"}, \"line\": {\"color\": \"white\"}}, \"header\": {\"fill\": {\"color\": \"#C8D4E3\"}, \"line\": {\"color\": \"white\"}}, \"type\": \"table\"}]}, \"layout\": {\"annotationdefaults\": {\"arrowcolor\": \"#2a3f5f\", \"arrowhead\": 0, \"arrowwidth\": 1}, \"autotypenumbers\": \"strict\", \"coloraxis\": {\"colorbar\": {\"outlinewidth\": 0, \"ticks\": \"\"}}, \"colorscale\": {\"diverging\": [[0, \"#8e0152\"], [0.1, \"#c51b7d\"], [0.2, \"#de77ae\"], [0.3, \"#f1b6da\"], [0.4, \"#fde0ef\"], [0.5, \"#f7f7f7\"], [0.6, \"#e6f5d0\"], [0.7, \"#b8e186\"], [0.8, \"#7fbc41\"], [0.9, \"#4d9221\"], [1, \"#276419\"]], \"sequential\": [[0.0, \"#0d0887\"], [0.1111111111111111, \"#46039f\"], [0.2222222222222222, \"#7201a8\"], [0.3333333333333333, \"#9c179e\"], [0.4444444444444444, \"#bd3786\"], [0.5555555555555556, \"#d8576b\"], [0.6666666666666666, \"#ed7953\"], [0.7777777777777778, \"#fb9f3a\"], [0.8888888888888888, \"#fdca26\"], [1.0, \"#f0f921\"]], \"sequentialminus\": [[0.0, \"#0d0887\"], [0.1111111111111111, \"#46039f\"], [0.2222222222222222, \"#7201a8\"], [0.3333333333333333, \"#9c179e\"], [0.4444444444444444, \"#bd3786\"], [0.5555555555555556, \"#d8576b\"], [0.6666666666666666, \"#ed7953\"], [0.7777777777777778, \"#fb9f3a\"], [0.8888888888888888, \"#fdca26\"], [1.0, \"#f0f921\"]]}, \"colorway\": [\"#636efa\", \"#EF553B\", \"#00cc96\", \"#ab63fa\", \"#FFA15A\", \"#19d3f3\", \"#FF6692\", \"#B6E880\", \"#FF97FF\", \"#FECB52\"], \"font\": {\"color\": \"#2a3f5f\"}, \"geo\": {\"bgcolor\": \"white\", \"lakecolor\": \"white\", \"landcolor\": \"#E5ECF6\", \"showlakes\": true, \"showland\": true, \"subunitcolor\": \"white\"}, \"hoverlabel\": {\"align\": \"left\"}, \"hovermode\": \"closest\", \"mapbox\": {\"style\": \"light\"}, \"paper_bgcolor\": \"white\", \"plot_bgcolor\": \"#E5ECF6\", \"polar\": {\"angularaxis\": {\"gridcolor\": \"white\", \"linecolor\": \"white\", \"ticks\": \"\"}, \"bgcolor\": \"#E5ECF6\", \"radialaxis\": {\"gridcolor\": \"white\", \"linecolor\": \"white\", \"ticks\": \"\"}}, \"scene\": {\"xaxis\": {\"backgroundcolor\": \"#E5ECF6\", \"gridcolor\": \"white\", \"gridwidth\": 2, \"linecolor\": \"white\", \"showbackground\": true, \"ticks\": \"\", \"zerolinecolor\": \"white\"}, \"yaxis\": {\"backgroundcolor\": \"#E5ECF6\", \"gridcolor\": \"white\", \"gridwidth\": 2, \"linecolor\": \"white\", \"showbackground\": true, \"ticks\": \"\", \"zerolinecolor\": \"white\"}, \"zaxis\": {\"backgroundcolor\": \"#E5ECF6\", \"gridcolor\": \"white\", \"gridwidth\": 2, \"linecolor\": \"white\", \"showbackground\": true, \"ticks\": \"\", \"zerolinecolor\": \"white\"}}, \"shapedefaults\": {\"line\": {\"color\": \"#2a3f5f\"}}, \"ternary\": {\"aaxis\": {\"gridcolor\": \"white\", \"linecolor\": \"white\", \"ticks\": \"\"}, \"baxis\": {\"gridcolor\": \"white\", \"linecolor\": \"white\", \"ticks\": \"\"}, \"bgcolor\": \"#E5ECF6\", \"caxis\": {\"gridcolor\": \"white\", \"linecolor\": \"white\", \"ticks\": \"\"}}, \"title\": {\"x\": 0.05}, \"xaxis\": {\"automargin\": true, \"gridcolor\": \"white\", \"linecolor\": \"white\", \"ticks\": \"\", \"title\": {\"standoff\": 15}, \"zerolinecolor\": \"white\", \"zerolinewidth\": 2}, \"yaxis\": {\"automargin\": true, \"gridcolor\": \"white\", \"linecolor\": \"white\", \"ticks\": \"\", \"title\": {\"standoff\": 15}, \"zerolinecolor\": \"white\", \"zerolinewidth\": 2}}}, \"title\": {\"font\": {\"size\": 15}, \"text\": \"Evoluci\\u00f3n de las menciones en el discurso de duque para las palabras: sospecha, minas, antipersona, liberados, municipios\", \"x\": 0.5, \"xanchor\": \"center\"}, \"width\": 900, \"xaxis\": {\"anchor\": \"y\", \"domain\": [0.0, 1.0]}, \"yaxis\": {\"anchor\": \"x\", \"domain\": [0.0, 1.0]}},                        {\"responsive\": true}                    ).then(function(){\n                            \nvar gd = document.getElementById('d04b40bd-6576-4d99-96d8-00e5fa62aab3');\nvar x = new MutationObserver(function (mutations, observer) {{\n        var display = window.getComputedStyle(gd).display;\n        if (!display || display === 'none') {{\n            console.log([gd, 'removed!']);\n            Plotly.purge(gd);\n            observer.disconnect();\n        }}\n}});\n\n// Listen for the removal of the full notebook cells\nvar notebookContainer = gd.closest('#notebook-container');\nif (notebookContainer) {{\n    x.observe(notebookContainer, {childList: true});\n}}\n\n// Listen for the clearing of the current output cell\nvar outputEl = gd.closest('.output');\nif (outputEl) {{\n    x.observe(outputEl, {childList: true});\n}}\n\n                        })                };                });            </script>        </div>"
         },
         "metadata": {},
         "output_type": "display_data"
        }
       ]
      }
     },
     "67bf8ddd742b4f938489e6d95302caef": {
      "model_module": "@jupyter-widgets/base",
      "model_module_version": "1.2.0",
      "model_name": "LayoutModel",
      "state": {}
     },
     "67d2dbefb3fd4f069fcebc2d60bab44d": {
      "model_module": "plotlywidget",
      "model_module_version": "^4.14.3",
      "model_name": "FigureModel",
      "state": {
       "_config": {
        "plotlyServerURL": "https://plot.ly"
       },
       "_data": [
        {
         "hovertemplate": "x=%{x}<br>y=%{y}<extra></extra>",
         "legendgroup": "",
         "line": {
          "color": "#636efa",
          "dash": "solid",
          "shape": "spline"
         },
         "mode": "lines",
         "name": "",
         "orientation": "v",
         "showlegend": false,
         "type": "scatter",
         "uid": "1f36b92c-b10f-478b-b6d0-efeed7e28d71",
         "x": [
          "2020-08-14",
          "2020-08-17",
          "2020-08-18",
          "2020-08-19",
          "2020-08-20",
          "2020-08-21",
          "2020-08-22",
          "2020-08-23",
          "2020-08-24",
          "2020-08-25",
          "2020-08-26",
          "2020-08-27",
          "2020-08-28",
          "2020-08-29",
          "2020-08-30",
          "2020-08-31",
          "2020-09-01",
          "2020-09-02",
          "2020-09-03",
          "2020-09-04",
          "2020-09-07",
          "2020-09-08",
          "2020-09-09",
          "2020-09-10",
          "2020-09-11",
          "2020-09-12",
          "2020-09-15",
          "2020-09-16",
          "2020-09-17",
          "2020-09-18",
          "2020-09-19",
          "2020-09-21",
          "2020-09-22",
          "2020-09-23",
          "2020-09-24",
          "2020-09-25",
          "2020-09-26",
          "2020-09-27",
          "2020-09-28",
          "2020-09-29",
          "2020-09-30",
          "2020-10-01",
          "2020-10-02",
          "2020-10-03",
          "2020-10-05",
          "2020-10-06",
          "2020-10-07",
          "2020-10-08",
          "2020-10-09",
          "2020-10-10",
          "2020-10-13",
          "2020-10-14",
          "2020-10-15",
          "2020-10-16",
          "2020-10-17",
          "2020-10-19",
          "2020-10-20",
          "2020-10-21",
          "2020-10-22",
          "2020-10-23",
          "2020-10-24",
          "2020-10-25",
          "2020-10-26",
          "2020-10-27",
          "2020-10-28",
          "2020-11-06",
          "2020-11-07",
          "2020-11-08",
          "2020-11-09",
          "2020-11-10",
          "2020-11-11",
          "2020-11-12",
          "2020-11-13",
          "2020-11-14",
          "2020-11-15",
          "2020-11-16",
          "2020-11-17",
          "2020-11-18",
          "2020-11-19",
          "2020-11-20",
          "2020-11-21",
          "2020-11-23",
          "2020-11-24",
          "2020-11-25",
          "2020-11-26",
          "2020-11-27",
          "2020-11-28",
          "2020-11-29",
          "2020-11-30",
          "2020-12-01",
          "2020-12-02",
          "2020-12-03",
          "2020-12-04",
          "2020-12-05",
          "2020-12-07",
          "2020-12-09",
          "2020-12-10",
          "2020-12-11",
          "2020-12-12",
          "2020-12-13",
          "2020-12-17",
          "2020-12-18",
          "2020-12-19",
          "2020-12-24",
          "2020-12-28",
          "2020-12-29",
          "2020-12-30",
          "2020-12-31",
          "2021-01-04",
          "2021-01-05",
          "2021-01-06",
          "2021-01-07",
          "2021-01-08",
          "2021-01-10",
          "2021-01-12",
          "2021-01-13",
          "2021-01-14",
          "2021-01-15",
          "2021-01-17",
          "2021-01-18",
          "2021-01-20",
          "2021-01-21",
          "2021-01-22",
          "2021-02-05",
          "2021-02-06",
          "2021-02-09",
          "2021-02-10",
          "2021-02-11",
          "2021-02-12",
          "2021-02-14",
          "2021-02-15",
          "2021-02-16",
          "2021-02-17",
          "2021-02-18",
          "2021-02-19",
          "2021-02-20",
          "2021-02-22",
          "2021-02-23",
          "2021-02-24",
          "2021-02-25",
          "2021-02-26",
          "2021-02-27",
          "2021-03-01",
          "2021-03-02",
          "2021-03-03",
          "2021-03-04",
          "2021-03-05",
          "2021-03-08",
          "2021-03-09",
          "2021-03-11",
          "2021-03-15",
          "2021-03-16",
          "2021-03-17",
          "2021-03-25",
          "2021-03-26",
          "2021-03-27",
          "2021-03-29",
          "2021-04-04",
          "2021-04-05",
          "2021-04-06",
          "2021-04-07",
          "2021-04-08",
          "2021-04-09",
          "2021-04-10",
          "2021-04-12",
          "2021-04-21",
          "2021-04-22",
          "2021-04-23",
          "2021-04-26",
          "2021-04-27",
          "2021-04-28",
          "2021-04-30",
          "2021-05-01",
          "2021-05-02",
          "2021-05-03",
          "2021-05-04",
          "2021-05-05",
          "2021-05-07",
          "2021-05-08",
          "2021-05-09",
          "2021-05-10",
          "2021-05-11",
          "2021-05-12",
          "2021-05-13",
          "2021-05-14",
          "2021-05-17",
          "2021-05-18",
          "2021-05-19",
          "2021-05-21",
          "2021-05-25",
          "2021-05-26",
          "2021-05-27",
          "2021-05-28",
          "2021-05-31",
          "2021-06-01",
          "2021-06-03",
          "2021-06-04",
          "2021-06-05",
          "2021-06-06"
         ],
         "xaxis": "x",
         "y": [
          0,
          0,
          0,
          0,
          0,
          0,
          0,
          0,
          0,
          0,
          0,
          0,
          0,
          0,
          0,
          0,
          1,
          0,
          0,
          0,
          0,
          0,
          0,
          0,
          0,
          0,
          0,
          0,
          0,
          0,
          0,
          0,
          0,
          0,
          0,
          0,
          0,
          0,
          0,
          1,
          0,
          0,
          0,
          0,
          0,
          0,
          0,
          0,
          0,
          0,
          0,
          0,
          0,
          0,
          0,
          0,
          1,
          0,
          0,
          0,
          0,
          0,
          0,
          0,
          0,
          0,
          0,
          0,
          0,
          0,
          0,
          0,
          0,
          0,
          0,
          0,
          0,
          0,
          0,
          0,
          0,
          0,
          0,
          0,
          0,
          0,
          0,
          0,
          0,
          0,
          0,
          0,
          0,
          0,
          0,
          0,
          0,
          0,
          0,
          0,
          0,
          0,
          0,
          0,
          0,
          0,
          0,
          0,
          0,
          0,
          0,
          0,
          0,
          0,
          0,
          0,
          0,
          0,
          0,
          0,
          0,
          0,
          0,
          0,
          0,
          0,
          0,
          0,
          0,
          0,
          0,
          0,
          0,
          0,
          0,
          0,
          0,
          0,
          0,
          0,
          0,
          0,
          1,
          0,
          0,
          0,
          0,
          0,
          0,
          0,
          0,
          0,
          0,
          2,
          0,
          0,
          0,
          0,
          0,
          0,
          0,
          0,
          0,
          0,
          0,
          0,
          0,
          0,
          0,
          0,
          0,
          0,
          0,
          0,
          0,
          0,
          0,
          6,
          0,
          0,
          0,
          0,
          0,
          0,
          0,
          0,
          0,
          0,
          0,
          0,
          0,
          0,
          0,
          0,
          0,
          0,
          0,
          0,
          0
         ],
         "yaxis": "y"
        }
       ],
       "_js2py_restyle": {},
       "_js2py_update": {},
       "_last_layout_edit_id": 1,
       "_layout": {
        "autosize": true,
        "legend": {
         "tracegroupgap": 0
        },
        "margin": {
         "t": 60
        },
        "template": {
         "data": {
          "bar": [
           {
            "error_x": {
             "color": "#2a3f5f"
            },
            "error_y": {
             "color": "#2a3f5f"
            },
            "marker": {
             "line": {
              "color": "#E5ECF6",
              "width": 0.5
             }
            },
            "type": "bar"
           }
          ],
          "barpolar": [
           {
            "marker": {
             "line": {
              "color": "#E5ECF6",
              "width": 0.5
             }
            },
            "type": "barpolar"
           }
          ],
          "carpet": [
           {
            "aaxis": {
             "endlinecolor": "#2a3f5f",
             "gridcolor": "white",
             "linecolor": "white",
             "minorgridcolor": "white",
             "startlinecolor": "#2a3f5f"
            },
            "baxis": {
             "endlinecolor": "#2a3f5f",
             "gridcolor": "white",
             "linecolor": "white",
             "minorgridcolor": "white",
             "startlinecolor": "#2a3f5f"
            },
            "type": "carpet"
           }
          ],
          "choropleth": [
           {
            "colorbar": {
             "outlinewidth": 0,
             "ticks": ""
            },
            "type": "choropleth"
           }
          ],
          "contour": [
           {
            "colorbar": {
             "outlinewidth": 0,
             "ticks": ""
            },
            "colorscale": [
             [
              0,
              "#0d0887"
             ],
             [
              0.1111111111111111,
              "#46039f"
             ],
             [
              0.2222222222222222,
              "#7201a8"
             ],
             [
              0.3333333333333333,
              "#9c179e"
             ],
             [
              0.4444444444444444,
              "#bd3786"
             ],
             [
              0.5555555555555556,
              "#d8576b"
             ],
             [
              0.6666666666666666,
              "#ed7953"
             ],
             [
              0.7777777777777778,
              "#fb9f3a"
             ],
             [
              0.8888888888888888,
              "#fdca26"
             ],
             [
              1,
              "#f0f921"
             ]
            ],
            "type": "contour"
           }
          ],
          "contourcarpet": [
           {
            "colorbar": {
             "outlinewidth": 0,
             "ticks": ""
            },
            "type": "contourcarpet"
           }
          ],
          "heatmap": [
           {
            "colorbar": {
             "outlinewidth": 0,
             "ticks": ""
            },
            "colorscale": [
             [
              0,
              "#0d0887"
             ],
             [
              0.1111111111111111,
              "#46039f"
             ],
             [
              0.2222222222222222,
              "#7201a8"
             ],
             [
              0.3333333333333333,
              "#9c179e"
             ],
             [
              0.4444444444444444,
              "#bd3786"
             ],
             [
              0.5555555555555556,
              "#d8576b"
             ],
             [
              0.6666666666666666,
              "#ed7953"
             ],
             [
              0.7777777777777778,
              "#fb9f3a"
             ],
             [
              0.8888888888888888,
              "#fdca26"
             ],
             [
              1,
              "#f0f921"
             ]
            ],
            "type": "heatmap"
           }
          ],
          "heatmapgl": [
           {
            "colorbar": {
             "outlinewidth": 0,
             "ticks": ""
            },
            "colorscale": [
             [
              0,
              "#0d0887"
             ],
             [
              0.1111111111111111,
              "#46039f"
             ],
             [
              0.2222222222222222,
              "#7201a8"
             ],
             [
              0.3333333333333333,
              "#9c179e"
             ],
             [
              0.4444444444444444,
              "#bd3786"
             ],
             [
              0.5555555555555556,
              "#d8576b"
             ],
             [
              0.6666666666666666,
              "#ed7953"
             ],
             [
              0.7777777777777778,
              "#fb9f3a"
             ],
             [
              0.8888888888888888,
              "#fdca26"
             ],
             [
              1,
              "#f0f921"
             ]
            ],
            "type": "heatmapgl"
           }
          ],
          "histogram": [
           {
            "marker": {
             "colorbar": {
              "outlinewidth": 0,
              "ticks": ""
             }
            },
            "type": "histogram"
           }
          ],
          "histogram2d": [
           {
            "colorbar": {
             "outlinewidth": 0,
             "ticks": ""
            },
            "colorscale": [
             [
              0,
              "#0d0887"
             ],
             [
              0.1111111111111111,
              "#46039f"
             ],
             [
              0.2222222222222222,
              "#7201a8"
             ],
             [
              0.3333333333333333,
              "#9c179e"
             ],
             [
              0.4444444444444444,
              "#bd3786"
             ],
             [
              0.5555555555555556,
              "#d8576b"
             ],
             [
              0.6666666666666666,
              "#ed7953"
             ],
             [
              0.7777777777777778,
              "#fb9f3a"
             ],
             [
              0.8888888888888888,
              "#fdca26"
             ],
             [
              1,
              "#f0f921"
             ]
            ],
            "type": "histogram2d"
           }
          ],
          "histogram2dcontour": [
           {
            "colorbar": {
             "outlinewidth": 0,
             "ticks": ""
            },
            "colorscale": [
             [
              0,
              "#0d0887"
             ],
             [
              0.1111111111111111,
              "#46039f"
             ],
             [
              0.2222222222222222,
              "#7201a8"
             ],
             [
              0.3333333333333333,
              "#9c179e"
             ],
             [
              0.4444444444444444,
              "#bd3786"
             ],
             [
              0.5555555555555556,
              "#d8576b"
             ],
             [
              0.6666666666666666,
              "#ed7953"
             ],
             [
              0.7777777777777778,
              "#fb9f3a"
             ],
             [
              0.8888888888888888,
              "#fdca26"
             ],
             [
              1,
              "#f0f921"
             ]
            ],
            "type": "histogram2dcontour"
           }
          ],
          "mesh3d": [
           {
            "colorbar": {
             "outlinewidth": 0,
             "ticks": ""
            },
            "type": "mesh3d"
           }
          ],
          "parcoords": [
           {
            "line": {
             "colorbar": {
              "outlinewidth": 0,
              "ticks": ""
             }
            },
            "type": "parcoords"
           }
          ],
          "pie": [
           {
            "automargin": true,
            "type": "pie"
           }
          ],
          "scatter": [
           {
            "marker": {
             "colorbar": {
              "outlinewidth": 0,
              "ticks": ""
             }
            },
            "type": "scatter"
           }
          ],
          "scatter3d": [
           {
            "line": {
             "colorbar": {
              "outlinewidth": 0,
              "ticks": ""
             }
            },
            "marker": {
             "colorbar": {
              "outlinewidth": 0,
              "ticks": ""
             }
            },
            "type": "scatter3d"
           }
          ],
          "scattercarpet": [
           {
            "marker": {
             "colorbar": {
              "outlinewidth": 0,
              "ticks": ""
             }
            },
            "type": "scattercarpet"
           }
          ],
          "scattergeo": [
           {
            "marker": {
             "colorbar": {
              "outlinewidth": 0,
              "ticks": ""
             }
            },
            "type": "scattergeo"
           }
          ],
          "scattergl": [
           {
            "marker": {
             "colorbar": {
              "outlinewidth": 0,
              "ticks": ""
             }
            },
            "type": "scattergl"
           }
          ],
          "scattermapbox": [
           {
            "marker": {
             "colorbar": {
              "outlinewidth": 0,
              "ticks": ""
             }
            },
            "type": "scattermapbox"
           }
          ],
          "scatterpolar": [
           {
            "marker": {
             "colorbar": {
              "outlinewidth": 0,
              "ticks": ""
             }
            },
            "type": "scatterpolar"
           }
          ],
          "scatterpolargl": [
           {
            "marker": {
             "colorbar": {
              "outlinewidth": 0,
              "ticks": ""
             }
            },
            "type": "scatterpolargl"
           }
          ],
          "scatterternary": [
           {
            "marker": {
             "colorbar": {
              "outlinewidth": 0,
              "ticks": ""
             }
            },
            "type": "scatterternary"
           }
          ],
          "surface": [
           {
            "colorbar": {
             "outlinewidth": 0,
             "ticks": ""
            },
            "colorscale": [
             [
              0,
              "#0d0887"
             ],
             [
              0.1111111111111111,
              "#46039f"
             ],
             [
              0.2222222222222222,
              "#7201a8"
             ],
             [
              0.3333333333333333,
              "#9c179e"
             ],
             [
              0.4444444444444444,
              "#bd3786"
             ],
             [
              0.5555555555555556,
              "#d8576b"
             ],
             [
              0.6666666666666666,
              "#ed7953"
             ],
             [
              0.7777777777777778,
              "#fb9f3a"
             ],
             [
              0.8888888888888888,
              "#fdca26"
             ],
             [
              1,
              "#f0f921"
             ]
            ],
            "type": "surface"
           }
          ],
          "table": [
           {
            "cells": {
             "fill": {
              "color": "#EBF0F8"
             },
             "line": {
              "color": "white"
             }
            },
            "header": {
             "fill": {
              "color": "#C8D4E3"
             },
             "line": {
              "color": "white"
             }
            },
            "type": "table"
           }
          ]
         },
         "layout": {
          "annotationdefaults": {
           "arrowcolor": "#2a3f5f",
           "arrowhead": 0,
           "arrowwidth": 1
          },
          "autotypenumbers": "strict",
          "coloraxis": {
           "colorbar": {
            "outlinewidth": 0,
            "ticks": ""
           }
          },
          "colorscale": {
           "diverging": [
            [
             0,
             "#8e0152"
            ],
            [
             0.1,
             "#c51b7d"
            ],
            [
             0.2,
             "#de77ae"
            ],
            [
             0.3,
             "#f1b6da"
            ],
            [
             0.4,
             "#fde0ef"
            ],
            [
             0.5,
             "#f7f7f7"
            ],
            [
             0.6,
             "#e6f5d0"
            ],
            [
             0.7,
             "#b8e186"
            ],
            [
             0.8,
             "#7fbc41"
            ],
            [
             0.9,
             "#4d9221"
            ],
            [
             1,
             "#276419"
            ]
           ],
           "sequential": [
            [
             0,
             "#0d0887"
            ],
            [
             0.1111111111111111,
             "#46039f"
            ],
            [
             0.2222222222222222,
             "#7201a8"
            ],
            [
             0.3333333333333333,
             "#9c179e"
            ],
            [
             0.4444444444444444,
             "#bd3786"
            ],
            [
             0.5555555555555556,
             "#d8576b"
            ],
            [
             0.6666666666666666,
             "#ed7953"
            ],
            [
             0.7777777777777778,
             "#fb9f3a"
            ],
            [
             0.8888888888888888,
             "#fdca26"
            ],
            [
             1,
             "#f0f921"
            ]
           ],
           "sequentialminus": [
            [
             0,
             "#0d0887"
            ],
            [
             0.1111111111111111,
             "#46039f"
            ],
            [
             0.2222222222222222,
             "#7201a8"
            ],
            [
             0.3333333333333333,
             "#9c179e"
            ],
            [
             0.4444444444444444,
             "#bd3786"
            ],
            [
             0.5555555555555556,
             "#d8576b"
            ],
            [
             0.6666666666666666,
             "#ed7953"
            ],
            [
             0.7777777777777778,
             "#fb9f3a"
            ],
            [
             0.8888888888888888,
             "#fdca26"
            ],
            [
             1,
             "#f0f921"
            ]
           ]
          },
          "colorway": [
           "#636efa",
           "#EF553B",
           "#00cc96",
           "#ab63fa",
           "#FFA15A",
           "#19d3f3",
           "#FF6692",
           "#B6E880",
           "#FF97FF",
           "#FECB52"
          ],
          "font": {
           "color": "#2a3f5f"
          },
          "geo": {
           "bgcolor": "white",
           "lakecolor": "white",
           "landcolor": "#E5ECF6",
           "showlakes": true,
           "showland": true,
           "subunitcolor": "white"
          },
          "hoverlabel": {
           "align": "left"
          },
          "hovermode": "closest",
          "mapbox": {
           "style": "light"
          },
          "paper_bgcolor": "white",
          "plot_bgcolor": "#E5ECF6",
          "polar": {
           "angularaxis": {
            "gridcolor": "white",
            "linecolor": "white",
            "ticks": ""
           },
           "bgcolor": "#E5ECF6",
           "radialaxis": {
            "gridcolor": "white",
            "linecolor": "white",
            "ticks": ""
           }
          },
          "scene": {
           "xaxis": {
            "backgroundcolor": "#E5ECF6",
            "gridcolor": "white",
            "gridwidth": 2,
            "linecolor": "white",
            "showbackground": true,
            "ticks": "",
            "zerolinecolor": "white"
           },
           "yaxis": {
            "backgroundcolor": "#E5ECF6",
            "gridcolor": "white",
            "gridwidth": 2,
            "linecolor": "white",
            "showbackground": true,
            "ticks": "",
            "zerolinecolor": "white"
           },
           "zaxis": {
            "backgroundcolor": "#E5ECF6",
            "gridcolor": "white",
            "gridwidth": 2,
            "linecolor": "white",
            "showbackground": true,
            "ticks": "",
            "zerolinecolor": "white"
           }
          },
          "shapedefaults": {
           "line": {
            "color": "#2a3f5f"
           }
          },
          "ternary": {
           "aaxis": {
            "gridcolor": "white",
            "linecolor": "white",
            "ticks": ""
           },
           "baxis": {
            "gridcolor": "white",
            "linecolor": "white",
            "ticks": ""
           },
           "bgcolor": "#E5ECF6",
           "caxis": {
            "gridcolor": "white",
            "linecolor": "white",
            "ticks": ""
           }
          },
          "title": {
           "x": 0.05
          },
          "xaxis": {
           "automargin": true,
           "gridcolor": "white",
           "linecolor": "white",
           "ticks": "",
           "title": {
            "standoff": 15
           },
           "zerolinecolor": "white",
           "zerolinewidth": 2
          },
          "yaxis": {
           "automargin": true,
           "gridcolor": "white",
           "linecolor": "white",
           "ticks": "",
           "title": {
            "standoff": 15
           },
           "zerolinecolor": "white",
           "zerolinewidth": 2
          }
         }
        },
        "xaxis": {
         "anchor": "y",
         "domain": [
          0,
          1
         ],
         "title": {
          "text": "x"
         }
        },
        "yaxis": {
         "anchor": "x",
         "domain": [
          0,
          1
         ],
         "title": {
          "text": "y"
         }
        }
       },
       "_py2js_addTraces": {},
       "_py2js_animate": {},
       "_py2js_deleteTraces": {},
       "_py2js_moveTraces": {},
       "_py2js_removeLayoutProps": {},
       "_py2js_removeTraceProps": {},
       "_py2js_restyle": {},
       "_py2js_update": {},
       "_view_count": 0
      }
     },
     "6befccac76174f1f9c209dd5110969de": {
      "model_module": "@jupyter-widgets/controls",
      "model_module_version": "1.5.0",
      "model_name": "HBoxModel",
      "state": {
       "children": [
        "IPY_MODEL_13cf9e8f3eab44bfa5bb5b4ac8f20101",
        "IPY_MODEL_32f4bb0850ff4a6e99d54cfb984ea2e4",
        "IPY_MODEL_f2d25d5782134cfeb050ba3733e973a1"
       ],
       "layout": "IPY_MODEL_3f6d9ede8b794a838096abb4640339b5"
      }
     },
     "6f08a5f28c1743cbab545a94d40075fc": {
      "model_module": "plotlywidget",
      "model_module_version": "^4.14.3",
      "model_name": "FigureModel",
      "state": {
       "_config": {
        "plotlyServerURL": "https://plot.ly"
       },
       "_data": [
        {
         "hovertemplate": "x=%{x}<br>y=%{y}<extra></extra>",
         "legendgroup": "",
         "line": {
          "color": "#636efa",
          "dash": "solid",
          "shape": "spline"
         },
         "mode": "lines",
         "name": "",
         "orientation": "v",
         "showlegend": false,
         "type": "scatter",
         "uid": "5a0bea2d-5c20-49b4-8c3e-62eb0be483e8",
         "x": [
          "2020-08-14",
          "2020-08-17",
          "2020-08-18",
          "2020-08-19",
          "2020-08-20",
          "2020-08-21",
          "2020-08-22",
          "2020-08-23",
          "2020-08-24",
          "2020-08-25",
          "2020-08-26",
          "2020-08-27",
          "2020-08-28",
          "2020-08-29",
          "2020-08-30",
          "2020-08-31",
          "2020-09-01",
          "2020-09-02",
          "2020-09-03",
          "2020-09-04",
          "2020-09-07",
          "2020-09-08",
          "2020-09-09",
          "2020-09-10",
          "2020-09-11",
          "2020-09-12",
          "2020-09-15",
          "2020-09-16",
          "2020-09-17",
          "2020-09-18",
          "2020-09-19",
          "2020-09-21",
          "2020-09-22",
          "2020-09-23",
          "2020-09-24",
          "2020-09-25",
          "2020-09-26",
          "2020-09-27",
          "2020-09-28",
          "2020-09-29",
          "2020-09-30",
          "2020-10-01",
          "2020-10-02",
          "2020-10-03",
          "2020-10-05",
          "2020-10-06",
          "2020-10-07",
          "2020-10-08",
          "2020-10-09",
          "2020-10-10",
          "2020-10-13",
          "2020-10-14",
          "2020-10-15",
          "2020-10-16",
          "2020-10-17",
          "2020-10-19",
          "2020-10-20",
          "2020-10-21",
          "2020-10-22",
          "2020-10-23",
          "2020-10-24",
          "2020-10-25",
          "2020-10-26",
          "2020-10-27",
          "2020-10-28",
          "2020-11-06",
          "2020-11-07",
          "2020-11-08",
          "2020-11-09",
          "2020-11-10",
          "2020-11-11",
          "2020-11-12",
          "2020-11-13",
          "2020-11-14",
          "2020-11-15",
          "2020-11-16",
          "2020-11-17",
          "2020-11-18",
          "2020-11-19",
          "2020-11-20",
          "2020-11-21",
          "2020-11-23",
          "2020-11-24",
          "2020-11-25",
          "2020-11-26",
          "2020-11-27",
          "2020-11-28",
          "2020-11-29",
          "2020-11-30",
          "2020-12-01",
          "2020-12-02",
          "2020-12-03",
          "2020-12-04",
          "2020-12-05",
          "2020-12-07",
          "2020-12-09",
          "2020-12-10",
          "2020-12-11",
          "2020-12-12",
          "2020-12-13",
          "2020-12-17",
          "2020-12-18",
          "2020-12-19",
          "2020-12-24",
          "2020-12-28",
          "2020-12-29",
          "2020-12-30",
          "2020-12-31",
          "2021-01-04",
          "2021-01-05",
          "2021-01-06",
          "2021-01-07",
          "2021-01-08",
          "2021-01-10",
          "2021-01-12",
          "2021-01-13",
          "2021-01-14",
          "2021-01-15",
          "2021-01-17",
          "2021-01-18",
          "2021-01-20",
          "2021-01-21",
          "2021-01-22",
          "2021-02-05",
          "2021-02-06",
          "2021-02-09",
          "2021-02-10",
          "2021-02-11",
          "2021-02-12",
          "2021-02-14",
          "2021-02-15",
          "2021-02-16",
          "2021-02-17",
          "2021-02-18",
          "2021-02-19",
          "2021-02-20",
          "2021-02-22",
          "2021-02-23",
          "2021-02-24",
          "2021-02-25",
          "2021-02-26",
          "2021-02-27",
          "2021-03-01",
          "2021-03-02",
          "2021-03-03",
          "2021-03-04",
          "2021-03-05",
          "2021-03-08",
          "2021-03-09",
          "2021-03-11",
          "2021-03-15",
          "2021-03-16",
          "2021-03-17",
          "2021-03-25",
          "2021-03-26",
          "2021-03-27",
          "2021-03-29",
          "2021-04-04",
          "2021-04-05",
          "2021-04-06",
          "2021-04-07",
          "2021-04-08",
          "2021-04-09",
          "2021-04-10",
          "2021-04-12",
          "2021-04-21",
          "2021-04-22",
          "2021-04-23",
          "2021-04-26",
          "2021-04-27",
          "2021-04-28",
          "2021-04-30",
          "2021-05-01",
          "2021-05-02",
          "2021-05-03",
          "2021-05-04",
          "2021-05-05",
          "2021-05-07",
          "2021-05-08",
          "2021-05-09",
          "2021-05-10",
          "2021-05-11",
          "2021-05-12",
          "2021-05-13",
          "2021-05-14",
          "2021-05-17",
          "2021-05-18",
          "2021-05-19",
          "2021-05-21",
          "2021-05-25",
          "2021-05-26",
          "2021-05-27",
          "2021-05-28",
          "2021-05-31",
          "2021-06-01",
          "2021-06-03",
          "2021-06-04",
          "2021-06-05",
          "2021-06-06"
         ],
         "xaxis": "x",
         "y": [
          0,
          0,
          0,
          0,
          0,
          0,
          0,
          0,
          0,
          0,
          0,
          0,
          0,
          0,
          0,
          0,
          1,
          0,
          0,
          0,
          0,
          0,
          0,
          0,
          0,
          0,
          0,
          0,
          0,
          0,
          0,
          0,
          0,
          0,
          0,
          0,
          0,
          0,
          0,
          1,
          0,
          0,
          0,
          0,
          0,
          0,
          0,
          0,
          0,
          0,
          0,
          0,
          0,
          0,
          0,
          0,
          1,
          0,
          0,
          0,
          0,
          0,
          0,
          0,
          0,
          0,
          0,
          0,
          0,
          0,
          0,
          0,
          0,
          0,
          0,
          0,
          0,
          0,
          0,
          0,
          0,
          0,
          0,
          0,
          0,
          0,
          0,
          0,
          0,
          0,
          0,
          0,
          0,
          0,
          0,
          0,
          0,
          0,
          0,
          0,
          0,
          0,
          0,
          0,
          0,
          0,
          0,
          0,
          0,
          0,
          0,
          0,
          0,
          0,
          0,
          0,
          0,
          0,
          0,
          0,
          0,
          0,
          0,
          0,
          0,
          0,
          0,
          0,
          0,
          0,
          0,
          0,
          0,
          0,
          0,
          0,
          0,
          0,
          0,
          0,
          0,
          0,
          1,
          0,
          0,
          0,
          0,
          0,
          0,
          0,
          0,
          0,
          0,
          2,
          0,
          0,
          0,
          0,
          0,
          0,
          0,
          0,
          0,
          0,
          0,
          0,
          0,
          0,
          0,
          0,
          0,
          0,
          0,
          0,
          0,
          0,
          0,
          6,
          0,
          0,
          0,
          0,
          0,
          0,
          0,
          0,
          0,
          0,
          0,
          0,
          0,
          0,
          0,
          0,
          0,
          0,
          0,
          0,
          0
         ],
         "yaxis": "y"
        }
       ],
       "_js2py_layoutDelta": {},
       "_js2py_pointsCallback": {},
       "_js2py_relayout": {},
       "_js2py_restyle": {},
       "_js2py_traceDeltas": {},
       "_js2py_update": {},
       "_layout": {
        "legend": {
         "tracegroupgap": 0
        },
        "margin": {
         "t": 60
        },
        "template": {
         "data": {
          "bar": [
           {
            "error_x": {
             "color": "#2a3f5f"
            },
            "error_y": {
             "color": "#2a3f5f"
            },
            "marker": {
             "line": {
              "color": "#E5ECF6",
              "width": 0.5
             }
            },
            "type": "bar"
           }
          ],
          "barpolar": [
           {
            "marker": {
             "line": {
              "color": "#E5ECF6",
              "width": 0.5
             }
            },
            "type": "barpolar"
           }
          ],
          "carpet": [
           {
            "aaxis": {
             "endlinecolor": "#2a3f5f",
             "gridcolor": "white",
             "linecolor": "white",
             "minorgridcolor": "white",
             "startlinecolor": "#2a3f5f"
            },
            "baxis": {
             "endlinecolor": "#2a3f5f",
             "gridcolor": "white",
             "linecolor": "white",
             "minorgridcolor": "white",
             "startlinecolor": "#2a3f5f"
            },
            "type": "carpet"
           }
          ],
          "choropleth": [
           {
            "colorbar": {
             "outlinewidth": 0,
             "ticks": ""
            },
            "type": "choropleth"
           }
          ],
          "contour": [
           {
            "colorbar": {
             "outlinewidth": 0,
             "ticks": ""
            },
            "colorscale": [
             [
              0,
              "#0d0887"
             ],
             [
              0.1111111111111111,
              "#46039f"
             ],
             [
              0.2222222222222222,
              "#7201a8"
             ],
             [
              0.3333333333333333,
              "#9c179e"
             ],
             [
              0.4444444444444444,
              "#bd3786"
             ],
             [
              0.5555555555555556,
              "#d8576b"
             ],
             [
              0.6666666666666666,
              "#ed7953"
             ],
             [
              0.7777777777777778,
              "#fb9f3a"
             ],
             [
              0.8888888888888888,
              "#fdca26"
             ],
             [
              1,
              "#f0f921"
             ]
            ],
            "type": "contour"
           }
          ],
          "contourcarpet": [
           {
            "colorbar": {
             "outlinewidth": 0,
             "ticks": ""
            },
            "type": "contourcarpet"
           }
          ],
          "heatmap": [
           {
            "colorbar": {
             "outlinewidth": 0,
             "ticks": ""
            },
            "colorscale": [
             [
              0,
              "#0d0887"
             ],
             [
              0.1111111111111111,
              "#46039f"
             ],
             [
              0.2222222222222222,
              "#7201a8"
             ],
             [
              0.3333333333333333,
              "#9c179e"
             ],
             [
              0.4444444444444444,
              "#bd3786"
             ],
             [
              0.5555555555555556,
              "#d8576b"
             ],
             [
              0.6666666666666666,
              "#ed7953"
             ],
             [
              0.7777777777777778,
              "#fb9f3a"
             ],
             [
              0.8888888888888888,
              "#fdca26"
             ],
             [
              1,
              "#f0f921"
             ]
            ],
            "type": "heatmap"
           }
          ],
          "heatmapgl": [
           {
            "colorbar": {
             "outlinewidth": 0,
             "ticks": ""
            },
            "colorscale": [
             [
              0,
              "#0d0887"
             ],
             [
              0.1111111111111111,
              "#46039f"
             ],
             [
              0.2222222222222222,
              "#7201a8"
             ],
             [
              0.3333333333333333,
              "#9c179e"
             ],
             [
              0.4444444444444444,
              "#bd3786"
             ],
             [
              0.5555555555555556,
              "#d8576b"
             ],
             [
              0.6666666666666666,
              "#ed7953"
             ],
             [
              0.7777777777777778,
              "#fb9f3a"
             ],
             [
              0.8888888888888888,
              "#fdca26"
             ],
             [
              1,
              "#f0f921"
             ]
            ],
            "type": "heatmapgl"
           }
          ],
          "histogram": [
           {
            "marker": {
             "colorbar": {
              "outlinewidth": 0,
              "ticks": ""
             }
            },
            "type": "histogram"
           }
          ],
          "histogram2d": [
           {
            "colorbar": {
             "outlinewidth": 0,
             "ticks": ""
            },
            "colorscale": [
             [
              0,
              "#0d0887"
             ],
             [
              0.1111111111111111,
              "#46039f"
             ],
             [
              0.2222222222222222,
              "#7201a8"
             ],
             [
              0.3333333333333333,
              "#9c179e"
             ],
             [
              0.4444444444444444,
              "#bd3786"
             ],
             [
              0.5555555555555556,
              "#d8576b"
             ],
             [
              0.6666666666666666,
              "#ed7953"
             ],
             [
              0.7777777777777778,
              "#fb9f3a"
             ],
             [
              0.8888888888888888,
              "#fdca26"
             ],
             [
              1,
              "#f0f921"
             ]
            ],
            "type": "histogram2d"
           }
          ],
          "histogram2dcontour": [
           {
            "colorbar": {
             "outlinewidth": 0,
             "ticks": ""
            },
            "colorscale": [
             [
              0,
              "#0d0887"
             ],
             [
              0.1111111111111111,
              "#46039f"
             ],
             [
              0.2222222222222222,
              "#7201a8"
             ],
             [
              0.3333333333333333,
              "#9c179e"
             ],
             [
              0.4444444444444444,
              "#bd3786"
             ],
             [
              0.5555555555555556,
              "#d8576b"
             ],
             [
              0.6666666666666666,
              "#ed7953"
             ],
             [
              0.7777777777777778,
              "#fb9f3a"
             ],
             [
              0.8888888888888888,
              "#fdca26"
             ],
             [
              1,
              "#f0f921"
             ]
            ],
            "type": "histogram2dcontour"
           }
          ],
          "mesh3d": [
           {
            "colorbar": {
             "outlinewidth": 0,
             "ticks": ""
            },
            "type": "mesh3d"
           }
          ],
          "parcoords": [
           {
            "line": {
             "colorbar": {
              "outlinewidth": 0,
              "ticks": ""
             }
            },
            "type": "parcoords"
           }
          ],
          "pie": [
           {
            "automargin": true,
            "type": "pie"
           }
          ],
          "scatter": [
           {
            "marker": {
             "colorbar": {
              "outlinewidth": 0,
              "ticks": ""
             }
            },
            "type": "scatter"
           }
          ],
          "scatter3d": [
           {
            "line": {
             "colorbar": {
              "outlinewidth": 0,
              "ticks": ""
             }
            },
            "marker": {
             "colorbar": {
              "outlinewidth": 0,
              "ticks": ""
             }
            },
            "type": "scatter3d"
           }
          ],
          "scattercarpet": [
           {
            "marker": {
             "colorbar": {
              "outlinewidth": 0,
              "ticks": ""
             }
            },
            "type": "scattercarpet"
           }
          ],
          "scattergeo": [
           {
            "marker": {
             "colorbar": {
              "outlinewidth": 0,
              "ticks": ""
             }
            },
            "type": "scattergeo"
           }
          ],
          "scattergl": [
           {
            "marker": {
             "colorbar": {
              "outlinewidth": 0,
              "ticks": ""
             }
            },
            "type": "scattergl"
           }
          ],
          "scattermapbox": [
           {
            "marker": {
             "colorbar": {
              "outlinewidth": 0,
              "ticks": ""
             }
            },
            "type": "scattermapbox"
           }
          ],
          "scatterpolar": [
           {
            "marker": {
             "colorbar": {
              "outlinewidth": 0,
              "ticks": ""
             }
            },
            "type": "scatterpolar"
           }
          ],
          "scatterpolargl": [
           {
            "marker": {
             "colorbar": {
              "outlinewidth": 0,
              "ticks": ""
             }
            },
            "type": "scatterpolargl"
           }
          ],
          "scatterternary": [
           {
            "marker": {
             "colorbar": {
              "outlinewidth": 0,
              "ticks": ""
             }
            },
            "type": "scatterternary"
           }
          ],
          "surface": [
           {
            "colorbar": {
             "outlinewidth": 0,
             "ticks": ""
            },
            "colorscale": [
             [
              0,
              "#0d0887"
             ],
             [
              0.1111111111111111,
              "#46039f"
             ],
             [
              0.2222222222222222,
              "#7201a8"
             ],
             [
              0.3333333333333333,
              "#9c179e"
             ],
             [
              0.4444444444444444,
              "#bd3786"
             ],
             [
              0.5555555555555556,
              "#d8576b"
             ],
             [
              0.6666666666666666,
              "#ed7953"
             ],
             [
              0.7777777777777778,
              "#fb9f3a"
             ],
             [
              0.8888888888888888,
              "#fdca26"
             ],
             [
              1,
              "#f0f921"
             ]
            ],
            "type": "surface"
           }
          ],
          "table": [
           {
            "cells": {
             "fill": {
              "color": "#EBF0F8"
             },
             "line": {
              "color": "white"
             }
            },
            "header": {
             "fill": {
              "color": "#C8D4E3"
             },
             "line": {
              "color": "white"
             }
            },
            "type": "table"
           }
          ]
         },
         "layout": {
          "annotationdefaults": {
           "arrowcolor": "#2a3f5f",
           "arrowhead": 0,
           "arrowwidth": 1
          },
          "autotypenumbers": "strict",
          "coloraxis": {
           "colorbar": {
            "outlinewidth": 0,
            "ticks": ""
           }
          },
          "colorscale": {
           "diverging": [
            [
             0,
             "#8e0152"
            ],
            [
             0.1,
             "#c51b7d"
            ],
            [
             0.2,
             "#de77ae"
            ],
            [
             0.3,
             "#f1b6da"
            ],
            [
             0.4,
             "#fde0ef"
            ],
            [
             0.5,
             "#f7f7f7"
            ],
            [
             0.6,
             "#e6f5d0"
            ],
            [
             0.7,
             "#b8e186"
            ],
            [
             0.8,
             "#7fbc41"
            ],
            [
             0.9,
             "#4d9221"
            ],
            [
             1,
             "#276419"
            ]
           ],
           "sequential": [
            [
             0,
             "#0d0887"
            ],
            [
             0.1111111111111111,
             "#46039f"
            ],
            [
             0.2222222222222222,
             "#7201a8"
            ],
            [
             0.3333333333333333,
             "#9c179e"
            ],
            [
             0.4444444444444444,
             "#bd3786"
            ],
            [
             0.5555555555555556,
             "#d8576b"
            ],
            [
             0.6666666666666666,
             "#ed7953"
            ],
            [
             0.7777777777777778,
             "#fb9f3a"
            ],
            [
             0.8888888888888888,
             "#fdca26"
            ],
            [
             1,
             "#f0f921"
            ]
           ],
           "sequentialminus": [
            [
             0,
             "#0d0887"
            ],
            [
             0.1111111111111111,
             "#46039f"
            ],
            [
             0.2222222222222222,
             "#7201a8"
            ],
            [
             0.3333333333333333,
             "#9c179e"
            ],
            [
             0.4444444444444444,
             "#bd3786"
            ],
            [
             0.5555555555555556,
             "#d8576b"
            ],
            [
             0.6666666666666666,
             "#ed7953"
            ],
            [
             0.7777777777777778,
             "#fb9f3a"
            ],
            [
             0.8888888888888888,
             "#fdca26"
            ],
            [
             1,
             "#f0f921"
            ]
           ]
          },
          "colorway": [
           "#636efa",
           "#EF553B",
           "#00cc96",
           "#ab63fa",
           "#FFA15A",
           "#19d3f3",
           "#FF6692",
           "#B6E880",
           "#FF97FF",
           "#FECB52"
          ],
          "font": {
           "color": "#2a3f5f"
          },
          "geo": {
           "bgcolor": "white",
           "lakecolor": "white",
           "landcolor": "#E5ECF6",
           "showlakes": true,
           "showland": true,
           "subunitcolor": "white"
          },
          "hoverlabel": {
           "align": "left"
          },
          "hovermode": "closest",
          "mapbox": {
           "style": "light"
          },
          "paper_bgcolor": "white",
          "plot_bgcolor": "#E5ECF6",
          "polar": {
           "angularaxis": {
            "gridcolor": "white",
            "linecolor": "white",
            "ticks": ""
           },
           "bgcolor": "#E5ECF6",
           "radialaxis": {
            "gridcolor": "white",
            "linecolor": "white",
            "ticks": ""
           }
          },
          "scene": {
           "xaxis": {
            "backgroundcolor": "#E5ECF6",
            "gridcolor": "white",
            "gridwidth": 2,
            "linecolor": "white",
            "showbackground": true,
            "ticks": "",
            "zerolinecolor": "white"
           },
           "yaxis": {
            "backgroundcolor": "#E5ECF6",
            "gridcolor": "white",
            "gridwidth": 2,
            "linecolor": "white",
            "showbackground": true,
            "ticks": "",
            "zerolinecolor": "white"
           },
           "zaxis": {
            "backgroundcolor": "#E5ECF6",
            "gridcolor": "white",
            "gridwidth": 2,
            "linecolor": "white",
            "showbackground": true,
            "ticks": "",
            "zerolinecolor": "white"
           }
          },
          "shapedefaults": {
           "line": {
            "color": "#2a3f5f"
           }
          },
          "ternary": {
           "aaxis": {
            "gridcolor": "white",
            "linecolor": "white",
            "ticks": ""
           },
           "baxis": {
            "gridcolor": "white",
            "linecolor": "white",
            "ticks": ""
           },
           "bgcolor": "#E5ECF6",
           "caxis": {
            "gridcolor": "white",
            "linecolor": "white",
            "ticks": ""
           }
          },
          "title": {
           "x": 0.05
          },
          "xaxis": {
           "automargin": true,
           "gridcolor": "white",
           "linecolor": "white",
           "ticks": "",
           "title": {
            "standoff": 15
           },
           "zerolinecolor": "white",
           "zerolinewidth": 2
          },
          "yaxis": {
           "automargin": true,
           "gridcolor": "white",
           "linecolor": "white",
           "ticks": "",
           "title": {
            "standoff": 15
           },
           "zerolinecolor": "white",
           "zerolinewidth": 2
          }
         }
        },
        "xaxis": {
         "anchor": "y",
         "domain": [
          0,
          1
         ],
         "title": {
          "text": "x"
         }
        },
        "yaxis": {
         "anchor": "x",
         "domain": [
          0,
          1
         ],
         "title": {
          "text": "y"
         }
        }
       },
       "_py2js_addTraces": {},
       "_py2js_animate": {},
       "_py2js_deleteTraces": {},
       "_py2js_moveTraces": {},
       "_py2js_relayout": {},
       "_py2js_removeLayoutProps": {},
       "_py2js_removeTraceProps": {},
       "_py2js_restyle": {},
       "_py2js_update": {}
      }
     },
     "705273a5cd5241d1995c1a8d5ddfbf28": {
      "model_module": "@jupyter-widgets/base",
      "model_module_version": "1.2.0",
      "model_name": "LayoutModel",
      "state": {}
     },
     "71a19edcc6164d108f64f88eb4c257e5": {
      "model_module": "@jupyter-widgets/controls",
      "model_module_version": "1.5.0",
      "model_name": "FloatSliderModel",
      "state": {
       "description": "Palabras: ",
       "layout": "IPY_MODEL_0acf730f1b364b4b8a8ddee3bc472425",
       "max": 198,
       "style": "IPY_MODEL_d1a13eed4be34f49b7b7eaed0a10dccf"
      }
     },
     "71b0489151ad42efb17bc091726561fc": {
      "model_module": "@jupyter-widgets/controls",
      "model_module_version": "1.5.0",
      "model_name": "VBoxModel",
      "state": {
       "_dom_classes": [
        "widget-interact"
       ],
       "children": [
        "IPY_MODEL_f722cc60facd4a6f86aa80b642b9deba",
        "IPY_MODEL_67b4dc8371624c2194b1702a8bdd20ae"
       ],
       "layout": "IPY_MODEL_cf25d637953843f7a2435cfc0283d50d"
      }
     },
     "72b17bb02a54445da11a50b141af7184": {
      "model_module": "@jupyter-widgets/base",
      "model_module_version": "1.2.0",
      "model_name": "LayoutModel",
      "state": {}
     },
     "73663993f0f04d54a58e429deb4c66ad": {
      "model_module": "@jupyter-widgets/controls",
      "model_module_version": "1.5.0",
      "model_name": "SliderStyleModel",
      "state": {
       "description_width": ""
      }
     },
     "7379a791cf31472d9225715fe0e4bc32": {
      "model_module": "@jupyter-widgets/controls",
      "model_module_version": "1.5.0",
      "model_name": "VBoxModel",
      "state": {
       "_dom_classes": [
        "widget-interact"
       ],
       "children": [
        "IPY_MODEL_b610fcc279a14d88aa43ad7b41fc56aa",
        "IPY_MODEL_36cf4a7e943849b9b1735f91bb66ce7a"
       ],
       "layout": "IPY_MODEL_133a78deea8640ff8eaa423714f3f564"
      }
     },
     "755e5274c3e8410fa22dcac90d94189c": {
      "model_module": "@jupyter-widgets/controls",
      "model_module_version": "1.5.0",
      "model_name": "SliderStyleModel",
      "state": {
       "description_width": ""
      }
     },
     "75ce8a06e1344139932bc67423c35cdf": {
      "model_module": "@jupyter-widgets/base",
      "model_module_version": "1.2.0",
      "model_name": "LayoutModel",
      "state": {}
     },
     "762e1064894844868157d5e9c00e7ec0": {
      "model_module": "@jupyter-widgets/base",
      "model_module_version": "1.2.0",
      "model_name": "LayoutModel",
      "state": {}
     },
     "792b36c0bb7345a5a9d408788ff31b34": {
      "model_module": "@jupyter-widgets/controls",
      "model_module_version": "1.5.0",
      "model_name": "HTMLModel",
      "state": {
       "layout": "IPY_MODEL_e29177938cad4b55807bea57ed456d2c",
       "placeholder": "",
       "style": "IPY_MODEL_b2f16684c6e544c2acef0f4511c4874f",
       "value": "El tag de la palabra es <b> NNS</b>: Sustantivo, plural"
      }
     },
     "7b2ed5b2aa5640ddb9d1be2448d4c7dc": {
      "model_module": "@jupyter-widgets/controls",
      "model_module_version": "1.5.0",
      "model_name": "VBoxModel",
      "state": {
       "_dom_classes": [
        "widget-interact"
       ],
       "children": [
        "IPY_MODEL_e9e0562b295c4ff99b729c9ab00e167e",
        "IPY_MODEL_a53c4470484c44f0b43c5ec63c444762"
       ],
       "layout": "IPY_MODEL_62700f27156546a8a65f3f24968d24a8"
      }
     },
     "8120672137544a5c8eb715f517043119": {
      "model_module": "@jupyter-widgets/base",
      "model_module_version": "1.2.0",
      "model_name": "LayoutModel",
      "state": {}
     },
     "8452502cae3c469991db11f1a996a7be": {
      "model_module": "@jupyter-widgets/controls",
      "model_module_version": "1.5.0",
      "model_name": "DropdownModel",
      "state": {
       "_options_labels": [
        "abiertos",
        "abordemos",
        "acumulada",
        "adolescentes",
        "adopción",
        "adriana",
        "advertencia",
        "aeronave",
        "aeropuerto",
        "afrocolombianas",
        "afuera",
        "agenda",
        "agroindustriales",
        "agrosavia",
        "agua",
        "aguilar",
        "alcaldes",
        "alegría",
        "algún",
        "alias",
        "alirio",
        "alivios",
        "almacenamiento",
        "almagro",
        "ambiental",
        "andicom",
        "andinos",
        "andrés",
        "anillo",
        "aníbal",
        "aquiles",
        "aquí",
        "arauca",
        "arterias",
        "artificial",
        "asocapitales",
        "asociativo",
        "asume",
        "ataques",
        "atehortúa",
        "atendido",
        "aulas",
        "autogeneración",
        "autoridad",
        "aves",
        "ayuda",
        "aérea",
        "aéreas",
        "año",
        "años",
        "banquete",
        "billones",
        "binacional",
        "bloqueos",
        "campesinos",
        "capaces",
        "capacidad",
        "capitales",
        "captura",
        "capítulo",
        "carmen",
        "carrera",
        "carteles",
        "cartera",
        "chicles",
        "chile",
        "china",
        "ciudades",
        "clan",
        "clase",
        "colegiales",
        "colegios",
        "coletazo",
        "compromiso",
        "comunal",
        "comunales",
        "comunidad",
        "comunidades",
        "conat",
        "concejal",
        "conductas",
        "conectividad",
        "conectándonos",
        "conservador",
        "constitucional",
        "convencionales",
        "conversación",
        "conversar",
        "corazones",
        "corea",
        "corinto",
        "cortes",
        "cosas",
        "costa",
        "crimen",
        "criminal",
        "crímenes",
        "cuales",
        "cuenca",
        "cuerpo",
        "cultural",
        "deberes",
        "defensoría",
        "deportistas",
        "deportiva",
        "depuración",
        "desigualdades",
        "despliegue",
        "dian",
        "diferencias",
        "digital",
        "doctora",
        "domiciliarios",
        "dos",
        "día",
        "elecciones",
        "electoral",
        "electrónico",
        "elsa",
        "emisiones",
        "emisión",
        "empleado",
        "empresa",
        "empresarial",
        "energía",
        "energías",
        "equipares",
        "equipo",
        "equivalen",
        "escolar",
        "escombros",
        "escucharnos",
        "esencialmente",
        "eventual",
        "evitemos",
        "exportaciones",
        "exportación",
        "exterior",
        "fallecidas",
        "familia",
        "familiares",
        "familias",
        "farc",
        "federaciones",
        "fedesarrollo",
        "fenalco",
        "festival",
        "finanzas",
        "fintec",
        "firmamos",
        "fiscal",
        "fuerzas",
        "funcional",
        "funciones",
        "fundación",
        "furia",
        "fábrica",
        "félix",
        "férreas",
        "galindo",
        "ganaderos",
        "garantizar",
        "gases",
        "general",
        "gobernadores",
        "gobierno",
        "golfo",
        "guardaparques",
        "guaviare",
        "guillermo",
        "habilidades",
        "habilitar",
        "habitantes",
        "hablando",
        "habló",
        "herramientas",
        "herreros",
        "homicidios",
        "honorables",
        "hu",
        "humanos",
        "humboldt",
        "huracán",
        "indicadores",
        "indignación",
        "industria",
        "industrias",
        "infinita",
        "iniciar",
        "inspiratic",
        "instituciones",
        "institución",
        "integración",
        "integral",
        "interior",
        "invernadero",
        "invernal",
        "inversionistas",
        "inversión",
        "invitados",
        "islas",
        "iva",
        "jaime",
        "jóvenes",
        "karen",
        "kilómetros",
        "laboral",
        "labores",
        "lan",
        "lavador",
        "leary",
        "leve",
        "limpia",
        "local",
        "mangles",
        "mantenerse",
        "mayores",
        "maíz",
        "medellín",
        "medios",
        "megas",
        "mejora",
        "mendoza",
        "mensaje",
        "mes",
        "mesa",
        "meta",
        "migrantes",
        "migratoria",
        "mil",
        "militares",
        "millones",
        "millón",
        "minas",
        "minerales",
        "minero",
        "mineros",
        "minería",
        "ministra",
        "miércoles",
        "moda",
        "muestras",
        "mujer",
        "mujeres",
        "multilateral",
        "multilateralismo",
        "multinacional",
        "municipios",
        "nacional",
        "nacionales",
        "naciones",
        "naranja",
        "narcotalia",
        "narcoterrorismo",
        "naturaleza",
        "navidad",
        "negociaciones",
        "negras",
        "nemesio",
        "ningún",
        "niños",
        "nocturnas",
        "normas",
        "normativa",
        "notariado",
        "nubank",
        "nuevo",
        "nunca",
        "obligatoriedad",
        "obras",
        "ocaña",
        "ocde",
        "oferta",
        "oficiales",
        "oleonorte",
        "ollas",
        "omega",
        "operacional",
        "orden",
        "orión",
        "palenqueras",
        "palma",
        "palmicultores",
        "pamplona",
        "parques",
        "participación",
        "partido",
        "países",
        "pdet",
        "penales",
        "pensamiento",
        "pensamos",
        "planeta",
        "plantean",
        "policial",
        "posterior",
        "precipitaciones",
        "presentado",
        "presidente",
        "presidentes",
        "presupuesto",
        "privado",
        "productores",
        "profesores",
        "programa",
        "programadores",
        "programas",
        "provocaciones",
        "proyecto",
        "proyectos",
        "prudencia",
        "pruebas",
        "pueden",
        "raizales",
        "rama",
        "regiones",
        "registra",
        "registrada",
        "renovables",
        "reparación",
        "reporte",
        "rescatistas",
        "resiliencia",
        "responsable",
        "responsables",
        "respuesta",
        "restablece",
        "retos",
        "revisando",
        "revolucionarios",
        "revolución",
        "ricardo",
        "rural",
        "rutas",
        "rápida",
        "régimen",
        "río",
        "sabemos",
        "sabios",
        "sacamos",
        "sagasti",
        "salarial",
        "san",
        "sanciones",
        "sandra",
        "saneamiento",
        "santandereanos",
        "santiago",
        "seguirá",
        "seguros",
        "selección",
        "sello",
        "semanas",
        "semestre",
        "sena",
        "señores",
        "si",
        "sillas",
        "sinchi",
        "sindicado",
        "sobrevuelo",
        "social",
        "soluciones",
        "sospecha",
        "sostenible",
        "subsidios",
        "subteniente",
        "sucre",
        "temas",
        "temporal",
        "tensión",
        "terminal",
        "tic",
        "tolima",
        "toneladas",
        "tono",
        "total",
        "trabajadores",
        "trabajaremos",
        "trabajo",
        "transformación",
        "transicional",
        "transnacionales",
        "transparencia",
        "tratemos",
        "ubicamos",
        "unida",
        "unidos",
        "unificado",
        "uniforme",
        "urabá",
        "urbanos",
        "usted",
        "ustedes",
        "vacuna",
        "vacunas",
        "valle",
        "valledupar",
        "veteranos",
        "vial",
        "viernes",
        "vigilancia",
        "violencia",
        "vive",
        "viviendas",
        "viéramos",
        "votante",
        "vulnerables",
        "vías",
        "víctimas",
        "wilson",
        "yopal"
       ],
       "description": "Evolución de la palabra clave:",
       "index": 0,
       "layout": "IPY_MODEL_c78ceb3c457242ea9f7c800d1d664a3a",
       "style": "IPY_MODEL_983a76db12504b79b86f5d877bba5958"
      }
     },
     "84b38e36f4e147a3adcee0e61b4677c0": {
      "model_module": "@jupyter-widgets/controls",
      "model_module_version": "1.5.0",
      "model_name": "DescriptionStyleModel",
      "state": {
       "description_width": ""
      }
     },
     "881cea0e348149698c86a9d4c5f278c8": {
      "model_module": "@jupyter-widgets/base",
      "model_module_version": "1.2.0",
      "model_name": "LayoutModel",
      "state": {}
     },
     "88254c937fb44acdbe32a8bf48d3ff01": {
      "model_module": "@jupyter-widgets/base",
      "model_module_version": "1.2.0",
      "model_name": "LayoutModel",
      "state": {}
     },
     "8945ba9452684a74a365066935f22753": {
      "model_module": "@jupyter-widgets/controls",
      "model_module_version": "1.5.0",
      "model_name": "HBoxModel",
      "state": {
       "children": [
        "IPY_MODEL_16a3ba0cea6b4b639e49e8b96e03c770",
        "IPY_MODEL_e4a6fb5227cf466fb737548c2e49a6b9"
       ],
       "layout": "IPY_MODEL_72b17bb02a54445da11a50b141af7184"
      }
     },
     "8c50b3122ee943bab47507176eada65a": {
      "model_module": "@jupyter-widgets/base",
      "model_module_version": "1.2.0",
      "model_name": "LayoutModel",
      "state": {}
     },
     "8cb50bb367684ba08b4e16d3f3b109e7": {
      "model_module": "@jupyter-widgets/controls",
      "model_module_version": "1.5.0",
      "model_name": "SliderStyleModel",
      "state": {
       "description_width": ""
      }
     },
     "8f43e13ad2f84e7f916977a24d60ce4f": {
      "model_module": "@jupyter-widgets/base",
      "model_module_version": "1.2.0",
      "model_name": "LayoutModel",
      "state": {}
     },
     "908eedbe5e7e4c808f3c90f0bca30a19": {
      "model_module": "@jupyter-widgets/controls",
      "model_module_version": "1.5.0",
      "model_name": "DropdownModel",
      "state": {
       "_options_labels": [
        "abiertos",
        "abordemos",
        "acumulada",
        "adolescentes",
        "adopción",
        "adriana",
        "advertencia",
        "aeronave",
        "aeropuerto",
        "afrocolombianas",
        "afuera",
        "agenda",
        "agroindustriales",
        "agrosavia",
        "agua",
        "aguilar",
        "alcaldes",
        "alegría",
        "algún",
        "alias",
        "alirio",
        "alivios",
        "almacenamiento",
        "almagro",
        "ambiental",
        "andicom",
        "andinos",
        "andrés",
        "anillo",
        "aníbal",
        "aquiles",
        "aquí",
        "arauca",
        "arterias",
        "artificial",
        "asocapitales",
        "asociativo",
        "asume",
        "ataques",
        "atehortúa",
        "atendido",
        "aulas",
        "autogeneración",
        "autoridad",
        "aves",
        "ayuda",
        "aérea",
        "aéreas",
        "año",
        "años",
        "banquete",
        "billones",
        "binacional",
        "bloqueos",
        "campesinos",
        "capaces",
        "capacidad",
        "capitales",
        "captura",
        "capítulo",
        "carmen",
        "carrera",
        "carteles",
        "cartera",
        "chicles",
        "chile",
        "china",
        "ciudades",
        "clan",
        "clase",
        "colegiales",
        "colegios",
        "coletazo",
        "compromiso",
        "comunal",
        "comunales",
        "comunidad",
        "comunidades",
        "conat",
        "concejal",
        "conductas",
        "conectividad",
        "conectándonos",
        "conservador",
        "constitucional",
        "convencionales",
        "conversación",
        "conversar",
        "corazones",
        "corea",
        "corinto",
        "cortes",
        "cosas",
        "costa",
        "crimen",
        "criminal",
        "crímenes",
        "cuales",
        "cuenca",
        "cuerpo",
        "cultural",
        "deberes",
        "defensoría",
        "deportistas",
        "deportiva",
        "depuración",
        "desigualdades",
        "despliegue",
        "dian",
        "diferencias",
        "digital",
        "doctora",
        "domiciliarios",
        "dos",
        "día",
        "elecciones",
        "electoral",
        "electrónico",
        "elsa",
        "emisiones",
        "emisión",
        "empleado",
        "empresa",
        "empresarial",
        "energía",
        "energías",
        "equipares",
        "equipo",
        "equivalen",
        "escolar",
        "escombros",
        "escucharnos",
        "esencialmente",
        "eventual",
        "evitemos",
        "exportaciones",
        "exportación",
        "exterior",
        "fallecidas",
        "familia",
        "familiares",
        "familias",
        "farc",
        "federaciones",
        "fedesarrollo",
        "fenalco",
        "festival",
        "finanzas",
        "fintec",
        "firmamos",
        "fiscal",
        "fuerzas",
        "funcional",
        "funciones",
        "fundación",
        "furia",
        "fábrica",
        "félix",
        "férreas",
        "galindo",
        "ganaderos",
        "garantizar",
        "gases",
        "general",
        "gobernadores",
        "gobierno",
        "golfo",
        "guardaparques",
        "guaviare",
        "guillermo",
        "habilidades",
        "habilitar",
        "habitantes",
        "hablando",
        "habló",
        "herramientas",
        "herreros",
        "homicidios",
        "honorables",
        "hu",
        "humanos",
        "humboldt",
        "huracán",
        "indicadores",
        "indignación",
        "industria",
        "industrias",
        "infinita",
        "iniciar",
        "inspiratic",
        "instituciones",
        "institución",
        "integración",
        "integral",
        "interior",
        "invernadero",
        "invernal",
        "inversionistas",
        "inversión",
        "invitados",
        "islas",
        "iva",
        "jaime",
        "jóvenes",
        "karen",
        "kilómetros",
        "laboral",
        "labores",
        "lan",
        "lavador",
        "leary",
        "leve",
        "limpia",
        "local",
        "mangles",
        "mantenerse",
        "mayores",
        "maíz",
        "medellín",
        "medios",
        "megas",
        "mejora",
        "mendoza",
        "mensaje",
        "mes",
        "mesa",
        "meta",
        "migrantes",
        "migratoria",
        "mil",
        "militares",
        "millones",
        "millón",
        "minas",
        "minerales",
        "minero",
        "mineros",
        "minería",
        "ministra",
        "miércoles",
        "moda",
        "muestras",
        "mujer",
        "mujeres",
        "multilateral",
        "multilateralismo",
        "multinacional",
        "municipios",
        "nacional",
        "nacionales",
        "naciones",
        "naranja",
        "narcotalia",
        "narcoterrorismo",
        "naturaleza",
        "navidad",
        "negociaciones",
        "negras",
        "nemesio",
        "ningún",
        "niños",
        "nocturnas",
        "normas",
        "normativa",
        "notariado",
        "nubank",
        "nuevo",
        "nunca",
        "obligatoriedad",
        "obras",
        "ocaña",
        "ocde",
        "oferta",
        "oficiales",
        "oleonorte",
        "ollas",
        "omega",
        "operacional",
        "orden",
        "orión",
        "palenqueras",
        "palma",
        "palmicultores",
        "pamplona",
        "parques",
        "participación",
        "partido",
        "países",
        "pdet",
        "penales",
        "pensamiento",
        "pensamos",
        "planeta",
        "plantean",
        "policial",
        "posterior",
        "precipitaciones",
        "presentado",
        "presidente",
        "presidentes",
        "presupuesto",
        "privado",
        "productores",
        "profesores",
        "programa",
        "programadores",
        "programas",
        "provocaciones",
        "proyecto",
        "proyectos",
        "prudencia",
        "pruebas",
        "pueden",
        "raizales",
        "rama",
        "regiones",
        "registra",
        "registrada",
        "renovables",
        "reparación",
        "reporte",
        "rescatistas",
        "resiliencia",
        "responsable",
        "responsables",
        "respuesta",
        "restablece",
        "retos",
        "revisando",
        "revolucionarios",
        "revolución",
        "ricardo",
        "rural",
        "rutas",
        "rápida",
        "régimen",
        "río",
        "sabemos",
        "sabios",
        "sacamos",
        "sagasti",
        "salarial",
        "san",
        "sanciones",
        "sandra",
        "saneamiento",
        "santandereanos",
        "santiago",
        "seguirá",
        "seguros",
        "selección",
        "sello",
        "semanas",
        "semestre",
        "sena",
        "señores",
        "si",
        "sillas",
        "sinchi",
        "sindicado",
        "sobrevuelo",
        "social",
        "soluciones",
        "sospecha",
        "sostenible",
        "subsidios",
        "subteniente",
        "sucre",
        "temas",
        "temporal",
        "tensión",
        "terminal",
        "tic",
        "tolima",
        "toneladas",
        "tono",
        "total",
        "trabajadores",
        "trabajaremos",
        "trabajo",
        "transformación",
        "transicional",
        "transnacionales",
        "transparencia",
        "tratemos",
        "ubicamos",
        "unida",
        "unidos",
        "unificado",
        "uniforme",
        "urabá",
        "urbanos",
        "usted",
        "ustedes",
        "vacuna",
        "vacunas",
        "valle",
        "valledupar",
        "veteranos",
        "vial",
        "viernes",
        "vigilancia",
        "violencia",
        "vive",
        "viviendas",
        "viéramos",
        "votante",
        "vulnerables",
        "vías",
        "víctimas",
        "wilson",
        "yopal"
       ],
       "description": "Evolución de la palabra clave:",
       "index": 0,
       "layout": "IPY_MODEL_90cce34867d144d28edb8eea4c75e636",
       "style": "IPY_MODEL_e7fdce3b0caa47a4909af6fc546f7365"
      }
     },
     "90cce34867d144d28edb8eea4c75e636": {
      "model_module": "@jupyter-widgets/base",
      "model_module_version": "1.2.0",
      "model_name": "LayoutModel",
      "state": {}
     },
     "9286d5674a814e729216f33c67bc46bd": {
      "model_module": "plotlywidget",
      "model_module_version": "^4.14.3",
      "model_name": "FigureModel",
      "state": {
       "_config": {
        "plotlyServerURL": "https://plot.ly"
       },
       "_data": [
        {
         "hovertemplate": "x=%{x}<br>y=%{y}<extra></extra>",
         "legendgroup": "",
         "line": {
          "color": "#636efa",
          "dash": "solid",
          "shape": "spline"
         },
         "mode": "lines",
         "name": "alias",
         "orientation": "v",
         "showlegend": false,
         "type": "scatter",
         "uid": "e99a118c-3224-471d-9da9-60ddb1322684",
         "x": [
          "2020-08-14",
          "2020-08-17",
          "2020-08-18",
          "2020-08-19",
          "2020-08-20",
          "2020-08-21",
          "2020-08-22",
          "2020-08-23",
          "2020-08-24",
          "2020-08-25",
          "2020-08-26",
          "2020-08-27",
          "2020-08-28",
          "2020-08-29",
          "2020-08-30",
          "2020-08-31",
          "2020-09-01",
          "2020-09-02",
          "2020-09-03",
          "2020-09-04",
          "2020-09-07",
          "2020-09-08",
          "2020-09-09",
          "2020-09-10",
          "2020-09-11",
          "2020-09-12",
          "2020-09-15",
          "2020-09-16",
          "2020-09-17",
          "2020-09-18",
          "2020-09-19",
          "2020-09-21",
          "2020-09-22",
          "2020-09-23",
          "2020-09-24",
          "2020-09-25",
          "2020-09-26",
          "2020-09-27",
          "2020-09-28",
          "2020-09-29",
          "2020-09-30",
          "2020-10-01",
          "2020-10-02",
          "2020-10-03",
          "2020-10-05",
          "2020-10-06",
          "2020-10-07",
          "2020-10-08",
          "2020-10-09",
          "2020-10-10",
          "2020-10-13",
          "2020-10-14",
          "2020-10-15",
          "2020-10-16",
          "2020-10-17",
          "2020-10-19",
          "2020-10-20",
          "2020-10-21",
          "2020-10-22",
          "2020-10-23",
          "2020-10-24",
          "2020-10-25",
          "2020-10-26",
          "2020-10-27",
          "2020-10-28",
          "2020-11-06",
          "2020-11-07",
          "2020-11-08",
          "2020-11-09",
          "2020-11-10",
          "2020-11-11",
          "2020-11-12",
          "2020-11-13",
          "2020-11-14",
          "2020-11-15",
          "2020-11-16",
          "2020-11-17",
          "2020-11-18",
          "2020-11-19",
          "2020-11-20",
          "2020-11-21",
          "2020-11-23",
          "2020-11-24",
          "2020-11-25",
          "2020-11-26",
          "2020-11-27",
          "2020-11-28",
          "2020-11-29",
          "2020-11-30",
          "2020-12-01",
          "2020-12-02",
          "2020-12-03",
          "2020-12-04",
          "2020-12-05",
          "2020-12-07",
          "2020-12-09",
          "2020-12-10",
          "2020-12-11",
          "2020-12-12",
          "2020-12-13",
          "2020-12-17",
          "2020-12-18",
          "2020-12-19",
          "2020-12-24",
          "2020-12-28",
          "2020-12-29",
          "2020-12-30",
          "2020-12-31",
          "2021-01-04",
          "2021-01-05",
          "2021-01-06",
          "2021-01-07",
          "2021-01-08",
          "2021-01-10",
          "2021-01-12",
          "2021-01-13",
          "2021-01-14",
          "2021-01-15",
          "2021-01-17",
          "2021-01-18",
          "2021-01-20",
          "2021-01-21",
          "2021-01-22",
          "2021-02-05",
          "2021-02-06",
          "2021-02-09",
          "2021-02-10",
          "2021-02-11",
          "2021-02-12",
          "2021-02-14",
          "2021-02-15",
          "2021-02-16",
          "2021-02-17",
          "2021-02-18",
          "2021-02-19",
          "2021-02-20",
          "2021-02-22",
          "2021-02-23",
          "2021-02-24",
          "2021-02-25",
          "2021-02-26",
          "2021-02-27",
          "2021-03-01",
          "2021-03-02",
          "2021-03-03",
          "2021-03-04",
          "2021-03-05",
          "2021-03-08",
          "2021-03-09",
          "2021-03-11",
          "2021-03-15",
          "2021-03-16",
          "2021-03-17",
          "2021-03-25",
          "2021-03-26",
          "2021-03-27",
          "2021-03-29",
          "2021-04-04",
          "2021-04-05",
          "2021-04-06",
          "2021-04-07",
          "2021-04-08",
          "2021-04-09",
          "2021-04-10",
          "2021-04-12",
          "2021-04-21",
          "2021-04-22",
          "2021-04-23",
          "2021-04-26",
          "2021-04-27",
          "2021-04-28",
          "2021-04-30",
          "2021-05-01",
          "2021-05-02",
          "2021-05-03",
          "2021-05-04",
          "2021-05-05",
          "2021-05-07",
          "2021-05-08",
          "2021-05-09",
          "2021-05-10",
          "2021-05-11",
          "2021-05-12",
          "2021-05-13",
          "2021-05-14",
          "2021-05-17",
          "2021-05-18",
          "2021-05-19",
          "2021-05-21",
          "2021-05-25",
          "2021-05-26",
          "2021-05-27",
          "2021-05-28",
          "2021-05-31",
          "2021-06-01",
          "2021-06-03",
          "2021-06-04",
          "2021-06-05",
          "2021-06-06"
         ],
         "xaxis": "x",
         "y": [
          0,
          0,
          0,
          0,
          0,
          0,
          0,
          0,
          0,
          0,
          0,
          0,
          0,
          0,
          0,
          0,
          3,
          0,
          4,
          0,
          3,
          0,
          0,
          0,
          0,
          0,
          0,
          0,
          3,
          0,
          0,
          0,
          0,
          0,
          0,
          0,
          0,
          0,
          1,
          0,
          0,
          0,
          0,
          0,
          0,
          0,
          0,
          0,
          0,
          0,
          0,
          0,
          0,
          0,
          0,
          0,
          5,
          0,
          3,
          0,
          0,
          4,
          6,
          0,
          0,
          0,
          0,
          0,
          0,
          0,
          0,
          0,
          4,
          0,
          0,
          0,
          0,
          0,
          0,
          3,
          0,
          0,
          2,
          0,
          0,
          3,
          0,
          3,
          0,
          0,
          0,
          0,
          0,
          0,
          0,
          0,
          2,
          0,
          0,
          0,
          0,
          3,
          0,
          0,
          0,
          0,
          0,
          0,
          3,
          0,
          0,
          0,
          0,
          3,
          0,
          0,
          1,
          5,
          1,
          0,
          0,
          0,
          3,
          0,
          0,
          0,
          0,
          0,
          0,
          0,
          0,
          0,
          0,
          0,
          0,
          0,
          0,
          0,
          0,
          0,
          1,
          6,
          0,
          0,
          0,
          0,
          2,
          0,
          0,
          0,
          0,
          0,
          0,
          0,
          0,
          0,
          0,
          0,
          0,
          0,
          0,
          0,
          0,
          0,
          0,
          0,
          0,
          0,
          0,
          0,
          0,
          0,
          0,
          0,
          0,
          0,
          2,
          0,
          0,
          0,
          0,
          0,
          0,
          0,
          0,
          0,
          0,
          0,
          0,
          0,
          0,
          0,
          0,
          0,
          2,
          0,
          0,
          0,
          0
         ],
         "yaxis": "y"
        }
       ],
       "_js2py_restyle": {},
       "_js2py_update": {},
       "_last_layout_edit_id": 11,
       "_last_trace_edit_id": 8,
       "_layout": {
        "autosize": true,
        "legend": {
         "tracegroupgap": 0
        },
        "margin": {
         "t": 60
        },
        "template": {
         "data": {
          "bar": [
           {
            "error_x": {
             "color": "#2a3f5f"
            },
            "error_y": {
             "color": "#2a3f5f"
            },
            "marker": {
             "line": {
              "color": "#E5ECF6",
              "width": 0.5
             }
            },
            "type": "bar"
           }
          ],
          "barpolar": [
           {
            "marker": {
             "line": {
              "color": "#E5ECF6",
              "width": 0.5
             }
            },
            "type": "barpolar"
           }
          ],
          "carpet": [
           {
            "aaxis": {
             "endlinecolor": "#2a3f5f",
             "gridcolor": "white",
             "linecolor": "white",
             "minorgridcolor": "white",
             "startlinecolor": "#2a3f5f"
            },
            "baxis": {
             "endlinecolor": "#2a3f5f",
             "gridcolor": "white",
             "linecolor": "white",
             "minorgridcolor": "white",
             "startlinecolor": "#2a3f5f"
            },
            "type": "carpet"
           }
          ],
          "choropleth": [
           {
            "colorbar": {
             "outlinewidth": 0,
             "ticks": ""
            },
            "type": "choropleth"
           }
          ],
          "contour": [
           {
            "colorbar": {
             "outlinewidth": 0,
             "ticks": ""
            },
            "colorscale": [
             [
              0,
              "#0d0887"
             ],
             [
              0.1111111111111111,
              "#46039f"
             ],
             [
              0.2222222222222222,
              "#7201a8"
             ],
             [
              0.3333333333333333,
              "#9c179e"
             ],
             [
              0.4444444444444444,
              "#bd3786"
             ],
             [
              0.5555555555555556,
              "#d8576b"
             ],
             [
              0.6666666666666666,
              "#ed7953"
             ],
             [
              0.7777777777777778,
              "#fb9f3a"
             ],
             [
              0.8888888888888888,
              "#fdca26"
             ],
             [
              1,
              "#f0f921"
             ]
            ],
            "type": "contour"
           }
          ],
          "contourcarpet": [
           {
            "colorbar": {
             "outlinewidth": 0,
             "ticks": ""
            },
            "type": "contourcarpet"
           }
          ],
          "heatmap": [
           {
            "colorbar": {
             "outlinewidth": 0,
             "ticks": ""
            },
            "colorscale": [
             [
              0,
              "#0d0887"
             ],
             [
              0.1111111111111111,
              "#46039f"
             ],
             [
              0.2222222222222222,
              "#7201a8"
             ],
             [
              0.3333333333333333,
              "#9c179e"
             ],
             [
              0.4444444444444444,
              "#bd3786"
             ],
             [
              0.5555555555555556,
              "#d8576b"
             ],
             [
              0.6666666666666666,
              "#ed7953"
             ],
             [
              0.7777777777777778,
              "#fb9f3a"
             ],
             [
              0.8888888888888888,
              "#fdca26"
             ],
             [
              1,
              "#f0f921"
             ]
            ],
            "type": "heatmap"
           }
          ],
          "heatmapgl": [
           {
            "colorbar": {
             "outlinewidth": 0,
             "ticks": ""
            },
            "colorscale": [
             [
              0,
              "#0d0887"
             ],
             [
              0.1111111111111111,
              "#46039f"
             ],
             [
              0.2222222222222222,
              "#7201a8"
             ],
             [
              0.3333333333333333,
              "#9c179e"
             ],
             [
              0.4444444444444444,
              "#bd3786"
             ],
             [
              0.5555555555555556,
              "#d8576b"
             ],
             [
              0.6666666666666666,
              "#ed7953"
             ],
             [
              0.7777777777777778,
              "#fb9f3a"
             ],
             [
              0.8888888888888888,
              "#fdca26"
             ],
             [
              1,
              "#f0f921"
             ]
            ],
            "type": "heatmapgl"
           }
          ],
          "histogram": [
           {
            "marker": {
             "colorbar": {
              "outlinewidth": 0,
              "ticks": ""
             }
            },
            "type": "histogram"
           }
          ],
          "histogram2d": [
           {
            "colorbar": {
             "outlinewidth": 0,
             "ticks": ""
            },
            "colorscale": [
             [
              0,
              "#0d0887"
             ],
             [
              0.1111111111111111,
              "#46039f"
             ],
             [
              0.2222222222222222,
              "#7201a8"
             ],
             [
              0.3333333333333333,
              "#9c179e"
             ],
             [
              0.4444444444444444,
              "#bd3786"
             ],
             [
              0.5555555555555556,
              "#d8576b"
             ],
             [
              0.6666666666666666,
              "#ed7953"
             ],
             [
              0.7777777777777778,
              "#fb9f3a"
             ],
             [
              0.8888888888888888,
              "#fdca26"
             ],
             [
              1,
              "#f0f921"
             ]
            ],
            "type": "histogram2d"
           }
          ],
          "histogram2dcontour": [
           {
            "colorbar": {
             "outlinewidth": 0,
             "ticks": ""
            },
            "colorscale": [
             [
              0,
              "#0d0887"
             ],
             [
              0.1111111111111111,
              "#46039f"
             ],
             [
              0.2222222222222222,
              "#7201a8"
             ],
             [
              0.3333333333333333,
              "#9c179e"
             ],
             [
              0.4444444444444444,
              "#bd3786"
             ],
             [
              0.5555555555555556,
              "#d8576b"
             ],
             [
              0.6666666666666666,
              "#ed7953"
             ],
             [
              0.7777777777777778,
              "#fb9f3a"
             ],
             [
              0.8888888888888888,
              "#fdca26"
             ],
             [
              1,
              "#f0f921"
             ]
            ],
            "type": "histogram2dcontour"
           }
          ],
          "mesh3d": [
           {
            "colorbar": {
             "outlinewidth": 0,
             "ticks": ""
            },
            "type": "mesh3d"
           }
          ],
          "parcoords": [
           {
            "line": {
             "colorbar": {
              "outlinewidth": 0,
              "ticks": ""
             }
            },
            "type": "parcoords"
           }
          ],
          "pie": [
           {
            "automargin": true,
            "type": "pie"
           }
          ],
          "scatter": [
           {
            "marker": {
             "colorbar": {
              "outlinewidth": 0,
              "ticks": ""
             }
            },
            "type": "scatter"
           }
          ],
          "scatter3d": [
           {
            "line": {
             "colorbar": {
              "outlinewidth": 0,
              "ticks": ""
             }
            },
            "marker": {
             "colorbar": {
              "outlinewidth": 0,
              "ticks": ""
             }
            },
            "type": "scatter3d"
           }
          ],
          "scattercarpet": [
           {
            "marker": {
             "colorbar": {
              "outlinewidth": 0,
              "ticks": ""
             }
            },
            "type": "scattercarpet"
           }
          ],
          "scattergeo": [
           {
            "marker": {
             "colorbar": {
              "outlinewidth": 0,
              "ticks": ""
             }
            },
            "type": "scattergeo"
           }
          ],
          "scattergl": [
           {
            "marker": {
             "colorbar": {
              "outlinewidth": 0,
              "ticks": ""
             }
            },
            "type": "scattergl"
           }
          ],
          "scattermapbox": [
           {
            "marker": {
             "colorbar": {
              "outlinewidth": 0,
              "ticks": ""
             }
            },
            "type": "scattermapbox"
           }
          ],
          "scatterpolar": [
           {
            "marker": {
             "colorbar": {
              "outlinewidth": 0,
              "ticks": ""
             }
            },
            "type": "scatterpolar"
           }
          ],
          "scatterpolargl": [
           {
            "marker": {
             "colorbar": {
              "outlinewidth": 0,
              "ticks": ""
             }
            },
            "type": "scatterpolargl"
           }
          ],
          "scatterternary": [
           {
            "marker": {
             "colorbar": {
              "outlinewidth": 0,
              "ticks": ""
             }
            },
            "type": "scatterternary"
           }
          ],
          "surface": [
           {
            "colorbar": {
             "outlinewidth": 0,
             "ticks": ""
            },
            "colorscale": [
             [
              0,
              "#0d0887"
             ],
             [
              0.1111111111111111,
              "#46039f"
             ],
             [
              0.2222222222222222,
              "#7201a8"
             ],
             [
              0.3333333333333333,
              "#9c179e"
             ],
             [
              0.4444444444444444,
              "#bd3786"
             ],
             [
              0.5555555555555556,
              "#d8576b"
             ],
             [
              0.6666666666666666,
              "#ed7953"
             ],
             [
              0.7777777777777778,
              "#fb9f3a"
             ],
             [
              0.8888888888888888,
              "#fdca26"
             ],
             [
              1,
              "#f0f921"
             ]
            ],
            "type": "surface"
           }
          ],
          "table": [
           {
            "cells": {
             "fill": {
              "color": "#EBF0F8"
             },
             "line": {
              "color": "white"
             }
            },
            "header": {
             "fill": {
              "color": "#C8D4E3"
             },
             "line": {
              "color": "white"
             }
            },
            "type": "table"
           }
          ]
         },
         "layout": {
          "annotationdefaults": {
           "arrowcolor": "#2a3f5f",
           "arrowhead": 0,
           "arrowwidth": 1
          },
          "autotypenumbers": "strict",
          "coloraxis": {
           "colorbar": {
            "outlinewidth": 0,
            "ticks": ""
           }
          },
          "colorscale": {
           "diverging": [
            [
             0,
             "#8e0152"
            ],
            [
             0.1,
             "#c51b7d"
            ],
            [
             0.2,
             "#de77ae"
            ],
            [
             0.3,
             "#f1b6da"
            ],
            [
             0.4,
             "#fde0ef"
            ],
            [
             0.5,
             "#f7f7f7"
            ],
            [
             0.6,
             "#e6f5d0"
            ],
            [
             0.7,
             "#b8e186"
            ],
            [
             0.8,
             "#7fbc41"
            ],
            [
             0.9,
             "#4d9221"
            ],
            [
             1,
             "#276419"
            ]
           ],
           "sequential": [
            [
             0,
             "#0d0887"
            ],
            [
             0.1111111111111111,
             "#46039f"
            ],
            [
             0.2222222222222222,
             "#7201a8"
            ],
            [
             0.3333333333333333,
             "#9c179e"
            ],
            [
             0.4444444444444444,
             "#bd3786"
            ],
            [
             0.5555555555555556,
             "#d8576b"
            ],
            [
             0.6666666666666666,
             "#ed7953"
            ],
            [
             0.7777777777777778,
             "#fb9f3a"
            ],
            [
             0.8888888888888888,
             "#fdca26"
            ],
            [
             1,
             "#f0f921"
            ]
           ],
           "sequentialminus": [
            [
             0,
             "#0d0887"
            ],
            [
             0.1111111111111111,
             "#46039f"
            ],
            [
             0.2222222222222222,
             "#7201a8"
            ],
            [
             0.3333333333333333,
             "#9c179e"
            ],
            [
             0.4444444444444444,
             "#bd3786"
            ],
            [
             0.5555555555555556,
             "#d8576b"
            ],
            [
             0.6666666666666666,
             "#ed7953"
            ],
            [
             0.7777777777777778,
             "#fb9f3a"
            ],
            [
             0.8888888888888888,
             "#fdca26"
            ],
            [
             1,
             "#f0f921"
            ]
           ]
          },
          "colorway": [
           "#636efa",
           "#EF553B",
           "#00cc96",
           "#ab63fa",
           "#FFA15A",
           "#19d3f3",
           "#FF6692",
           "#B6E880",
           "#FF97FF",
           "#FECB52"
          ],
          "font": {
           "color": "#2a3f5f"
          },
          "geo": {
           "bgcolor": "white",
           "lakecolor": "white",
           "landcolor": "#E5ECF6",
           "showlakes": true,
           "showland": true,
           "subunitcolor": "white"
          },
          "hoverlabel": {
           "align": "left"
          },
          "hovermode": "closest",
          "mapbox": {
           "style": "light"
          },
          "paper_bgcolor": "white",
          "plot_bgcolor": "#E5ECF6",
          "polar": {
           "angularaxis": {
            "gridcolor": "white",
            "linecolor": "white",
            "ticks": ""
           },
           "bgcolor": "#E5ECF6",
           "radialaxis": {
            "gridcolor": "white",
            "linecolor": "white",
            "ticks": ""
           }
          },
          "scene": {
           "xaxis": {
            "backgroundcolor": "#E5ECF6",
            "gridcolor": "white",
            "gridwidth": 2,
            "linecolor": "white",
            "showbackground": true,
            "ticks": "",
            "zerolinecolor": "white"
           },
           "yaxis": {
            "backgroundcolor": "#E5ECF6",
            "gridcolor": "white",
            "gridwidth": 2,
            "linecolor": "white",
            "showbackground": true,
            "ticks": "",
            "zerolinecolor": "white"
           },
           "zaxis": {
            "backgroundcolor": "#E5ECF6",
            "gridcolor": "white",
            "gridwidth": 2,
            "linecolor": "white",
            "showbackground": true,
            "ticks": "",
            "zerolinecolor": "white"
           }
          },
          "shapedefaults": {
           "line": {
            "color": "#2a3f5f"
           }
          },
          "ternary": {
           "aaxis": {
            "gridcolor": "white",
            "linecolor": "white",
            "ticks": ""
           },
           "baxis": {
            "gridcolor": "white",
            "linecolor": "white",
            "ticks": ""
           },
           "bgcolor": "#E5ECF6",
           "caxis": {
            "gridcolor": "white",
            "linecolor": "white",
            "ticks": ""
           }
          },
          "title": {
           "x": 0.05
          },
          "xaxis": {
           "automargin": true,
           "gridcolor": "white",
           "linecolor": "white",
           "ticks": "",
           "title": {
            "standoff": 15
           },
           "zerolinecolor": "white",
           "zerolinewidth": 2
          },
          "yaxis": {
           "automargin": true,
           "gridcolor": "white",
           "linecolor": "white",
           "ticks": "",
           "title": {
            "standoff": 15
           },
           "zerolinecolor": "white",
           "zerolinewidth": 2
          }
         }
        },
        "xaxis": {
         "anchor": "y",
         "autorange": true,
         "domain": [
          0,
          1
         ],
         "title": {
          "text": "x"
         }
        },
        "yaxis": {
         "anchor": "x",
         "autorange": true,
         "domain": [
          0,
          1
         ],
         "title": {
          "text": "y"
         }
        }
       },
       "_py2js_addTraces": {},
       "_py2js_animate": {},
       "_py2js_deleteTraces": {},
       "_py2js_moveTraces": {},
       "_py2js_removeTraceProps": {},
       "_py2js_restyle": {},
       "_view_count": 0
      }
     },
     "93243ecddac44466873d891018a5110d": {
      "model_module": "@jupyter-widgets/controls",
      "model_module_version": "1.5.0",
      "model_name": "VBoxModel",
      "state": {
       "_dom_classes": [
        "widget-interact"
       ],
       "children": [
        "IPY_MODEL_64e5465dcf3c47e38110010b3b6d4e7d",
        "IPY_MODEL_e7c2efb1a7014f84b9b2246267e376d2"
       ],
       "layout": "IPY_MODEL_881cea0e348149698c86a9d4c5f278c8"
      }
     },
     "95783df8408642ac92ca373c3c7ee523": {
      "model_module": "@jupyter-widgets/base",
      "model_module_version": "1.2.0",
      "model_name": "LayoutModel",
      "state": {}
     },
     "968ef2ecf2b4403bbd79d794e94ceac1": {
      "model_module": "@jupyter-widgets/controls",
      "model_module_version": "1.5.0",
      "model_name": "SliderStyleModel",
      "state": {
       "description_width": ""
      }
     },
     "983a76db12504b79b86f5d877bba5958": {
      "model_module": "@jupyter-widgets/controls",
      "model_module_version": "1.5.0",
      "model_name": "DescriptionStyleModel",
      "state": {
       "description_width": ""
      }
     },
     "98e23880beb444d1acb78294ccb923e9": {
      "model_module": "@jupyter-widgets/controls",
      "model_module_version": "1.5.0",
      "model_name": "HTMLModel",
      "state": {
       "layout": "IPY_MODEL_67bf8ddd742b4f938489e6d95302caef",
       "placeholder": "",
       "style": "IPY_MODEL_dd4ab3f58482473c925853c575e429eb",
       "value": "El tag de la palabra es <b> NNS</b>: Sustantivo, plural"
      }
     },
     "9a347ceafa0a4b23952ece9b4aff1c86": {
      "model_module": "@jupyter-widgets/base",
      "model_module_version": "1.2.0",
      "model_name": "LayoutModel",
      "state": {}
     },
     "a150d9ef92184557bdf59054b5f37c85": {
      "model_module": "@jupyter-widgets/output",
      "model_module_version": "1.0.0",
      "model_name": "OutputModel",
      "state": {
       "layout": "IPY_MODEL_8c50b3122ee943bab47507176eada65a",
       "outputs": [
        {
         "data": {
          "application/vnd.plotly.v1+json": {
           "config": {
            "plotlyServerURL": "https://plot.ly"
           },
           "data": [
            {
             "mode": "lines",
             "name": "sospecha",
             "type": "scatter",
             "x": [
              "2020-08-14",
              "2020-08-17",
              "2020-08-18",
              "2020-08-19",
              "2020-08-20",
              "2020-08-21",
              "2020-08-22",
              "2020-08-23",
              "2020-08-24",
              "2020-08-25",
              "2020-08-26",
              "2020-08-27",
              "2020-08-28",
              "2020-08-29",
              "2020-08-30",
              "2020-08-31",
              "2020-09-01",
              "2020-09-02",
              "2020-09-03",
              "2020-09-04",
              "2020-09-07",
              "2020-09-08",
              "2020-09-09",
              "2020-09-10",
              "2020-09-11",
              "2020-09-12",
              "2020-09-15",
              "2020-09-16",
              "2020-09-17",
              "2020-09-18",
              "2020-09-19",
              "2020-09-21",
              "2020-09-22",
              "2020-09-23",
              "2020-09-24",
              "2020-09-25",
              "2020-09-26",
              "2020-09-27",
              "2020-09-28",
              "2020-09-29",
              "2020-09-30",
              "2020-10-01",
              "2020-10-02",
              "2020-10-03",
              "2020-10-05",
              "2020-10-06",
              "2020-10-07",
              "2020-10-08",
              "2020-10-09",
              "2020-10-10",
              "2020-10-13",
              "2020-10-14",
              "2020-10-15",
              "2020-10-16",
              "2020-10-17",
              "2020-10-19",
              "2020-10-20",
              "2020-10-21",
              "2020-10-22",
              "2020-10-23",
              "2020-10-24",
              "2020-10-25",
              "2020-10-26",
              "2020-10-27",
              "2020-10-28",
              "2020-11-06",
              "2020-11-07",
              "2020-11-08",
              "2020-11-09",
              "2020-11-10",
              "2020-11-11",
              "2020-11-12",
              "2020-11-13",
              "2020-11-14",
              "2020-11-15",
              "2020-11-16",
              "2020-11-17",
              "2020-11-18",
              "2020-11-19",
              "2020-11-20",
              "2020-11-21",
              "2020-11-23",
              "2020-11-24",
              "2020-11-25",
              "2020-11-26",
              "2020-11-27",
              "2020-11-28",
              "2020-11-29",
              "2020-11-30",
              "2020-12-01",
              "2020-12-02",
              "2020-12-03",
              "2020-12-04",
              "2020-12-05",
              "2020-12-07",
              "2020-12-09",
              "2020-12-10",
              "2020-12-11",
              "2020-12-12",
              "2020-12-13",
              "2020-12-17",
              "2020-12-18",
              "2020-12-19",
              "2020-12-24",
              "2020-12-28",
              "2020-12-29",
              "2020-12-30",
              "2020-12-31",
              "2021-01-04",
              "2021-01-05",
              "2021-01-06",
              "2021-01-07",
              "2021-01-08",
              "2021-01-10",
              "2021-01-12",
              "2021-01-13",
              "2021-01-14",
              "2021-01-15",
              "2021-01-17",
              "2021-01-18",
              "2021-01-20",
              "2021-01-21",
              "2021-01-22",
              "2021-02-05",
              "2021-02-06",
              "2021-02-09",
              "2021-02-10",
              "2021-02-11",
              "2021-02-12",
              "2021-02-14",
              "2021-02-15",
              "2021-02-16",
              "2021-02-17",
              "2021-02-18",
              "2021-02-19",
              "2021-02-20",
              "2021-02-22",
              "2021-02-23",
              "2021-02-24",
              "2021-02-25",
              "2021-02-26",
              "2021-02-27",
              "2021-03-01",
              "2021-03-02",
              "2021-03-03",
              "2021-03-04",
              "2021-03-05",
              "2021-03-08",
              "2021-03-09",
              "2021-03-11",
              "2021-03-15",
              "2021-03-16",
              "2021-03-17",
              "2021-03-25",
              "2021-03-26",
              "2021-03-27",
              "2021-03-29",
              "2021-04-04",
              "2021-04-05",
              "2021-04-06",
              "2021-04-07",
              "2021-04-08",
              "2021-04-09",
              "2021-04-10",
              "2021-04-12",
              "2021-04-21",
              "2021-04-22",
              "2021-04-23",
              "2021-04-26",
              "2021-04-27",
              "2021-04-28",
              "2021-04-30",
              "2021-05-01",
              "2021-05-02",
              "2021-05-03",
              "2021-05-04",
              "2021-05-05",
              "2021-05-07",
              "2021-05-08",
              "2021-05-09",
              "2021-05-10",
              "2021-05-11",
              "2021-05-12",
              "2021-05-13",
              "2021-05-14",
              "2021-05-17",
              "2021-05-18",
              "2021-05-19",
              "2021-05-21",
              "2021-05-25",
              "2021-05-26",
              "2021-05-27",
              "2021-05-28",
              "2021-05-31",
              "2021-06-01",
              "2021-06-03",
              "2021-06-04",
              "2021-06-05",
              "2021-06-06"
             ],
             "y": [
              13,
              13,
              13,
              13,
              13,
              13,
              13,
              13,
              13,
              13,
              13,
              13,
              13,
              13,
              13,
              13,
              13,
              13,
              13,
              13,
              13,
              13,
              13,
              13,
              13,
              13,
              13,
              13,
              13,
              13,
              13,
              13,
              13,
              13,
              13,
              13,
              13,
              13,
              13,
              13,
              13,
              13,
              13,
              14,
              14,
              14,
              15,
              15,
              15,
              15,
              15,
              15,
              16,
              16,
              16,
              16,
              16,
              16,
              16,
              16,
              16,
              16,
              16,
              16,
              16,
              16,
              16,
              16,
              16,
              16,
              16,
              16,
              16,
              16,
              16,
              16,
              16,
              16,
              16,
              17,
              17,
              17,
              17,
              17,
              17,
              17,
              17,
              17,
              17,
              17,
              17,
              17,
              17,
              17,
              17,
              18,
              19,
              19,
              19,
              19,
              19,
              19,
              19,
              19,
              19,
              19,
              19,
              19,
              19,
              19,
              19,
              19,
              19,
              19,
              19,
              19,
              19,
              19,
              19,
              19,
              19,
              19,
              19,
              21,
              21,
              21,
              21,
              21,
              21,
              21,
              21,
              21,
              21,
              21,
              21,
              21,
              21,
              21,
              21,
              21,
              21,
              21,
              21,
              21,
              21,
              21,
              21,
              21,
              21,
              21,
              21,
              21,
              21,
              21,
              21,
              21,
              21,
              21,
              21,
              21,
              21,
              21,
              21,
              21,
              21,
              21,
              21,
              21,
              21,
              21,
              21,
              21,
              21,
              21,
              21,
              21,
              21,
              21,
              21,
              21,
              21,
              21,
              21,
              21,
              21,
              21,
              21,
              21,
              21,
              21,
              21,
              21,
              21,
              21,
              21,
              21,
              21,
              21,
              21
             ]
            },
            {
             "mode": "lines",
             "name": "minas",
             "type": "scatter",
             "x": [
              "2020-08-14",
              "2020-08-17",
              "2020-08-18",
              "2020-08-19",
              "2020-08-20",
              "2020-08-21",
              "2020-08-22",
              "2020-08-23",
              "2020-08-24",
              "2020-08-25",
              "2020-08-26",
              "2020-08-27",
              "2020-08-28",
              "2020-08-29",
              "2020-08-30",
              "2020-08-31",
              "2020-09-01",
              "2020-09-02",
              "2020-09-03",
              "2020-09-04",
              "2020-09-07",
              "2020-09-08",
              "2020-09-09",
              "2020-09-10",
              "2020-09-11",
              "2020-09-12",
              "2020-09-15",
              "2020-09-16",
              "2020-09-17",
              "2020-09-18",
              "2020-09-19",
              "2020-09-21",
              "2020-09-22",
              "2020-09-23",
              "2020-09-24",
              "2020-09-25",
              "2020-09-26",
              "2020-09-27",
              "2020-09-28",
              "2020-09-29",
              "2020-09-30",
              "2020-10-01",
              "2020-10-02",
              "2020-10-03",
              "2020-10-05",
              "2020-10-06",
              "2020-10-07",
              "2020-10-08",
              "2020-10-09",
              "2020-10-10",
              "2020-10-13",
              "2020-10-14",
              "2020-10-15",
              "2020-10-16",
              "2020-10-17",
              "2020-10-19",
              "2020-10-20",
              "2020-10-21",
              "2020-10-22",
              "2020-10-23",
              "2020-10-24",
              "2020-10-25",
              "2020-10-26",
              "2020-10-27",
              "2020-10-28",
              "2020-11-06",
              "2020-11-07",
              "2020-11-08",
              "2020-11-09",
              "2020-11-10",
              "2020-11-11",
              "2020-11-12",
              "2020-11-13",
              "2020-11-14",
              "2020-11-15",
              "2020-11-16",
              "2020-11-17",
              "2020-11-18",
              "2020-11-19",
              "2020-11-20",
              "2020-11-21",
              "2020-11-23",
              "2020-11-24",
              "2020-11-25",
              "2020-11-26",
              "2020-11-27",
              "2020-11-28",
              "2020-11-29",
              "2020-11-30",
              "2020-12-01",
              "2020-12-02",
              "2020-12-03",
              "2020-12-04",
              "2020-12-05",
              "2020-12-07",
              "2020-12-09",
              "2020-12-10",
              "2020-12-11",
              "2020-12-12",
              "2020-12-13",
              "2020-12-17",
              "2020-12-18",
              "2020-12-19",
              "2020-12-24",
              "2020-12-28",
              "2020-12-29",
              "2020-12-30",
              "2020-12-31",
              "2021-01-04",
              "2021-01-05",
              "2021-01-06",
              "2021-01-07",
              "2021-01-08",
              "2021-01-10",
              "2021-01-12",
              "2021-01-13",
              "2021-01-14",
              "2021-01-15",
              "2021-01-17",
              "2021-01-18",
              "2021-01-20",
              "2021-01-21",
              "2021-01-22",
              "2021-02-05",
              "2021-02-06",
              "2021-02-09",
              "2021-02-10",
              "2021-02-11",
              "2021-02-12",
              "2021-02-14",
              "2021-02-15",
              "2021-02-16",
              "2021-02-17",
              "2021-02-18",
              "2021-02-19",
              "2021-02-20",
              "2021-02-22",
              "2021-02-23",
              "2021-02-24",
              "2021-02-25",
              "2021-02-26",
              "2021-02-27",
              "2021-03-01",
              "2021-03-02",
              "2021-03-03",
              "2021-03-04",
              "2021-03-05",
              "2021-03-08",
              "2021-03-09",
              "2021-03-11",
              "2021-03-15",
              "2021-03-16",
              "2021-03-17",
              "2021-03-25",
              "2021-03-26",
              "2021-03-27",
              "2021-03-29",
              "2021-04-04",
              "2021-04-05",
              "2021-04-06",
              "2021-04-07",
              "2021-04-08",
              "2021-04-09",
              "2021-04-10",
              "2021-04-12",
              "2021-04-21",
              "2021-04-22",
              "2021-04-23",
              "2021-04-26",
              "2021-04-27",
              "2021-04-28",
              "2021-04-30",
              "2021-05-01",
              "2021-05-02",
              "2021-05-03",
              "2021-05-04",
              "2021-05-05",
              "2021-05-07",
              "2021-05-08",
              "2021-05-09",
              "2021-05-10",
              "2021-05-11",
              "2021-05-12",
              "2021-05-13",
              "2021-05-14",
              "2021-05-17",
              "2021-05-18",
              "2021-05-19",
              "2021-05-21",
              "2021-05-25",
              "2021-05-26",
              "2021-05-27",
              "2021-05-28",
              "2021-05-31",
              "2021-06-01",
              "2021-06-03",
              "2021-06-04",
              "2021-06-05",
              "2021-06-06"
             ],
             "y": [
              14,
              14,
              14,
              14,
              14,
              14,
              14,
              17,
              17,
              22,
              23,
              23,
              24,
              24,
              25,
              25,
              25,
              25,
              26,
              26,
              26,
              28,
              28,
              28,
              28,
              28,
              28,
              28,
              28,
              28,
              28,
              28,
              28,
              28,
              28,
              28,
              29,
              29,
              29,
              29,
              30,
              30,
              30,
              30,
              30,
              32,
              33,
              34,
              35,
              35,
              35,
              35,
              36,
              36,
              36,
              36,
              36,
              36,
              37,
              41,
              41,
              41,
              41,
              41,
              43,
              43,
              49,
              49,
              49,
              51,
              51,
              51,
              51,
              51,
              51,
              52,
              52,
              52,
              52,
              54,
              54,
              54,
              56,
              57,
              58,
              58,
              62,
              62,
              62,
              62,
              62,
              63,
              63,
              63,
              63,
              64,
              66,
              66,
              66,
              66,
              66,
              66,
              66,
              66,
              66,
              66,
              66,
              66,
              66,
              66,
              66,
              66,
              67,
              67,
              68,
              68,
              68,
              68,
              68,
              69,
              69,
              70,
              80,
              84,
              88,
              88,
              88,
              88,
              92,
              92,
              92,
              92,
              94,
              94,
              94,
              94,
              94,
              94,
              94,
              94,
              95,
              96,
              96,
              97,
              97,
              97,
              97,
              97,
              98,
              98,
              98,
              98,
              98,
              98,
              98,
              98,
              98,
              98,
              98,
              98,
              98,
              98,
              98,
              98,
              100,
              100,
              100,
              100,
              100,
              102,
              102,
              102,
              102,
              102,
              102,
              102,
              102,
              102,
              102,
              102,
              102,
              102,
              102,
              102,
              102,
              102,
              102,
              102,
              102,
              102,
              102,
              102,
              102,
              102,
              102,
              102,
              102,
              102,
              102
             ]
            },
            {
             "mode": "lines",
             "name": "antipersona",
             "type": "scatter",
             "x": [
              "2020-08-14",
              "2020-08-17",
              "2020-08-18",
              "2020-08-19",
              "2020-08-20",
              "2020-08-21",
              "2020-08-22",
              "2020-08-23",
              "2020-08-24",
              "2020-08-25",
              "2020-08-26",
              "2020-08-27",
              "2020-08-28",
              "2020-08-29",
              "2020-08-30",
              "2020-08-31",
              "2020-09-01",
              "2020-09-02",
              "2020-09-03",
              "2020-09-04",
              "2020-09-07",
              "2020-09-08",
              "2020-09-09",
              "2020-09-10",
              "2020-09-11",
              "2020-09-12",
              "2020-09-15",
              "2020-09-16",
              "2020-09-17",
              "2020-09-18",
              "2020-09-19",
              "2020-09-21",
              "2020-09-22",
              "2020-09-23",
              "2020-09-24",
              "2020-09-25",
              "2020-09-26",
              "2020-09-27",
              "2020-09-28",
              "2020-09-29",
              "2020-09-30",
              "2020-10-01",
              "2020-10-02",
              "2020-10-03",
              "2020-10-05",
              "2020-10-06",
              "2020-10-07",
              "2020-10-08",
              "2020-10-09",
              "2020-10-10",
              "2020-10-13",
              "2020-10-14",
              "2020-10-15",
              "2020-10-16",
              "2020-10-17",
              "2020-10-19",
              "2020-10-20",
              "2020-10-21",
              "2020-10-22",
              "2020-10-23",
              "2020-10-24",
              "2020-10-25",
              "2020-10-26",
              "2020-10-27",
              "2020-10-28",
              "2020-11-06",
              "2020-11-07",
              "2020-11-08",
              "2020-11-09",
              "2020-11-10",
              "2020-11-11",
              "2020-11-12",
              "2020-11-13",
              "2020-11-14",
              "2020-11-15",
              "2020-11-16",
              "2020-11-17",
              "2020-11-18",
              "2020-11-19",
              "2020-11-20",
              "2020-11-21",
              "2020-11-23",
              "2020-11-24",
              "2020-11-25",
              "2020-11-26",
              "2020-11-27",
              "2020-11-28",
              "2020-11-29",
              "2020-11-30",
              "2020-12-01",
              "2020-12-02",
              "2020-12-03",
              "2020-12-04",
              "2020-12-05",
              "2020-12-07",
              "2020-12-09",
              "2020-12-10",
              "2020-12-11",
              "2020-12-12",
              "2020-12-13",
              "2020-12-17",
              "2020-12-18",
              "2020-12-19",
              "2020-12-24",
              "2020-12-28",
              "2020-12-29",
              "2020-12-30",
              "2020-12-31",
              "2021-01-04",
              "2021-01-05",
              "2021-01-06",
              "2021-01-07",
              "2021-01-08",
              "2021-01-10",
              "2021-01-12",
              "2021-01-13",
              "2021-01-14",
              "2021-01-15",
              "2021-01-17",
              "2021-01-18",
              "2021-01-20",
              "2021-01-21",
              "2021-01-22",
              "2021-02-05",
              "2021-02-06",
              "2021-02-09",
              "2021-02-10",
              "2021-02-11",
              "2021-02-12",
              "2021-02-14",
              "2021-02-15",
              "2021-02-16",
              "2021-02-17",
              "2021-02-18",
              "2021-02-19",
              "2021-02-20",
              "2021-02-22",
              "2021-02-23",
              "2021-02-24",
              "2021-02-25",
              "2021-02-26",
              "2021-02-27",
              "2021-03-01",
              "2021-03-02",
              "2021-03-03",
              "2021-03-04",
              "2021-03-05",
              "2021-03-08",
              "2021-03-09",
              "2021-03-11",
              "2021-03-15",
              "2021-03-16",
              "2021-03-17",
              "2021-03-25",
              "2021-03-26",
              "2021-03-27",
              "2021-03-29",
              "2021-04-04",
              "2021-04-05",
              "2021-04-06",
              "2021-04-07",
              "2021-04-08",
              "2021-04-09",
              "2021-04-10",
              "2021-04-12",
              "2021-04-21",
              "2021-04-22",
              "2021-04-23",
              "2021-04-26",
              "2021-04-27",
              "2021-04-28",
              "2021-04-30",
              "2021-05-01",
              "2021-05-02",
              "2021-05-03",
              "2021-05-04",
              "2021-05-05",
              "2021-05-07",
              "2021-05-08",
              "2021-05-09",
              "2021-05-10",
              "2021-05-11",
              "2021-05-12",
              "2021-05-13",
              "2021-05-14",
              "2021-05-17",
              "2021-05-18",
              "2021-05-19",
              "2021-05-21",
              "2021-05-25",
              "2021-05-26",
              "2021-05-27",
              "2021-05-28",
              "2021-05-31",
              "2021-06-01",
              "2021-06-03",
              "2021-06-04",
              "2021-06-05",
              "2021-06-06"
             ],
             "y": [
              13,
              13,
              13,
              13,
              13,
              13,
              13,
              13,
              13,
              13,
              13,
              13,
              13,
              13,
              13,
              13,
              13,
              13,
              13,
              13,
              13,
              13,
              13,
              13,
              13,
              13,
              13,
              13,
              13,
              13,
              13,
              13,
              13,
              13,
              13,
              13,
              13,
              13,
              13,
              13,
              13,
              13,
              13,
              13,
              13,
              13,
              13,
              13,
              13,
              13,
              13,
              13,
              14,
              14,
              14,
              14,
              14,
              14,
              14,
              14,
              14,
              14,
              14,
              14,
              14,
              14,
              14,
              14,
              14,
              14,
              14,
              14,
              14,
              14,
              14,
              14,
              14,
              14,
              14,
              14,
              14,
              14,
              14,
              15,
              15,
              15,
              16,
              16,
              16,
              16,
              16,
              16,
              16,
              16,
              16,
              17,
              18,
              18,
              18,
              18,
              18,
              18,
              18,
              18,
              18,
              18,
              18,
              18,
              18,
              18,
              18,
              18,
              18,
              18,
              18,
              18,
              18,
              18,
              18,
              18,
              18,
              18,
              18,
              22,
              26,
              26,
              26,
              26,
              28,
              28,
              28,
              28,
              30,
              30,
              30,
              30,
              30,
              30,
              30,
              30,
              31,
              31,
              31,
              31,
              31,
              31,
              31,
              31,
              31,
              31,
              31,
              31,
              31,
              31,
              31,
              31,
              31,
              31,
              31,
              31,
              31,
              31,
              31,
              31,
              31,
              31,
              31,
              31,
              31,
              31,
              31,
              31,
              31,
              31,
              31,
              31,
              31,
              31,
              31,
              31,
              31,
              31,
              31,
              31,
              31,
              31,
              31,
              31,
              31,
              31,
              31,
              31,
              31,
              31,
              31,
              31,
              31,
              31,
              31
             ]
            },
            {
             "mode": "lines",
             "name": "liberados",
             "type": "scatter",
             "x": [
              "2020-08-14",
              "2020-08-17",
              "2020-08-18",
              "2020-08-19",
              "2020-08-20",
              "2020-08-21",
              "2020-08-22",
              "2020-08-23",
              "2020-08-24",
              "2020-08-25",
              "2020-08-26",
              "2020-08-27",
              "2020-08-28",
              "2020-08-29",
              "2020-08-30",
              "2020-08-31",
              "2020-09-01",
              "2020-09-02",
              "2020-09-03",
              "2020-09-04",
              "2020-09-07",
              "2020-09-08",
              "2020-09-09",
              "2020-09-10",
              "2020-09-11",
              "2020-09-12",
              "2020-09-15",
              "2020-09-16",
              "2020-09-17",
              "2020-09-18",
              "2020-09-19",
              "2020-09-21",
              "2020-09-22",
              "2020-09-23",
              "2020-09-24",
              "2020-09-25",
              "2020-09-26",
              "2020-09-27",
              "2020-09-28",
              "2020-09-29",
              "2020-09-30",
              "2020-10-01",
              "2020-10-02",
              "2020-10-03",
              "2020-10-05",
              "2020-10-06",
              "2020-10-07",
              "2020-10-08",
              "2020-10-09",
              "2020-10-10",
              "2020-10-13",
              "2020-10-14",
              "2020-10-15",
              "2020-10-16",
              "2020-10-17",
              "2020-10-19",
              "2020-10-20",
              "2020-10-21",
              "2020-10-22",
              "2020-10-23",
              "2020-10-24",
              "2020-10-25",
              "2020-10-26",
              "2020-10-27",
              "2020-10-28",
              "2020-11-06",
              "2020-11-07",
              "2020-11-08",
              "2020-11-09",
              "2020-11-10",
              "2020-11-11",
              "2020-11-12",
              "2020-11-13",
              "2020-11-14",
              "2020-11-15",
              "2020-11-16",
              "2020-11-17",
              "2020-11-18",
              "2020-11-19",
              "2020-11-20",
              "2020-11-21",
              "2020-11-23",
              "2020-11-24",
              "2020-11-25",
              "2020-11-26",
              "2020-11-27",
              "2020-11-28",
              "2020-11-29",
              "2020-11-30",
              "2020-12-01",
              "2020-12-02",
              "2020-12-03",
              "2020-12-04",
              "2020-12-05",
              "2020-12-07",
              "2020-12-09",
              "2020-12-10",
              "2020-12-11",
              "2020-12-12",
              "2020-12-13",
              "2020-12-17",
              "2020-12-18",
              "2020-12-19",
              "2020-12-24",
              "2020-12-28",
              "2020-12-29",
              "2020-12-30",
              "2020-12-31",
              "2021-01-04",
              "2021-01-05",
              "2021-01-06",
              "2021-01-07",
              "2021-01-08",
              "2021-01-10",
              "2021-01-12",
              "2021-01-13",
              "2021-01-14",
              "2021-01-15",
              "2021-01-17",
              "2021-01-18",
              "2021-01-20",
              "2021-01-21",
              "2021-01-22",
              "2021-02-05",
              "2021-02-06",
              "2021-02-09",
              "2021-02-10",
              "2021-02-11",
              "2021-02-12",
              "2021-02-14",
              "2021-02-15",
              "2021-02-16",
              "2021-02-17",
              "2021-02-18",
              "2021-02-19",
              "2021-02-20",
              "2021-02-22",
              "2021-02-23",
              "2021-02-24",
              "2021-02-25",
              "2021-02-26",
              "2021-02-27",
              "2021-03-01",
              "2021-03-02",
              "2021-03-03",
              "2021-03-04",
              "2021-03-05",
              "2021-03-08",
              "2021-03-09",
              "2021-03-11",
              "2021-03-15",
              "2021-03-16",
              "2021-03-17",
              "2021-03-25",
              "2021-03-26",
              "2021-03-27",
              "2021-03-29",
              "2021-04-04",
              "2021-04-05",
              "2021-04-06",
              "2021-04-07",
              "2021-04-08",
              "2021-04-09",
              "2021-04-10",
              "2021-04-12",
              "2021-04-21",
              "2021-04-22",
              "2021-04-23",
              "2021-04-26",
              "2021-04-27",
              "2021-04-28",
              "2021-04-30",
              "2021-05-01",
              "2021-05-02",
              "2021-05-03",
              "2021-05-04",
              "2021-05-05",
              "2021-05-07",
              "2021-05-08",
              "2021-05-09",
              "2021-05-10",
              "2021-05-11",
              "2021-05-12",
              "2021-05-13",
              "2021-05-14",
              "2021-05-17",
              "2021-05-18",
              "2021-05-19",
              "2021-05-21",
              "2021-05-25",
              "2021-05-26",
              "2021-05-27",
              "2021-05-28",
              "2021-05-31",
              "2021-06-01",
              "2021-06-03",
              "2021-06-04",
              "2021-06-05",
              "2021-06-06"
             ],
             "y": [
              5,
              5,
              5,
              5,
              5,
              5,
              5,
              5,
              5,
              5,
              5,
              5,
              5,
              5,
              5,
              5,
              5,
              5,
              5,
              5,
              5,
              5,
              5,
              5,
              5,
              5,
              5,
              5,
              5,
              5,
              5,
              5,
              5,
              5,
              5,
              5,
              5,
              5,
              5,
              5,
              5,
              5,
              5,
              5,
              5,
              5,
              5,
              5,
              5,
              5,
              5,
              5,
              5,
              5,
              5,
              5,
              5,
              5,
              5,
              5,
              5,
              5,
              5,
              5,
              5,
              5,
              5,
              5,
              5,
              5,
              5,
              5,
              5,
              5,
              5,
              5,
              5,
              5,
              5,
              5,
              5,
              5,
              5,
              5,
              5,
              5,
              5,
              5,
              5,
              5,
              5,
              5,
              5,
              5,
              5,
              5,
              5,
              5,
              5,
              5,
              5,
              5,
              5,
              5,
              5,
              5,
              5,
              5,
              5,
              5,
              5,
              5,
              5,
              5,
              5,
              5,
              5,
              5,
              5,
              5,
              5,
              5,
              5,
              5,
              5,
              5,
              5,
              5,
              5,
              5,
              5,
              5,
              5,
              5,
              5,
              5,
              5,
              5,
              5,
              5,
              5,
              5,
              5,
              5,
              5,
              5,
              5,
              5,
              5,
              5,
              5,
              5,
              5,
              5,
              5,
              5,
              5,
              5,
              5,
              5,
              5,
              5,
              5,
              5,
              5,
              5,
              5,
              5,
              5,
              5,
              5,
              5,
              5,
              5,
              5,
              5,
              5,
              5,
              5,
              5,
              5,
              5,
              5,
              5,
              5,
              5,
              5,
              5,
              5,
              5,
              5,
              5,
              5,
              5,
              5,
              5,
              5,
              5,
              5
             ]
            },
            {
             "mode": "lines",
             "name": "municipios",
             "type": "scatter",
             "x": [
              "2020-08-14",
              "2020-08-17",
              "2020-08-18",
              "2020-08-19",
              "2020-08-20",
              "2020-08-21",
              "2020-08-22",
              "2020-08-23",
              "2020-08-24",
              "2020-08-25",
              "2020-08-26",
              "2020-08-27",
              "2020-08-28",
              "2020-08-29",
              "2020-08-30",
              "2020-08-31",
              "2020-09-01",
              "2020-09-02",
              "2020-09-03",
              "2020-09-04",
              "2020-09-07",
              "2020-09-08",
              "2020-09-09",
              "2020-09-10",
              "2020-09-11",
              "2020-09-12",
              "2020-09-15",
              "2020-09-16",
              "2020-09-17",
              "2020-09-18",
              "2020-09-19",
              "2020-09-21",
              "2020-09-22",
              "2020-09-23",
              "2020-09-24",
              "2020-09-25",
              "2020-09-26",
              "2020-09-27",
              "2020-09-28",
              "2020-09-29",
              "2020-09-30",
              "2020-10-01",
              "2020-10-02",
              "2020-10-03",
              "2020-10-05",
              "2020-10-06",
              "2020-10-07",
              "2020-10-08",
              "2020-10-09",
              "2020-10-10",
              "2020-10-13",
              "2020-10-14",
              "2020-10-15",
              "2020-10-16",
              "2020-10-17",
              "2020-10-19",
              "2020-10-20",
              "2020-10-21",
              "2020-10-22",
              "2020-10-23",
              "2020-10-24",
              "2020-10-25",
              "2020-10-26",
              "2020-10-27",
              "2020-10-28",
              "2020-11-06",
              "2020-11-07",
              "2020-11-08",
              "2020-11-09",
              "2020-11-10",
              "2020-11-11",
              "2020-11-12",
              "2020-11-13",
              "2020-11-14",
              "2020-11-15",
              "2020-11-16",
              "2020-11-17",
              "2020-11-18",
              "2020-11-19",
              "2020-11-20",
              "2020-11-21",
              "2020-11-23",
              "2020-11-24",
              "2020-11-25",
              "2020-11-26",
              "2020-11-27",
              "2020-11-28",
              "2020-11-29",
              "2020-11-30",
              "2020-12-01",
              "2020-12-02",
              "2020-12-03",
              "2020-12-04",
              "2020-12-05",
              "2020-12-07",
              "2020-12-09",
              "2020-12-10",
              "2020-12-11",
              "2020-12-12",
              "2020-12-13",
              "2020-12-17",
              "2020-12-18",
              "2020-12-19",
              "2020-12-24",
              "2020-12-28",
              "2020-12-29",
              "2020-12-30",
              "2020-12-31",
              "2021-01-04",
              "2021-01-05",
              "2021-01-06",
              "2021-01-07",
              "2021-01-08",
              "2021-01-10",
              "2021-01-12",
              "2021-01-13",
              "2021-01-14",
              "2021-01-15",
              "2021-01-17",
              "2021-01-18",
              "2021-01-20",
              "2021-01-21",
              "2021-01-22",
              "2021-02-05",
              "2021-02-06",
              "2021-02-09",
              "2021-02-10",
              "2021-02-11",
              "2021-02-12",
              "2021-02-14",
              "2021-02-15",
              "2021-02-16",
              "2021-02-17",
              "2021-02-18",
              "2021-02-19",
              "2021-02-20",
              "2021-02-22",
              "2021-02-23",
              "2021-02-24",
              "2021-02-25",
              "2021-02-26",
              "2021-02-27",
              "2021-03-01",
              "2021-03-02",
              "2021-03-03",
              "2021-03-04",
              "2021-03-05",
              "2021-03-08",
              "2021-03-09",
              "2021-03-11",
              "2021-03-15",
              "2021-03-16",
              "2021-03-17",
              "2021-03-25",
              "2021-03-26",
              "2021-03-27",
              "2021-03-29",
              "2021-04-04",
              "2021-04-05",
              "2021-04-06",
              "2021-04-07",
              "2021-04-08",
              "2021-04-09",
              "2021-04-10",
              "2021-04-12",
              "2021-04-21",
              "2021-04-22",
              "2021-04-23",
              "2021-04-26",
              "2021-04-27",
              "2021-04-28",
              "2021-04-30",
              "2021-05-01",
              "2021-05-02",
              "2021-05-03",
              "2021-05-04",
              "2021-05-05",
              "2021-05-07",
              "2021-05-08",
              "2021-05-09",
              "2021-05-10",
              "2021-05-11",
              "2021-05-12",
              "2021-05-13",
              "2021-05-14",
              "2021-05-17",
              "2021-05-18",
              "2021-05-19",
              "2021-05-21",
              "2021-05-25",
              "2021-05-26",
              "2021-05-27",
              "2021-05-28",
              "2021-05-31",
              "2021-06-01",
              "2021-06-03",
              "2021-06-04",
              "2021-06-05",
              "2021-06-06"
             ],
             "y": [
              17,
              18,
              20,
              21,
              22,
              23,
              25,
              25,
              38,
              44,
              47,
              50,
              64,
              64,
              64,
              66,
              67,
              69,
              74,
              76,
              80,
              82,
              96,
              98,
              99,
              99,
              125,
              139,
              152,
              153,
              154,
              167,
              169,
              182,
              195,
              196,
              197,
              198,
              213,
              215,
              221,
              235,
              249,
              251,
              264,
              277,
              281,
              283,
              286,
              286,
              287,
              290,
              295,
              296,
              296,
              296,
              298,
              300,
              314,
              329,
              330,
              330,
              345,
              359,
              360,
              362,
              368,
              368,
              394,
              398,
              424,
              426,
              430,
              430,
              430,
              430,
              432,
              434,
              437,
              437,
              437,
              439,
              453,
              471,
              475,
              478,
              488,
              488,
              491,
              492,
              494,
              509,
              513,
              514,
              516,
              517,
              522,
              524,
              524,
              524,
              526,
              528,
              528,
              528,
              530,
              532,
              533,
              533,
              535,
              535,
              537,
              539,
              541,
              541,
              541,
              541,
              543,
              546,
              546,
              550,
              552,
              554,
              557,
              561,
              561,
              569,
              573,
              599,
              603,
              603,
              603,
              605,
              605,
              607,
              609,
              609,
              611,
              624,
              638,
              641,
              641,
              641,
              643,
              645,
              660,
              662,
              679,
              681,
              683,
              685,
              699,
              700,
              700,
              726,
              756,
              756,
              758,
              764,
              764,
              790,
              794,
              822,
              848,
              850,
              850,
              876,
              902,
              928,
              930,
              958,
              962,
              962,
              962,
              962,
              964,
              966,
              966,
              966,
              966,
              966,
              966,
              966,
              966,
              973,
              973,
              973,
              974,
              974,
              977,
              977,
              977,
              977,
              977,
              977,
              977,
              979,
              982,
              982,
              982
             ]
            }
           ],
           "layout": {
            "height": 500,
            "legend": {
             "tracegroupgap": 0
            },
            "margin": {
             "t": 60
            },
            "template": {
             "data": {
              "bar": [
               {
                "error_x": {
                 "color": "#2a3f5f"
                },
                "error_y": {
                 "color": "#2a3f5f"
                },
                "marker": {
                 "line": {
                  "color": "#E5ECF6",
                  "width": 0.5
                 }
                },
                "type": "bar"
               }
              ],
              "barpolar": [
               {
                "marker": {
                 "line": {
                  "color": "#E5ECF6",
                  "width": 0.5
                 }
                },
                "type": "barpolar"
               }
              ],
              "carpet": [
               {
                "aaxis": {
                 "endlinecolor": "#2a3f5f",
                 "gridcolor": "white",
                 "linecolor": "white",
                 "minorgridcolor": "white",
                 "startlinecolor": "#2a3f5f"
                },
                "baxis": {
                 "endlinecolor": "#2a3f5f",
                 "gridcolor": "white",
                 "linecolor": "white",
                 "minorgridcolor": "white",
                 "startlinecolor": "#2a3f5f"
                },
                "type": "carpet"
               }
              ],
              "choropleth": [
               {
                "colorbar": {
                 "outlinewidth": 0,
                 "ticks": ""
                },
                "type": "choropleth"
               }
              ],
              "contour": [
               {
                "colorbar": {
                 "outlinewidth": 0,
                 "ticks": ""
                },
                "colorscale": [
                 [
                  0,
                  "#0d0887"
                 ],
                 [
                  0.1111111111111111,
                  "#46039f"
                 ],
                 [
                  0.2222222222222222,
                  "#7201a8"
                 ],
                 [
                  0.3333333333333333,
                  "#9c179e"
                 ],
                 [
                  0.4444444444444444,
                  "#bd3786"
                 ],
                 [
                  0.5555555555555556,
                  "#d8576b"
                 ],
                 [
                  0.6666666666666666,
                  "#ed7953"
                 ],
                 [
                  0.7777777777777778,
                  "#fb9f3a"
                 ],
                 [
                  0.8888888888888888,
                  "#fdca26"
                 ],
                 [
                  1,
                  "#f0f921"
                 ]
                ],
                "type": "contour"
               }
              ],
              "contourcarpet": [
               {
                "colorbar": {
                 "outlinewidth": 0,
                 "ticks": ""
                },
                "type": "contourcarpet"
               }
              ],
              "heatmap": [
               {
                "colorbar": {
                 "outlinewidth": 0,
                 "ticks": ""
                },
                "colorscale": [
                 [
                  0,
                  "#0d0887"
                 ],
                 [
                  0.1111111111111111,
                  "#46039f"
                 ],
                 [
                  0.2222222222222222,
                  "#7201a8"
                 ],
                 [
                  0.3333333333333333,
                  "#9c179e"
                 ],
                 [
                  0.4444444444444444,
                  "#bd3786"
                 ],
                 [
                  0.5555555555555556,
                  "#d8576b"
                 ],
                 [
                  0.6666666666666666,
                  "#ed7953"
                 ],
                 [
                  0.7777777777777778,
                  "#fb9f3a"
                 ],
                 [
                  0.8888888888888888,
                  "#fdca26"
                 ],
                 [
                  1,
                  "#f0f921"
                 ]
                ],
                "type": "heatmap"
               }
              ],
              "heatmapgl": [
               {
                "colorbar": {
                 "outlinewidth": 0,
                 "ticks": ""
                },
                "colorscale": [
                 [
                  0,
                  "#0d0887"
                 ],
                 [
                  0.1111111111111111,
                  "#46039f"
                 ],
                 [
                  0.2222222222222222,
                  "#7201a8"
                 ],
                 [
                  0.3333333333333333,
                  "#9c179e"
                 ],
                 [
                  0.4444444444444444,
                  "#bd3786"
                 ],
                 [
                  0.5555555555555556,
                  "#d8576b"
                 ],
                 [
                  0.6666666666666666,
                  "#ed7953"
                 ],
                 [
                  0.7777777777777778,
                  "#fb9f3a"
                 ],
                 [
                  0.8888888888888888,
                  "#fdca26"
                 ],
                 [
                  1,
                  "#f0f921"
                 ]
                ],
                "type": "heatmapgl"
               }
              ],
              "histogram": [
               {
                "marker": {
                 "colorbar": {
                  "outlinewidth": 0,
                  "ticks": ""
                 }
                },
                "type": "histogram"
               }
              ],
              "histogram2d": [
               {
                "colorbar": {
                 "outlinewidth": 0,
                 "ticks": ""
                },
                "colorscale": [
                 [
                  0,
                  "#0d0887"
                 ],
                 [
                  0.1111111111111111,
                  "#46039f"
                 ],
                 [
                  0.2222222222222222,
                  "#7201a8"
                 ],
                 [
                  0.3333333333333333,
                  "#9c179e"
                 ],
                 [
                  0.4444444444444444,
                  "#bd3786"
                 ],
                 [
                  0.5555555555555556,
                  "#d8576b"
                 ],
                 [
                  0.6666666666666666,
                  "#ed7953"
                 ],
                 [
                  0.7777777777777778,
                  "#fb9f3a"
                 ],
                 [
                  0.8888888888888888,
                  "#fdca26"
                 ],
                 [
                  1,
                  "#f0f921"
                 ]
                ],
                "type": "histogram2d"
               }
              ],
              "histogram2dcontour": [
               {
                "colorbar": {
                 "outlinewidth": 0,
                 "ticks": ""
                },
                "colorscale": [
                 [
                  0,
                  "#0d0887"
                 ],
                 [
                  0.1111111111111111,
                  "#46039f"
                 ],
                 [
                  0.2222222222222222,
                  "#7201a8"
                 ],
                 [
                  0.3333333333333333,
                  "#9c179e"
                 ],
                 [
                  0.4444444444444444,
                  "#bd3786"
                 ],
                 [
                  0.5555555555555556,
                  "#d8576b"
                 ],
                 [
                  0.6666666666666666,
                  "#ed7953"
                 ],
                 [
                  0.7777777777777778,
                  "#fb9f3a"
                 ],
                 [
                  0.8888888888888888,
                  "#fdca26"
                 ],
                 [
                  1,
                  "#f0f921"
                 ]
                ],
                "type": "histogram2dcontour"
               }
              ],
              "mesh3d": [
               {
                "colorbar": {
                 "outlinewidth": 0,
                 "ticks": ""
                },
                "type": "mesh3d"
               }
              ],
              "parcoords": [
               {
                "line": {
                 "colorbar": {
                  "outlinewidth": 0,
                  "ticks": ""
                 }
                },
                "type": "parcoords"
               }
              ],
              "pie": [
               {
                "automargin": true,
                "type": "pie"
               }
              ],
              "scatter": [
               {
                "marker": {
                 "colorbar": {
                  "outlinewidth": 0,
                  "ticks": ""
                 }
                },
                "type": "scatter"
               }
              ],
              "scatter3d": [
               {
                "line": {
                 "colorbar": {
                  "outlinewidth": 0,
                  "ticks": ""
                 }
                },
                "marker": {
                 "colorbar": {
                  "outlinewidth": 0,
                  "ticks": ""
                 }
                },
                "type": "scatter3d"
               }
              ],
              "scattercarpet": [
               {
                "marker": {
                 "colorbar": {
                  "outlinewidth": 0,
                  "ticks": ""
                 }
                },
                "type": "scattercarpet"
               }
              ],
              "scattergeo": [
               {
                "marker": {
                 "colorbar": {
                  "outlinewidth": 0,
                  "ticks": ""
                 }
                },
                "type": "scattergeo"
               }
              ],
              "scattergl": [
               {
                "marker": {
                 "colorbar": {
                  "outlinewidth": 0,
                  "ticks": ""
                 }
                },
                "type": "scattergl"
               }
              ],
              "scattermapbox": [
               {
                "marker": {
                 "colorbar": {
                  "outlinewidth": 0,
                  "ticks": ""
                 }
                },
                "type": "scattermapbox"
               }
              ],
              "scatterpolar": [
               {
                "marker": {
                 "colorbar": {
                  "outlinewidth": 0,
                  "ticks": ""
                 }
                },
                "type": "scatterpolar"
               }
              ],
              "scatterpolargl": [
               {
                "marker": {
                 "colorbar": {
                  "outlinewidth": 0,
                  "ticks": ""
                 }
                },
                "type": "scatterpolargl"
               }
              ],
              "scatterternary": [
               {
                "marker": {
                 "colorbar": {
                  "outlinewidth": 0,
                  "ticks": ""
                 }
                },
                "type": "scatterternary"
               }
              ],
              "surface": [
               {
                "colorbar": {
                 "outlinewidth": 0,
                 "ticks": ""
                },
                "colorscale": [
                 [
                  0,
                  "#0d0887"
                 ],
                 [
                  0.1111111111111111,
                  "#46039f"
                 ],
                 [
                  0.2222222222222222,
                  "#7201a8"
                 ],
                 [
                  0.3333333333333333,
                  "#9c179e"
                 ],
                 [
                  0.4444444444444444,
                  "#bd3786"
                 ],
                 [
                  0.5555555555555556,
                  "#d8576b"
                 ],
                 [
                  0.6666666666666666,
                  "#ed7953"
                 ],
                 [
                  0.7777777777777778,
                  "#fb9f3a"
                 ],
                 [
                  0.8888888888888888,
                  "#fdca26"
                 ],
                 [
                  1,
                  "#f0f921"
                 ]
                ],
                "type": "surface"
               }
              ],
              "table": [
               {
                "cells": {
                 "fill": {
                  "color": "#EBF0F8"
                 },
                 "line": {
                  "color": "white"
                 }
                },
                "header": {
                 "fill": {
                  "color": "#C8D4E3"
                 },
                 "line": {
                  "color": "white"
                 }
                },
                "type": "table"
               }
              ]
             },
             "layout": {
              "annotationdefaults": {
               "arrowcolor": "#2a3f5f",
               "arrowhead": 0,
               "arrowwidth": 1
              },
              "autotypenumbers": "strict",
              "coloraxis": {
               "colorbar": {
                "outlinewidth": 0,
                "ticks": ""
               }
              },
              "colorscale": {
               "diverging": [
                [
                 0,
                 "#8e0152"
                ],
                [
                 0.1,
                 "#c51b7d"
                ],
                [
                 0.2,
                 "#de77ae"
                ],
                [
                 0.3,
                 "#f1b6da"
                ],
                [
                 0.4,
                 "#fde0ef"
                ],
                [
                 0.5,
                 "#f7f7f7"
                ],
                [
                 0.6,
                 "#e6f5d0"
                ],
                [
                 0.7,
                 "#b8e186"
                ],
                [
                 0.8,
                 "#7fbc41"
                ],
                [
                 0.9,
                 "#4d9221"
                ],
                [
                 1,
                 "#276419"
                ]
               ],
               "sequential": [
                [
                 0,
                 "#0d0887"
                ],
                [
                 0.1111111111111111,
                 "#46039f"
                ],
                [
                 0.2222222222222222,
                 "#7201a8"
                ],
                [
                 0.3333333333333333,
                 "#9c179e"
                ],
                [
                 0.4444444444444444,
                 "#bd3786"
                ],
                [
                 0.5555555555555556,
                 "#d8576b"
                ],
                [
                 0.6666666666666666,
                 "#ed7953"
                ],
                [
                 0.7777777777777778,
                 "#fb9f3a"
                ],
                [
                 0.8888888888888888,
                 "#fdca26"
                ],
                [
                 1,
                 "#f0f921"
                ]
               ],
               "sequentialminus": [
                [
                 0,
                 "#0d0887"
                ],
                [
                 0.1111111111111111,
                 "#46039f"
                ],
                [
                 0.2222222222222222,
                 "#7201a8"
                ],
                [
                 0.3333333333333333,
                 "#9c179e"
                ],
                [
                 0.4444444444444444,
                 "#bd3786"
                ],
                [
                 0.5555555555555556,
                 "#d8576b"
                ],
                [
                 0.6666666666666666,
                 "#ed7953"
                ],
                [
                 0.7777777777777778,
                 "#fb9f3a"
                ],
                [
                 0.8888888888888888,
                 "#fdca26"
                ],
                [
                 1,
                 "#f0f921"
                ]
               ]
              },
              "colorway": [
               "#636efa",
               "#EF553B",
               "#00cc96",
               "#ab63fa",
               "#FFA15A",
               "#19d3f3",
               "#FF6692",
               "#B6E880",
               "#FF97FF",
               "#FECB52"
              ],
              "font": {
               "color": "#2a3f5f"
              },
              "geo": {
               "bgcolor": "white",
               "lakecolor": "white",
               "landcolor": "#E5ECF6",
               "showlakes": true,
               "showland": true,
               "subunitcolor": "white"
              },
              "hoverlabel": {
               "align": "left"
              },
              "hovermode": "closest",
              "mapbox": {
               "style": "light"
              },
              "paper_bgcolor": "white",
              "plot_bgcolor": "#E5ECF6",
              "polar": {
               "angularaxis": {
                "gridcolor": "white",
                "linecolor": "white",
                "ticks": ""
               },
               "bgcolor": "#E5ECF6",
               "radialaxis": {
                "gridcolor": "white",
                "linecolor": "white",
                "ticks": ""
               }
              },
              "scene": {
               "xaxis": {
                "backgroundcolor": "#E5ECF6",
                "gridcolor": "white",
                "gridwidth": 2,
                "linecolor": "white",
                "showbackground": true,
                "ticks": "",
                "zerolinecolor": "white"
               },
               "yaxis": {
                "backgroundcolor": "#E5ECF6",
                "gridcolor": "white",
                "gridwidth": 2,
                "linecolor": "white",
                "showbackground": true,
                "ticks": "",
                "zerolinecolor": "white"
               },
               "zaxis": {
                "backgroundcolor": "#E5ECF6",
                "gridcolor": "white",
                "gridwidth": 2,
                "linecolor": "white",
                "showbackground": true,
                "ticks": "",
                "zerolinecolor": "white"
               }
              },
              "shapedefaults": {
               "line": {
                "color": "#2a3f5f"
               }
              },
              "ternary": {
               "aaxis": {
                "gridcolor": "white",
                "linecolor": "white",
                "ticks": ""
               },
               "baxis": {
                "gridcolor": "white",
                "linecolor": "white",
                "ticks": ""
               },
               "bgcolor": "#E5ECF6",
               "caxis": {
                "gridcolor": "white",
                "linecolor": "white",
                "ticks": ""
               }
              },
              "title": {
               "x": 0.05
              },
              "xaxis": {
               "automargin": true,
               "gridcolor": "white",
               "linecolor": "white",
               "ticks": "",
               "title": {
                "standoff": 15
               },
               "zerolinecolor": "white",
               "zerolinewidth": 2
              },
              "yaxis": {
               "automargin": true,
               "gridcolor": "white",
               "linecolor": "white",
               "ticks": "",
               "title": {
                "standoff": 15
               },
               "zerolinecolor": "white",
               "zerolinewidth": 2
              }
             }
            },
            "title": {
             "font": {
              "size": 15
             },
             "text": "Las palabras claves de la fecha <b> 2020-08-14</b> son: sospecha, minas, antipersona, liberados, municipios",
             "x": 0.5,
             "xanchor": "center"
            },
            "width": 800,
            "xaxis": {
             "anchor": "y",
             "domain": [
              0,
              1
             ]
            },
            "yaxis": {
             "anchor": "x",
             "domain": [
              0,
              1
             ]
            }
           }
          },
          "text/html": "<div>                            <div id=\"12593b7f-4e81-4a3d-b620-6e6c734d5cdc\" class=\"plotly-graph-div\" style=\"height:500px; width:800px;\"></div>            <script type=\"text/javascript\">                require([\"plotly\"], function(Plotly) {                    window.PLOTLYENV=window.PLOTLYENV || {};                                    if (document.getElementById(\"12593b7f-4e81-4a3d-b620-6e6c734d5cdc\")) {                    Plotly.newPlot(                        \"12593b7f-4e81-4a3d-b620-6e6c734d5cdc\",                        [{\"mode\": \"lines\", \"name\": \"sospecha\", \"type\": \"scatter\", \"x\": [\"2020-08-14\", \"2020-08-17\", \"2020-08-18\", \"2020-08-19\", \"2020-08-20\", \"2020-08-21\", \"2020-08-22\", \"2020-08-23\", \"2020-08-24\", \"2020-08-25\", \"2020-08-26\", \"2020-08-27\", \"2020-08-28\", \"2020-08-29\", \"2020-08-30\", \"2020-08-31\", \"2020-09-01\", \"2020-09-02\", \"2020-09-03\", \"2020-09-04\", \"2020-09-07\", \"2020-09-08\", \"2020-09-09\", \"2020-09-10\", \"2020-09-11\", \"2020-09-12\", \"2020-09-15\", \"2020-09-16\", \"2020-09-17\", \"2020-09-18\", \"2020-09-19\", \"2020-09-21\", \"2020-09-22\", \"2020-09-23\", \"2020-09-24\", \"2020-09-25\", \"2020-09-26\", \"2020-09-27\", \"2020-09-28\", \"2020-09-29\", \"2020-09-30\", \"2020-10-01\", \"2020-10-02\", \"2020-10-03\", \"2020-10-05\", \"2020-10-06\", \"2020-10-07\", \"2020-10-08\", \"2020-10-09\", \"2020-10-10\", \"2020-10-13\", \"2020-10-14\", \"2020-10-15\", \"2020-10-16\", \"2020-10-17\", \"2020-10-19\", \"2020-10-20\", \"2020-10-21\", \"2020-10-22\", \"2020-10-23\", \"2020-10-24\", \"2020-10-25\", \"2020-10-26\", \"2020-10-27\", \"2020-10-28\", \"2020-11-06\", \"2020-11-07\", \"2020-11-08\", \"2020-11-09\", \"2020-11-10\", \"2020-11-11\", \"2020-11-12\", \"2020-11-13\", \"2020-11-14\", \"2020-11-15\", \"2020-11-16\", \"2020-11-17\", \"2020-11-18\", \"2020-11-19\", \"2020-11-20\", \"2020-11-21\", \"2020-11-23\", \"2020-11-24\", \"2020-11-25\", \"2020-11-26\", \"2020-11-27\", \"2020-11-28\", \"2020-11-29\", \"2020-11-30\", \"2020-12-01\", \"2020-12-02\", \"2020-12-03\", \"2020-12-04\", \"2020-12-05\", \"2020-12-07\", \"2020-12-09\", \"2020-12-10\", \"2020-12-11\", \"2020-12-12\", \"2020-12-13\", \"2020-12-17\", \"2020-12-18\", \"2020-12-19\", \"2020-12-24\", \"2020-12-28\", \"2020-12-29\", \"2020-12-30\", \"2020-12-31\", \"2021-01-04\", \"2021-01-05\", \"2021-01-06\", \"2021-01-07\", \"2021-01-08\", \"2021-01-10\", \"2021-01-12\", \"2021-01-13\", \"2021-01-14\", \"2021-01-15\", \"2021-01-17\", \"2021-01-18\", \"2021-01-20\", \"2021-01-21\", \"2021-01-22\", \"2021-02-05\", \"2021-02-06\", \"2021-02-09\", \"2021-02-10\", \"2021-02-11\", \"2021-02-12\", \"2021-02-14\", \"2021-02-15\", \"2021-02-16\", \"2021-02-17\", \"2021-02-18\", \"2021-02-19\", \"2021-02-20\", \"2021-02-22\", \"2021-02-23\", \"2021-02-24\", \"2021-02-25\", \"2021-02-26\", \"2021-02-27\", \"2021-03-01\", \"2021-03-02\", \"2021-03-03\", \"2021-03-04\", \"2021-03-05\", \"2021-03-08\", \"2021-03-09\", \"2021-03-11\", \"2021-03-15\", \"2021-03-16\", \"2021-03-17\", \"2021-03-25\", \"2021-03-26\", \"2021-03-27\", \"2021-03-29\", \"2021-04-04\", \"2021-04-05\", \"2021-04-06\", \"2021-04-07\", \"2021-04-08\", \"2021-04-09\", \"2021-04-10\", \"2021-04-12\", \"2021-04-21\", \"2021-04-22\", \"2021-04-23\", \"2021-04-26\", \"2021-04-27\", \"2021-04-28\", \"2021-04-30\", \"2021-05-01\", \"2021-05-02\", \"2021-05-03\", \"2021-05-04\", \"2021-05-05\", \"2021-05-07\", \"2021-05-08\", \"2021-05-09\", \"2021-05-10\", \"2021-05-11\", \"2021-05-12\", \"2021-05-13\", \"2021-05-14\", \"2021-05-17\", \"2021-05-18\", \"2021-05-19\", \"2021-05-21\", \"2021-05-25\", \"2021-05-26\", \"2021-05-27\", \"2021-05-28\", \"2021-05-31\", \"2021-06-01\", \"2021-06-03\", \"2021-06-04\", \"2021-06-05\", \"2021-06-06\"], \"y\": [13, 13, 13, 13, 13, 13, 13, 13, 13, 13, 13, 13, 13, 13, 13, 13, 13, 13, 13, 13, 13, 13, 13, 13, 13, 13, 13, 13, 13, 13, 13, 13, 13, 13, 13, 13, 13, 13, 13, 13, 13, 13, 13, 14, 14, 14, 15, 15, 15, 15, 15, 15, 16, 16, 16, 16, 16, 16, 16, 16, 16, 16, 16, 16, 16, 16, 16, 16, 16, 16, 16, 16, 16, 16, 16, 16, 16, 16, 16, 17, 17, 17, 17, 17, 17, 17, 17, 17, 17, 17, 17, 17, 17, 17, 17, 18, 19, 19, 19, 19, 19, 19, 19, 19, 19, 19, 19, 19, 19, 19, 19, 19, 19, 19, 19, 19, 19, 19, 19, 19, 19, 19, 19, 21, 21, 21, 21, 21, 21, 21, 21, 21, 21, 21, 21, 21, 21, 21, 21, 21, 21, 21, 21, 21, 21, 21, 21, 21, 21, 21, 21, 21, 21, 21, 21, 21, 21, 21, 21, 21, 21, 21, 21, 21, 21, 21, 21, 21, 21, 21, 21, 21, 21, 21, 21, 21, 21, 21, 21, 21, 21, 21, 21, 21, 21, 21, 21, 21, 21, 21, 21, 21, 21, 21, 21, 21, 21, 21, 21]}, {\"mode\": \"lines\", \"name\": \"minas\", \"type\": \"scatter\", \"x\": [\"2020-08-14\", \"2020-08-17\", \"2020-08-18\", \"2020-08-19\", \"2020-08-20\", \"2020-08-21\", \"2020-08-22\", \"2020-08-23\", \"2020-08-24\", \"2020-08-25\", \"2020-08-26\", \"2020-08-27\", \"2020-08-28\", \"2020-08-29\", \"2020-08-30\", \"2020-08-31\", \"2020-09-01\", \"2020-09-02\", \"2020-09-03\", \"2020-09-04\", \"2020-09-07\", \"2020-09-08\", \"2020-09-09\", \"2020-09-10\", \"2020-09-11\", \"2020-09-12\", \"2020-09-15\", \"2020-09-16\", \"2020-09-17\", \"2020-09-18\", \"2020-09-19\", \"2020-09-21\", \"2020-09-22\", \"2020-09-23\", \"2020-09-24\", \"2020-09-25\", \"2020-09-26\", \"2020-09-27\", \"2020-09-28\", \"2020-09-29\", \"2020-09-30\", \"2020-10-01\", \"2020-10-02\", \"2020-10-03\", \"2020-10-05\", \"2020-10-06\", \"2020-10-07\", \"2020-10-08\", \"2020-10-09\", \"2020-10-10\", \"2020-10-13\", \"2020-10-14\", \"2020-10-15\", \"2020-10-16\", \"2020-10-17\", \"2020-10-19\", \"2020-10-20\", \"2020-10-21\", \"2020-10-22\", \"2020-10-23\", \"2020-10-24\", \"2020-10-25\", \"2020-10-26\", \"2020-10-27\", \"2020-10-28\", \"2020-11-06\", \"2020-11-07\", \"2020-11-08\", \"2020-11-09\", \"2020-11-10\", \"2020-11-11\", \"2020-11-12\", \"2020-11-13\", \"2020-11-14\", \"2020-11-15\", \"2020-11-16\", \"2020-11-17\", \"2020-11-18\", \"2020-11-19\", \"2020-11-20\", \"2020-11-21\", \"2020-11-23\", \"2020-11-24\", \"2020-11-25\", \"2020-11-26\", \"2020-11-27\", \"2020-11-28\", \"2020-11-29\", \"2020-11-30\", \"2020-12-01\", \"2020-12-02\", \"2020-12-03\", \"2020-12-04\", \"2020-12-05\", \"2020-12-07\", \"2020-12-09\", \"2020-12-10\", \"2020-12-11\", \"2020-12-12\", \"2020-12-13\", \"2020-12-17\", \"2020-12-18\", \"2020-12-19\", \"2020-12-24\", \"2020-12-28\", \"2020-12-29\", \"2020-12-30\", \"2020-12-31\", \"2021-01-04\", \"2021-01-05\", \"2021-01-06\", \"2021-01-07\", \"2021-01-08\", \"2021-01-10\", \"2021-01-12\", \"2021-01-13\", \"2021-01-14\", \"2021-01-15\", \"2021-01-17\", \"2021-01-18\", \"2021-01-20\", \"2021-01-21\", \"2021-01-22\", \"2021-02-05\", \"2021-02-06\", \"2021-02-09\", \"2021-02-10\", \"2021-02-11\", \"2021-02-12\", \"2021-02-14\", \"2021-02-15\", \"2021-02-16\", \"2021-02-17\", \"2021-02-18\", \"2021-02-19\", \"2021-02-20\", \"2021-02-22\", \"2021-02-23\", \"2021-02-24\", \"2021-02-25\", \"2021-02-26\", \"2021-02-27\", \"2021-03-01\", \"2021-03-02\", \"2021-03-03\", \"2021-03-04\", \"2021-03-05\", \"2021-03-08\", \"2021-03-09\", \"2021-03-11\", \"2021-03-15\", \"2021-03-16\", \"2021-03-17\", \"2021-03-25\", \"2021-03-26\", \"2021-03-27\", \"2021-03-29\", \"2021-04-04\", \"2021-04-05\", \"2021-04-06\", \"2021-04-07\", \"2021-04-08\", \"2021-04-09\", \"2021-04-10\", \"2021-04-12\", \"2021-04-21\", \"2021-04-22\", \"2021-04-23\", \"2021-04-26\", \"2021-04-27\", \"2021-04-28\", \"2021-04-30\", \"2021-05-01\", \"2021-05-02\", \"2021-05-03\", \"2021-05-04\", \"2021-05-05\", \"2021-05-07\", \"2021-05-08\", \"2021-05-09\", \"2021-05-10\", \"2021-05-11\", \"2021-05-12\", \"2021-05-13\", \"2021-05-14\", \"2021-05-17\", \"2021-05-18\", \"2021-05-19\", \"2021-05-21\", \"2021-05-25\", \"2021-05-26\", \"2021-05-27\", \"2021-05-28\", \"2021-05-31\", \"2021-06-01\", \"2021-06-03\", \"2021-06-04\", \"2021-06-05\", \"2021-06-06\"], \"y\": [14, 14, 14, 14, 14, 14, 14, 17, 17, 22, 23, 23, 24, 24, 25, 25, 25, 25, 26, 26, 26, 28, 28, 28, 28, 28, 28, 28, 28, 28, 28, 28, 28, 28, 28, 28, 29, 29, 29, 29, 30, 30, 30, 30, 30, 32, 33, 34, 35, 35, 35, 35, 36, 36, 36, 36, 36, 36, 37, 41, 41, 41, 41, 41, 43, 43, 49, 49, 49, 51, 51, 51, 51, 51, 51, 52, 52, 52, 52, 54, 54, 54, 56, 57, 58, 58, 62, 62, 62, 62, 62, 63, 63, 63, 63, 64, 66, 66, 66, 66, 66, 66, 66, 66, 66, 66, 66, 66, 66, 66, 66, 66, 67, 67, 68, 68, 68, 68, 68, 69, 69, 70, 80, 84, 88, 88, 88, 88, 92, 92, 92, 92, 94, 94, 94, 94, 94, 94, 94, 94, 95, 96, 96, 97, 97, 97, 97, 97, 98, 98, 98, 98, 98, 98, 98, 98, 98, 98, 98, 98, 98, 98, 98, 98, 100, 100, 100, 100, 100, 102, 102, 102, 102, 102, 102, 102, 102, 102, 102, 102, 102, 102, 102, 102, 102, 102, 102, 102, 102, 102, 102, 102, 102, 102, 102, 102, 102, 102, 102]}, {\"mode\": \"lines\", \"name\": \"antipersona\", \"type\": \"scatter\", \"x\": [\"2020-08-14\", \"2020-08-17\", \"2020-08-18\", \"2020-08-19\", \"2020-08-20\", \"2020-08-21\", \"2020-08-22\", \"2020-08-23\", \"2020-08-24\", \"2020-08-25\", \"2020-08-26\", \"2020-08-27\", \"2020-08-28\", \"2020-08-29\", \"2020-08-30\", \"2020-08-31\", \"2020-09-01\", \"2020-09-02\", \"2020-09-03\", \"2020-09-04\", \"2020-09-07\", \"2020-09-08\", \"2020-09-09\", \"2020-09-10\", \"2020-09-11\", \"2020-09-12\", \"2020-09-15\", \"2020-09-16\", \"2020-09-17\", \"2020-09-18\", \"2020-09-19\", \"2020-09-21\", \"2020-09-22\", \"2020-09-23\", \"2020-09-24\", \"2020-09-25\", \"2020-09-26\", \"2020-09-27\", \"2020-09-28\", \"2020-09-29\", \"2020-09-30\", \"2020-10-01\", \"2020-10-02\", \"2020-10-03\", \"2020-10-05\", \"2020-10-06\", \"2020-10-07\", \"2020-10-08\", \"2020-10-09\", \"2020-10-10\", \"2020-10-13\", \"2020-10-14\", \"2020-10-15\", \"2020-10-16\", \"2020-10-17\", \"2020-10-19\", \"2020-10-20\", \"2020-10-21\", \"2020-10-22\", \"2020-10-23\", \"2020-10-24\", \"2020-10-25\", \"2020-10-26\", \"2020-10-27\", \"2020-10-28\", \"2020-11-06\", \"2020-11-07\", \"2020-11-08\", \"2020-11-09\", \"2020-11-10\", \"2020-11-11\", \"2020-11-12\", \"2020-11-13\", \"2020-11-14\", \"2020-11-15\", \"2020-11-16\", \"2020-11-17\", \"2020-11-18\", \"2020-11-19\", \"2020-11-20\", \"2020-11-21\", \"2020-11-23\", \"2020-11-24\", \"2020-11-25\", \"2020-11-26\", \"2020-11-27\", \"2020-11-28\", \"2020-11-29\", \"2020-11-30\", \"2020-12-01\", \"2020-12-02\", \"2020-12-03\", \"2020-12-04\", \"2020-12-05\", \"2020-12-07\", \"2020-12-09\", \"2020-12-10\", \"2020-12-11\", \"2020-12-12\", \"2020-12-13\", \"2020-12-17\", \"2020-12-18\", \"2020-12-19\", \"2020-12-24\", \"2020-12-28\", \"2020-12-29\", \"2020-12-30\", \"2020-12-31\", \"2021-01-04\", \"2021-01-05\", \"2021-01-06\", \"2021-01-07\", \"2021-01-08\", \"2021-01-10\", \"2021-01-12\", \"2021-01-13\", \"2021-01-14\", \"2021-01-15\", \"2021-01-17\", \"2021-01-18\", \"2021-01-20\", \"2021-01-21\", \"2021-01-22\", \"2021-02-05\", \"2021-02-06\", \"2021-02-09\", \"2021-02-10\", \"2021-02-11\", \"2021-02-12\", \"2021-02-14\", \"2021-02-15\", \"2021-02-16\", \"2021-02-17\", \"2021-02-18\", \"2021-02-19\", \"2021-02-20\", \"2021-02-22\", \"2021-02-23\", \"2021-02-24\", \"2021-02-25\", \"2021-02-26\", \"2021-02-27\", \"2021-03-01\", \"2021-03-02\", \"2021-03-03\", \"2021-03-04\", \"2021-03-05\", \"2021-03-08\", \"2021-03-09\", \"2021-03-11\", \"2021-03-15\", \"2021-03-16\", \"2021-03-17\", \"2021-03-25\", \"2021-03-26\", \"2021-03-27\", \"2021-03-29\", \"2021-04-04\", \"2021-04-05\", \"2021-04-06\", \"2021-04-07\", \"2021-04-08\", \"2021-04-09\", \"2021-04-10\", \"2021-04-12\", \"2021-04-21\", \"2021-04-22\", \"2021-04-23\", \"2021-04-26\", \"2021-04-27\", \"2021-04-28\", \"2021-04-30\", \"2021-05-01\", \"2021-05-02\", \"2021-05-03\", \"2021-05-04\", \"2021-05-05\", \"2021-05-07\", \"2021-05-08\", \"2021-05-09\", \"2021-05-10\", \"2021-05-11\", \"2021-05-12\", \"2021-05-13\", \"2021-05-14\", \"2021-05-17\", \"2021-05-18\", \"2021-05-19\", \"2021-05-21\", \"2021-05-25\", \"2021-05-26\", \"2021-05-27\", \"2021-05-28\", \"2021-05-31\", \"2021-06-01\", \"2021-06-03\", \"2021-06-04\", \"2021-06-05\", \"2021-06-06\"], \"y\": [13, 13, 13, 13, 13, 13, 13, 13, 13, 13, 13, 13, 13, 13, 13, 13, 13, 13, 13, 13, 13, 13, 13, 13, 13, 13, 13, 13, 13, 13, 13, 13, 13, 13, 13, 13, 13, 13, 13, 13, 13, 13, 13, 13, 13, 13, 13, 13, 13, 13, 13, 13, 14, 14, 14, 14, 14, 14, 14, 14, 14, 14, 14, 14, 14, 14, 14, 14, 14, 14, 14, 14, 14, 14, 14, 14, 14, 14, 14, 14, 14, 14, 14, 15, 15, 15, 16, 16, 16, 16, 16, 16, 16, 16, 16, 17, 18, 18, 18, 18, 18, 18, 18, 18, 18, 18, 18, 18, 18, 18, 18, 18, 18, 18, 18, 18, 18, 18, 18, 18, 18, 18, 18, 22, 26, 26, 26, 26, 28, 28, 28, 28, 30, 30, 30, 30, 30, 30, 30, 30, 31, 31, 31, 31, 31, 31, 31, 31, 31, 31, 31, 31, 31, 31, 31, 31, 31, 31, 31, 31, 31, 31, 31, 31, 31, 31, 31, 31, 31, 31, 31, 31, 31, 31, 31, 31, 31, 31, 31, 31, 31, 31, 31, 31, 31, 31, 31, 31, 31, 31, 31, 31, 31, 31, 31, 31, 31, 31, 31]}, {\"mode\": \"lines\", \"name\": \"liberados\", \"type\": \"scatter\", \"x\": [\"2020-08-14\", \"2020-08-17\", \"2020-08-18\", \"2020-08-19\", \"2020-08-20\", \"2020-08-21\", \"2020-08-22\", \"2020-08-23\", \"2020-08-24\", \"2020-08-25\", \"2020-08-26\", \"2020-08-27\", \"2020-08-28\", \"2020-08-29\", \"2020-08-30\", \"2020-08-31\", \"2020-09-01\", \"2020-09-02\", \"2020-09-03\", \"2020-09-04\", \"2020-09-07\", \"2020-09-08\", \"2020-09-09\", \"2020-09-10\", \"2020-09-11\", \"2020-09-12\", \"2020-09-15\", \"2020-09-16\", \"2020-09-17\", \"2020-09-18\", \"2020-09-19\", \"2020-09-21\", \"2020-09-22\", \"2020-09-23\", \"2020-09-24\", \"2020-09-25\", \"2020-09-26\", \"2020-09-27\", \"2020-09-28\", \"2020-09-29\", \"2020-09-30\", \"2020-10-01\", \"2020-10-02\", \"2020-10-03\", \"2020-10-05\", \"2020-10-06\", \"2020-10-07\", \"2020-10-08\", \"2020-10-09\", \"2020-10-10\", \"2020-10-13\", \"2020-10-14\", \"2020-10-15\", \"2020-10-16\", \"2020-10-17\", \"2020-10-19\", \"2020-10-20\", \"2020-10-21\", \"2020-10-22\", \"2020-10-23\", \"2020-10-24\", \"2020-10-25\", \"2020-10-26\", \"2020-10-27\", \"2020-10-28\", \"2020-11-06\", \"2020-11-07\", \"2020-11-08\", \"2020-11-09\", \"2020-11-10\", \"2020-11-11\", \"2020-11-12\", \"2020-11-13\", \"2020-11-14\", \"2020-11-15\", \"2020-11-16\", \"2020-11-17\", \"2020-11-18\", \"2020-11-19\", \"2020-11-20\", \"2020-11-21\", \"2020-11-23\", \"2020-11-24\", \"2020-11-25\", \"2020-11-26\", \"2020-11-27\", \"2020-11-28\", \"2020-11-29\", \"2020-11-30\", \"2020-12-01\", \"2020-12-02\", \"2020-12-03\", \"2020-12-04\", \"2020-12-05\", \"2020-12-07\", \"2020-12-09\", \"2020-12-10\", \"2020-12-11\", \"2020-12-12\", \"2020-12-13\", \"2020-12-17\", \"2020-12-18\", \"2020-12-19\", \"2020-12-24\", \"2020-12-28\", \"2020-12-29\", \"2020-12-30\", \"2020-12-31\", \"2021-01-04\", \"2021-01-05\", \"2021-01-06\", \"2021-01-07\", \"2021-01-08\", \"2021-01-10\", \"2021-01-12\", \"2021-01-13\", \"2021-01-14\", \"2021-01-15\", \"2021-01-17\", \"2021-01-18\", \"2021-01-20\", \"2021-01-21\", \"2021-01-22\", \"2021-02-05\", \"2021-02-06\", \"2021-02-09\", \"2021-02-10\", \"2021-02-11\", \"2021-02-12\", \"2021-02-14\", \"2021-02-15\", \"2021-02-16\", \"2021-02-17\", \"2021-02-18\", \"2021-02-19\", \"2021-02-20\", \"2021-02-22\", \"2021-02-23\", \"2021-02-24\", \"2021-02-25\", \"2021-02-26\", \"2021-02-27\", \"2021-03-01\", \"2021-03-02\", \"2021-03-03\", \"2021-03-04\", \"2021-03-05\", \"2021-03-08\", \"2021-03-09\", \"2021-03-11\", \"2021-03-15\", \"2021-03-16\", \"2021-03-17\", \"2021-03-25\", \"2021-03-26\", \"2021-03-27\", \"2021-03-29\", \"2021-04-04\", \"2021-04-05\", \"2021-04-06\", \"2021-04-07\", \"2021-04-08\", \"2021-04-09\", \"2021-04-10\", \"2021-04-12\", \"2021-04-21\", \"2021-04-22\", \"2021-04-23\", \"2021-04-26\", \"2021-04-27\", \"2021-04-28\", \"2021-04-30\", \"2021-05-01\", \"2021-05-02\", \"2021-05-03\", \"2021-05-04\", \"2021-05-05\", \"2021-05-07\", \"2021-05-08\", \"2021-05-09\", \"2021-05-10\", \"2021-05-11\", \"2021-05-12\", \"2021-05-13\", \"2021-05-14\", \"2021-05-17\", \"2021-05-18\", \"2021-05-19\", \"2021-05-21\", \"2021-05-25\", \"2021-05-26\", \"2021-05-27\", \"2021-05-28\", \"2021-05-31\", \"2021-06-01\", \"2021-06-03\", \"2021-06-04\", \"2021-06-05\", \"2021-06-06\"], \"y\": [5, 5, 5, 5, 5, 5, 5, 5, 5, 5, 5, 5, 5, 5, 5, 5, 5, 5, 5, 5, 5, 5, 5, 5, 5, 5, 5, 5, 5, 5, 5, 5, 5, 5, 5, 5, 5, 5, 5, 5, 5, 5, 5, 5, 5, 5, 5, 5, 5, 5, 5, 5, 5, 5, 5, 5, 5, 5, 5, 5, 5, 5, 5, 5, 5, 5, 5, 5, 5, 5, 5, 5, 5, 5, 5, 5, 5, 5, 5, 5, 5, 5, 5, 5, 5, 5, 5, 5, 5, 5, 5, 5, 5, 5, 5, 5, 5, 5, 5, 5, 5, 5, 5, 5, 5, 5, 5, 5, 5, 5, 5, 5, 5, 5, 5, 5, 5, 5, 5, 5, 5, 5, 5, 5, 5, 5, 5, 5, 5, 5, 5, 5, 5, 5, 5, 5, 5, 5, 5, 5, 5, 5, 5, 5, 5, 5, 5, 5, 5, 5, 5, 5, 5, 5, 5, 5, 5, 5, 5, 5, 5, 5, 5, 5, 5, 5, 5, 5, 5, 5, 5, 5, 5, 5, 5, 5, 5, 5, 5, 5, 5, 5, 5, 5, 5, 5, 5, 5, 5, 5, 5, 5, 5, 5, 5, 5, 5, 5, 5]}, {\"mode\": \"lines\", \"name\": \"municipios\", \"type\": \"scatter\", \"x\": [\"2020-08-14\", \"2020-08-17\", \"2020-08-18\", \"2020-08-19\", \"2020-08-20\", \"2020-08-21\", \"2020-08-22\", \"2020-08-23\", \"2020-08-24\", \"2020-08-25\", \"2020-08-26\", \"2020-08-27\", \"2020-08-28\", \"2020-08-29\", \"2020-08-30\", \"2020-08-31\", \"2020-09-01\", \"2020-09-02\", \"2020-09-03\", \"2020-09-04\", \"2020-09-07\", \"2020-09-08\", \"2020-09-09\", \"2020-09-10\", \"2020-09-11\", \"2020-09-12\", \"2020-09-15\", \"2020-09-16\", \"2020-09-17\", \"2020-09-18\", \"2020-09-19\", \"2020-09-21\", \"2020-09-22\", \"2020-09-23\", \"2020-09-24\", \"2020-09-25\", \"2020-09-26\", \"2020-09-27\", \"2020-09-28\", \"2020-09-29\", \"2020-09-30\", \"2020-10-01\", \"2020-10-02\", \"2020-10-03\", \"2020-10-05\", \"2020-10-06\", \"2020-10-07\", \"2020-10-08\", \"2020-10-09\", \"2020-10-10\", \"2020-10-13\", \"2020-10-14\", \"2020-10-15\", \"2020-10-16\", \"2020-10-17\", \"2020-10-19\", \"2020-10-20\", \"2020-10-21\", \"2020-10-22\", \"2020-10-23\", \"2020-10-24\", \"2020-10-25\", \"2020-10-26\", \"2020-10-27\", \"2020-10-28\", \"2020-11-06\", \"2020-11-07\", \"2020-11-08\", \"2020-11-09\", \"2020-11-10\", \"2020-11-11\", \"2020-11-12\", \"2020-11-13\", \"2020-11-14\", \"2020-11-15\", \"2020-11-16\", \"2020-11-17\", \"2020-11-18\", \"2020-11-19\", \"2020-11-20\", \"2020-11-21\", \"2020-11-23\", \"2020-11-24\", \"2020-11-25\", \"2020-11-26\", \"2020-11-27\", \"2020-11-28\", \"2020-11-29\", \"2020-11-30\", \"2020-12-01\", \"2020-12-02\", \"2020-12-03\", \"2020-12-04\", \"2020-12-05\", \"2020-12-07\", \"2020-12-09\", \"2020-12-10\", \"2020-12-11\", \"2020-12-12\", \"2020-12-13\", \"2020-12-17\", \"2020-12-18\", \"2020-12-19\", \"2020-12-24\", \"2020-12-28\", \"2020-12-29\", \"2020-12-30\", \"2020-12-31\", \"2021-01-04\", \"2021-01-05\", \"2021-01-06\", \"2021-01-07\", \"2021-01-08\", \"2021-01-10\", \"2021-01-12\", \"2021-01-13\", \"2021-01-14\", \"2021-01-15\", \"2021-01-17\", \"2021-01-18\", \"2021-01-20\", \"2021-01-21\", \"2021-01-22\", \"2021-02-05\", \"2021-02-06\", \"2021-02-09\", \"2021-02-10\", \"2021-02-11\", \"2021-02-12\", \"2021-02-14\", \"2021-02-15\", \"2021-02-16\", \"2021-02-17\", \"2021-02-18\", \"2021-02-19\", \"2021-02-20\", \"2021-02-22\", \"2021-02-23\", \"2021-02-24\", \"2021-02-25\", \"2021-02-26\", \"2021-02-27\", \"2021-03-01\", \"2021-03-02\", \"2021-03-03\", \"2021-03-04\", \"2021-03-05\", \"2021-03-08\", \"2021-03-09\", \"2021-03-11\", \"2021-03-15\", \"2021-03-16\", \"2021-03-17\", \"2021-03-25\", \"2021-03-26\", \"2021-03-27\", \"2021-03-29\", \"2021-04-04\", \"2021-04-05\", \"2021-04-06\", \"2021-04-07\", \"2021-04-08\", \"2021-04-09\", \"2021-04-10\", \"2021-04-12\", \"2021-04-21\", \"2021-04-22\", \"2021-04-23\", \"2021-04-26\", \"2021-04-27\", \"2021-04-28\", \"2021-04-30\", \"2021-05-01\", \"2021-05-02\", \"2021-05-03\", \"2021-05-04\", \"2021-05-05\", \"2021-05-07\", \"2021-05-08\", \"2021-05-09\", \"2021-05-10\", \"2021-05-11\", \"2021-05-12\", \"2021-05-13\", \"2021-05-14\", \"2021-05-17\", \"2021-05-18\", \"2021-05-19\", \"2021-05-21\", \"2021-05-25\", \"2021-05-26\", \"2021-05-27\", \"2021-05-28\", \"2021-05-31\", \"2021-06-01\", \"2021-06-03\", \"2021-06-04\", \"2021-06-05\", \"2021-06-06\"], \"y\": [17, 18, 20, 21, 22, 23, 25, 25, 38, 44, 47, 50, 64, 64, 64, 66, 67, 69, 74, 76, 80, 82, 96, 98, 99, 99, 125, 139, 152, 153, 154, 167, 169, 182, 195, 196, 197, 198, 213, 215, 221, 235, 249, 251, 264, 277, 281, 283, 286, 286, 287, 290, 295, 296, 296, 296, 298, 300, 314, 329, 330, 330, 345, 359, 360, 362, 368, 368, 394, 398, 424, 426, 430, 430, 430, 430, 432, 434, 437, 437, 437, 439, 453, 471, 475, 478, 488, 488, 491, 492, 494, 509, 513, 514, 516, 517, 522, 524, 524, 524, 526, 528, 528, 528, 530, 532, 533, 533, 535, 535, 537, 539, 541, 541, 541, 541, 543, 546, 546, 550, 552, 554, 557, 561, 561, 569, 573, 599, 603, 603, 603, 605, 605, 607, 609, 609, 611, 624, 638, 641, 641, 641, 643, 645, 660, 662, 679, 681, 683, 685, 699, 700, 700, 726, 756, 756, 758, 764, 764, 790, 794, 822, 848, 850, 850, 876, 902, 928, 930, 958, 962, 962, 962, 962, 964, 966, 966, 966, 966, 966, 966, 966, 966, 973, 973, 973, 974, 974, 977, 977, 977, 977, 977, 977, 977, 979, 982, 982, 982]}],                        {\"height\": 500, \"legend\": {\"tracegroupgap\": 0}, \"margin\": {\"t\": 60}, \"template\": {\"data\": {\"bar\": [{\"error_x\": {\"color\": \"#2a3f5f\"}, \"error_y\": {\"color\": \"#2a3f5f\"}, \"marker\": {\"line\": {\"color\": \"#E5ECF6\", \"width\": 0.5}}, \"type\": \"bar\"}], \"barpolar\": [{\"marker\": {\"line\": {\"color\": \"#E5ECF6\", \"width\": 0.5}}, \"type\": \"barpolar\"}], \"carpet\": [{\"aaxis\": {\"endlinecolor\": \"#2a3f5f\", \"gridcolor\": \"white\", \"linecolor\": \"white\", \"minorgridcolor\": \"white\", \"startlinecolor\": \"#2a3f5f\"}, \"baxis\": {\"endlinecolor\": \"#2a3f5f\", \"gridcolor\": \"white\", \"linecolor\": \"white\", \"minorgridcolor\": \"white\", \"startlinecolor\": \"#2a3f5f\"}, \"type\": \"carpet\"}], \"choropleth\": [{\"colorbar\": {\"outlinewidth\": 0, \"ticks\": \"\"}, \"type\": \"choropleth\"}], \"contour\": [{\"colorbar\": {\"outlinewidth\": 0, \"ticks\": \"\"}, \"colorscale\": [[0.0, \"#0d0887\"], [0.1111111111111111, \"#46039f\"], [0.2222222222222222, \"#7201a8\"], [0.3333333333333333, \"#9c179e\"], [0.4444444444444444, \"#bd3786\"], [0.5555555555555556, \"#d8576b\"], [0.6666666666666666, \"#ed7953\"], [0.7777777777777778, \"#fb9f3a\"], [0.8888888888888888, \"#fdca26\"], [1.0, \"#f0f921\"]], \"type\": \"contour\"}], \"contourcarpet\": [{\"colorbar\": {\"outlinewidth\": 0, \"ticks\": \"\"}, \"type\": \"contourcarpet\"}], \"heatmap\": [{\"colorbar\": {\"outlinewidth\": 0, \"ticks\": \"\"}, \"colorscale\": [[0.0, \"#0d0887\"], [0.1111111111111111, \"#46039f\"], [0.2222222222222222, \"#7201a8\"], [0.3333333333333333, \"#9c179e\"], [0.4444444444444444, \"#bd3786\"], [0.5555555555555556, \"#d8576b\"], [0.6666666666666666, \"#ed7953\"], [0.7777777777777778, \"#fb9f3a\"], [0.8888888888888888, \"#fdca26\"], [1.0, \"#f0f921\"]], \"type\": \"heatmap\"}], \"heatmapgl\": [{\"colorbar\": {\"outlinewidth\": 0, \"ticks\": \"\"}, \"colorscale\": [[0.0, \"#0d0887\"], [0.1111111111111111, \"#46039f\"], [0.2222222222222222, \"#7201a8\"], [0.3333333333333333, \"#9c179e\"], [0.4444444444444444, \"#bd3786\"], [0.5555555555555556, \"#d8576b\"], [0.6666666666666666, \"#ed7953\"], [0.7777777777777778, \"#fb9f3a\"], [0.8888888888888888, \"#fdca26\"], [1.0, \"#f0f921\"]], \"type\": \"heatmapgl\"}], \"histogram\": [{\"marker\": {\"colorbar\": {\"outlinewidth\": 0, \"ticks\": \"\"}}, \"type\": \"histogram\"}], \"histogram2d\": [{\"colorbar\": {\"outlinewidth\": 0, \"ticks\": \"\"}, \"colorscale\": [[0.0, \"#0d0887\"], [0.1111111111111111, \"#46039f\"], [0.2222222222222222, \"#7201a8\"], [0.3333333333333333, \"#9c179e\"], [0.4444444444444444, \"#bd3786\"], [0.5555555555555556, \"#d8576b\"], [0.6666666666666666, \"#ed7953\"], [0.7777777777777778, \"#fb9f3a\"], [0.8888888888888888, \"#fdca26\"], [1.0, \"#f0f921\"]], \"type\": \"histogram2d\"}], \"histogram2dcontour\": [{\"colorbar\": {\"outlinewidth\": 0, \"ticks\": \"\"}, \"colorscale\": [[0.0, \"#0d0887\"], [0.1111111111111111, \"#46039f\"], [0.2222222222222222, \"#7201a8\"], [0.3333333333333333, \"#9c179e\"], [0.4444444444444444, \"#bd3786\"], [0.5555555555555556, \"#d8576b\"], [0.6666666666666666, \"#ed7953\"], [0.7777777777777778, \"#fb9f3a\"], [0.8888888888888888, \"#fdca26\"], [1.0, \"#f0f921\"]], \"type\": \"histogram2dcontour\"}], \"mesh3d\": [{\"colorbar\": {\"outlinewidth\": 0, \"ticks\": \"\"}, \"type\": \"mesh3d\"}], \"parcoords\": [{\"line\": {\"colorbar\": {\"outlinewidth\": 0, \"ticks\": \"\"}}, \"type\": \"parcoords\"}], \"pie\": [{\"automargin\": true, \"type\": \"pie\"}], \"scatter\": [{\"marker\": {\"colorbar\": {\"outlinewidth\": 0, \"ticks\": \"\"}}, \"type\": \"scatter\"}], \"scatter3d\": [{\"line\": {\"colorbar\": {\"outlinewidth\": 0, \"ticks\": \"\"}}, \"marker\": {\"colorbar\": {\"outlinewidth\": 0, \"ticks\": \"\"}}, \"type\": \"scatter3d\"}], \"scattercarpet\": [{\"marker\": {\"colorbar\": {\"outlinewidth\": 0, \"ticks\": \"\"}}, \"type\": \"scattercarpet\"}], \"scattergeo\": [{\"marker\": {\"colorbar\": {\"outlinewidth\": 0, \"ticks\": \"\"}}, \"type\": \"scattergeo\"}], \"scattergl\": [{\"marker\": {\"colorbar\": {\"outlinewidth\": 0, \"ticks\": \"\"}}, \"type\": \"scattergl\"}], \"scattermapbox\": [{\"marker\": {\"colorbar\": {\"outlinewidth\": 0, \"ticks\": \"\"}}, \"type\": \"scattermapbox\"}], \"scatterpolar\": [{\"marker\": {\"colorbar\": {\"outlinewidth\": 0, \"ticks\": \"\"}}, \"type\": \"scatterpolar\"}], \"scatterpolargl\": [{\"marker\": {\"colorbar\": {\"outlinewidth\": 0, \"ticks\": \"\"}}, \"type\": \"scatterpolargl\"}], \"scatterternary\": [{\"marker\": {\"colorbar\": {\"outlinewidth\": 0, \"ticks\": \"\"}}, \"type\": \"scatterternary\"}], \"surface\": [{\"colorbar\": {\"outlinewidth\": 0, \"ticks\": \"\"}, \"colorscale\": [[0.0, \"#0d0887\"], [0.1111111111111111, \"#46039f\"], [0.2222222222222222, \"#7201a8\"], [0.3333333333333333, \"#9c179e\"], [0.4444444444444444, \"#bd3786\"], [0.5555555555555556, \"#d8576b\"], [0.6666666666666666, \"#ed7953\"], [0.7777777777777778, \"#fb9f3a\"], [0.8888888888888888, \"#fdca26\"], [1.0, \"#f0f921\"]], \"type\": \"surface\"}], \"table\": [{\"cells\": {\"fill\": {\"color\": \"#EBF0F8\"}, \"line\": {\"color\": \"white\"}}, \"header\": {\"fill\": {\"color\": \"#C8D4E3\"}, \"line\": {\"color\": \"white\"}}, \"type\": \"table\"}]}, \"layout\": {\"annotationdefaults\": {\"arrowcolor\": \"#2a3f5f\", \"arrowhead\": 0, \"arrowwidth\": 1}, \"autotypenumbers\": \"strict\", \"coloraxis\": {\"colorbar\": {\"outlinewidth\": 0, \"ticks\": \"\"}}, \"colorscale\": {\"diverging\": [[0, \"#8e0152\"], [0.1, \"#c51b7d\"], [0.2, \"#de77ae\"], [0.3, \"#f1b6da\"], [0.4, \"#fde0ef\"], [0.5, \"#f7f7f7\"], [0.6, \"#e6f5d0\"], [0.7, \"#b8e186\"], [0.8, \"#7fbc41\"], [0.9, \"#4d9221\"], [1, \"#276419\"]], \"sequential\": [[0.0, \"#0d0887\"], [0.1111111111111111, \"#46039f\"], [0.2222222222222222, \"#7201a8\"], [0.3333333333333333, \"#9c179e\"], [0.4444444444444444, \"#bd3786\"], [0.5555555555555556, \"#d8576b\"], [0.6666666666666666, \"#ed7953\"], [0.7777777777777778, \"#fb9f3a\"], [0.8888888888888888, \"#fdca26\"], [1.0, \"#f0f921\"]], \"sequentialminus\": [[0.0, \"#0d0887\"], [0.1111111111111111, \"#46039f\"], [0.2222222222222222, \"#7201a8\"], [0.3333333333333333, \"#9c179e\"], [0.4444444444444444, \"#bd3786\"], [0.5555555555555556, \"#d8576b\"], [0.6666666666666666, \"#ed7953\"], [0.7777777777777778, \"#fb9f3a\"], [0.8888888888888888, \"#fdca26\"], [1.0, \"#f0f921\"]]}, \"colorway\": [\"#636efa\", \"#EF553B\", \"#00cc96\", \"#ab63fa\", \"#FFA15A\", \"#19d3f3\", \"#FF6692\", \"#B6E880\", \"#FF97FF\", \"#FECB52\"], \"font\": {\"color\": \"#2a3f5f\"}, \"geo\": {\"bgcolor\": \"white\", \"lakecolor\": \"white\", \"landcolor\": \"#E5ECF6\", \"showlakes\": true, \"showland\": true, \"subunitcolor\": \"white\"}, \"hoverlabel\": {\"align\": \"left\"}, \"hovermode\": \"closest\", \"mapbox\": {\"style\": \"light\"}, \"paper_bgcolor\": \"white\", \"plot_bgcolor\": \"#E5ECF6\", \"polar\": {\"angularaxis\": {\"gridcolor\": \"white\", \"linecolor\": \"white\", \"ticks\": \"\"}, \"bgcolor\": \"#E5ECF6\", \"radialaxis\": {\"gridcolor\": \"white\", \"linecolor\": \"white\", \"ticks\": \"\"}}, \"scene\": {\"xaxis\": {\"backgroundcolor\": \"#E5ECF6\", \"gridcolor\": \"white\", \"gridwidth\": 2, \"linecolor\": \"white\", \"showbackground\": true, \"ticks\": \"\", \"zerolinecolor\": \"white\"}, \"yaxis\": {\"backgroundcolor\": \"#E5ECF6\", \"gridcolor\": \"white\", \"gridwidth\": 2, \"linecolor\": \"white\", \"showbackground\": true, \"ticks\": \"\", \"zerolinecolor\": \"white\"}, \"zaxis\": {\"backgroundcolor\": \"#E5ECF6\", \"gridcolor\": \"white\", \"gridwidth\": 2, \"linecolor\": \"white\", \"showbackground\": true, \"ticks\": \"\", \"zerolinecolor\": \"white\"}}, \"shapedefaults\": {\"line\": {\"color\": \"#2a3f5f\"}}, \"ternary\": {\"aaxis\": {\"gridcolor\": \"white\", \"linecolor\": \"white\", \"ticks\": \"\"}, \"baxis\": {\"gridcolor\": \"white\", \"linecolor\": \"white\", \"ticks\": \"\"}, \"bgcolor\": \"#E5ECF6\", \"caxis\": {\"gridcolor\": \"white\", \"linecolor\": \"white\", \"ticks\": \"\"}}, \"title\": {\"x\": 0.05}, \"xaxis\": {\"automargin\": true, \"gridcolor\": \"white\", \"linecolor\": \"white\", \"ticks\": \"\", \"title\": {\"standoff\": 15}, \"zerolinecolor\": \"white\", \"zerolinewidth\": 2}, \"yaxis\": {\"automargin\": true, \"gridcolor\": \"white\", \"linecolor\": \"white\", \"ticks\": \"\", \"title\": {\"standoff\": 15}, \"zerolinecolor\": \"white\", \"zerolinewidth\": 2}}}, \"title\": {\"font\": {\"size\": 15}, \"text\": \"Las palabras claves de la fecha <b> 2020-08-14</b> son: sospecha, minas, antipersona, liberados, municipios\", \"x\": 0.5, \"xanchor\": \"center\"}, \"width\": 800, \"xaxis\": {\"anchor\": \"y\", \"domain\": [0.0, 1.0]}, \"yaxis\": {\"anchor\": \"x\", \"domain\": [0.0, 1.0]}},                        {\"responsive\": true}                    ).then(function(){\n                            \nvar gd = document.getElementById('12593b7f-4e81-4a3d-b620-6e6c734d5cdc');\nvar x = new MutationObserver(function (mutations, observer) {{\n        var display = window.getComputedStyle(gd).display;\n        if (!display || display === 'none') {{\n            console.log([gd, 'removed!']);\n            Plotly.purge(gd);\n            observer.disconnect();\n        }}\n}});\n\n// Listen for the removal of the full notebook cells\nvar notebookContainer = gd.closest('#notebook-container');\nif (notebookContainer) {{\n    x.observe(notebookContainer, {childList: true});\n}}\n\n// Listen for the clearing of the current output cell\nvar outputEl = gd.closest('.output');\nif (outputEl) {{\n    x.observe(outputEl, {childList: true});\n}}\n\n                        })                };                });            </script>        </div>"
         },
         "metadata": {},
         "output_type": "display_data"
        }
       ]
      }
     },
     "a1d46f44fd764eee8dc2a30717bd2f18": {
      "model_module": "@jupyter-widgets/base",
      "model_module_version": "1.2.0",
      "model_name": "LayoutModel",
      "state": {}
     },
     "a38d31ebed524374a054a788563520ec": {
      "model_module": "@jupyter-widgets/base",
      "model_module_version": "1.2.0",
      "model_name": "LayoutModel",
      "state": {}
     },
     "a53c4470484c44f0b43c5ec63c444762": {
      "model_module": "@jupyter-widgets/output",
      "model_module_version": "1.0.0",
      "model_name": "OutputModel",
      "state": {
       "layout": "IPY_MODEL_bbf20b6c83f7430cb97d2b25eb5fec40",
       "outputs": [
        {
         "ename": "TypeError",
         "evalue": "unsupported operand type(s) for +: 'int' and 'str'",
         "output_type": "error",
         "traceback": [
          "\u001b[1;31m---------------------------------------------------------------------------\u001b[0m",
          "\u001b[1;31mTypeError\u001b[0m                                 Traceback (most recent call last)",
          "\u001b[1;32mC:\\ProgramData\\Anaconda3\\lib\\site-packages\\ipywidgets\\widgets\\interaction.py\u001b[0m in \u001b[0;36mupdate\u001b[1;34m(self, *args)\u001b[0m\n\u001b[0;32m    254\u001b[0m                     \u001b[0mvalue\u001b[0m \u001b[1;33m=\u001b[0m \u001b[0mwidget\u001b[0m\u001b[1;33m.\u001b[0m\u001b[0mget_interact_value\u001b[0m\u001b[1;33m(\u001b[0m\u001b[1;33m)\u001b[0m\u001b[1;33m\u001b[0m\u001b[1;33m\u001b[0m\u001b[0m\n\u001b[0;32m    255\u001b[0m                     \u001b[0mself\u001b[0m\u001b[1;33m.\u001b[0m\u001b[0mkwargs\u001b[0m\u001b[1;33m[\u001b[0m\u001b[0mwidget\u001b[0m\u001b[1;33m.\u001b[0m\u001b[0m_kwarg\u001b[0m\u001b[1;33m]\u001b[0m \u001b[1;33m=\u001b[0m \u001b[0mvalue\u001b[0m\u001b[1;33m\u001b[0m\u001b[1;33m\u001b[0m\u001b[0m\n\u001b[1;32m--> 256\u001b[1;33m                 \u001b[0mself\u001b[0m\u001b[1;33m.\u001b[0m\u001b[0mresult\u001b[0m \u001b[1;33m=\u001b[0m \u001b[0mself\u001b[0m\u001b[1;33m.\u001b[0m\u001b[0mf\u001b[0m\u001b[1;33m(\u001b[0m\u001b[1;33m**\u001b[0m\u001b[0mself\u001b[0m\u001b[1;33m.\u001b[0m\u001b[0mkwargs\u001b[0m\u001b[1;33m)\u001b[0m\u001b[1;33m\u001b[0m\u001b[1;33m\u001b[0m\u001b[0m\n\u001b[0m\u001b[0;32m    257\u001b[0m                 \u001b[0mshow_inline_matplotlib_plots\u001b[0m\u001b[1;33m(\u001b[0m\u001b[1;33m)\u001b[0m\u001b[1;33m\u001b[0m\u001b[1;33m\u001b[0m\u001b[0m\n\u001b[0;32m    258\u001b[0m                 \u001b[1;32mif\u001b[0m \u001b[0mself\u001b[0m\u001b[1;33m.\u001b[0m\u001b[0mauto_display\u001b[0m \u001b[1;32mand\u001b[0m \u001b[0mself\u001b[0m\u001b[1;33m.\u001b[0m\u001b[0mresult\u001b[0m \u001b[1;32mis\u001b[0m \u001b[1;32mnot\u001b[0m \u001b[1;32mNone\u001b[0m\u001b[1;33m:\u001b[0m\u001b[1;33m\u001b[0m\u001b[1;33m\u001b[0m\u001b[0m\n",
          "\u001b[1;32m<ipython-input-25-d9ff187fd59c>\u001b[0m in \u001b[0;36mupdate_plot\u001b[1;34m(palabra_clave)\u001b[0m\n\u001b[0;32m      6\u001b[0m     fig.update_layout(\n\u001b[0;32m      7\u001b[0m                 title={\n\u001b[1;32m----> 8\u001b[1;33m                 \u001b[1;34m'text'\u001b[0m \u001b[1;33m:\u001b[0m \u001b[1;34m\"Las palabras claves de la fecha <b> \"\u001b[0m\u001b[1;33m+\u001b[0m \u001b[0mstr\u001b[0m\u001b[1;33m(\u001b[0m\u001b[0mtabla_dias\u001b[0m\u001b[1;33m[\u001b[0m\u001b[1;34m'Fecha'\u001b[0m\u001b[1;33m]\u001b[0m\u001b[1;33m[\u001b[0m\u001b[0mpalabra_clave\u001b[0m\u001b[1;33m]\u001b[0m\u001b[1;33m)\u001b[0m \u001b[1;33m+\u001b[0m\u001b[1;34m\"</b> son: \"\u001b[0m \u001b[1;33m+\u001b[0m \u001b[0msum\u001b[0m\u001b[1;33m(\u001b[0m\u001b[0mlist\u001b[0m\u001b[1;33m(\u001b[0m\u001b[0mtabla_dias\u001b[0m\u001b[1;33m[\u001b[0m\u001b[1;34m'Palabras clave'\u001b[0m\u001b[1;33m]\u001b[0m\u001b[1;33m[\u001b[0m\u001b[0mpalabra_clave\u001b[0m\u001b[1;33m]\u001b[0m\u001b[1;33m.\u001b[0m\u001b[0mkeys\u001b[0m\u001b[1;33m(\u001b[0m\u001b[1;33m)\u001b[0m\u001b[1;33m)\u001b[0m\u001b[1;33m)\u001b[0m\u001b[1;33m,\u001b[0m\u001b[1;33m\u001b[0m\u001b[1;33m\u001b[0m\u001b[0m\n\u001b[0m\u001b[0;32m      9\u001b[0m                 \u001b[1;34m'x'\u001b[0m\u001b[1;33m:\u001b[0m\u001b[1;36m0.5\u001b[0m\u001b[1;33m,\u001b[0m\u001b[1;33m\u001b[0m\u001b[1;33m\u001b[0m\u001b[0m\n\u001b[0;32m     10\u001b[0m                 \u001b[1;34m'xanchor'\u001b[0m\u001b[1;33m:\u001b[0m \u001b[1;34m'center'\u001b[0m\u001b[1;33m,\u001b[0m\u001b[1;33m\u001b[0m\u001b[1;33m\u001b[0m\u001b[0m\n",
          "\u001b[1;31mTypeError\u001b[0m: unsupported operand type(s) for +: 'int' and 'str'"
         ]
        }
       ]
      }
     },
     "a75db97b304c4e98859ec395d57ae74b": {
      "model_module": "@jupyter-widgets/base",
      "model_module_version": "1.2.0",
      "model_name": "LayoutModel",
      "state": {}
     },
     "a8205997e53e407c99e8d29d7e950e2c": {
      "model_module": "@jupyter-widgets/controls",
      "model_module_version": "1.5.0",
      "model_name": "VBoxModel",
      "state": {
       "children": [
        "IPY_MODEL_f43c98ecdaa34fc4b4b3dff0ddd9339f",
        "IPY_MODEL_67d2dbefb3fd4f069fcebc2d60bab44d"
       ],
       "layout": "IPY_MODEL_a38d31ebed524374a054a788563520ec"
      }
     },
     "b2f16684c6e544c2acef0f4511c4874f": {
      "model_module": "@jupyter-widgets/controls",
      "model_module_version": "1.5.0",
      "model_name": "DescriptionStyleModel",
      "state": {
       "description_width": ""
      }
     },
     "b570d4a744834b6c866472ee75fabd63": {
      "model_module": "@jupyter-widgets/base",
      "model_module_version": "1.2.0",
      "model_name": "LayoutModel",
      "state": {}
     },
     "b58dd02e8c134427a057cc5e459cdc44": {
      "model_module": "@jupyter-widgets/base",
      "model_module_version": "1.2.0",
      "model_name": "LayoutModel",
      "state": {}
     },
     "b610fcc279a14d88aa43ad7b41fc56aa": {
      "model_module": "@jupyter-widgets/controls",
      "model_module_version": "1.5.0",
      "model_name": "FloatSliderModel",
      "state": {
       "description": "Palabras: ",
       "layout": "IPY_MODEL_15bc2cb20d514353bd6fa9967801a2a0",
       "max": 198,
       "style": "IPY_MODEL_968ef2ecf2b4403bbd79d794e94ceac1"
      }
     },
     "b9abbaea8747485bbd154f4fcbd6ed10": {
      "model_module": "@jupyter-widgets/controls",
      "model_module_version": "1.5.0",
      "model_name": "HTMLModel",
      "state": {
       "layout": "IPY_MODEL_fc06b55012e54fea943e5e4e7004dd31",
       "placeholder": "",
       "style": "IPY_MODEL_14f161dbe40b4725a6d51d6368ca31a9",
       "value": "El tag de la palabra es <b> NNS</b>: Sustantivo, plural"
      }
     },
     "ba8afe314f5f4a3a8a9e6801207e5a39": {
      "model_module": "@jupyter-widgets/controls",
      "model_module_version": "1.5.0",
      "model_name": "FloatSliderModel",
      "state": {
       "description": "Palabras: ",
       "layout": "IPY_MODEL_62bac44c9c914100bbea6cb8cf396eef",
       "max": 198,
       "style": "IPY_MODEL_3725f4b955b444a48b1c221327d163ff",
       "value": 27
      }
     },
     "bb0304b3cf0842acb5dc75dd08e6a8ac": {
      "model_module": "plotlywidget",
      "model_module_version": "^4.14.3",
      "model_name": "FigureModel",
      "state": {
       "_config": {
        "plotlyServerURL": "https://plot.ly"
       },
       "_data": [
        {
         "hovertemplate": "x=%{x}<br>y=%{y}<extra></extra>",
         "legendgroup": "",
         "line": {
          "color": "#636efa",
          "dash": "solid",
          "shape": "spline"
         },
         "mode": "lines",
         "name": "",
         "orientation": "v",
         "showlegend": false,
         "type": "scatter",
         "uid": "d31be6a4-aad9-4252-ba64-0fefe455573d",
         "x": [
          "2020-08-14",
          "2020-08-17",
          "2020-08-18",
          "2020-08-19",
          "2020-08-20",
          "2020-08-21",
          "2020-08-22",
          "2020-08-23",
          "2020-08-24",
          "2020-08-25",
          "2020-08-26",
          "2020-08-27",
          "2020-08-28",
          "2020-08-29",
          "2020-08-30",
          "2020-08-31",
          "2020-09-01",
          "2020-09-02",
          "2020-09-03",
          "2020-09-04",
          "2020-09-07",
          "2020-09-08",
          "2020-09-09",
          "2020-09-10",
          "2020-09-11",
          "2020-09-12",
          "2020-09-15",
          "2020-09-16",
          "2020-09-17",
          "2020-09-18",
          "2020-09-19",
          "2020-09-21",
          "2020-09-22",
          "2020-09-23",
          "2020-09-24",
          "2020-09-25",
          "2020-09-26",
          "2020-09-27",
          "2020-09-28",
          "2020-09-29",
          "2020-09-30",
          "2020-10-01",
          "2020-10-02",
          "2020-10-03",
          "2020-10-05",
          "2020-10-06",
          "2020-10-07",
          "2020-10-08",
          "2020-10-09",
          "2020-10-10",
          "2020-10-13",
          "2020-10-14",
          "2020-10-15",
          "2020-10-16",
          "2020-10-17",
          "2020-10-19",
          "2020-10-20",
          "2020-10-21",
          "2020-10-22",
          "2020-10-23",
          "2020-10-24",
          "2020-10-25",
          "2020-10-26",
          "2020-10-27",
          "2020-10-28",
          "2020-11-06",
          "2020-11-07",
          "2020-11-08",
          "2020-11-09",
          "2020-11-10",
          "2020-11-11",
          "2020-11-12",
          "2020-11-13",
          "2020-11-14",
          "2020-11-15",
          "2020-11-16",
          "2020-11-17",
          "2020-11-18",
          "2020-11-19",
          "2020-11-20",
          "2020-11-21",
          "2020-11-23",
          "2020-11-24",
          "2020-11-25",
          "2020-11-26",
          "2020-11-27",
          "2020-11-28",
          "2020-11-29",
          "2020-11-30",
          "2020-12-01",
          "2020-12-02",
          "2020-12-03",
          "2020-12-04",
          "2020-12-05",
          "2020-12-07",
          "2020-12-09",
          "2020-12-10",
          "2020-12-11",
          "2020-12-12",
          "2020-12-13",
          "2020-12-17",
          "2020-12-18",
          "2020-12-19",
          "2020-12-24",
          "2020-12-28",
          "2020-12-29",
          "2020-12-30",
          "2020-12-31",
          "2021-01-04",
          "2021-01-05",
          "2021-01-06",
          "2021-01-07",
          "2021-01-08",
          "2021-01-10",
          "2021-01-12",
          "2021-01-13",
          "2021-01-14",
          "2021-01-15",
          "2021-01-17",
          "2021-01-18",
          "2021-01-20",
          "2021-01-21",
          "2021-01-22",
          "2021-02-05",
          "2021-02-06",
          "2021-02-09",
          "2021-02-10",
          "2021-02-11",
          "2021-02-12",
          "2021-02-14",
          "2021-02-15",
          "2021-02-16",
          "2021-02-17",
          "2021-02-18",
          "2021-02-19",
          "2021-02-20",
          "2021-02-22",
          "2021-02-23",
          "2021-02-24",
          "2021-02-25",
          "2021-02-26",
          "2021-02-27",
          "2021-03-01",
          "2021-03-02",
          "2021-03-03",
          "2021-03-04",
          "2021-03-05",
          "2021-03-08",
          "2021-03-09",
          "2021-03-11",
          "2021-03-15",
          "2021-03-16",
          "2021-03-17",
          "2021-03-25",
          "2021-03-26",
          "2021-03-27",
          "2021-03-29",
          "2021-04-04",
          "2021-04-05",
          "2021-04-06",
          "2021-04-07",
          "2021-04-08",
          "2021-04-09",
          "2021-04-10",
          "2021-04-12",
          "2021-04-21",
          "2021-04-22",
          "2021-04-23",
          "2021-04-26",
          "2021-04-27",
          "2021-04-28",
          "2021-04-30",
          "2021-05-01",
          "2021-05-02",
          "2021-05-03",
          "2021-05-04",
          "2021-05-05",
          "2021-05-07",
          "2021-05-08",
          "2021-05-09",
          "2021-05-10",
          "2021-05-11",
          "2021-05-12",
          "2021-05-13",
          "2021-05-14",
          "2021-05-17",
          "2021-05-18",
          "2021-05-19",
          "2021-05-21",
          "2021-05-25",
          "2021-05-26",
          "2021-05-27",
          "2021-05-28",
          "2021-05-31",
          "2021-06-01",
          "2021-06-03",
          "2021-06-04",
          "2021-06-05",
          "2021-06-06"
         ],
         "xaxis": "x",
         "y": [
          0,
          0,
          0,
          0,
          0,
          0,
          0,
          0,
          0,
          0,
          0,
          0,
          0,
          0,
          0,
          0,
          1,
          0,
          0,
          0,
          0,
          0,
          0,
          0,
          0,
          0,
          0,
          0,
          0,
          0,
          0,
          0,
          0,
          0,
          0,
          0,
          0,
          0,
          0,
          1,
          0,
          0,
          0,
          0,
          0,
          0,
          0,
          0,
          0,
          0,
          0,
          0,
          0,
          0,
          0,
          0,
          1,
          0,
          0,
          0,
          0,
          0,
          0,
          0,
          0,
          0,
          0,
          0,
          0,
          0,
          0,
          0,
          0,
          0,
          0,
          0,
          0,
          0,
          0,
          0,
          0,
          0,
          0,
          0,
          0,
          0,
          0,
          0,
          0,
          0,
          0,
          0,
          0,
          0,
          0,
          0,
          0,
          0,
          0,
          0,
          0,
          0,
          0,
          0,
          0,
          0,
          0,
          0,
          0,
          0,
          0,
          0,
          0,
          0,
          0,
          0,
          0,
          0,
          0,
          0,
          0,
          0,
          0,
          0,
          0,
          0,
          0,
          0,
          0,
          0,
          0,
          0,
          0,
          0,
          0,
          0,
          0,
          0,
          0,
          0,
          0,
          0,
          1,
          0,
          0,
          0,
          0,
          0,
          0,
          0,
          0,
          0,
          0,
          2,
          0,
          0,
          0,
          0,
          0,
          0,
          0,
          0,
          0,
          0,
          0,
          0,
          0,
          0,
          0,
          0,
          0,
          0,
          0,
          0,
          0,
          0,
          0,
          6,
          0,
          0,
          0,
          0,
          0,
          0,
          0,
          0,
          0,
          0,
          0,
          0,
          0,
          0,
          0,
          0,
          0,
          0,
          0,
          0,
          0
         ],
         "yaxis": "y"
        }
       ],
       "_js2py_pointsCallback": {},
       "_js2py_restyle": {},
       "_js2py_update": {},
       "_last_layout_edit_id": 1,
       "_layout": {
        "autosize": true,
        "legend": {
         "tracegroupgap": 0
        },
        "margin": {
         "t": 60
        },
        "template": {
         "data": {
          "bar": [
           {
            "error_x": {
             "color": "#2a3f5f"
            },
            "error_y": {
             "color": "#2a3f5f"
            },
            "marker": {
             "line": {
              "color": "#E5ECF6",
              "width": 0.5
             }
            },
            "type": "bar"
           }
          ],
          "barpolar": [
           {
            "marker": {
             "line": {
              "color": "#E5ECF6",
              "width": 0.5
             }
            },
            "type": "barpolar"
           }
          ],
          "carpet": [
           {
            "aaxis": {
             "endlinecolor": "#2a3f5f",
             "gridcolor": "white",
             "linecolor": "white",
             "minorgridcolor": "white",
             "startlinecolor": "#2a3f5f"
            },
            "baxis": {
             "endlinecolor": "#2a3f5f",
             "gridcolor": "white",
             "linecolor": "white",
             "minorgridcolor": "white",
             "startlinecolor": "#2a3f5f"
            },
            "type": "carpet"
           }
          ],
          "choropleth": [
           {
            "colorbar": {
             "outlinewidth": 0,
             "ticks": ""
            },
            "type": "choropleth"
           }
          ],
          "contour": [
           {
            "colorbar": {
             "outlinewidth": 0,
             "ticks": ""
            },
            "colorscale": [
             [
              0,
              "#0d0887"
             ],
             [
              0.1111111111111111,
              "#46039f"
             ],
             [
              0.2222222222222222,
              "#7201a8"
             ],
             [
              0.3333333333333333,
              "#9c179e"
             ],
             [
              0.4444444444444444,
              "#bd3786"
             ],
             [
              0.5555555555555556,
              "#d8576b"
             ],
             [
              0.6666666666666666,
              "#ed7953"
             ],
             [
              0.7777777777777778,
              "#fb9f3a"
             ],
             [
              0.8888888888888888,
              "#fdca26"
             ],
             [
              1,
              "#f0f921"
             ]
            ],
            "type": "contour"
           }
          ],
          "contourcarpet": [
           {
            "colorbar": {
             "outlinewidth": 0,
             "ticks": ""
            },
            "type": "contourcarpet"
           }
          ],
          "heatmap": [
           {
            "colorbar": {
             "outlinewidth": 0,
             "ticks": ""
            },
            "colorscale": [
             [
              0,
              "#0d0887"
             ],
             [
              0.1111111111111111,
              "#46039f"
             ],
             [
              0.2222222222222222,
              "#7201a8"
             ],
             [
              0.3333333333333333,
              "#9c179e"
             ],
             [
              0.4444444444444444,
              "#bd3786"
             ],
             [
              0.5555555555555556,
              "#d8576b"
             ],
             [
              0.6666666666666666,
              "#ed7953"
             ],
             [
              0.7777777777777778,
              "#fb9f3a"
             ],
             [
              0.8888888888888888,
              "#fdca26"
             ],
             [
              1,
              "#f0f921"
             ]
            ],
            "type": "heatmap"
           }
          ],
          "heatmapgl": [
           {
            "colorbar": {
             "outlinewidth": 0,
             "ticks": ""
            },
            "colorscale": [
             [
              0,
              "#0d0887"
             ],
             [
              0.1111111111111111,
              "#46039f"
             ],
             [
              0.2222222222222222,
              "#7201a8"
             ],
             [
              0.3333333333333333,
              "#9c179e"
             ],
             [
              0.4444444444444444,
              "#bd3786"
             ],
             [
              0.5555555555555556,
              "#d8576b"
             ],
             [
              0.6666666666666666,
              "#ed7953"
             ],
             [
              0.7777777777777778,
              "#fb9f3a"
             ],
             [
              0.8888888888888888,
              "#fdca26"
             ],
             [
              1,
              "#f0f921"
             ]
            ],
            "type": "heatmapgl"
           }
          ],
          "histogram": [
           {
            "marker": {
             "colorbar": {
              "outlinewidth": 0,
              "ticks": ""
             }
            },
            "type": "histogram"
           }
          ],
          "histogram2d": [
           {
            "colorbar": {
             "outlinewidth": 0,
             "ticks": ""
            },
            "colorscale": [
             [
              0,
              "#0d0887"
             ],
             [
              0.1111111111111111,
              "#46039f"
             ],
             [
              0.2222222222222222,
              "#7201a8"
             ],
             [
              0.3333333333333333,
              "#9c179e"
             ],
             [
              0.4444444444444444,
              "#bd3786"
             ],
             [
              0.5555555555555556,
              "#d8576b"
             ],
             [
              0.6666666666666666,
              "#ed7953"
             ],
             [
              0.7777777777777778,
              "#fb9f3a"
             ],
             [
              0.8888888888888888,
              "#fdca26"
             ],
             [
              1,
              "#f0f921"
             ]
            ],
            "type": "histogram2d"
           }
          ],
          "histogram2dcontour": [
           {
            "colorbar": {
             "outlinewidth": 0,
             "ticks": ""
            },
            "colorscale": [
             [
              0,
              "#0d0887"
             ],
             [
              0.1111111111111111,
              "#46039f"
             ],
             [
              0.2222222222222222,
              "#7201a8"
             ],
             [
              0.3333333333333333,
              "#9c179e"
             ],
             [
              0.4444444444444444,
              "#bd3786"
             ],
             [
              0.5555555555555556,
              "#d8576b"
             ],
             [
              0.6666666666666666,
              "#ed7953"
             ],
             [
              0.7777777777777778,
              "#fb9f3a"
             ],
             [
              0.8888888888888888,
              "#fdca26"
             ],
             [
              1,
              "#f0f921"
             ]
            ],
            "type": "histogram2dcontour"
           }
          ],
          "mesh3d": [
           {
            "colorbar": {
             "outlinewidth": 0,
             "ticks": ""
            },
            "type": "mesh3d"
           }
          ],
          "parcoords": [
           {
            "line": {
             "colorbar": {
              "outlinewidth": 0,
              "ticks": ""
             }
            },
            "type": "parcoords"
           }
          ],
          "pie": [
           {
            "automargin": true,
            "type": "pie"
           }
          ],
          "scatter": [
           {
            "marker": {
             "colorbar": {
              "outlinewidth": 0,
              "ticks": ""
             }
            },
            "type": "scatter"
           }
          ],
          "scatter3d": [
           {
            "line": {
             "colorbar": {
              "outlinewidth": 0,
              "ticks": ""
             }
            },
            "marker": {
             "colorbar": {
              "outlinewidth": 0,
              "ticks": ""
             }
            },
            "type": "scatter3d"
           }
          ],
          "scattercarpet": [
           {
            "marker": {
             "colorbar": {
              "outlinewidth": 0,
              "ticks": ""
             }
            },
            "type": "scattercarpet"
           }
          ],
          "scattergeo": [
           {
            "marker": {
             "colorbar": {
              "outlinewidth": 0,
              "ticks": ""
             }
            },
            "type": "scattergeo"
           }
          ],
          "scattergl": [
           {
            "marker": {
             "colorbar": {
              "outlinewidth": 0,
              "ticks": ""
             }
            },
            "type": "scattergl"
           }
          ],
          "scattermapbox": [
           {
            "marker": {
             "colorbar": {
              "outlinewidth": 0,
              "ticks": ""
             }
            },
            "type": "scattermapbox"
           }
          ],
          "scatterpolar": [
           {
            "marker": {
             "colorbar": {
              "outlinewidth": 0,
              "ticks": ""
             }
            },
            "type": "scatterpolar"
           }
          ],
          "scatterpolargl": [
           {
            "marker": {
             "colorbar": {
              "outlinewidth": 0,
              "ticks": ""
             }
            },
            "type": "scatterpolargl"
           }
          ],
          "scatterternary": [
           {
            "marker": {
             "colorbar": {
              "outlinewidth": 0,
              "ticks": ""
             }
            },
            "type": "scatterternary"
           }
          ],
          "surface": [
           {
            "colorbar": {
             "outlinewidth": 0,
             "ticks": ""
            },
            "colorscale": [
             [
              0,
              "#0d0887"
             ],
             [
              0.1111111111111111,
              "#46039f"
             ],
             [
              0.2222222222222222,
              "#7201a8"
             ],
             [
              0.3333333333333333,
              "#9c179e"
             ],
             [
              0.4444444444444444,
              "#bd3786"
             ],
             [
              0.5555555555555556,
              "#d8576b"
             ],
             [
              0.6666666666666666,
              "#ed7953"
             ],
             [
              0.7777777777777778,
              "#fb9f3a"
             ],
             [
              0.8888888888888888,
              "#fdca26"
             ],
             [
              1,
              "#f0f921"
             ]
            ],
            "type": "surface"
           }
          ],
          "table": [
           {
            "cells": {
             "fill": {
              "color": "#EBF0F8"
             },
             "line": {
              "color": "white"
             }
            },
            "header": {
             "fill": {
              "color": "#C8D4E3"
             },
             "line": {
              "color": "white"
             }
            },
            "type": "table"
           }
          ]
         },
         "layout": {
          "annotationdefaults": {
           "arrowcolor": "#2a3f5f",
           "arrowhead": 0,
           "arrowwidth": 1
          },
          "autotypenumbers": "strict",
          "coloraxis": {
           "colorbar": {
            "outlinewidth": 0,
            "ticks": ""
           }
          },
          "colorscale": {
           "diverging": [
            [
             0,
             "#8e0152"
            ],
            [
             0.1,
             "#c51b7d"
            ],
            [
             0.2,
             "#de77ae"
            ],
            [
             0.3,
             "#f1b6da"
            ],
            [
             0.4,
             "#fde0ef"
            ],
            [
             0.5,
             "#f7f7f7"
            ],
            [
             0.6,
             "#e6f5d0"
            ],
            [
             0.7,
             "#b8e186"
            ],
            [
             0.8,
             "#7fbc41"
            ],
            [
             0.9,
             "#4d9221"
            ],
            [
             1,
             "#276419"
            ]
           ],
           "sequential": [
            [
             0,
             "#0d0887"
            ],
            [
             0.1111111111111111,
             "#46039f"
            ],
            [
             0.2222222222222222,
             "#7201a8"
            ],
            [
             0.3333333333333333,
             "#9c179e"
            ],
            [
             0.4444444444444444,
             "#bd3786"
            ],
            [
             0.5555555555555556,
             "#d8576b"
            ],
            [
             0.6666666666666666,
             "#ed7953"
            ],
            [
             0.7777777777777778,
             "#fb9f3a"
            ],
            [
             0.8888888888888888,
             "#fdca26"
            ],
            [
             1,
             "#f0f921"
            ]
           ],
           "sequentialminus": [
            [
             0,
             "#0d0887"
            ],
            [
             0.1111111111111111,
             "#46039f"
            ],
            [
             0.2222222222222222,
             "#7201a8"
            ],
            [
             0.3333333333333333,
             "#9c179e"
            ],
            [
             0.4444444444444444,
             "#bd3786"
            ],
            [
             0.5555555555555556,
             "#d8576b"
            ],
            [
             0.6666666666666666,
             "#ed7953"
            ],
            [
             0.7777777777777778,
             "#fb9f3a"
            ],
            [
             0.8888888888888888,
             "#fdca26"
            ],
            [
             1,
             "#f0f921"
            ]
           ]
          },
          "colorway": [
           "#636efa",
           "#EF553B",
           "#00cc96",
           "#ab63fa",
           "#FFA15A",
           "#19d3f3",
           "#FF6692",
           "#B6E880",
           "#FF97FF",
           "#FECB52"
          ],
          "font": {
           "color": "#2a3f5f"
          },
          "geo": {
           "bgcolor": "white",
           "lakecolor": "white",
           "landcolor": "#E5ECF6",
           "showlakes": true,
           "showland": true,
           "subunitcolor": "white"
          },
          "hoverlabel": {
           "align": "left"
          },
          "hovermode": "closest",
          "mapbox": {
           "style": "light"
          },
          "paper_bgcolor": "white",
          "plot_bgcolor": "#E5ECF6",
          "polar": {
           "angularaxis": {
            "gridcolor": "white",
            "linecolor": "white",
            "ticks": ""
           },
           "bgcolor": "#E5ECF6",
           "radialaxis": {
            "gridcolor": "white",
            "linecolor": "white",
            "ticks": ""
           }
          },
          "scene": {
           "xaxis": {
            "backgroundcolor": "#E5ECF6",
            "gridcolor": "white",
            "gridwidth": 2,
            "linecolor": "white",
            "showbackground": true,
            "ticks": "",
            "zerolinecolor": "white"
           },
           "yaxis": {
            "backgroundcolor": "#E5ECF6",
            "gridcolor": "white",
            "gridwidth": 2,
            "linecolor": "white",
            "showbackground": true,
            "ticks": "",
            "zerolinecolor": "white"
           },
           "zaxis": {
            "backgroundcolor": "#E5ECF6",
            "gridcolor": "white",
            "gridwidth": 2,
            "linecolor": "white",
            "showbackground": true,
            "ticks": "",
            "zerolinecolor": "white"
           }
          },
          "shapedefaults": {
           "line": {
            "color": "#2a3f5f"
           }
          },
          "ternary": {
           "aaxis": {
            "gridcolor": "white",
            "linecolor": "white",
            "ticks": ""
           },
           "baxis": {
            "gridcolor": "white",
            "linecolor": "white",
            "ticks": ""
           },
           "bgcolor": "#E5ECF6",
           "caxis": {
            "gridcolor": "white",
            "linecolor": "white",
            "ticks": ""
           }
          },
          "title": {
           "x": 0.05
          },
          "xaxis": {
           "automargin": true,
           "gridcolor": "white",
           "linecolor": "white",
           "ticks": "",
           "title": {
            "standoff": 15
           },
           "zerolinecolor": "white",
           "zerolinewidth": 2
          },
          "yaxis": {
           "automargin": true,
           "gridcolor": "white",
           "linecolor": "white",
           "ticks": "",
           "title": {
            "standoff": 15
           },
           "zerolinecolor": "white",
           "zerolinewidth": 2
          }
         }
        },
        "xaxis": {
         "anchor": "y",
         "domain": [
          0,
          1
         ],
         "title": {
          "text": "x"
         }
        },
        "yaxis": {
         "anchor": "x",
         "domain": [
          0,
          1
         ],
         "title": {
          "text": "y"
         }
        }
       },
       "_py2js_addTraces": {},
       "_py2js_animate": {},
       "_py2js_deleteTraces": {},
       "_py2js_moveTraces": {},
       "_py2js_removeLayoutProps": {},
       "_py2js_removeTraceProps": {},
       "_py2js_restyle": {},
       "_py2js_update": {},
       "_view_count": 0
      }
     },
     "bbf20b6c83f7430cb97d2b25eb5fec40": {
      "model_module": "@jupyter-widgets/base",
      "model_module_version": "1.2.0",
      "model_name": "LayoutModel",
      "state": {}
     },
     "c16f1e67563c42d39cd9e8351382ca65": {
      "model_module": "@jupyter-widgets/base",
      "model_module_version": "1.2.0",
      "model_name": "LayoutModel",
      "state": {}
     },
     "c2b9a383baca4cba952c7ac6bcd12266": {
      "model_module": "@jupyter-widgets/base",
      "model_module_version": "1.2.0",
      "model_name": "LayoutModel",
      "state": {}
     },
     "c55ec46241024cb1b9ddd8bd685789b6": {
      "model_module": "@jupyter-widgets/controls",
      "model_module_version": "1.5.0",
      "model_name": "DescriptionStyleModel",
      "state": {
       "description_width": ""
      }
     },
     "c6c1fee2c3e140129cc201d6fe963614": {
      "model_module": "plotlywidget",
      "model_module_version": "^4.14.3",
      "model_name": "FigureModel",
      "state": {
       "_config": {
        "plotlyServerURL": "https://plot.ly"
       },
       "_data": [
        {
         "hovertemplate": "x=%{x}<br>y=%{y}<extra></extra>",
         "legendgroup": "",
         "line": {
          "color": "#636efa",
          "dash": "solid",
          "shape": "spline"
         },
         "mode": "lines",
         "name": "mujeres",
         "orientation": "v",
         "showlegend": false,
         "type": "scatter",
         "uid": "68c32002-1774-4659-b4db-6659086075a1",
         "x": [
          "2020-08-14",
          "2020-08-17",
          "2020-08-18",
          "2020-08-19",
          "2020-08-20",
          "2020-08-21",
          "2020-08-22",
          "2020-08-23",
          "2020-08-24",
          "2020-08-25",
          "2020-08-26",
          "2020-08-27",
          "2020-08-28",
          "2020-08-29",
          "2020-08-30",
          "2020-08-31",
          "2020-09-01",
          "2020-09-02",
          "2020-09-03",
          "2020-09-04",
          "2020-09-07",
          "2020-09-08",
          "2020-09-09",
          "2020-09-10",
          "2020-09-11",
          "2020-09-12",
          "2020-09-15",
          "2020-09-16",
          "2020-09-17",
          "2020-09-18",
          "2020-09-19",
          "2020-09-21",
          "2020-09-22",
          "2020-09-23",
          "2020-09-24",
          "2020-09-25",
          "2020-09-26",
          "2020-09-27",
          "2020-09-28",
          "2020-09-29",
          "2020-09-30",
          "2020-10-01",
          "2020-10-02",
          "2020-10-03",
          "2020-10-05",
          "2020-10-06",
          "2020-10-07",
          "2020-10-08",
          "2020-10-09",
          "2020-10-10",
          "2020-10-13",
          "2020-10-14",
          "2020-10-15",
          "2020-10-16",
          "2020-10-17",
          "2020-10-19",
          "2020-10-20",
          "2020-10-21",
          "2020-10-22",
          "2020-10-23",
          "2020-10-24",
          "2020-10-25",
          "2020-10-26",
          "2020-10-27",
          "2020-10-28",
          "2020-11-06",
          "2020-11-07",
          "2020-11-08",
          "2020-11-09",
          "2020-11-10",
          "2020-11-11",
          "2020-11-12",
          "2020-11-13",
          "2020-11-14",
          "2020-11-15",
          "2020-11-16",
          "2020-11-17",
          "2020-11-18",
          "2020-11-19",
          "2020-11-20",
          "2020-11-21",
          "2020-11-23",
          "2020-11-24",
          "2020-11-25",
          "2020-11-26",
          "2020-11-27",
          "2020-11-28",
          "2020-11-29",
          "2020-11-30",
          "2020-12-01",
          "2020-12-02",
          "2020-12-03",
          "2020-12-04",
          "2020-12-05",
          "2020-12-07",
          "2020-12-09",
          "2020-12-10",
          "2020-12-11",
          "2020-12-12",
          "2020-12-13",
          "2020-12-17",
          "2020-12-18",
          "2020-12-19",
          "2020-12-24",
          "2020-12-28",
          "2020-12-29",
          "2020-12-30",
          "2020-12-31",
          "2021-01-04",
          "2021-01-05",
          "2021-01-06",
          "2021-01-07",
          "2021-01-08",
          "2021-01-10",
          "2021-01-12",
          "2021-01-13",
          "2021-01-14",
          "2021-01-15",
          "2021-01-17",
          "2021-01-18",
          "2021-01-20",
          "2021-01-21",
          "2021-01-22",
          "2021-02-05",
          "2021-02-06",
          "2021-02-09",
          "2021-02-10",
          "2021-02-11",
          "2021-02-12",
          "2021-02-14",
          "2021-02-15",
          "2021-02-16",
          "2021-02-17",
          "2021-02-18",
          "2021-02-19",
          "2021-02-20",
          "2021-02-22",
          "2021-02-23",
          "2021-02-24",
          "2021-02-25",
          "2021-02-26",
          "2021-02-27",
          "2021-03-01",
          "2021-03-02",
          "2021-03-03",
          "2021-03-04",
          "2021-03-05",
          "2021-03-08",
          "2021-03-09",
          "2021-03-11",
          "2021-03-15",
          "2021-03-16",
          "2021-03-17",
          "2021-03-25",
          "2021-03-26",
          "2021-03-27",
          "2021-03-29",
          "2021-04-04",
          "2021-04-05",
          "2021-04-06",
          "2021-04-07",
          "2021-04-08",
          "2021-04-09",
          "2021-04-10",
          "2021-04-12",
          "2021-04-21",
          "2021-04-22",
          "2021-04-23",
          "2021-04-26",
          "2021-04-27",
          "2021-04-28",
          "2021-04-30",
          "2021-05-01",
          "2021-05-02",
          "2021-05-03",
          "2021-05-04",
          "2021-05-05",
          "2021-05-07",
          "2021-05-08",
          "2021-05-09",
          "2021-05-10",
          "2021-05-11",
          "2021-05-12",
          "2021-05-13",
          "2021-05-14",
          "2021-05-17",
          "2021-05-18",
          "2021-05-19",
          "2021-05-21",
          "2021-05-25",
          "2021-05-26",
          "2021-05-27",
          "2021-05-28",
          "2021-05-31",
          "2021-06-01",
          "2021-06-03",
          "2021-06-04",
          "2021-06-05",
          "2021-06-06"
         ],
         "xaxis": "x",
         "y": [
          5,
          0,
          0,
          0,
          0,
          0,
          0,
          0,
          0,
          1,
          1,
          0,
          0,
          0,
          0,
          0,
          0,
          0,
          0,
          1,
          0,
          0,
          1,
          2,
          0,
          2,
          0,
          1,
          2,
          1,
          0,
          0,
          1,
          0,
          0,
          0,
          0,
          0,
          0,
          0,
          0,
          0,
          0,
          0,
          0,
          0,
          2,
          0,
          4,
          1,
          2,
          0,
          0,
          0,
          0,
          3,
          1,
          0,
          1,
          0,
          3,
          2,
          0,
          0,
          7,
          0,
          2,
          0,
          0,
          0,
          14,
          2,
          2,
          0,
          0,
          0,
          0,
          0,
          1,
          0,
          0,
          0,
          0,
          22,
          0,
          0,
          3,
          1,
          1,
          0,
          0,
          0,
          0,
          2,
          0,
          0,
          1,
          1,
          0,
          0,
          0,
          1,
          1,
          1,
          0,
          0,
          0,
          1,
          0,
          0,
          0,
          0,
          0,
          0,
          0,
          0,
          0,
          0,
          0,
          0,
          0,
          0,
          1,
          4,
          0,
          4,
          0,
          0,
          6,
          0,
          0,
          0,
          3,
          0,
          1,
          0,
          0,
          0,
          1,
          0,
          1,
          0,
          0,
          0,
          0,
          1,
          2,
          0,
          22,
          0,
          5,
          1,
          0,
          0,
          0,
          0,
          0,
          0,
          0,
          0,
          0,
          0,
          2,
          0,
          0,
          0,
          0,
          0,
          0,
          0,
          0,
          0,
          2,
          0,
          0,
          4,
          0,
          0,
          0,
          0,
          0,
          0,
          0,
          0,
          0,
          0,
          0,
          2,
          0,
          0,
          0,
          2,
          0,
          2,
          0,
          2,
          3,
          0,
          1
         ],
         "yaxis": "y"
        }
       ],
       "_js2py_restyle": {},
       "_js2py_update": {},
       "_last_layout_edit_id": 38,
       "_last_trace_edit_id": 31,
       "_layout": {
        "autosize": true,
        "legend": {
         "tracegroupgap": 0
        },
        "margin": {
         "t": 60
        },
        "template": {
         "data": {
          "bar": [
           {
            "error_x": {
             "color": "#2a3f5f"
            },
            "error_y": {
             "color": "#2a3f5f"
            },
            "marker": {
             "line": {
              "color": "#E5ECF6",
              "width": 0.5
             }
            },
            "type": "bar"
           }
          ],
          "barpolar": [
           {
            "marker": {
             "line": {
              "color": "#E5ECF6",
              "width": 0.5
             }
            },
            "type": "barpolar"
           }
          ],
          "carpet": [
           {
            "aaxis": {
             "endlinecolor": "#2a3f5f",
             "gridcolor": "white",
             "linecolor": "white",
             "minorgridcolor": "white",
             "startlinecolor": "#2a3f5f"
            },
            "baxis": {
             "endlinecolor": "#2a3f5f",
             "gridcolor": "white",
             "linecolor": "white",
             "minorgridcolor": "white",
             "startlinecolor": "#2a3f5f"
            },
            "type": "carpet"
           }
          ],
          "choropleth": [
           {
            "colorbar": {
             "outlinewidth": 0,
             "ticks": ""
            },
            "type": "choropleth"
           }
          ],
          "contour": [
           {
            "colorbar": {
             "outlinewidth": 0,
             "ticks": ""
            },
            "colorscale": [
             [
              0,
              "#0d0887"
             ],
             [
              0.1111111111111111,
              "#46039f"
             ],
             [
              0.2222222222222222,
              "#7201a8"
             ],
             [
              0.3333333333333333,
              "#9c179e"
             ],
             [
              0.4444444444444444,
              "#bd3786"
             ],
             [
              0.5555555555555556,
              "#d8576b"
             ],
             [
              0.6666666666666666,
              "#ed7953"
             ],
             [
              0.7777777777777778,
              "#fb9f3a"
             ],
             [
              0.8888888888888888,
              "#fdca26"
             ],
             [
              1,
              "#f0f921"
             ]
            ],
            "type": "contour"
           }
          ],
          "contourcarpet": [
           {
            "colorbar": {
             "outlinewidth": 0,
             "ticks": ""
            },
            "type": "contourcarpet"
           }
          ],
          "heatmap": [
           {
            "colorbar": {
             "outlinewidth": 0,
             "ticks": ""
            },
            "colorscale": [
             [
              0,
              "#0d0887"
             ],
             [
              0.1111111111111111,
              "#46039f"
             ],
             [
              0.2222222222222222,
              "#7201a8"
             ],
             [
              0.3333333333333333,
              "#9c179e"
             ],
             [
              0.4444444444444444,
              "#bd3786"
             ],
             [
              0.5555555555555556,
              "#d8576b"
             ],
             [
              0.6666666666666666,
              "#ed7953"
             ],
             [
              0.7777777777777778,
              "#fb9f3a"
             ],
             [
              0.8888888888888888,
              "#fdca26"
             ],
             [
              1,
              "#f0f921"
             ]
            ],
            "type": "heatmap"
           }
          ],
          "heatmapgl": [
           {
            "colorbar": {
             "outlinewidth": 0,
             "ticks": ""
            },
            "colorscale": [
             [
              0,
              "#0d0887"
             ],
             [
              0.1111111111111111,
              "#46039f"
             ],
             [
              0.2222222222222222,
              "#7201a8"
             ],
             [
              0.3333333333333333,
              "#9c179e"
             ],
             [
              0.4444444444444444,
              "#bd3786"
             ],
             [
              0.5555555555555556,
              "#d8576b"
             ],
             [
              0.6666666666666666,
              "#ed7953"
             ],
             [
              0.7777777777777778,
              "#fb9f3a"
             ],
             [
              0.8888888888888888,
              "#fdca26"
             ],
             [
              1,
              "#f0f921"
             ]
            ],
            "type": "heatmapgl"
           }
          ],
          "histogram": [
           {
            "marker": {
             "colorbar": {
              "outlinewidth": 0,
              "ticks": ""
             }
            },
            "type": "histogram"
           }
          ],
          "histogram2d": [
           {
            "colorbar": {
             "outlinewidth": 0,
             "ticks": ""
            },
            "colorscale": [
             [
              0,
              "#0d0887"
             ],
             [
              0.1111111111111111,
              "#46039f"
             ],
             [
              0.2222222222222222,
              "#7201a8"
             ],
             [
              0.3333333333333333,
              "#9c179e"
             ],
             [
              0.4444444444444444,
              "#bd3786"
             ],
             [
              0.5555555555555556,
              "#d8576b"
             ],
             [
              0.6666666666666666,
              "#ed7953"
             ],
             [
              0.7777777777777778,
              "#fb9f3a"
             ],
             [
              0.8888888888888888,
              "#fdca26"
             ],
             [
              1,
              "#f0f921"
             ]
            ],
            "type": "histogram2d"
           }
          ],
          "histogram2dcontour": [
           {
            "colorbar": {
             "outlinewidth": 0,
             "ticks": ""
            },
            "colorscale": [
             [
              0,
              "#0d0887"
             ],
             [
              0.1111111111111111,
              "#46039f"
             ],
             [
              0.2222222222222222,
              "#7201a8"
             ],
             [
              0.3333333333333333,
              "#9c179e"
             ],
             [
              0.4444444444444444,
              "#bd3786"
             ],
             [
              0.5555555555555556,
              "#d8576b"
             ],
             [
              0.6666666666666666,
              "#ed7953"
             ],
             [
              0.7777777777777778,
              "#fb9f3a"
             ],
             [
              0.8888888888888888,
              "#fdca26"
             ],
             [
              1,
              "#f0f921"
             ]
            ],
            "type": "histogram2dcontour"
           }
          ],
          "mesh3d": [
           {
            "colorbar": {
             "outlinewidth": 0,
             "ticks": ""
            },
            "type": "mesh3d"
           }
          ],
          "parcoords": [
           {
            "line": {
             "colorbar": {
              "outlinewidth": 0,
              "ticks": ""
             }
            },
            "type": "parcoords"
           }
          ],
          "pie": [
           {
            "automargin": true,
            "type": "pie"
           }
          ],
          "scatter": [
           {
            "marker": {
             "colorbar": {
              "outlinewidth": 0,
              "ticks": ""
             }
            },
            "type": "scatter"
           }
          ],
          "scatter3d": [
           {
            "line": {
             "colorbar": {
              "outlinewidth": 0,
              "ticks": ""
             }
            },
            "marker": {
             "colorbar": {
              "outlinewidth": 0,
              "ticks": ""
             }
            },
            "type": "scatter3d"
           }
          ],
          "scattercarpet": [
           {
            "marker": {
             "colorbar": {
              "outlinewidth": 0,
              "ticks": ""
             }
            },
            "type": "scattercarpet"
           }
          ],
          "scattergeo": [
           {
            "marker": {
             "colorbar": {
              "outlinewidth": 0,
              "ticks": ""
             }
            },
            "type": "scattergeo"
           }
          ],
          "scattergl": [
           {
            "marker": {
             "colorbar": {
              "outlinewidth": 0,
              "ticks": ""
             }
            },
            "type": "scattergl"
           }
          ],
          "scattermapbox": [
           {
            "marker": {
             "colorbar": {
              "outlinewidth": 0,
              "ticks": ""
             }
            },
            "type": "scattermapbox"
           }
          ],
          "scatterpolar": [
           {
            "marker": {
             "colorbar": {
              "outlinewidth": 0,
              "ticks": ""
             }
            },
            "type": "scatterpolar"
           }
          ],
          "scatterpolargl": [
           {
            "marker": {
             "colorbar": {
              "outlinewidth": 0,
              "ticks": ""
             }
            },
            "type": "scatterpolargl"
           }
          ],
          "scatterternary": [
           {
            "marker": {
             "colorbar": {
              "outlinewidth": 0,
              "ticks": ""
             }
            },
            "type": "scatterternary"
           }
          ],
          "surface": [
           {
            "colorbar": {
             "outlinewidth": 0,
             "ticks": ""
            },
            "colorscale": [
             [
              0,
              "#0d0887"
             ],
             [
              0.1111111111111111,
              "#46039f"
             ],
             [
              0.2222222222222222,
              "#7201a8"
             ],
             [
              0.3333333333333333,
              "#9c179e"
             ],
             [
              0.4444444444444444,
              "#bd3786"
             ],
             [
              0.5555555555555556,
              "#d8576b"
             ],
             [
              0.6666666666666666,
              "#ed7953"
             ],
             [
              0.7777777777777778,
              "#fb9f3a"
             ],
             [
              0.8888888888888888,
              "#fdca26"
             ],
             [
              1,
              "#f0f921"
             ]
            ],
            "type": "surface"
           }
          ],
          "table": [
           {
            "cells": {
             "fill": {
              "color": "#EBF0F8"
             },
             "line": {
              "color": "white"
             }
            },
            "header": {
             "fill": {
              "color": "#C8D4E3"
             },
             "line": {
              "color": "white"
             }
            },
            "type": "table"
           }
          ]
         },
         "layout": {
          "annotationdefaults": {
           "arrowcolor": "#2a3f5f",
           "arrowhead": 0,
           "arrowwidth": 1
          },
          "autotypenumbers": "strict",
          "coloraxis": {
           "colorbar": {
            "outlinewidth": 0,
            "ticks": ""
           }
          },
          "colorscale": {
           "diverging": [
            [
             0,
             "#8e0152"
            ],
            [
             0.1,
             "#c51b7d"
            ],
            [
             0.2,
             "#de77ae"
            ],
            [
             0.3,
             "#f1b6da"
            ],
            [
             0.4,
             "#fde0ef"
            ],
            [
             0.5,
             "#f7f7f7"
            ],
            [
             0.6,
             "#e6f5d0"
            ],
            [
             0.7,
             "#b8e186"
            ],
            [
             0.8,
             "#7fbc41"
            ],
            [
             0.9,
             "#4d9221"
            ],
            [
             1,
             "#276419"
            ]
           ],
           "sequential": [
            [
             0,
             "#0d0887"
            ],
            [
             0.1111111111111111,
             "#46039f"
            ],
            [
             0.2222222222222222,
             "#7201a8"
            ],
            [
             0.3333333333333333,
             "#9c179e"
            ],
            [
             0.4444444444444444,
             "#bd3786"
            ],
            [
             0.5555555555555556,
             "#d8576b"
            ],
            [
             0.6666666666666666,
             "#ed7953"
            ],
            [
             0.7777777777777778,
             "#fb9f3a"
            ],
            [
             0.8888888888888888,
             "#fdca26"
            ],
            [
             1,
             "#f0f921"
            ]
           ],
           "sequentialminus": [
            [
             0,
             "#0d0887"
            ],
            [
             0.1111111111111111,
             "#46039f"
            ],
            [
             0.2222222222222222,
             "#7201a8"
            ],
            [
             0.3333333333333333,
             "#9c179e"
            ],
            [
             0.4444444444444444,
             "#bd3786"
            ],
            [
             0.5555555555555556,
             "#d8576b"
            ],
            [
             0.6666666666666666,
             "#ed7953"
            ],
            [
             0.7777777777777778,
             "#fb9f3a"
            ],
            [
             0.8888888888888888,
             "#fdca26"
            ],
            [
             1,
             "#f0f921"
            ]
           ]
          },
          "colorway": [
           "#636efa",
           "#EF553B",
           "#00cc96",
           "#ab63fa",
           "#FFA15A",
           "#19d3f3",
           "#FF6692",
           "#B6E880",
           "#FF97FF",
           "#FECB52"
          ],
          "font": {
           "color": "#2a3f5f"
          },
          "geo": {
           "bgcolor": "white",
           "lakecolor": "white",
           "landcolor": "#E5ECF6",
           "showlakes": true,
           "showland": true,
           "subunitcolor": "white"
          },
          "hoverlabel": {
           "align": "left"
          },
          "hovermode": "closest",
          "mapbox": {
           "style": "light"
          },
          "paper_bgcolor": "white",
          "plot_bgcolor": "#E5ECF6",
          "polar": {
           "angularaxis": {
            "gridcolor": "white",
            "linecolor": "white",
            "ticks": ""
           },
           "bgcolor": "#E5ECF6",
           "radialaxis": {
            "gridcolor": "white",
            "linecolor": "white",
            "ticks": ""
           }
          },
          "scene": {
           "xaxis": {
            "backgroundcolor": "#E5ECF6",
            "gridcolor": "white",
            "gridwidth": 2,
            "linecolor": "white",
            "showbackground": true,
            "ticks": "",
            "zerolinecolor": "white"
           },
           "yaxis": {
            "backgroundcolor": "#E5ECF6",
            "gridcolor": "white",
            "gridwidth": 2,
            "linecolor": "white",
            "showbackground": true,
            "ticks": "",
            "zerolinecolor": "white"
           },
           "zaxis": {
            "backgroundcolor": "#E5ECF6",
            "gridcolor": "white",
            "gridwidth": 2,
            "linecolor": "white",
            "showbackground": true,
            "ticks": "",
            "zerolinecolor": "white"
           }
          },
          "shapedefaults": {
           "line": {
            "color": "#2a3f5f"
           }
          },
          "ternary": {
           "aaxis": {
            "gridcolor": "white",
            "linecolor": "white",
            "ticks": ""
           },
           "baxis": {
            "gridcolor": "white",
            "linecolor": "white",
            "ticks": ""
           },
           "bgcolor": "#E5ECF6",
           "caxis": {
            "gridcolor": "white",
            "linecolor": "white",
            "ticks": ""
           }
          },
          "title": {
           "x": 0.05
          },
          "xaxis": {
           "automargin": true,
           "gridcolor": "white",
           "linecolor": "white",
           "ticks": "",
           "title": {
            "standoff": 15
           },
           "zerolinecolor": "white",
           "zerolinewidth": 2
          },
          "yaxis": {
           "automargin": true,
           "gridcolor": "white",
           "linecolor": "white",
           "ticks": "",
           "title": {
            "standoff": 15
           },
           "zerolinecolor": "white",
           "zerolinewidth": 2
          }
         }
        },
        "xaxis": {
         "anchor": "y",
         "autorange": true,
         "domain": [
          0,
          1
         ],
         "title": {
          "text": "x"
         }
        },
        "yaxis": {
         "anchor": "x",
         "autorange": true,
         "domain": [
          0,
          1
         ],
         "title": {
          "text": "y"
         }
        }
       },
       "_py2js_addTraces": {},
       "_py2js_animate": {},
       "_py2js_deleteTraces": {},
       "_py2js_moveTraces": {},
       "_py2js_removeTraceProps": {},
       "_py2js_restyle": {},
       "_view_count": 0
      }
     },
     "c78ceb3c457242ea9f7c800d1d664a3a": {
      "model_module": "@jupyter-widgets/base",
      "model_module_version": "1.2.0",
      "model_name": "LayoutModel",
      "state": {}
     },
     "c91cc879c71f4a57802d1e865284c670": {
      "model_module": "@jupyter-widgets/controls",
      "model_module_version": "1.5.0",
      "model_name": "HTMLModel",
      "state": {
       "layout": "IPY_MODEL_63e61d43c5da4d7fa52bb4de9a402e98",
       "placeholder": "",
       "style": "IPY_MODEL_15cca8c412384084b15a6ccad50d4175",
       "value": "El tag de la palabra es <b> NNS</b>: Sustantivo, plural"
      }
     },
     "cdaf4ceccbf5437e89e9bee566b390eb": {
      "model_module": "@jupyter-widgets/base",
      "model_module_version": "1.2.0",
      "model_name": "LayoutModel",
      "state": {}
     },
     "cf25d637953843f7a2435cfc0283d50d": {
      "model_module": "@jupyter-widgets/base",
      "model_module_version": "1.2.0",
      "model_name": "LayoutModel",
      "state": {}
     },
     "d0975a01f9384bbeb8293231d005fb4a": {
      "model_module": "@jupyter-widgets/controls",
      "model_module_version": "1.5.0",
      "model_name": "HTMLModel",
      "state": {
       "layout": "IPY_MODEL_f113f9a2301b49d286177251e51ac8a1",
       "placeholder": "",
       "style": "IPY_MODEL_56f8c518f8e249c5a8c42fd0c2538cfd",
       "value": "El tag de la palabra es <b> NNS</b>: Sustantivo, plural"
      }
     },
     "d09ad7405e804e42b085e0d64462e10e": {
      "model_module": "@jupyter-widgets/controls",
      "model_module_version": "1.5.0",
      "model_name": "DropdownModel",
      "state": {
       "_options_labels": [
        "abiertos",
        "abordemos",
        "acumulada",
        "adolescentes",
        "adopción",
        "adriana",
        "advertencia",
        "aeronave",
        "aeropuerto",
        "afrocolombianas",
        "afuera",
        "agenda",
        "agroindustriales",
        "agrosavia",
        "agua",
        "aguilar",
        "alcaldes",
        "alegría",
        "algún",
        "alias",
        "alirio",
        "alivios",
        "almacenamiento",
        "almagro",
        "ambiental",
        "andicom",
        "andinos",
        "andrés",
        "anillo",
        "aníbal",
        "aquiles",
        "aquí",
        "arauca",
        "arterias",
        "artificial",
        "asocapitales",
        "asociativo",
        "asume",
        "ataques",
        "atehortúa",
        "atendido",
        "aulas",
        "autogeneración",
        "autoridad",
        "aves",
        "ayuda",
        "aérea",
        "aéreas",
        "año",
        "años",
        "banquete",
        "billones",
        "binacional",
        "bloqueos",
        "campesinos",
        "capaces",
        "capacidad",
        "capitales",
        "captura",
        "capítulo",
        "carmen",
        "carrera",
        "carteles",
        "cartera",
        "chicles",
        "chile",
        "china",
        "ciudades",
        "clan",
        "clase",
        "colegiales",
        "colegios",
        "coletazo",
        "compromiso",
        "comunal",
        "comunales",
        "comunidad",
        "comunidades",
        "conat",
        "concejal",
        "conductas",
        "conectividad",
        "conectándonos",
        "conservador",
        "constitucional",
        "convencionales",
        "conversación",
        "conversar",
        "corazones",
        "corea",
        "corinto",
        "cortes",
        "cosas",
        "costa",
        "crimen",
        "criminal",
        "crímenes",
        "cuales",
        "cuenca",
        "cuerpo",
        "cultural",
        "deberes",
        "defensoría",
        "deportistas",
        "deportiva",
        "depuración",
        "desigualdades",
        "despliegue",
        "dian",
        "diferencias",
        "digital",
        "doctora",
        "domiciliarios",
        "dos",
        "día",
        "elecciones",
        "electoral",
        "electrónico",
        "elsa",
        "emisiones",
        "emisión",
        "empleado",
        "empresa",
        "empresarial",
        "energía",
        "energías",
        "equipares",
        "equipo",
        "equivalen",
        "escolar",
        "escombros",
        "escucharnos",
        "esencialmente",
        "eventual",
        "evitemos",
        "exportaciones",
        "exportación",
        "exterior",
        "fallecidas",
        "familia",
        "familiares",
        "familias",
        "farc",
        "federaciones",
        "fedesarrollo",
        "fenalco",
        "festival",
        "finanzas",
        "fintec",
        "firmamos",
        "fiscal",
        "fuerzas",
        "funcional",
        "funciones",
        "fundación",
        "furia",
        "fábrica",
        "félix",
        "férreas",
        "galindo",
        "ganaderos",
        "garantizar",
        "gases",
        "general",
        "gobernadores",
        "gobierno",
        "golfo",
        "guardaparques",
        "guaviare",
        "guillermo",
        "habilidades",
        "habilitar",
        "habitantes",
        "hablando",
        "habló",
        "herramientas",
        "herreros",
        "homicidios",
        "honorables",
        "hu",
        "humanos",
        "humboldt",
        "huracán",
        "indicadores",
        "indignación",
        "industria",
        "industrias",
        "infinita",
        "iniciar",
        "inspiratic",
        "instituciones",
        "institución",
        "integración",
        "integral",
        "interior",
        "invernadero",
        "invernal",
        "inversionistas",
        "inversión",
        "invitados",
        "islas",
        "iva",
        "jaime",
        "jóvenes",
        "karen",
        "kilómetros",
        "laboral",
        "labores",
        "lan",
        "lavador",
        "leary",
        "leve",
        "limpia",
        "local",
        "mangles",
        "mantenerse",
        "mayores",
        "maíz",
        "medellín",
        "medios",
        "megas",
        "mejora",
        "mendoza",
        "mensaje",
        "mes",
        "mesa",
        "meta",
        "migrantes",
        "migratoria",
        "mil",
        "militares",
        "millones",
        "millón",
        "minas",
        "minerales",
        "minero",
        "mineros",
        "minería",
        "ministra",
        "miércoles",
        "moda",
        "muestras",
        "mujer",
        "mujeres",
        "multilateral",
        "multilateralismo",
        "multinacional",
        "municipios",
        "nacional",
        "nacionales",
        "naciones",
        "naranja",
        "narcotalia",
        "narcoterrorismo",
        "naturaleza",
        "navidad",
        "negociaciones",
        "negras",
        "nemesio",
        "ningún",
        "niños",
        "nocturnas",
        "normas",
        "normativa",
        "notariado",
        "nubank",
        "nuevo",
        "nunca",
        "obligatoriedad",
        "obras",
        "ocaña",
        "ocde",
        "oferta",
        "oficiales",
        "oleonorte",
        "ollas",
        "omega",
        "operacional",
        "orden",
        "orión",
        "palenqueras",
        "palma",
        "palmicultores",
        "pamplona",
        "parques",
        "participación",
        "partido",
        "países",
        "pdet",
        "penales",
        "pensamiento",
        "pensamos",
        "planeta",
        "plantean",
        "policial",
        "posterior",
        "precipitaciones",
        "presentado",
        "presidente",
        "presidentes",
        "presupuesto",
        "privado",
        "productores",
        "profesores",
        "programa",
        "programadores",
        "programas",
        "provocaciones",
        "proyecto",
        "proyectos",
        "prudencia",
        "pruebas",
        "pueden",
        "raizales",
        "rama",
        "regiones",
        "registra",
        "registrada",
        "renovables",
        "reparación",
        "reporte",
        "rescatistas",
        "resiliencia",
        "responsable",
        "responsables",
        "respuesta",
        "restablece",
        "retos",
        "revisando",
        "revolucionarios",
        "revolución",
        "ricardo",
        "rural",
        "rutas",
        "rápida",
        "régimen",
        "río",
        "sabemos",
        "sabios",
        "sacamos",
        "sagasti",
        "salarial",
        "san",
        "sanciones",
        "sandra",
        "saneamiento",
        "santandereanos",
        "santiago",
        "seguirá",
        "seguros",
        "selección",
        "sello",
        "semanas",
        "semestre",
        "sena",
        "señores",
        "si",
        "sillas",
        "sinchi",
        "sindicado",
        "sobrevuelo",
        "social",
        "soluciones",
        "sospecha",
        "sostenible",
        "subsidios",
        "subteniente",
        "sucre",
        "temas",
        "temporal",
        "tensión",
        "terminal",
        "tic",
        "tolima",
        "toneladas",
        "tono",
        "total",
        "trabajadores",
        "trabajaremos",
        "trabajo",
        "transformación",
        "transicional",
        "transnacionales",
        "transparencia",
        "tratemos",
        "ubicamos",
        "unida",
        "unidos",
        "unificado",
        "uniforme",
        "urabá",
        "urbanos",
        "usted",
        "ustedes",
        "vacuna",
        "vacunas",
        "valle",
        "valledupar",
        "veteranos",
        "vial",
        "viernes",
        "vigilancia",
        "violencia",
        "vive",
        "viviendas",
        "viéramos",
        "votante",
        "vulnerables",
        "vías",
        "víctimas",
        "wilson",
        "yopal"
       ],
       "description": "Evolución de la palabra clave:",
       "index": 19,
       "layout": "IPY_MODEL_705273a5cd5241d1995c1a8d5ddfbf28",
       "style": "IPY_MODEL_c55ec46241024cb1b9ddd8bd685789b6"
      }
     },
     "d1a13eed4be34f49b7b7eaed0a10dccf": {
      "model_module": "@jupyter-widgets/controls",
      "model_module_version": "1.5.0",
      "model_name": "SliderStyleModel",
      "state": {
       "description_width": ""
      }
     },
     "d7b0dd1b5b024f2f83b4694356d905de": {
      "model_module": "@jupyter-widgets/controls",
      "model_module_version": "1.5.0",
      "model_name": "DescriptionStyleModel",
      "state": {
       "description_width": ""
      }
     },
     "d8374b179c9a4135a3bcf8564521e011": {
      "model_module": "@jupyter-widgets/base",
      "model_module_version": "1.2.0",
      "model_name": "LayoutModel",
      "state": {}
     },
     "d8961bc2b1cb4fd8b1330b8dcb3c3de0": {
      "model_module": "@jupyter-widgets/controls",
      "model_module_version": "1.5.0",
      "model_name": "VBoxModel",
      "state": {
       "_dom_classes": [
        "widget-interact"
       ],
       "children": [
        "IPY_MODEL_ba8afe314f5f4a3a8a9e6801207e5a39",
        "IPY_MODEL_3c953fab267546b39ac61d57adf048b3"
       ],
       "layout": "IPY_MODEL_9a347ceafa0a4b23952ece9b4aff1c86"
      }
     },
     "dd4ab3f58482473c925853c575e429eb": {
      "model_module": "@jupyter-widgets/controls",
      "model_module_version": "1.5.0",
      "model_name": "DescriptionStyleModel",
      "state": {
       "description_width": ""
      }
     },
     "ddddd4487cab4251ba65092becdfb5a2": {
      "model_module": "@jupyter-widgets/controls",
      "model_module_version": "1.5.0",
      "model_name": "VBoxModel",
      "state": {
       "_dom_classes": [
        "widget-interact"
       ],
       "children": [
        "IPY_MODEL_71a19edcc6164d108f64f88eb4c257e5",
        "IPY_MODEL_a150d9ef92184557bdf59054b5f37c85"
       ],
       "layout": "IPY_MODEL_16a9558e5a3a446dbb2dccb307ee1e5e"
      }
     },
     "e29177938cad4b55807bea57ed456d2c": {
      "model_module": "@jupyter-widgets/base",
      "model_module_version": "1.2.0",
      "model_name": "LayoutModel",
      "state": {}
     },
     "e4a6fb5227cf466fb737548c2e49a6b9": {
      "model_module": "@jupyter-widgets/controls",
      "model_module_version": "1.5.0",
      "model_name": "HTMLModel",
      "state": {
       "layout": "IPY_MODEL_c16f1e67563c42d39cd9e8351382ca65",
       "placeholder": "",
       "style": "IPY_MODEL_f81bfbb0b4694c2c83a224a94503454d",
       "value": "El tag de la palabra es <b> NNS</b>: Sustantivo, plural"
      }
     },
     "e4dc91e5a36448268d59b140b7a6a025": {
      "model_module": "@jupyter-widgets/controls",
      "model_module_version": "1.5.0",
      "model_name": "SliderStyleModel",
      "state": {
       "description_width": ""
      }
     },
     "e6aa2db28c5949d58001b36dae244576": {
      "model_module": "@jupyter-widgets/controls",
      "model_module_version": "1.5.0",
      "model_name": "HBoxModel",
      "state": {
       "children": [
        "IPY_MODEL_908eedbe5e7e4c808f3c90f0bca30a19",
        "IPY_MODEL_b9abbaea8747485bbd154f4fcbd6ed10"
       ],
       "layout": "IPY_MODEL_4dee4a077e724d6d88d18ec0b35c4dc4"
      }
     },
     "e7c2efb1a7014f84b9b2246267e376d2": {
      "model_module": "@jupyter-widgets/output",
      "model_module_version": "1.0.0",
      "model_name": "OutputModel",
      "state": {
       "layout": "IPY_MODEL_3e28ce7f03014b64baa4332033eb85ec",
       "outputs": [
        {
         "ename": "ValueError",
         "evalue": "\n    Invalid value of type 'builtins.float' received for the 'x' property of layout.title\n        Received value: 1.5\n\n    The 'x' property is a number and may be specified as:\n      - An int or float in the interval [0, 1]",
         "output_type": "error",
         "traceback": [
          "\u001b[1;31m---------------------------------------------------------------------------\u001b[0m",
          "\u001b[1;31mValueError\u001b[0m                                Traceback (most recent call last)",
          "\u001b[1;32mC:\\ProgramData\\Anaconda3\\lib\\site-packages\\ipywidgets\\widgets\\interaction.py\u001b[0m in \u001b[0;36mupdate\u001b[1;34m(self, *args)\u001b[0m\n\u001b[0;32m    254\u001b[0m                     \u001b[0mvalue\u001b[0m \u001b[1;33m=\u001b[0m \u001b[0mwidget\u001b[0m\u001b[1;33m.\u001b[0m\u001b[0mget_interact_value\u001b[0m\u001b[1;33m(\u001b[0m\u001b[1;33m)\u001b[0m\u001b[1;33m\u001b[0m\u001b[1;33m\u001b[0m\u001b[0m\n\u001b[0;32m    255\u001b[0m                     \u001b[0mself\u001b[0m\u001b[1;33m.\u001b[0m\u001b[0mkwargs\u001b[0m\u001b[1;33m[\u001b[0m\u001b[0mwidget\u001b[0m\u001b[1;33m.\u001b[0m\u001b[0m_kwarg\u001b[0m\u001b[1;33m]\u001b[0m \u001b[1;33m=\u001b[0m \u001b[0mvalue\u001b[0m\u001b[1;33m\u001b[0m\u001b[1;33m\u001b[0m\u001b[0m\n\u001b[1;32m--> 256\u001b[1;33m                 \u001b[0mself\u001b[0m\u001b[1;33m.\u001b[0m\u001b[0mresult\u001b[0m \u001b[1;33m=\u001b[0m \u001b[0mself\u001b[0m\u001b[1;33m.\u001b[0m\u001b[0mf\u001b[0m\u001b[1;33m(\u001b[0m\u001b[1;33m**\u001b[0m\u001b[0mself\u001b[0m\u001b[1;33m.\u001b[0m\u001b[0mkwargs\u001b[0m\u001b[1;33m)\u001b[0m\u001b[1;33m\u001b[0m\u001b[1;33m\u001b[0m\u001b[0m\n\u001b[0m\u001b[0;32m    257\u001b[0m                 \u001b[0mshow_inline_matplotlib_plots\u001b[0m\u001b[1;33m(\u001b[0m\u001b[1;33m)\u001b[0m\u001b[1;33m\u001b[0m\u001b[1;33m\u001b[0m\u001b[0m\n\u001b[0;32m    258\u001b[0m                 \u001b[1;32mif\u001b[0m \u001b[0mself\u001b[0m\u001b[1;33m.\u001b[0m\u001b[0mauto_display\u001b[0m \u001b[1;32mand\u001b[0m \u001b[0mself\u001b[0m\u001b[1;33m.\u001b[0m\u001b[0mresult\u001b[0m \u001b[1;32mis\u001b[0m \u001b[1;32mnot\u001b[0m \u001b[1;32mNone\u001b[0m\u001b[1;33m:\u001b[0m\u001b[1;33m\u001b[0m\u001b[1;33m\u001b[0m\u001b[0m\n",
          "\u001b[1;32m<ipython-input-28-876c9cd5ac78>\u001b[0m in \u001b[0;36mupdate_plot\u001b[1;34m(palabra_clave)\u001b[0m\n\u001b[0;32m      4\u001b[0m     \u001b[1;32mfor\u001b[0m \u001b[0mi\u001b[0m \u001b[1;32min\u001b[0m \u001b[0md\u001b[0m\u001b[1;33m.\u001b[0m\u001b[0mcolumns\u001b[0m\u001b[1;33m:\u001b[0m\u001b[1;33m\u001b[0m\u001b[1;33m\u001b[0m\u001b[0m\n\u001b[0;32m      5\u001b[0m         \u001b[0mfig\u001b[0m\u001b[1;33m.\u001b[0m\u001b[0madd_scatter\u001b[0m\u001b[1;33m(\u001b[0m\u001b[0mx\u001b[0m\u001b[1;33m=\u001b[0m\u001b[0md\u001b[0m\u001b[1;33m.\u001b[0m\u001b[0mindex\u001b[0m\u001b[1;33m,\u001b[0m \u001b[0my\u001b[0m\u001b[1;33m=\u001b[0m\u001b[0mnp\u001b[0m\u001b[1;33m.\u001b[0m\u001b[0mcumsum\u001b[0m\u001b[1;33m(\u001b[0m\u001b[0md\u001b[0m\u001b[1;33m[\u001b[0m\u001b[0mi\u001b[0m\u001b[1;33m]\u001b[0m\u001b[1;33m)\u001b[0m\u001b[1;33m,\u001b[0m \u001b[0mmode\u001b[0m\u001b[1;33m=\u001b[0m\u001b[1;34m'lines'\u001b[0m\u001b[1;33m,\u001b[0m \u001b[0mname\u001b[0m \u001b[1;33m=\u001b[0m \u001b[0mi\u001b[0m\u001b[1;33m)\u001b[0m\u001b[1;33m\u001b[0m\u001b[1;33m\u001b[0m\u001b[0m\n\u001b[1;32m----> 6\u001b[1;33m     fig.update_layout(\n\u001b[0m\u001b[0;32m      7\u001b[0m                 title={\n\u001b[0;32m      8\u001b[0m                 \u001b[1;34m'text'\u001b[0m \u001b[1;33m:\u001b[0m \u001b[1;34m\"Las palabras claves de la fecha <b> \"\u001b[0m\u001b[1;33m+\u001b[0m \u001b[0mstr\u001b[0m\u001b[1;33m(\u001b[0m\u001b[0mtabla_dias\u001b[0m\u001b[1;33m[\u001b[0m\u001b[1;34m'Fecha'\u001b[0m\u001b[1;33m]\u001b[0m\u001b[1;33m[\u001b[0m\u001b[0mpalabra_clave\u001b[0m\u001b[1;33m]\u001b[0m\u001b[1;33m)\u001b[0m \u001b[1;33m+\u001b[0m\u001b[1;34m\"</b> son: \"\u001b[0m \u001b[1;33m+\u001b[0m \u001b[0mstr\u001b[0m\u001b[1;33m(\u001b[0m\u001b[1;34m', '\u001b[0m\u001b[1;33m.\u001b[0m\u001b[0mjoin\u001b[0m\u001b[1;33m(\u001b[0m\u001b[0mlist\u001b[0m\u001b[1;33m(\u001b[0m\u001b[0mtabla_dias\u001b[0m\u001b[1;33m[\u001b[0m\u001b[1;34m'Palabras clave'\u001b[0m\u001b[1;33m]\u001b[0m\u001b[1;33m[\u001b[0m\u001b[0mpalabra_clave\u001b[0m\u001b[1;33m]\u001b[0m\u001b[1;33m.\u001b[0m\u001b[0mkeys\u001b[0m\u001b[1;33m(\u001b[0m\u001b[1;33m)\u001b[0m\u001b[1;33m)\u001b[0m\u001b[1;33m)\u001b[0m\u001b[1;33m)\u001b[0m\u001b[1;33m,\u001b[0m\u001b[1;33m\u001b[0m\u001b[1;33m\u001b[0m\u001b[0m\n",
          "\u001b[1;32mC:\\ProgramData\\Anaconda3\\lib\\site-packages\\plotly\\basedatatypes.py\u001b[0m in \u001b[0;36mupdate_layout\u001b[1;34m(self, dict1, overwrite, **kwargs)\u001b[0m\n\u001b[0;32m   1401\u001b[0m             \u001b[0mThe\u001b[0m \u001b[0mFigure\u001b[0m \u001b[0mobject\u001b[0m \u001b[0mthat\u001b[0m \u001b[0mthe\u001b[0m \u001b[0mupdate_layout\u001b[0m \u001b[0mmethod\u001b[0m \u001b[0mwas\u001b[0m \u001b[0mcalled\u001b[0m \u001b[0mon\u001b[0m\u001b[1;33m\u001b[0m\u001b[1;33m\u001b[0m\u001b[0m\n\u001b[0;32m   1402\u001b[0m         \"\"\"\n\u001b[1;32m-> 1403\u001b[1;33m         \u001b[0mself\u001b[0m\u001b[1;33m.\u001b[0m\u001b[0mlayout\u001b[0m\u001b[1;33m.\u001b[0m\u001b[0mupdate\u001b[0m\u001b[1;33m(\u001b[0m\u001b[0mdict1\u001b[0m\u001b[1;33m,\u001b[0m \u001b[0moverwrite\u001b[0m\u001b[1;33m=\u001b[0m\u001b[0moverwrite\u001b[0m\u001b[1;33m,\u001b[0m \u001b[1;33m**\u001b[0m\u001b[0mkwargs\u001b[0m\u001b[1;33m)\u001b[0m\u001b[1;33m\u001b[0m\u001b[1;33m\u001b[0m\u001b[0m\n\u001b[0m\u001b[0;32m   1404\u001b[0m         \u001b[1;32mreturn\u001b[0m \u001b[0mself\u001b[0m\u001b[1;33m\u001b[0m\u001b[1;33m\u001b[0m\u001b[0m\n\u001b[0;32m   1405\u001b[0m \u001b[1;33m\u001b[0m\u001b[0m\n",
          "\u001b[1;32mC:\\ProgramData\\Anaconda3\\lib\\site-packages\\plotly\\basedatatypes.py\u001b[0m in \u001b[0;36mupdate\u001b[1;34m(self, dict1, overwrite, **kwargs)\u001b[0m\n\u001b[0;32m   5065\u001b[0m             \u001b[1;32mwith\u001b[0m \u001b[0mself\u001b[0m\u001b[1;33m.\u001b[0m\u001b[0mfigure\u001b[0m\u001b[1;33m.\u001b[0m\u001b[0mbatch_update\u001b[0m\u001b[1;33m(\u001b[0m\u001b[1;33m)\u001b[0m\u001b[1;33m:\u001b[0m\u001b[1;33m\u001b[0m\u001b[1;33m\u001b[0m\u001b[0m\n\u001b[0;32m   5066\u001b[0m                 \u001b[0mBaseFigure\u001b[0m\u001b[1;33m.\u001b[0m\u001b[0m_perform_update\u001b[0m\u001b[1;33m(\u001b[0m\u001b[0mself\u001b[0m\u001b[1;33m,\u001b[0m \u001b[0mdict1\u001b[0m\u001b[1;33m,\u001b[0m \u001b[0moverwrite\u001b[0m\u001b[1;33m=\u001b[0m\u001b[0moverwrite\u001b[0m\u001b[1;33m)\u001b[0m\u001b[1;33m\u001b[0m\u001b[1;33m\u001b[0m\u001b[0m\n\u001b[1;32m-> 5067\u001b[1;33m                 \u001b[0mBaseFigure\u001b[0m\u001b[1;33m.\u001b[0m\u001b[0m_perform_update\u001b[0m\u001b[1;33m(\u001b[0m\u001b[0mself\u001b[0m\u001b[1;33m,\u001b[0m \u001b[0mkwargs\u001b[0m\u001b[1;33m,\u001b[0m \u001b[0moverwrite\u001b[0m\u001b[1;33m=\u001b[0m\u001b[0moverwrite\u001b[0m\u001b[1;33m)\u001b[0m\u001b[1;33m\u001b[0m\u001b[1;33m\u001b[0m\u001b[0m\n\u001b[0m\u001b[0;32m   5068\u001b[0m         \u001b[1;32melse\u001b[0m\u001b[1;33m:\u001b[0m\u001b[1;33m\u001b[0m\u001b[1;33m\u001b[0m\u001b[0m\n\u001b[0;32m   5069\u001b[0m             \u001b[0mBaseFigure\u001b[0m\u001b[1;33m.\u001b[0m\u001b[0m_perform_update\u001b[0m\u001b[1;33m(\u001b[0m\u001b[0mself\u001b[0m\u001b[1;33m,\u001b[0m \u001b[0mdict1\u001b[0m\u001b[1;33m,\u001b[0m \u001b[0moverwrite\u001b[0m\u001b[1;33m=\u001b[0m\u001b[0moverwrite\u001b[0m\u001b[1;33m)\u001b[0m\u001b[1;33m\u001b[0m\u001b[1;33m\u001b[0m\u001b[0m\n",
          "\u001b[1;32mC:\\ProgramData\\Anaconda3\\lib\\site-packages\\plotly\\basedatatypes.py\u001b[0m in \u001b[0;36m_perform_update\u001b[1;34m(plotly_obj, update_obj, overwrite)\u001b[0m\n\u001b[0;32m   3883\u001b[0m                     \u001b[1;31m# Update compound objects recursively\u001b[0m\u001b[1;33m\u001b[0m\u001b[1;33m\u001b[0m\u001b[1;33m\u001b[0m\u001b[0m\n\u001b[0;32m   3884\u001b[0m                     \u001b[1;31m# plotly_obj[key].update(val)\u001b[0m\u001b[1;33m\u001b[0m\u001b[1;33m\u001b[0m\u001b[1;33m\u001b[0m\u001b[0m\n\u001b[1;32m-> 3885\u001b[1;33m                     \u001b[0mBaseFigure\u001b[0m\u001b[1;33m.\u001b[0m\u001b[0m_perform_update\u001b[0m\u001b[1;33m(\u001b[0m\u001b[0mplotly_obj\u001b[0m\u001b[1;33m[\u001b[0m\u001b[0mkey\u001b[0m\u001b[1;33m]\u001b[0m\u001b[1;33m,\u001b[0m \u001b[0mval\u001b[0m\u001b[1;33m)\u001b[0m\u001b[1;33m\u001b[0m\u001b[1;33m\u001b[0m\u001b[0m\n\u001b[0m\u001b[0;32m   3886\u001b[0m                 \u001b[1;32melif\u001b[0m \u001b[0misinstance\u001b[0m\u001b[1;33m(\u001b[0m\u001b[0mvalidator\u001b[0m\u001b[1;33m,\u001b[0m \u001b[0mCompoundArrayValidator\u001b[0m\u001b[1;33m)\u001b[0m\u001b[1;33m:\u001b[0m\u001b[1;33m\u001b[0m\u001b[1;33m\u001b[0m\u001b[0m\n\u001b[0;32m   3887\u001b[0m                     \u001b[1;32mif\u001b[0m \u001b[0mplotly_obj\u001b[0m\u001b[1;33m[\u001b[0m\u001b[0mkey\u001b[0m\u001b[1;33m]\u001b[0m\u001b[1;33m:\u001b[0m\u001b[1;33m\u001b[0m\u001b[1;33m\u001b[0m\u001b[0m\n",
          "\u001b[1;32mC:\\ProgramData\\Anaconda3\\lib\\site-packages\\plotly\\basedatatypes.py\u001b[0m in \u001b[0;36m_perform_update\u001b[1;34m(plotly_obj, update_obj, overwrite)\u001b[0m\n\u001b[0;32m   3904\u001b[0m                 \u001b[1;32melse\u001b[0m\u001b[1;33m:\u001b[0m\u001b[1;33m\u001b[0m\u001b[1;33m\u001b[0m\u001b[0m\n\u001b[0;32m   3905\u001b[0m                     \u001b[1;31m# Assign non-compound value\u001b[0m\u001b[1;33m\u001b[0m\u001b[1;33m\u001b[0m\u001b[1;33m\u001b[0m\u001b[0m\n\u001b[1;32m-> 3906\u001b[1;33m                     \u001b[0mplotly_obj\u001b[0m\u001b[1;33m[\u001b[0m\u001b[0mkey\u001b[0m\u001b[1;33m]\u001b[0m \u001b[1;33m=\u001b[0m \u001b[0mval\u001b[0m\u001b[1;33m\u001b[0m\u001b[1;33m\u001b[0m\u001b[0m\n\u001b[0m\u001b[0;32m   3907\u001b[0m \u001b[1;33m\u001b[0m\u001b[0m\n\u001b[0;32m   3908\u001b[0m         \u001b[1;32melif\u001b[0m \u001b[0misinstance\u001b[0m\u001b[1;33m(\u001b[0m\u001b[0mplotly_obj\u001b[0m\u001b[1;33m,\u001b[0m \u001b[0mtuple\u001b[0m\u001b[1;33m)\u001b[0m\u001b[1;33m:\u001b[0m\u001b[1;33m\u001b[0m\u001b[1;33m\u001b[0m\u001b[0m\n",
          "\u001b[1;32mC:\\ProgramData\\Anaconda3\\lib\\site-packages\\plotly\\basedatatypes.py\u001b[0m in \u001b[0;36m__setitem__\u001b[1;34m(self, prop, value)\u001b[0m\n\u001b[0;32m   4802\u001b[0m                 \u001b[1;31m# ### Handle simple property ###\u001b[0m\u001b[1;33m\u001b[0m\u001b[1;33m\u001b[0m\u001b[1;33m\u001b[0m\u001b[0m\n\u001b[0;32m   4803\u001b[0m                 \u001b[1;32melse\u001b[0m\u001b[1;33m:\u001b[0m\u001b[1;33m\u001b[0m\u001b[1;33m\u001b[0m\u001b[0m\n\u001b[1;32m-> 4804\u001b[1;33m                     \u001b[0mself\u001b[0m\u001b[1;33m.\u001b[0m\u001b[0m_set_prop\u001b[0m\u001b[1;33m(\u001b[0m\u001b[0mprop\u001b[0m\u001b[1;33m,\u001b[0m \u001b[0mvalue\u001b[0m\u001b[1;33m)\u001b[0m\u001b[1;33m\u001b[0m\u001b[1;33m\u001b[0m\u001b[0m\n\u001b[0m\u001b[0;32m   4805\u001b[0m             \u001b[1;32melse\u001b[0m\u001b[1;33m:\u001b[0m\u001b[1;33m\u001b[0m\u001b[1;33m\u001b[0m\u001b[0m\n\u001b[0;32m   4806\u001b[0m                 \u001b[1;31m# Make sure properties dict is initialized\u001b[0m\u001b[1;33m\u001b[0m\u001b[1;33m\u001b[0m\u001b[1;33m\u001b[0m\u001b[0m\n",
          "\u001b[1;32mC:\\ProgramData\\Anaconda3\\lib\\site-packages\\plotly\\basedatatypes.py\u001b[0m in \u001b[0;36m_set_prop\u001b[1;34m(self, prop, val)\u001b[0m\n\u001b[0;32m   5146\u001b[0m                 \u001b[1;32mreturn\u001b[0m\u001b[1;33m\u001b[0m\u001b[1;33m\u001b[0m\u001b[0m\n\u001b[0;32m   5147\u001b[0m             \u001b[1;32melse\u001b[0m\u001b[1;33m:\u001b[0m\u001b[1;33m\u001b[0m\u001b[1;33m\u001b[0m\u001b[0m\n\u001b[1;32m-> 5148\u001b[1;33m                 \u001b[1;32mraise\u001b[0m \u001b[0merr\u001b[0m\u001b[1;33m\u001b[0m\u001b[1;33m\u001b[0m\u001b[0m\n\u001b[0m\u001b[0;32m   5149\u001b[0m \u001b[1;33m\u001b[0m\u001b[0m\n\u001b[0;32m   5150\u001b[0m         \u001b[1;31m# val is None\u001b[0m\u001b[1;33m\u001b[0m\u001b[1;33m\u001b[0m\u001b[1;33m\u001b[0m\u001b[0m\n",
          "\u001b[1;32mC:\\ProgramData\\Anaconda3\\lib\\site-packages\\plotly\\basedatatypes.py\u001b[0m in \u001b[0;36m_set_prop\u001b[1;34m(self, prop, val)\u001b[0m\n\u001b[0;32m   5141\u001b[0m \u001b[1;33m\u001b[0m\u001b[0m\n\u001b[0;32m   5142\u001b[0m         \u001b[1;32mtry\u001b[0m\u001b[1;33m:\u001b[0m\u001b[1;33m\u001b[0m\u001b[1;33m\u001b[0m\u001b[0m\n\u001b[1;32m-> 5143\u001b[1;33m             \u001b[0mval\u001b[0m \u001b[1;33m=\u001b[0m \u001b[0mvalidator\u001b[0m\u001b[1;33m.\u001b[0m\u001b[0mvalidate_coerce\u001b[0m\u001b[1;33m(\u001b[0m\u001b[0mval\u001b[0m\u001b[1;33m)\u001b[0m\u001b[1;33m\u001b[0m\u001b[1;33m\u001b[0m\u001b[0m\n\u001b[0m\u001b[0;32m   5144\u001b[0m         \u001b[1;32mexcept\u001b[0m \u001b[0mValueError\u001b[0m \u001b[1;32mas\u001b[0m \u001b[0merr\u001b[0m\u001b[1;33m:\u001b[0m\u001b[1;33m\u001b[0m\u001b[1;33m\u001b[0m\u001b[0m\n\u001b[0;32m   5145\u001b[0m             \u001b[1;32mif\u001b[0m \u001b[0mself\u001b[0m\u001b[1;33m.\u001b[0m\u001b[0m_skip_invalid\u001b[0m\u001b[1;33m:\u001b[0m\u001b[1;33m\u001b[0m\u001b[1;33m\u001b[0m\u001b[0m\n",
          "\u001b[1;32mC:\\ProgramData\\Anaconda3\\lib\\site-packages\\_plotly_utils\\basevalidators.py\u001b[0m in \u001b[0;36mvalidate_coerce\u001b[1;34m(self, v)\u001b[0m\n\u001b[0;32m    791\u001b[0m             \u001b[1;32mif\u001b[0m \u001b[0mself\u001b[0m\u001b[1;33m.\u001b[0m\u001b[0mhas_min_max\u001b[0m\u001b[1;33m:\u001b[0m\u001b[1;33m\u001b[0m\u001b[1;33m\u001b[0m\u001b[0m\n\u001b[0;32m    792\u001b[0m                 \u001b[1;32mif\u001b[0m \u001b[1;32mnot\u001b[0m \u001b[1;33m(\u001b[0m\u001b[0mself\u001b[0m\u001b[1;33m.\u001b[0m\u001b[0mmin_val\u001b[0m \u001b[1;33m<=\u001b[0m \u001b[0mv\u001b[0m \u001b[1;33m<=\u001b[0m \u001b[0mself\u001b[0m\u001b[1;33m.\u001b[0m\u001b[0mmax_val\u001b[0m\u001b[1;33m)\u001b[0m\u001b[1;33m:\u001b[0m\u001b[1;33m\u001b[0m\u001b[1;33m\u001b[0m\u001b[0m\n\u001b[1;32m--> 793\u001b[1;33m                     \u001b[0mself\u001b[0m\u001b[1;33m.\u001b[0m\u001b[0mraise_invalid_val\u001b[0m\u001b[1;33m(\u001b[0m\u001b[0mv\u001b[0m\u001b[1;33m)\u001b[0m\u001b[1;33m\u001b[0m\u001b[1;33m\u001b[0m\u001b[0m\n\u001b[0m\u001b[0;32m    794\u001b[0m         \u001b[1;32mreturn\u001b[0m \u001b[0mv\u001b[0m\u001b[1;33m\u001b[0m\u001b[1;33m\u001b[0m\u001b[0m\n\u001b[0;32m    795\u001b[0m \u001b[1;33m\u001b[0m\u001b[0m\n",
          "\u001b[1;32mC:\\ProgramData\\Anaconda3\\lib\\site-packages\\_plotly_utils\\basevalidators.py\u001b[0m in \u001b[0;36mraise_invalid_val\u001b[1;34m(self, v, inds)\u001b[0m\n\u001b[0;32m    275\u001b[0m                 \u001b[0mname\u001b[0m \u001b[1;33m+=\u001b[0m \u001b[1;34m\"[\"\u001b[0m \u001b[1;33m+\u001b[0m \u001b[0mstr\u001b[0m\u001b[1;33m(\u001b[0m\u001b[0mi\u001b[0m\u001b[1;33m)\u001b[0m \u001b[1;33m+\u001b[0m \u001b[1;34m\"]\"\u001b[0m\u001b[1;33m\u001b[0m\u001b[1;33m\u001b[0m\u001b[0m\n\u001b[0;32m    276\u001b[0m \u001b[1;33m\u001b[0m\u001b[0m\n\u001b[1;32m--> 277\u001b[1;33m         raise ValueError(\n\u001b[0m\u001b[0;32m    278\u001b[0m             \"\"\"\n\u001b[0;32m    279\u001b[0m     \u001b[0mInvalid\u001b[0m \u001b[0mvalue\u001b[0m \u001b[0mof\u001b[0m \u001b[0mtype\u001b[0m \u001b[1;33m{\u001b[0m\u001b[0mtyp\u001b[0m\u001b[1;33m}\u001b[0m \u001b[0mreceived\u001b[0m \u001b[1;32mfor\u001b[0m \u001b[0mthe\u001b[0m \u001b[1;34m'{name}'\u001b[0m \u001b[0mproperty\u001b[0m \u001b[0mof\u001b[0m \u001b[1;33m{\u001b[0m\u001b[0mpname\u001b[0m\u001b[1;33m}\u001b[0m\u001b[1;33m\u001b[0m\u001b[1;33m\u001b[0m\u001b[0m\n",
          "\u001b[1;31mValueError\u001b[0m: \n    Invalid value of type 'builtins.float' received for the 'x' property of layout.title\n        Received value: 1.5\n\n    The 'x' property is a number and may be specified as:\n      - An int or float in the interval [0, 1]"
         ]
        }
       ]
      }
     },
     "e7fdce3b0caa47a4909af6fc546f7365": {
      "model_module": "@jupyter-widgets/controls",
      "model_module_version": "1.5.0",
      "model_name": "DescriptionStyleModel",
      "state": {
       "description_width": ""
      }
     },
     "e9e0562b295c4ff99b729c9ab00e167e": {
      "model_module": "@jupyter-widgets/controls",
      "model_module_version": "1.5.0",
      "model_name": "FloatSliderModel",
      "state": {
       "description": "Palabras: ",
       "layout": "IPY_MODEL_a1d46f44fd764eee8dc2a30717bd2f18",
       "max": 198,
       "style": "IPY_MODEL_73663993f0f04d54a58e429deb4c66ad"
      }
     },
     "effc4f31d47c44afb11bb4388f308bb2": {
      "model_module": "@jupyter-widgets/controls",
      "model_module_version": "1.5.0",
      "model_name": "FloatSliderModel",
      "state": {
       "description": "Palabras: ",
       "layout": "IPY_MODEL_36747146865a44cdab22cdb5a273886e",
       "max": 198,
       "style": "IPY_MODEL_755e5274c3e8410fa22dcac90d94189c"
      }
     },
     "f113f9a2301b49d286177251e51ac8a1": {
      "model_module": "@jupyter-widgets/base",
      "model_module_version": "1.2.0",
      "model_name": "LayoutModel",
      "state": {}
     },
     "f2d25d5782134cfeb050ba3733e973a1": {
      "model_module": "@jupyter-widgets/controls",
      "model_module_version": "1.5.0",
      "model_name": "HTMLModel",
      "state": {
       "layout": "IPY_MODEL_c2b9a383baca4cba952c7ac6bcd12266",
       "style": "IPY_MODEL_519151c38dec43509419771425ae5625",
       "value": " 10/27 [10:10&lt;17:17, 61.01s/it]"
      }
     },
     "f2e407f263bd45cca0b7e948e6a9124e": {
      "model_module": "@jupyter-widgets/controls",
      "model_module_version": "1.5.0",
      "model_name": "DescriptionStyleModel",
      "state": {
       "description_width": ""
      }
     },
     "f43c98ecdaa34fc4b4b3dff0ddd9339f": {
      "model_module": "@jupyter-widgets/controls",
      "model_module_version": "1.5.0",
      "model_name": "HBoxModel",
      "state": {
       "children": [
        "IPY_MODEL_8452502cae3c469991db11f1a996a7be",
        "IPY_MODEL_16791a854a2d4b6b978ce85c343f4191"
       ],
       "layout": "IPY_MODEL_f4e841e387724c1cb3e016c3b224e5b5"
      }
     },
     "f4e841e387724c1cb3e016c3b224e5b5": {
      "model_module": "@jupyter-widgets/base",
      "model_module_version": "1.2.0",
      "model_name": "LayoutModel",
      "state": {}
     },
     "f722cc60facd4a6f86aa80b642b9deba": {
      "model_module": "@jupyter-widgets/controls",
      "model_module_version": "1.5.0",
      "model_name": "FloatSliderModel",
      "state": {
       "description": "Palabras: ",
       "layout": "IPY_MODEL_119ed958d4464a6282bfb85c7c06bf67",
       "max": 198,
       "style": "IPY_MODEL_25f2beb1a9f34ad38b7838109d3658ea"
      }
     },
     "f81bfbb0b4694c2c83a224a94503454d": {
      "model_module": "@jupyter-widgets/controls",
      "model_module_version": "1.5.0",
      "model_name": "DescriptionStyleModel",
      "state": {
       "description_width": ""
      }
     },
     "fc06b55012e54fea943e5e4e7004dd31": {
      "model_module": "@jupyter-widgets/base",
      "model_module_version": "1.2.0",
      "model_name": "LayoutModel",
      "state": {}
     },
     "fc62afff1c8d44f691b5b3739e97e5dd": {
      "model_module": "@jupyter-widgets/controls",
      "model_module_version": "1.5.0",
      "model_name": "VBoxModel",
      "state": {
       "_dom_classes": [
        "widget-interact"
       ],
       "children": [
        "IPY_MODEL_effc4f31d47c44afb11bb4388f308bb2",
        "IPY_MODEL_29e425d75e81469e8bf242ec5395a9eb"
       ],
       "layout": "IPY_MODEL_8120672137544a5c8eb715f517043119"
      }
     }
    },
    "version_major": 2,
    "version_minor": 0
   }
  }
 },
 "nbformat": 4,
 "nbformat_minor": 4
}
